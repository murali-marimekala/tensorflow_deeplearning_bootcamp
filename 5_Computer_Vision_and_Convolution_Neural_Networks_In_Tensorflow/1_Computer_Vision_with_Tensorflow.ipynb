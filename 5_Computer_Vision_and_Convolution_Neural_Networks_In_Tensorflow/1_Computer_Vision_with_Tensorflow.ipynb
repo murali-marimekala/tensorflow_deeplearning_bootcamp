{
  "cells": [
    {
      "cell_type": "markdown",
      "metadata": {
        "id": "view-in-github",
        "colab_type": "text"
      },
      "source": [
        "<a href=\"https://colab.research.google.com/github/murali-marimekala/tensorflow_deeplearning_bootcamp/blob/main/5_Computer_Vision_and_Convolution_Neural_Networks_In_Tensorflow/1_Computer_Vision_with_Tensorflow.ipynb\" target=\"_parent\"><img src=\"https://colab.research.google.com/assets/colab-badge.svg\" alt=\"Open In Colab\"/></a>"
      ]
    },
    {
      "cell_type": "markdown",
      "source": [
        "## Convolution neural network (CNN) - TinyVGG Architecture (note there are many ways you can stack layers in CNN).\n",
        "* We might see tf.keras.layers.Sequential, Conv2D (two dimensional data), MaxPool2D\n",
        "* Input layer <== Images (batch size, image height, image width, color_channels)\n",
        "* Convolution layer ConvXD <== Same parameters as above without input shape. Extracts and learns from the images (X can be 1, 2, 3)\n",
        "* Hidden activation : Non linear activation function (ReLU). Adds non linearity to the features.\n",
        "* MaxPoold2D : Reduces the dimensionality of learned image features.\n",
        "* Fully Connected layer: Further refines learned features from convolution layers.\n",
        "*Output activation : Adds non liniearity to the output layer."
      ],
      "metadata": {
        "id": "LwpPBNdDW-bo"
      }
    },
    {
      "cell_type": "code",
      "source": [
        "# Computer vision is a practice of writing algorithms which can discover patters in visual data. Such as camera, self driving car recognizing the car in front."
      ],
      "metadata": {
        "id": "VTtk8E1nYNVn"
      },
      "execution_count": null,
      "outputs": []
    },
    {
      "cell_type": "markdown",
      "source": [
        "**Get Data**\n",
        "\n",
        "# The images we are working are from https://www.kaggle.com/datasets/dansbecker/food-101?resource=download\n",
        "# However we modified it to use two classes pizza and steak https://storage.googleapis.com/ztm_tf_course/food_vision/pizza_steak.zip (Derived from https://github.com/murali-marimekala/tensorflow-deep-learning)\n"
      ],
      "metadata": {
        "id": "WIhFnxFuZKq2"
      }
    },
    {
      "cell_type": "code",
      "source": [
        "\n",
        "import zipfile\n",
        "!wget https://storage.googleapis.com/ztm_tf_course/food_vision/pizza_steak.zip\n",
        "\n",
        "#Unzip the downloaded file\n",
        "zip_ref = zipfile.ZipFile(\"pizza_steak.zip\", \"r\")\n",
        "zip_ref.extractall()\n",
        "zip_ref.close()"
      ],
      "metadata": {
        "colab": {
          "base_uri": "https://localhost:8080/"
        },
        "id": "brYHfqpVapI5",
        "outputId": "b20e49f7-6b1f-424a-c293-c2741e132b6e"
      },
      "execution_count": 5,
      "outputs": [
        {
          "output_type": "stream",
          "name": "stdout",
          "text": [
            "--2025-03-20 02:39:55--  https://storage.googleapis.com/ztm_tf_course/food_vision/pizza_steak.zip\n",
            "Resolving storage.googleapis.com (storage.googleapis.com)... 142.251.111.207, 142.251.16.207, 172.253.62.207, ...\n",
            "Connecting to storage.googleapis.com (storage.googleapis.com)|142.251.111.207|:443... connected.\n",
            "HTTP request sent, awaiting response... 200 OK\n",
            "Length: 109540975 (104M) [application/zip]\n",
            "Saving to: ‘pizza_steak.zip.2’\n",
            "\n",
            "pizza_steak.zip.2   100%[===================>] 104.47M   206MB/s    in 0.5s    \n",
            "\n",
            "2025-03-20 02:39:56 (206 MB/s) - ‘pizza_steak.zip.2’ saved [109540975/109540975]\n",
            "\n"
          ]
        }
      ]
    },
    {
      "cell_type": "markdown",
      "source": [
        "## Inspect the data (become one with it)\n",
        "\n",
        "A very crucial step at the beginning of any machine leanring project i s becoming one with the data.\n",
        "\n",
        "And for a computer vision project this usually means visualizing many spamples of your data"
      ],
      "metadata": {
        "id": "99fXdvkAcF3m"
      }
    },
    {
      "cell_type": "code",
      "source": [
        "!ls pizza_steak/train\n"
      ],
      "metadata": {
        "colab": {
          "base_uri": "https://localhost:8080/"
        },
        "id": "cpqL7fehbgdX",
        "outputId": "34c6e49e-b4a3-4206-fd06-711335086ecd"
      },
      "execution_count": 6,
      "outputs": [
        {
          "output_type": "stream",
          "name": "stdout",
          "text": [
            "pizza  steak\n"
          ]
        }
      ]
    },
    {
      "cell_type": "code",
      "source": [
        "!ls pizza_steak/train/*"
      ],
      "metadata": {
        "id": "h_G-XubKcXOP",
        "outputId": "cf4b9ba5-0015-4966-947c-befcb2633024",
        "colab": {
          "base_uri": "https://localhost:8080/"
        }
      },
      "execution_count": 7,
      "outputs": [
        {
          "output_type": "stream",
          "name": "stdout",
          "text": [
            "pizza_steak/train/pizza:\n",
            "1008104.jpg  1572608.jpg  2097315.jpg  2572958.jpg  3084957.jpg  3693710.jpg  668944.jpg\n",
            "1008144.jpg  1573562.jpg  2098014.jpg  2574896.jpg  3102271.jpg  3699992.jpg  670201.jpg\n",
            "1008844.jpg  1576248.jpg  2104569.jpg  2576168.jpg  3105724.jpg  3702863.jpg  674188.jpg\n",
            "1008941.jpg  1577871.jpg  2110257.jpg  2577373.jpg  3109486.jpg  3703769.jpg  676432.jpg\n",
            "1011404.jpg  1584379.jpg  2112757.jpg  2577377.jpg  312479.jpg\t 3704879.jpg  682201.jpg\n",
            "102037.jpg   1593665.jpg  2121603.jpg  2581276.jpg  3128495.jpg  3705479.jpg  68684.jpg\n",
            "1026922.jpg  1593835.jpg  2126352.jpg  2584745.jpg  3148119.jpg  370643.jpg   698251.jpg\n",
            "1029698.jpg  1600705.jpg  2126709.jpg  2587918.jpg  3164761.jpg  3712344.jpg  702165.jpg\n",
            "1033251.jpg  1608000.jpg  2135635.jpg  2587921.jpg  3168266.jpg  3713343.jpg  704161.jpg\n",
            "1035854.jpg  1617418.jpg  2137341.jpg  259449.jpg   3170114.jpg  372275.jpg   709273.jpg\n",
            "1038357.jpg  1620560.jpg  2142812.jpg  2602611.jpg  3173779.jpg  3742272.jpg  709947.jpg\n",
            "1040878.jpg  1620761.jpg  214728.jpg   2605343.jpg  317861.jpg\t 3745884.jpg  712149.jpg\n",
            "1044524.jpg  1625147.jpg  2148129.jpg  2606727.jpg  3185774.jpg  3749515.jpg  714991.jpg\n",
            "1044789.jpg  163039.jpg   2154394.jpg  262133.jpg   3191035.jpg  375401.jpg   715169.jpg\n",
            "1047561.jpg  1633289.jpg  2155475.jpg  2621534.jpg  3193599.jpg  3763593.jpg  717350.jpg\n",
            "1048649.jpg  1635386.jpg  2155735.jpg  2622336.jpg  3196721.jpg  376417.jpg   721383.jpg\n",
            "1054420.jpg  1636299.jpg  2161241.jpg  2639094.jpg  32004.jpg\t 3766053.jpg  724445.jpg\n",
            "1055065.jpg  1638227.jpg  2164255.jpg  2640502.jpg  320570.jpg\t 3766476.jpg  72716.jpg\n",
            "105910.jpg   1646974.jpg  216720.jpg   2664219.jpg  3207504.jpg  3767723.jpg  739735.jpg\n",
            "1065078.jpg  1649108.jpg  2172850.jpg  2666066.jpg  3214153.jpg  3767773.jpg  740385.jpg\n",
            "1069629.jpg  1649276.jpg  218142.jpg   2667244.jpg  3256974.jpg  3772054.jpg  741491.jpg\n",
            "1075568.jpg  1652943.jpg  218711.jpg   2667255.jpg  3264148.jpg  3778801.jpg  741883.jpg\n",
            "1076699.jpg  1654444.jpg  2187466.jpg  2667824.jpg  32666.jpg\t 3790235.jpg  755968.jpg\n",
            "1083380.jpg  1660415.jpg  2188452.jpg  2670730.jpg  326809.jpg\t 3793314.jpg  759025.jpg\n",
            "1084888.jpg  1663749.jpg  2190018.jpg  2671508.jpg  3269634.jpg  3798959.jpg  759873.jpg\n",
            "1088332.jpg  1665654.jpg  220190.jpg   2674351.jpg  327415.jpg\t 3803596.jpg  762788.jpg\n",
            "1089334.jpg  166823.jpg   220910.jpg   2687575.jpg  3281494.jpg  3821701.jpg  764429.jpg\n",
            "1097980.jpg  1670471.jpg  221048.jpg   2693334.jpg  329302.jpg\t 3822139.jpg  765000.jpg\n",
            "1098197.jpg  1671531.jpg  2215531.jpg  269396.jpg   3297714.jpg  3826377.jpg  765799.jpg\n",
            "1105700.jpg  1678284.jpg  2217956.jpg  2694223.jpg  3312584.jpg  382829.jpg   768276.jpg\n",
            "1107714.jpg  1681043.jpg  2224099.jpg  2697971.jpg  3314176.jpg  3830773.jpg  771878.jpg\n",
            "111051.jpg   1686908.jpg  2224828.jpg  2700543.jpg  3314535.jpg  38349.jpg    774142.jpg\n",
            "1110966.jpg  1687681.jpg  2228322.jpg  2702825.jpg  332231.jpg\t 384215.jpg   77677.jpg\n",
            "1123386.jpg  168879.jpg   2231356.jpg  2705497.jpg  3324050.jpg  3845083.jpg  786995.jpg\n",
            "1137400.jpg  1688838.jpg  2235981.jpg  2707814.jpg  3326344.jpg  3860002.jpg  790432.jpg\n",
            "1138936.jpg  169318.jpg   2236914.jpg  2711828.jpg  3333459.jpg  3862243.jpg  790841.jpg\n",
            "1143057.jpg  169720.jpg   2241448.jpg  271592.jpg   3337370.jpg  3864383.jpg  792093.jpg\n",
            "1157438.jpg  1705747.jpg  2247711.jpg  271675.jpg   3338774.jpg  3871666.jpg  799874.jpg\n",
            "1159797.jpg  1705773.jpg  2253670.jpg  271779.jpg   333985.jpg\t 3873326.jpg  803243.jpg\n",
            "1165451.jpg  1708197.jpg  2255361.jpg  2722646.jpg  3342039.jpg  387697.jpg   807128.jpg\n",
            "1173913.jpg  1717790.jpg  2274117.jpg  2723529.jpg  3366256.jpg  3882444.jpg  809024.jpg\n",
            "1183278.jpg  1742542.jpg  2279642.jpg  2739039.jpg  3367113.jpg  3906901.jpg  812349.jpg\n",
            "1202925.jpg  1743389.jpg  2280345.jpg  2739100.jpg  337272.jpg\t 3910117.jpg  816577.jpg\n",
            "1205154.jpg  175626.jpg   2285269.jpg  2742044.jpg  3376519.jpg  3913912.jpg  816729.jpg\n",
            "1207213.jpg  1757288.jpg  2285942.jpg  274945.jpg   3379038.jpg  3917951.jpg  819547.jpg\n",
            "1209973.jpg  1761451.jpg  228778.jpg   2754150.jpg  3382880.jpg  393658.jpg   823104.jpg\n",
            "121834.jpg   1763205.jpg  2291093.jpg  2755875.jpg  3383977.jpg  394049.jpg   82578.jpg\n",
            "12301.jpg    1774438.jpg  2292986.jpg  2757327.jpg  3384856.jpg  394590.jpg   82772.jpg\n",
            "1234172.jpg  1778167.jpg  2293453.jpg  2760984.jpg  338838.jpg\t 395034.jpg   829229.jpg\n",
            "1243215.jpg  1786840.jpg  2301105.jpg  276803.jpg   3391208.jpg  395960.jpg   83538.jpg\n",
            "1245628.jpg  179165.jpg   2304021.jpg  2769168.jpg  3392649.jpg  398565.jpg   835833.jpg\n",
            "1247645.jpg  1795316.jpg  2312987.jpg  2774899.jpg  3392671.jpg  401701.jpg   839461.jpg\n",
            "1248346.jpg  1806491.jpg  23199.jpg    2775763.jpg  3393898.jpg  401979.jpg   853441.jpg\n",
            "1248478.jpg  1810844.jpg  2321465.jpg  2778214.jpg  3397336.jpg  40231.jpg    857888.jpg\n",
            "1260554.jpg  1818014.jpg  232976.jpg   277963.jpg   3398309.jpg  403431.jpg   861771.jpg\n",
            "1267359.jpg  1828050.jpg  2330965.jpg  2785084.jpg  3399610.jpg  413710.jpg   866834.jpg\n",
            "1269960.jpg  1836888.jpg  233143.jpg   2793535.jpg  3401720.jpg  413789.jpg   868789.jpg\n",
            "1270986.jpg  1839077.jpg  2331467.jpg  27963.jpg    3401767.jpg  419516.jpg   869763.jpg\n",
            "12718.jpg    1870865.jpg  2361973.jpg  2800325.jpg  340814.jpg\t 422261.jpg   872094.jpg\n",
            "1284978.jpg  1871498.jpg  2365046.jpg  2811032.jpg  3425999.jpg  424288.jpg   874288.jpg\n",
            "1285298.jpg  1877103.jpg  2382016.jpg  282013.jpg   3426946.jpg  430118.jpg   875262.jpg\n",
            "1287004.jpg  1878005.jpg  238843.jpg   2821034.jpg  3427699.jpg  44449.jpg    875856.jpg\n",
            "1289139.jpg  1881674.jpg  2397868.jpg  2821048.jpg  3434372.jpg  448519.jpg   877881.jpg\n",
            "129536.jpg   1888911.jpg  2410138.jpg  2827938.jpg  3441394.jpg  452989.jpg   878377.jpg\n",
            "1312761.jpg  1890444.jpg  2412237.jpg  2831983.jpg  3443136.jpg  464388.jpg   884986.jpg\n",
            "131561.jpg   1895479.jpg  2412970.jpg  2844278.jpg  3456440.jpg  465454.jpg   886505.jpg\n",
            "132484.jpg   1897129.jpg  2421445.jpg  2849924.jpg  3462250.jpg  467986.jpg   8917.jpg\n",
            "132554.jpg   1898723.jpg  2426686.jpg  2852301.jpg  34632.jpg\t 474493.jpg   893644.jpg\n",
            "1325918.jpg  1899562.jpg  2428085.jpg  2855844.jpg  3464027.jpg  489347.jpg   896448.jpg\n",
            "1326065.jpg  1899785.jpg  242813.jpg   287000.jpg   3464858.jpg  489532.jpg   898119.jpg\n",
            "1327402.jpg  1900585.jpg  2432061.jpg  2877565.jpg  3473991.jpg  495892.jpg   898303.jpg\n",
            "1336882.jpg  1906287.jpg  2439992.jpg  2881282.jpg  3475936.jpg  513754.jpg   898843.jpg\n",
            "134462.jpg   1907713.jpg  2441328.jpg  2885050.jpg  3478964.jpg  514014.jpg   89892.jpg\n",
            "1344966.jpg  1912976.jpg  2443498.jpg  2885796.jpg  3479875.jpg  517902.jpg   899818.jpg\n",
            "1351146.jpg  1914969.jpg  244505.jpg   2902766.jpg  3479936.jpg  518527.jpg   899959.jpg\n",
            "1351631.jpg  1915343.jpg  2448844.jpg  2916034.jpg  3484590.jpg  527199.jpg   904938.jpg\n",
            "1370319.jpg  1916846.jpg  2451169.jpg  2922019.jpg  3493457.jpg  52934.jpg    910419.jpg\n",
            "1383291.jpg  1934355.jpg  2456207.jpg  2924941.jpg  349946.jpg\t 532970.jpg   917774.jpg\n",
            "1384464.jpg  1944600.jpg  2462190.jpg  2933332.jpg  350358.jpg\t 543556.jpg   918506.jpg\n",
            "138855.jpg   1947572.jpg  2467990.jpg  29417.jpg    3505182.jpg  54461.jpg    920219.jpg\n",
            "1390308.jpg  1950499.jpg  2468499.jpg  2951831.jpg  3512070.jpg  54540.jpg    920595.jpg\n",
            "13983.jpg    1951130.jpg  2470671.jpg  2952219.jpg  3514408.jpg  545561.jpg   926046.jpg\n",
            "1399531.jpg  1958364.jpg  2471646.jpg  2959665.jpg  352051.jpg\t 56449.jpg    928663.jpg\n",
            "140031.jpg   1964051.jpg  2473559.jpg  2965.jpg     3530210.jpg  568383.jpg   928670.jpg\n",
            "1403878.jpg  1968947.jpg  2476468.jpg  2967846.jpg  3536393.jpg  568995.jpg   929067.jpg\n",
            "1407753.jpg  1973447.jpg  2481333.jpg  2980131.jpg  3546278.jpg  576236.jpg   937915.jpg\n",
            "1412034.jpg  1980167.jpg  248252.jpg   2989328.jpg  3549765.jpg  5764.jpg     938821.jpg\n",
            "1413289.jpg  1981348.jpg  2486277.jpg  2990023.jpg  3550805.jpg  579691.jpg   93961.jpg\n",
            "141507.jpg   1984976.jpg  2487039.jpg  2990186.jpg  3554287.jpg  593400.jpg   947246.jpg\n",
            "1423515.jpg  1987634.jpg  2490163.jpg  2992084.jpg  3555299.jpg  59445.jpg    951953.jpg\n",
            "1425089.jpg  1988629.jpg  2491110.jpg  299535.jpg   3557127.jpg  596494.jpg   959901.jpg\n",
            "1426781.jpg  199019.jpg   2492287.jpg  2995731.jpg  3574192.jpg  598381.jpg   962785.jpg\n",
            "143453.jpg   1998483.jpg  2493954.jpg  2999507.jpg  358178.jpg\t 604977.jpg   966644.jpg\n",
            "1454995.jpg  2005870.jpg  2501636.jpg  3000535.jpg  3589437.jpg  608085.jpg   967694.jpg\n",
            "1468795.jpg  2010437.jpg  2501961.jpg  300869.jpg   3595758.jpg  618021.jpg   970073.jpg\n",
            "147785.jpg   2014717.jpg  2502234.jpg  3018077.jpg  3597955.jpg  61822.jpg    972000.jpg\n",
            "1499661.jpg  2019441.jpg  2508157.jpg  3020376.jpg  3614525.jpg  618348.jpg   976382.jpg\n",
            "1504421.jpg  2019583.jpg  2511911.jpg  3023774.jpg  3628930.jpg  625687.jpg   979955.jpg\n",
            "1504719.jpg  2021516.jpg  2516510.jpg  302591.jpg   3629996.jpg  626170.jpg   979998.jpg\n",
            "1507039.jpg  2026009.jpg  2519291.jpg  3039549.jpg  3644733.jpg  626902.jpg   985164.jpg\n",
            "1512514.jpg  2032236.jpg  2529205.jpg  3042454.jpg  3653528.jpg  63480.jpg    98617.jpg\n",
            "1524599.jpg  2035248.jpg  253127.jpg   3055697.jpg  3653643.jpg  647215.jpg   998719.jpg\n",
            "1524655.jpg  203831.jpg   2534774.jpg  3057192.jpg  3660716.jpg  652004.jpg\n",
            "1535273.jpg  2044732.jpg  2556273.jpg  3063955.jpg  3663580.jpg  656817.jpg\n",
            "1544197.jpg  2077999.jpg  2557340.jpg  3066951.jpg  3675128.jpg  662526.jpg\n",
            "1552253.jpg  2078141.jpg  2560539.jpg  307677.jpg   3678290.jpg  663285.jpg\n",
            "1553353.jpg  2078208.jpg  2569760.jpg  3082068.jpg  368644.jpg\t 665900.jpg\n",
            "1571074.jpg  2091857.jpg  2570329.jpg  3082443.jpg  369017.jpg\t 667309.jpg\n",
            "\n",
            "pizza_steak/train/steak:\n",
            "1000205.jpg  1598345.jpg  2062248.jpg  2548974.jpg  3030578.jpg  3571963.jpg  510757.jpg\n",
            "100135.jpg   1598885.jpg  2081995.jpg  2549316.jpg  3047807.jpg  3576078.jpg  513129.jpg\n",
            "101312.jpg   1600179.jpg  2087958.jpg  2561199.jpg  3059843.jpg  3577618.jpg  513842.jpg\n",
            "1021458.jpg  1600794.jpg  2088030.jpg  2563233.jpg  3074367.jpg  3577732.jpg  523535.jpg\n",
            "1032846.jpg  160552.jpg   2088195.jpg  256592.jpg   3082120.jpg  3578934.jpg  525041.jpg\n",
            "10380.jpg    1606596.jpg  2090493.jpg  2568848.jpg  3094354.jpg  358042.jpg   534560.jpg\n",
            "1049459.jpg  1615395.jpg  2090504.jpg  2573392.jpg  3095301.jpg  358045.jpg   534633.jpg\n",
            "1053665.jpg  1618011.jpg  2125877.jpg  2592401.jpg  3099645.jpg  3591821.jpg  536535.jpg\n",
            "1068516.jpg  1619357.jpg  2129685.jpg  2599817.jpg  3100476.jpg  359330.jpg   541410.jpg\n",
            "1068975.jpg  1621763.jpg  2133717.jpg  2603058.jpg  3110387.jpg  3601483.jpg  543691.jpg\n",
            "1081258.jpg  1623325.jpg  2136662.jpg  2606444.jpg  3113772.jpg  3606642.jpg  560503.jpg\n",
            "1090122.jpg  1624450.jpg  213765.jpg   2614189.jpg  3116018.jpg  3609394.jpg  561972.jpg\n",
            "1093966.jpg  1624747.jpg  2138335.jpg  2614649.jpg  3128952.jpg  361067.jpg   56240.jpg\n",
            "1098844.jpg  1628861.jpg  2140776.jpg  2615718.jpg  3130412.jpg  3613455.jpg  56409.jpg\n",
            "1100074.jpg  1632774.jpg  214320.jpg   2619625.jpg  3136.jpg\t 3621464.jpg  564530.jpg\n",
            "1105280.jpg  1636831.jpg  2146963.jpg  2622140.jpg  313851.jpg\t 3621562.jpg  568972.jpg\n",
            "1117936.jpg  1645470.jpg  215222.jpg   262321.jpg   3140083.jpg  3621565.jpg  576725.jpg\n",
            "1126126.jpg  1647351.jpg  2154126.jpg  2625330.jpg  3140147.jpg  3623556.jpg  588739.jpg\n",
            "114601.jpg   1650002.jpg  2154779.jpg  2628106.jpg  3142045.jpg  3640915.jpg  590142.jpg\n",
            "1147047.jpg  165639.jpg   2159975.jpg  2629750.jpg  3142618.jpg  3643951.jpg  60633.jpg\n",
            "1147883.jpg  1658186.jpg  2163079.jpg  2643906.jpg  3142674.jpg  3653129.jpg  60655.jpg\n",
            "1155665.jpg  1658443.jpg  217250.jpg   2644457.jpg  3143192.jpg  3656752.jpg  606820.jpg\n",
            "1163977.jpg  165964.jpg   2172600.jpg  2648423.jpg  314359.jpg\t 3663518.jpg  612551.jpg\n",
            "1190233.jpg  167069.jpg   2173084.jpg  2651300.jpg  3157832.jpg  3663800.jpg  614975.jpg\n",
            "1208405.jpg  1675632.jpg  217996.jpg   2653594.jpg  3159818.jpg  3664376.jpg  616809.jpg\n",
            "1209120.jpg  1678108.jpg  2193684.jpg  2661577.jpg  3162376.jpg  3670607.jpg  628628.jpg\n",
            "1212161.jpg  168006.jpg   220341.jpg   2668916.jpg  3168620.jpg  3671021.jpg  632427.jpg\n",
            "1213988.jpg  1682496.jpg  22080.jpg    268444.jpg   3171085.jpg  3671877.jpg  636594.jpg\n",
            "1219039.jpg  1684438.jpg  2216146.jpg  2691461.jpg  317206.jpg\t 368073.jpg   637374.jpg\n",
            "1225762.jpg  168775.jpg   2222018.jpg  2706403.jpg  3173444.jpg  368162.jpg   640539.jpg\n",
            "1230968.jpg  1697339.jpg  2223787.jpg  270687.jpg   3180182.jpg  368170.jpg   644777.jpg\n",
            "1236155.jpg  1710569.jpg  2230959.jpg  2707522.jpg  31881.jpg\t 3693649.jpg  644867.jpg\n",
            "1241193.jpg  1714605.jpg  2232310.jpg  2711806.jpg  3191589.jpg  3700079.jpg  658189.jpg\n",
            "1248337.jpg  1724387.jpg  2233395.jpg  2716993.jpg  3204977.jpg  3704103.jpg  660900.jpg\n",
            "1257104.jpg  1724717.jpg  2238681.jpg  2724554.jpg  320658.jpg\t 3707493.jpg  663014.jpg\n",
            "126345.jpg   172936.jpg   2238802.jpg  2738227.jpg  3209173.jpg  3716881.jpg  664545.jpg\n",
            "1264050.jpg  1736543.jpg  2254705.jpg  2748917.jpg  3223400.jpg  3724677.jpg  667075.jpg\n",
            "1264154.jpg  1736968.jpg  225990.jpg   2760475.jpg  3223601.jpg  3727036.jpg  669180.jpg\n",
            "1264858.jpg  1746626.jpg  2260231.jpg  2761427.jpg  3241894.jpg  3727491.jpg  669960.jpg\n",
            "127029.jpg   1752330.jpg  2268692.jpg  2765887.jpg  3245533.jpg  3736065.jpg  6709.jpg\n",
            "1289900.jpg  1761285.jpg  2271133.jpg  2768451.jpg  3245622.jpg  37384.jpg    674001.jpg\n",
            "1290362.jpg  176508.jpg   227576.jpg   2771149.jpg  3247009.jpg  3743286.jpg  676189.jpg\n",
            "1295457.jpg  1772039.jpg  2283057.jpg  2779040.jpg  3253588.jpg  3745515.jpg  681609.jpg\n",
            "1312841.jpg  1777107.jpg  2286639.jpg  2788312.jpg  3260624.jpg  3750472.jpg  6926.jpg\n",
            "1313316.jpg  1787505.jpg  2287136.jpg  2788759.jpg  326587.jpg\t 3752362.jpg  703556.jpg\n",
            "1324791.jpg  179293.jpg   2291292.jpg  2796102.jpg  32693.jpg\t 3766099.jpg  703909.jpg\n",
            "1327567.jpg  1816235.jpg  229323.jpg   280284.jpg   3271253.jpg  3770370.jpg  704316.jpg\n",
            "1327667.jpg  1822407.jpg  2300534.jpg  2807888.jpg  3274423.jpg  377190.jpg   714298.jpg\n",
            "1333055.jpg  1823263.jpg  2300845.jpg  2815172.jpg  3280453.jpg  3777020.jpg  720060.jpg\n",
            "1334054.jpg  1826066.jpg  231296.jpg   2818805.jpg  3298495.jpg  3777482.jpg  726083.jpg\n",
            "1335556.jpg  1828502.jpg  2315295.jpg  2823872.jpg  330182.jpg\t 3781152.jpg  728020.jpg\n",
            "1337814.jpg  1828969.jpg  2323132.jpg  2824680.jpg  3306627.jpg  3787809.jpg  732986.jpg\n",
            "1340977.jpg  1829045.jpg  2324994.jpg  2825100.jpg  3315727.jpg  3788729.jpg  734445.jpg\n",
            "1343209.jpg  1829088.jpg  2327701.jpg  2826987.jpg  331860.jpg\t 3790962.jpg  735441.jpg\n",
            "134369.jpg   1836332.jpg  2331076.jpg  2832499.jpg  332232.jpg\t 3792514.jpg  740090.jpg\n",
            "1344105.jpg  1839025.jpg  233964.jpg   2832960.jpg  3322909.jpg  379737.jpg   745189.jpg\n",
            "134598.jpg   1839481.jpg  2344227.jpg  285045.jpg   332557.jpg\t 3807440.jpg  752203.jpg\n",
            "1346387.jpg  183995.jpg   234626.jpg   285147.jpg   3326734.jpg  381162.jpg   75537.jpg\n",
            "1348047.jpg  184110.jpg   234704.jpg   2855315.jpg  3330642.jpg  3812039.jpg  756655.jpg\n",
            "1351372.jpg  184226.jpg   2357281.jpg  2856066.jpg  3333128.jpg  3829392.jpg  762210.jpg\n",
            "1362989.jpg  1846706.jpg  2361812.jpg  2859933.jpg  3333735.jpg  3830872.jpg  763690.jpg\n",
            "1367035.jpg  1849364.jpg  2365287.jpg  286219.jpg   3334973.jpg  38442.jpg    767442.jpg\n",
            "1371177.jpg  1849463.jpg  2374582.jpg  2862562.jpg  3335013.jpg  3855584.jpg  786409.jpg\n",
            "1375640.jpg  1849542.jpg  239025.jpg   2865730.jpg  3335267.jpg  3857508.jpg  80215.jpg\n",
            "1382427.jpg  1853564.jpg  2390628.jpg  2878151.jpg  3346787.jpg  386335.jpg   802348.jpg\n",
            "1392718.jpg  1869467.jpg  2392910.jpg  2880035.jpg  3364420.jpg  3867460.jpg  804684.jpg\n",
            "1395906.jpg  1870942.jpg  2394465.jpg  2881783.jpg  336637.jpg\t 3868959.jpg  812163.jpg\n",
            "1400760.jpg  187303.jpg   2395127.jpg  2884233.jpg  3372616.jpg  3869679.jpg  813486.jpg\n",
            "1403005.jpg  187521.jpg   2396291.jpg  2890573.jpg  3375959.jpg  388776.jpg   819027.jpg\n",
            "1404770.jpg  1888450.jpg  2400975.jpg  2893832.jpg  3381560.jpg  3890465.jpg  822550.jpg\n",
            "140832.jpg   1889336.jpg  2403776.jpg  2893892.jpg  3382936.jpg  3894222.jpg  823766.jpg\n",
            "141056.jpg   1907039.jpg  2403907.jpg  2907177.jpg  3386119.jpg  3895825.jpg  827764.jpg\n",
            "141135.jpg   1925230.jpg  240435.jpg   290850.jpg   3388717.jpg  389739.jpg   830007.jpg\n",
            "1413972.jpg  1927984.jpg  2404695.jpg  2909031.jpg  3389138.jpg  3916407.jpg  838344.jpg\n",
            "1421393.jpg  1930577.jpg  2404884.jpg  2910418.jpg  3393547.jpg  393349.jpg   853327.jpg\n",
            "1428947.jpg  1937872.jpg  2407770.jpg  2912290.jpg  3393688.jpg  393494.jpg   854150.jpg\n",
            "1433912.jpg  1941807.jpg  2412263.jpg  2916448.jpg  3396589.jpg  398288.jpg   864997.jpg\n",
            "143490.jpg   1942333.jpg  2425062.jpg  2916967.jpg  339891.jpg\t 40094.jpg    885571.jpg\n",
            "1445352.jpg  1945132.jpg  2425389.jpg  2927833.jpg  3417789.jpg  401094.jpg   907107.jpg\n",
            "1446401.jpg  1961025.jpg  2435316.jpg  2928643.jpg  3425047.jpg  401144.jpg   908261.jpg\n",
            "1453991.jpg  1966300.jpg  2437268.jpg  2929179.jpg  3434983.jpg  401651.jpg   910672.jpg\n",
            "1456841.jpg  1966967.jpg  2437843.jpg  2936477.jpg  3435358.jpg  405173.jpg   911803.jpg\n",
            "146833.jpg   1969596.jpg  2440131.jpg  2938012.jpg  3438319.jpg  405794.jpg   91432.jpg\n",
            "1476404.jpg  1971757.jpg  2443168.jpg  2938151.jpg  3444407.jpg  40762.jpg    914570.jpg\n",
            "1485083.jpg  1976160.jpg  2446660.jpg  2939678.jpg  345734.jpg\t 413325.jpg   922752.jpg\n",
            "1487113.jpg  1984271.jpg  2455944.jpg  2940544.jpg  3460673.jpg  417368.jpg   923772.jpg\n",
            "148916.jpg   1987213.jpg  2458401.jpg  2940621.jpg  3465327.jpg  4176.jpg     926414.jpg\n",
            "149087.jpg   1987639.jpg  2487306.jpg  2949079.jpg  3466159.jpg  42125.jpg    931356.jpg\n",
            "1493169.jpg  1995118.jpg  248841.jpg   295491.jpg   3469024.jpg  421476.jpg   937133.jpg\n",
            "149682.jpg   1995252.jpg  2489716.jpg  296268.jpg   3470083.jpg  421561.jpg   945791.jpg\n",
            "1508094.jpg  199754.jpg   2490489.jpg  2964732.jpg  3476564.jpg  438871.jpg   947877.jpg\n",
            "1512226.jpg  2002400.jpg  2495884.jpg  2965021.jpg  3478318.jpg  43924.jpg    952407.jpg\n",
            "1512347.jpg  2011264.jpg  2495903.jpg  2966859.jpg  3488748.jpg  440188.jpg   952437.jpg\n",
            "1524526.jpg  2012996.jpg  2499364.jpg  2977966.jpg  3492328.jpg  442757.jpg   955466.jpg\n",
            "1530833.jpg  2013535.jpg  2500292.jpg  2979061.jpg  3518960.jpg  443210.jpg   9555.jpg\n",
            "1539499.jpg  2017387.jpg  2509017.jpg  2983260.jpg  3522209.jpg  444064.jpg   961341.jpg\n",
            "1541672.jpg  2018173.jpg  250978.jpg   2984311.jpg  3524429.jpg  444709.jpg   97656.jpg\n",
            "1548239.jpg  2020613.jpg  2514432.jpg  2988960.jpg  3528458.jpg  447557.jpg   979110.jpg\n",
            "1550997.jpg  2032669.jpg  2526838.jpg  2989882.jpg  3531805.jpg  461187.jpg   980247.jpg\n",
            "1552530.jpg  203450.jpg   252858.jpg   2995169.jpg  3536023.jpg  461689.jpg   982988.jpg\n",
            "15580.jpg    2034628.jpg  2532239.jpg  2996324.jpg  3538682.jpg  465494.jpg   987732.jpg\n",
            "1559052.jpg  2036920.jpg  2534567.jpg  3000131.jpg  3540750.jpg  468384.jpg   996684.jpg\n",
            "1563266.jpg  2038418.jpg  2535431.jpg  3002350.jpg  354329.jpg\t 477486.jpg\n",
            "1567554.jpg  2042975.jpg  2535456.jpg  3007772.jpg  3547166.jpg  482022.jpg\n",
            "1575322.jpg  2045647.jpg  2538000.jpg  3008192.jpg  3553911.jpg  482465.jpg\n",
            "1588879.jpg  2050584.jpg  2543081.jpg  3009617.jpg  3556871.jpg  483788.jpg\n",
            "1594719.jpg  2052542.jpg  2544643.jpg  3011642.jpg  355715.jpg\t 493029.jpg\n",
            "1595869.jpg  2056627.jpg  2547797.jpg  3020591.jpg  356234.jpg\t 503589.jpg\n"
          ]
        }
      ]
    },
    {
      "cell_type": "code",
      "source": [
        "import os\n",
        "\n",
        "#Walk through pizzasteak directory and list the number of files\n",
        "for dirpath, dirnames,filenames in os.walk(\"pizza_steak\"):\n",
        "  print(f\"There are {len(dirnames)} directories and {len(filenames)} and images in '{dirpath}'.\")"
      ],
      "metadata": {
        "id": "JSIiSgJ_ccOv",
        "outputId": "a9343bac-750a-4551-82bc-87a2b6a2223a",
        "colab": {
          "base_uri": "https://localhost:8080/"
        }
      },
      "execution_count": 8,
      "outputs": [
        {
          "output_type": "stream",
          "name": "stdout",
          "text": [
            "There are 2 directories and 0 and images in 'pizza_steak'.\n",
            "There are 2 directories and 0 and images in 'pizza_steak/test'.\n",
            "There are 0 directories and 250 and images in 'pizza_steak/test/pizza'.\n",
            "There are 0 directories and 250 and images in 'pizza_steak/test/steak'.\n",
            "There are 2 directories and 0 and images in 'pizza_steak/train'.\n",
            "There are 0 directories and 750 and images in 'pizza_steak/train/pizza'.\n",
            "There are 0 directories and 750 and images in 'pizza_steak/train/steak'.\n"
          ]
        }
      ]
    },
    {
      "cell_type": "code",
      "source": [
        "!ls -la pizza_steak"
      ],
      "metadata": {
        "id": "E52HrGt_c0xC",
        "outputId": "f89a3dce-1c39-435f-fb4b-63d4746c8a4e",
        "colab": {
          "base_uri": "https://localhost:8080/"
        }
      },
      "execution_count": 9,
      "outputs": [
        {
          "output_type": "stream",
          "name": "stdout",
          "text": [
            "total 16\n",
            "drwxr-xr-x 4 root root 4096 Mar 20 02:39 .\n",
            "drwxr-xr-x 1 root root 4096 Mar 20 02:40 ..\n",
            "drwxr-xr-x 4 root root 4096 Mar 20 02:39 test\n",
            "drwxr-xr-x 4 root root 4096 Mar 20 02:39 train\n"
          ]
        }
      ]
    },
    {
      "cell_type": "code",
      "source": [],
      "metadata": {
        "id": "RMcWx18BdDch"
      },
      "execution_count": null,
      "outputs": []
    }
  ],
  "metadata": {
    "kernelspec": {
      "display_name": ".conda",
      "language": "python",
      "name": "python3"
    },
    "language_info": {
      "name": "python",
      "version": "3.11.11"
    },
    "colab": {
      "provenance": [],
      "include_colab_link": true
    }
  },
  "nbformat": 4,
  "nbformat_minor": 0
}