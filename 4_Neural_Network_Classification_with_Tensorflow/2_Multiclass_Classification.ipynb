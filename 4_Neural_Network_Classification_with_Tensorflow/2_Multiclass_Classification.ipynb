{
  "cells": [
    {
      "cell_type": "markdown",
      "metadata": {
        "id": "view-in-github",
        "colab_type": "text"
      },
      "source": [
        "<a href=\"https://colab.research.google.com/github/murali-marimekala/tensorflow_deeplearning_bootcamp/blob/main/4_Neural_Network_Classification_with_Tensorflow/2_Multiclass_Classification.ipynb\" target=\"_parent\"><img src=\"https://colab.research.google.com/assets/colab-badge.svg\" alt=\"Open In Colab\"/></a>"
      ]
    },
    {
      "cell_type": "markdown",
      "source": [
        "# Working with larger examples (multiclass classification)\n",
        "\n",
        "When you have more than two classes as an option, it's known as **multi-class classification **.\n",
        "\n",
        "* This means if you have 3 different classes, it's multi-class classification.\n",
        "* It also means if you have 100 different classes, its multi-class classification"
      ],
      "metadata": {
        "id": "Hd1CQIxylSoa"
      }
    },
    {
      "cell_type": "code",
      "source": [
        "# To practice multi-class classificaiton , we are going to build a neural network to classify images of different items of clothing.\n",
        "\n",
        "import tensorflow as tfs\n",
        "from tensorflow.keras.datasets import fashion_mnist\n",
        "\n",
        "# The data has already been sorted into training and test sets for us\n",
        "(train_data, train_labels), (test_data, test_labels) = fashion_mnist.load_data()"
      ],
      "metadata": {
        "colab": {
          "base_uri": "https://localhost:8080/"
        },
        "id": "MsX1QNJKlaGK",
        "outputId": "6fe89258-09cf-4e00-9339-6b8cca954b1b"
      },
      "execution_count": 1,
      "outputs": [
        {
          "output_type": "stream",
          "name": "stdout",
          "text": [
            "Downloading data from https://storage.googleapis.com/tensorflow/tf-keras-datasets/train-labels-idx1-ubyte.gz\n",
            "\u001b[1m29515/29515\u001b[0m \u001b[32m━━━━━━━━━━━━━━━━━━━━\u001b[0m\u001b[37m\u001b[0m \u001b[1m0s\u001b[0m 0us/step\n",
            "Downloading data from https://storage.googleapis.com/tensorflow/tf-keras-datasets/train-images-idx3-ubyte.gz\n",
            "\u001b[1m26421880/26421880\u001b[0m \u001b[32m━━━━━━━━━━━━━━━━━━━━\u001b[0m\u001b[37m\u001b[0m \u001b[1m1s\u001b[0m 0us/step\n",
            "Downloading data from https://storage.googleapis.com/tensorflow/tf-keras-datasets/t10k-labels-idx1-ubyte.gz\n",
            "\u001b[1m5148/5148\u001b[0m \u001b[32m━━━━━━━━━━━━━━━━━━━━\u001b[0m\u001b[37m\u001b[0m \u001b[1m0s\u001b[0m 0us/step\n",
            "Downloading data from https://storage.googleapis.com/tensorflow/tf-keras-datasets/t10k-images-idx3-ubyte.gz\n",
            "\u001b[1m4422102/4422102\u001b[0m \u001b[32m━━━━━━━━━━━━━━━━━━━━\u001b[0m\u001b[37m\u001b[0m \u001b[1m0s\u001b[0m 0us/step\n"
          ]
        }
      ]
    },
    {
      "cell_type": "code",
      "source": [
        "# Show the first training example\n",
        "print(f\"Training sample:\\n{train_data[0]}\")\n",
        "print(f\"Training label:\\n{train_labels[0]}\")"
      ],
      "metadata": {
        "colab": {
          "base_uri": "https://localhost:8080/"
        },
        "id": "KwlvJjqFoqQs",
        "outputId": "fa7995d0-7fc3-4e72-d70c-bd7734e3f227"
      },
      "execution_count": 2,
      "outputs": [
        {
          "output_type": "stream",
          "name": "stdout",
          "text": [
            "Training sample:\n",
            "[[  0   0   0   0   0   0   0   0   0   0   0   0   0   0   0   0   0   0\n",
            "    0   0   0   0   0   0   0   0   0   0]\n",
            " [  0   0   0   0   0   0   0   0   0   0   0   0   0   0   0   0   0   0\n",
            "    0   0   0   0   0   0   0   0   0   0]\n",
            " [  0   0   0   0   0   0   0   0   0   0   0   0   0   0   0   0   0   0\n",
            "    0   0   0   0   0   0   0   0   0   0]\n",
            " [  0   0   0   0   0   0   0   0   0   0   0   0   1   0   0  13  73   0\n",
            "    0   1   4   0   0   0   0   1   1   0]\n",
            " [  0   0   0   0   0   0   0   0   0   0   0   0   3   0  36 136 127  62\n",
            "   54   0   0   0   1   3   4   0   0   3]\n",
            " [  0   0   0   0   0   0   0   0   0   0   0   0   6   0 102 204 176 134\n",
            "  144 123  23   0   0   0   0  12  10   0]\n",
            " [  0   0   0   0   0   0   0   0   0   0   0   0   0   0 155 236 207 178\n",
            "  107 156 161 109  64  23  77 130  72  15]\n",
            " [  0   0   0   0   0   0   0   0   0   0   0   1   0  69 207 223 218 216\n",
            "  216 163 127 121 122 146 141  88 172  66]\n",
            " [  0   0   0   0   0   0   0   0   0   1   1   1   0 200 232 232 233 229\n",
            "  223 223 215 213 164 127 123 196 229   0]\n",
            " [  0   0   0   0   0   0   0   0   0   0   0   0   0 183 225 216 223 228\n",
            "  235 227 224 222 224 221 223 245 173   0]\n",
            " [  0   0   0   0   0   0   0   0   0   0   0   0   0 193 228 218 213 198\n",
            "  180 212 210 211 213 223 220 243 202   0]\n",
            " [  0   0   0   0   0   0   0   0   0   1   3   0  12 219 220 212 218 192\n",
            "  169 227 208 218 224 212 226 197 209  52]\n",
            " [  0   0   0   0   0   0   0   0   0   0   6   0  99 244 222 220 218 203\n",
            "  198 221 215 213 222 220 245 119 167  56]\n",
            " [  0   0   0   0   0   0   0   0   0   4   0   0  55 236 228 230 228 240\n",
            "  232 213 218 223 234 217 217 209  92   0]\n",
            " [  0   0   1   4   6   7   2   0   0   0   0   0 237 226 217 223 222 219\n",
            "  222 221 216 223 229 215 218 255  77   0]\n",
            " [  0   3   0   0   0   0   0   0   0  62 145 204 228 207 213 221 218 208\n",
            "  211 218 224 223 219 215 224 244 159   0]\n",
            " [  0   0   0   0  18  44  82 107 189 228 220 222 217 226 200 205 211 230\n",
            "  224 234 176 188 250 248 233 238 215   0]\n",
            " [  0  57 187 208 224 221 224 208 204 214 208 209 200 159 245 193 206 223\n",
            "  255 255 221 234 221 211 220 232 246   0]\n",
            " [  3 202 228 224 221 211 211 214 205 205 205 220 240  80 150 255 229 221\n",
            "  188 154 191 210 204 209 222 228 225   0]\n",
            " [ 98 233 198 210 222 229 229 234 249 220 194 215 217 241  65  73 106 117\n",
            "  168 219 221 215 217 223 223 224 229  29]\n",
            " [ 75 204 212 204 193 205 211 225 216 185 197 206 198 213 240 195 227 245\n",
            "  239 223 218 212 209 222 220 221 230  67]\n",
            " [ 48 203 183 194 213 197 185 190 194 192 202 214 219 221 220 236 225 216\n",
            "  199 206 186 181 177 172 181 205 206 115]\n",
            " [  0 122 219 193 179 171 183 196 204 210 213 207 211 210 200 196 194 191\n",
            "  195 191 198 192 176 156 167 177 210  92]\n",
            " [  0   0  74 189 212 191 175 172 175 181 185 188 189 188 193 198 204 209\n",
            "  210 210 211 188 188 194 192 216 170   0]\n",
            " [  2   0   0   0  66 200 222 237 239 242 246 243 244 221 220 193 191 179\n",
            "  182 182 181 176 166 168  99  58   0   0]\n",
            " [  0   0   0   0   0   0   0  40  61  44  72  41  35   0   0   0   0   0\n",
            "    0   0   0   0   0   0   0   0   0   0]\n",
            " [  0   0   0   0   0   0   0   0   0   0   0   0   0   0   0   0   0   0\n",
            "    0   0   0   0   0   0   0   0   0   0]\n",
            " [  0   0   0   0   0   0   0   0   0   0   0   0   0   0   0   0   0   0\n",
            "    0   0   0   0   0   0   0   0   0   0]]\n",
            "Training label:\n",
            "9\n"
          ]
        }
      ]
    },
    {
      "cell_type": "code",
      "source": [
        "# Check the shape of single example\n",
        "train_data[0].shape , train_labels[0].shape"
      ],
      "metadata": {
        "colab": {
          "base_uri": "https://localhost:8080/"
        },
        "id": "nsdPgDVPpGuw",
        "outputId": "d5113cec-5313-45cd-a24d-086ab06f52ba"
      },
      "execution_count": 3,
      "outputs": [
        {
          "output_type": "execute_result",
          "data": {
            "text/plain": [
              "((28, 28), ())"
            ]
          },
          "metadata": {},
          "execution_count": 3
        }
      ]
    },
    {
      "cell_type": "code",
      "source": [
        "#Plot a singlesample\n",
        "import matplotlib.pyplot as plt\n",
        "plt.imshow(train_data[4])\n",
        "\n"
      ],
      "metadata": {
        "colab": {
          "base_uri": "https://localhost:8080/",
          "height": 448
        },
        "id": "iSrXtw5MpOyp",
        "outputId": "e2315c85-4278-472e-d38e-a940be8717fd"
      },
      "execution_count": 4,
      "outputs": [
        {
          "output_type": "execute_result",
          "data": {
            "text/plain": [
              "<matplotlib.image.AxesImage at 0x7fd91bb32ad0>"
            ]
          },
          "metadata": {},
          "execution_count": 4
        },
        {
          "output_type": "display_data",
          "data": {
            "text/plain": [
              "<Figure size 640x480 with 1 Axes>"
            ],
            "image/png": "[encoded data removed]"
          },
          "metadata": {}
        }
      ]
    },
    {
      "cell_type": "code",
      "source": [
        "# Check out sample label : Refer https://www.tensorflow.org/tutorials/keras/classification\n",
        "train_labels[4]"
      ],
      "metadata": {
        "colab": {
          "base_uri": "https://localhost:8080/"
        },
        "id": "Skp4t11hpeDS",
        "outputId": "86792728-30d8-452b-ad6e-60fe7c53f945"
      },
      "execution_count": 5,
      "outputs": [
        {
          "output_type": "execute_result",
          "data": {
            "text/plain": [
              "np.uint8(0)"
            ]
          },
          "metadata": {},
          "execution_count": 5
        }
      ]
    },
    {
      "cell_type": "code",
      "source": [
        "# create a small list so that we acn index into our training labels so they are human readable\n",
        "class_names = [\"T-shirt/top\", \"Trouser\", \"Pullover\", \"Dress\", \"Coat\",\n",
        "               \"Sandal\", \"Shirt\", \"Sneaker\", \"Bag\", \"Ankle boot\"]\n",
        "\n",
        "len(class_names)"
      ],
      "metadata": {
        "id": "2V5ky0X9pw2x",
        "outputId": "bef4f926-3b24-4592-e87b-873379017aba",
        "colab": {
          "base_uri": "https://localhost:8080/"
        }
      },
      "execution_count": 6,
      "outputs": [
        {
          "output_type": "execute_result",
          "data": {
            "text/plain": [
              "10"
            ]
          },
          "metadata": {},
          "execution_count": 6
        }
      ]
    },
    {
      "cell_type": "code",
      "source": [
        "#Plot an example image and its labels\n",
        "index_of_choice = 20\n",
        "plt.imshow(train_data[index_of_choice], cmap=plt.cm.binary)\n",
        "plt.title(class_names[train_labels[index_of_choice]])"
      ],
      "metadata": {
        "id": "haWpDu_jp-Ss",
        "outputId": "25fd5050-d7b7-4dfc-bbeb-926c0058ab44",
        "colab": {
          "base_uri": "https://localhost:8080/",
          "height": 470
        }
      },
      "execution_count": 7,
      "outputs": [
        {
          "output_type": "execute_result",
          "data": {
            "text/plain": [
              "Text(0.5, 1.0, 'Dress')"
            ]
          },
          "metadata": {},
          "execution_count": 7
        },
        {
          "output_type": "display_data",
          "data": {
            "text/plain": [
              "<Figure size 640x480 with 1 Axes>"
            ],
            "image/png": "[encoded data removed]"
          },
          "metadata": {}
        }
      ]
    },
    {
      "cell_type": "code",
      "source": [
        "#Plot multiple random images of fashion MNIST\n",
        "import random\n",
        "plt.figure(figsize=(10,10))\n",
        "for i in range(4):\n",
        "  ax = plt.subplot(2, 2, i+1)\n",
        "  rand_index = random.choice(range(len(train_data)))\n",
        "  plt.imshow(train_data[rand_index], cmap=plt.cm.binary)\n",
        "  plt.title(class_names[train_labels[rand_index]])\n",
        "  plt.axis(\"off\")"
      ],
      "metadata": {
        "id": "lKUfenHXqntJ",
        "outputId": "06dbc656-4517-4d31-b96e-7350268af33f",
        "colab": {
          "base_uri": "https://localhost:8080/",
          "height": 829
        }
      },
      "execution_count": 8,
      "outputs": [
        {
          "output_type": "display_data",
          "data": {
            "text/plain": [
              "<Figure size 1000x1000 with 4 Axes>"
            ],
            "image/png": "[encoded data removed]"
          },
          "metadata": {}
        }
      ]
    },
    {
      "cell_type": "markdown",
      "source": [
        "## Building a Multiclassification Model\n",
        "Four our multi-class classificaiton model, we can use a similar architecture to our binary classifier, however we use a similar architecture to our things\n",
        "\n",
        "* input shape = 28 x 28 (the shape of input image)\n",
        "* output layer shape = 10 (one per class of clothing)\n",
        "* Loss function = tf.keras.losses.CategoricalCrossentropy()\n",
        "* Output layear activation = Softmax(not sigmoid)\n",
        "* If your labels are one-hot encoded, use categorical entropy.\n",
        "* If your labels are integer form use Sparse Categorical entropy"
      ],
      "metadata": {
        "id": "CHwkqU14FF7N"
      }
    },
    {
      "cell_type": "code",
      "source": [
        "train_data[0].shape"
      ],
      "metadata": {
        "id": "zK8q7CoXrfjq",
        "outputId": "b46aa6df-d871-47bc-d77f-d4b59b3ecaa9",
        "colab": {
          "base_uri": "https://localhost:8080/"
        }
      },
      "execution_count": 9,
      "outputs": [
        {
          "output_type": "execute_result",
          "data": {
            "text/plain": [
              "(28, 28)"
            ]
          },
          "metadata": {},
          "execution_count": 9
        }
      ]
    },
    {
      "cell_type": "code",
      "source": [
        "#Our data need to be flatted from 28x28 to (None, 784)\n",
        "import tensorflow as tf\n",
        "\n",
        "flattern_model = tf.keras.Sequential([\n",
        "    tf.keras.layers.Flatten(input_shape=(28,28))\n",
        "])\n",
        "\n",
        "flattern_model.summary()"
      ],
      "metadata": {
        "id": "5B6Qr0yKHPrV",
        "outputId": "97d27c4d-f5f9-4e65-a6a1-6e7da27eb5b0",
        "colab": {
          "base_uri": "https://localhost:8080/",
          "height": 224
        }
      },
      "execution_count": 10,
      "outputs": [
        {
          "output_type": "stream",
          "name": "stderr",
          "text": [
            "/usr/local/lib/python3.11/dist-packages/keras/src/layers/reshaping/flatten.py:37: UserWarning: Do not pass an `input_shape`/`input_dim` argument to a layer. When using Sequential models, prefer using an `Input(shape)` object as the first layer in the model instead.\n",
            "  super().__init__(**kwargs)\n"
          ]
        },
        {
          "output_type": "display_data",
          "data": {
            "text/plain": [
              "\u001b[1mModel: \"sequential\"\u001b[0m\n"
            ],
            "text/html": [
              "<pre style=\"white-space:pre;overflow-x:auto;line-height:normal;font-family:Menlo,'DejaVu Sans Mono',consolas,'Courier New',monospace\"><span style=\"font-weight: bold\">Model: \"sequential\"</span>\n",
              "</pre>\n"
            ]
          },
          "metadata": {}
        },
        {
          "output_type": "display_data",
          "data": {
            "text/plain": [
              "┏━━━━━━━━━━━━━━━━━━━━━━━━━━━━━━━━━━━━━━┳━━━━━━━━━━━━━━━━━━━━━━━━━━━━━┳━━━━━━━━━━━━━━━━━┓\n",
              "┃\u001b[1m \u001b[0m\u001b[1mLayer (type)                        \u001b[0m\u001b[1m \u001b[0m┃\u001b[1m \u001b[0m\u001b[1mOutput Shape               \u001b[0m\u001b[1m \u001b[0m┃\u001b[1m \u001b[0m\u001b[1m        Param #\u001b[0m\u001b[1m \u001b[0m┃\n",
              "┡━━━━━━━━━━━━━━━━━━━━━━━━━━━━━━━━━━━━━━╇━━━━━━━━━━━━━━━━━━━━━━━━━━━━━╇━━━━━━━━━━━━━━━━━┩\n",
              "│ flatten (\u001b[38;5;33mFlatten\u001b[0m)                    │ (\u001b[38;5;45mNone\u001b[0m, \u001b[38;5;34m784\u001b[0m)                 │               \u001b[38;5;34m0\u001b[0m │\n",
              "└──────────────────────────────────────┴─────────────────────────────┴─────────────────┘\n"
            ],
            "text/html": [
              "<pre style=\"white-space:pre;overflow-x:auto;line-height:normal;font-family:Menlo,'DejaVu Sans Mono',consolas,'Courier New',monospace\">┏━━━━━━━━━━━━━━━━━━━━━━━━━━━━━━━━━━━━━━┳━━━━━━━━━━━━━━━━━━━━━━━━━━━━━┳━━━━━━━━━━━━━━━━━┓\n",
              "┃<span style=\"font-weight: bold\"> Layer (type)                         </span>┃<span style=\"font-weight: bold\"> Output Shape                </span>┃<span style=\"font-weight: bold\">         Param # </span>┃\n",
              "┡━━━━━━━━━━━━━━━━━━━━━━━━━━━━━━━━━━━━━━╇━━━━━━━━━━━━━━━━━━━━━━━━━━━━━╇━━━━━━━━━━━━━━━━━┩\n",
              "│ flatten (<span style=\"color: #0087ff; text-decoration-color: #0087ff\">Flatten</span>)                    │ (<span style=\"color: #00d7ff; text-decoration-color: #00d7ff\">None</span>, <span style=\"color: #00af00; text-decoration-color: #00af00\">784</span>)                 │               <span style=\"color: #00af00; text-decoration-color: #00af00\">0</span> │\n",
              "└──────────────────────────────────────┴─────────────────────────────┴─────────────────┘\n",
              "</pre>\n"
            ]
          },
          "metadata": {}
        },
        {
          "output_type": "display_data",
          "data": {
            "text/plain": [
              "\u001b[1m Total params: \u001b[0m\u001b[38;5;34m0\u001b[0m (0.00 B)\n"
            ],
            "text/html": [
              "<pre style=\"white-space:pre;overflow-x:auto;line-height:normal;font-family:Menlo,'DejaVu Sans Mono',consolas,'Courier New',monospace\"><span style=\"font-weight: bold\"> Total params: </span><span style=\"color: #00af00; text-decoration-color: #00af00\">0</span> (0.00 B)\n",
              "</pre>\n"
            ]
          },
          "metadata": {}
        },
        {
          "output_type": "display_data",
          "data": {
            "text/plain": [
              "\u001b[1m Trainable params: \u001b[0m\u001b[38;5;34m0\u001b[0m (0.00 B)\n"
            ],
            "text/html": [
              "<pre style=\"white-space:pre;overflow-x:auto;line-height:normal;font-family:Menlo,'DejaVu Sans Mono',consolas,'Courier New',monospace\"><span style=\"font-weight: bold\"> Trainable params: </span><span style=\"color: #00af00; text-decoration-color: #00af00\">0</span> (0.00 B)\n",
              "</pre>\n"
            ]
          },
          "metadata": {}
        },
        {
          "output_type": "display_data",
          "data": {
            "text/plain": [
              "\u001b[1m Non-trainable params: \u001b[0m\u001b[38;5;34m0\u001b[0m (0.00 B)\n"
            ],
            "text/html": [
              "<pre style=\"white-space:pre;overflow-x:auto;line-height:normal;font-family:Menlo,'DejaVu Sans Mono',consolas,'Courier New',monospace\"><span style=\"font-weight: bold\"> Non-trainable params: </span><span style=\"color: #00af00; text-decoration-color: #00af00\">0</span> (0.00 B)\n",
              "</pre>\n"
            ]
          },
          "metadata": {}
        }
      ]
    },
    {
      "cell_type": "code",
      "source": [
        "train_labels[:10]"
      ],
      "metadata": {
        "id": "z1HJE5fgH_0G",
        "outputId": "d5166b9b-fd67-4187-f68a-e7bead1e1691",
        "colab": {
          "base_uri": "https://localhost:8080/"
        }
      },
      "execution_count": 11,
      "outputs": [
        {
          "output_type": "execute_result",
          "data": {
            "text/plain": [
              "array([9, 0, 0, 3, 0, 2, 7, 2, 5, 5], dtype=uint8)"
            ]
          },
          "metadata": {},
          "execution_count": 11
        }
      ]
    },
    {
      "cell_type": "code",
      "source": [
        "tf.one_hot(train_labels[:10], depth=10)"
      ],
      "metadata": {
        "id": "DoCPM46NIeFF",
        "outputId": "9ebdc718-98dc-4d9d-8774-f65f0a5d48a6",
        "colab": {
          "base_uri": "https://localhost:8080/"
        }
      },
      "execution_count": 12,
      "outputs": [
        {
          "output_type": "execute_result",
          "data": {
            "text/plain": [
              "<tf.Tensor: shape=(10, 10), dtype=float32, numpy=\n",
              "array([[0., 0., 0., 0., 0., 0., 0., 0., 0., 1.],\n",
              "       [1., 0., 0., 0., 0., 0., 0., 0., 0., 0.],\n",
              "       [1., 0., 0., 0., 0., 0., 0., 0., 0., 0.],\n",
              "       [0., 0., 0., 1., 0., 0., 0., 0., 0., 0.],\n",
              "       [1., 0., 0., 0., 0., 0., 0., 0., 0., 0.],\n",
              "       [0., 0., 1., 0., 0., 0., 0., 0., 0., 0.],\n",
              "       [0., 0., 0., 0., 0., 0., 0., 1., 0., 0.],\n",
              "       [0., 0., 1., 0., 0., 0., 0., 0., 0., 0.],\n",
              "       [0., 0., 0., 0., 0., 1., 0., 0., 0., 0.],\n",
              "       [0., 0., 0., 0., 0., 1., 0., 0., 0., 0.]], dtype=float32)>"
            ]
          },
          "metadata": {},
          "execution_count": 12
        }
      ]
    },
    {
      "cell_type": "code",
      "source": [
        "\n",
        "#Multiclass classification model\n",
        "\n",
        "# Set random seed\n",
        "tf.random.set_seed(42)\n",
        "\n",
        "#Create a model\n",
        "model_11 = tf.keras.Sequential([\n",
        "    tf.keras.layers.Flatten(input_shape=(28,28)),   #Input shape\n",
        "    tf.keras.layers.Dense(4, activation=\"relu\"),\n",
        "    tf.keras.layers.Dense(4, activation=\"relu\"),\n",
        "    tf.keras.layers.Dense(10, activation= tf.keras.activations.softmax)  #Output shape\n",
        "])\n",
        "\n",
        "# Compile the model\n",
        "model_11.compile(\n",
        "    loss = tf.keras.losses.CategoricalCrossentropy(),\n",
        "    optimizer = tf.keras.optimizers.Adam(),\n",
        "    metrics=[\"accuracy\"])\n",
        "\n",
        "# Fit the model\n",
        "non_norm_history = model_11.fit(train_data,\n",
        "                                tf.one_hot(train_labels, depth=10),\n",
        "                                epochs = 10,\n",
        "                                validation_data = (test_data, tf.one_hot(test_labels, depth=10)))"
      ],
      "metadata": {
        "id": "a4zC_st6F-Mg",
        "outputId": "74ebdd8b-2ee9-47d1-f712-2d6146d43d1e",
        "colab": {
          "base_uri": "https://localhost:8080/"
        }
      },
      "execution_count": 13,
      "outputs": [
        {
          "output_type": "stream",
          "name": "stdout",
          "text": [
            "Epoch 1/10\n",
            "\u001b[1m1875/1875\u001b[0m \u001b[32m━━━━━━━━━━━━━━━━━━━━\u001b[0m\u001b[37m\u001b[0m \u001b[1m10s\u001b[0m 4ms/step - accuracy: 0.0987 - loss: 2.8428 - val_accuracy: 0.1000 - val_loss: 2.3031\n",
            "Epoch 2/10\n",
            "\u001b[1m1875/1875\u001b[0m \u001b[32m━━━━━━━━━━━━━━━━━━━━\u001b[0m\u001b[37m\u001b[0m \u001b[1m7s\u001b[0m 2ms/step - accuracy: 0.0986 - loss: 2.3029 - val_accuracy: 0.1000 - val_loss: 2.3031\n",
            "Epoch 3/10\n",
            "\u001b[1m1875/1875\u001b[0m \u001b[32m━━━━━━━━━━━━━━━━━━━━\u001b[0m\u001b[37m\u001b[0m \u001b[1m7s\u001b[0m 4ms/step - accuracy: 0.0985 - loss: 2.3028 - val_accuracy: 0.1000 - val_loss: 2.3031\n",
            "Epoch 4/10\n",
            "\u001b[1m1875/1875\u001b[0m \u001b[32m━━━━━━━━━━━━━━━━━━━━\u001b[0m\u001b[37m\u001b[0m \u001b[1m9s\u001b[0m 3ms/step - accuracy: 0.0985 - loss: 2.3028 - val_accuracy: 0.1000 - val_loss: 2.3031\n",
            "Epoch 5/10\n",
            "\u001b[1m1875/1875\u001b[0m \u001b[32m━━━━━━━━━━━━━━━━━━━━\u001b[0m\u001b[37m\u001b[0m \u001b[1m15s\u001b[0m 6ms/step - accuracy: 0.0985 - loss: 2.3028 - val_accuracy: 0.1000 - val_loss: 2.3031\n",
            "Epoch 6/10\n",
            "\u001b[1m1875/1875\u001b[0m \u001b[32m━━━━━━━━━━━━━━━━━━━━\u001b[0m\u001b[37m\u001b[0m \u001b[1m5s\u001b[0m 3ms/step - accuracy: 0.0985 - loss: 2.3028 - val_accuracy: 0.1000 - val_loss: 2.3031\n",
            "Epoch 7/10\n",
            "\u001b[1m1875/1875\u001b[0m \u001b[32m━━━━━━━━━━━━━━━━━━━━\u001b[0m\u001b[37m\u001b[0m \u001b[1m4s\u001b[0m 2ms/step - accuracy: 0.0985 - loss: 2.3028 - val_accuracy: 0.1000 - val_loss: 2.3031\n",
            "Epoch 8/10\n",
            "\u001b[1m1875/1875\u001b[0m \u001b[32m━━━━━━━━━━━━━━━━━━━━\u001b[0m\u001b[37m\u001b[0m \u001b[1m5s\u001b[0m 2ms/step - accuracy: 0.0985 - loss: 2.3028 - val_accuracy: 0.1000 - val_loss: 2.3031\n",
            "Epoch 9/10\n",
            "\u001b[1m1875/1875\u001b[0m \u001b[32m━━━━━━━━━━━━━━━━━━━━\u001b[0m\u001b[37m\u001b[0m \u001b[1m5s\u001b[0m 2ms/step - accuracy: 0.0985 - loss: 2.3028 - val_accuracy: 0.1000 - val_loss: 2.3031\n",
            "Epoch 10/10\n",
            "\u001b[1m1875/1875\u001b[0m \u001b[32m━━━━━━━━━━━━━━━━━━━━\u001b[0m\u001b[37m\u001b[0m \u001b[1m4s\u001b[0m 2ms/step - accuracy: 0.0985 - loss: 2.3028 - val_accuracy: 0.1000 - val_loss: 2.3031\n"
          ]
        }
      ]
    },
    {
      "cell_type": "code",
      "source": [
        "100/10"
      ],
      "metadata": {
        "id": "XZmpcodAFM64",
        "outputId": "58e8065b-3e2a-4c30-dba5-15c931a9f098",
        "colab": {
          "base_uri": "https://localhost:8080/"
        }
      },
      "execution_count": 14,
      "outputs": [
        {
          "output_type": "execute_result",
          "data": {
            "text/plain": [
              "10.0"
            ]
          },
          "metadata": {},
          "execution_count": 14
        }
      ]
    },
    {
      "cell_type": "code",
      "source": [
        "#Check the model summary\n",
        "model_11.summary()\n"
      ],
      "metadata": {
        "id": "cU2wgC3SFqXa",
        "outputId": "74008fae-8e56-411f-b91b-98e61d9982f7",
        "colab": {
          "base_uri": "https://localhost:8080/",
          "height": 284
        }
      },
      "execution_count": 15,
      "outputs": [
        {
          "output_type": "display_data",
          "data": {
            "text/plain": [
              "\u001b[1mModel: \"sequential_1\"\u001b[0m\n"
            ],
            "text/html": [
              "<pre style=\"white-space:pre;overflow-x:auto;line-height:normal;font-family:Menlo,'DejaVu Sans Mono',consolas,'Courier New',monospace\"><span style=\"font-weight: bold\">Model: \"sequential_1\"</span>\n",
              "</pre>\n"
            ]
          },
          "metadata": {}
        },
        {
          "output_type": "display_data",
          "data": {
            "text/plain": [
              "┏━━━━━━━━━━━━━━━━━━━━━━━━━━━━━━━━━━━━━━┳━━━━━━━━━━━━━━━━━━━━━━━━━━━━━┳━━━━━━━━━━━━━━━━━┓\n",
              "┃\u001b[1m \u001b[0m\u001b[1mLayer (type)                        \u001b[0m\u001b[1m \u001b[0m┃\u001b[1m \u001b[0m\u001b[1mOutput Shape               \u001b[0m\u001b[1m \u001b[0m┃\u001b[1m \u001b[0m\u001b[1m        Param #\u001b[0m\u001b[1m \u001b[0m┃\n",
              "┡━━━━━━━━━━━━━━━━━━━━━━━━━━━━━━━━━━━━━━╇━━━━━━━━━━━━━━━━━━━━━━━━━━━━━╇━━━━━━━━━━━━━━━━━┩\n",
              "│ flatten_1 (\u001b[38;5;33mFlatten\u001b[0m)                  │ (\u001b[38;5;45mNone\u001b[0m, \u001b[38;5;34m784\u001b[0m)                 │               \u001b[38;5;34m0\u001b[0m │\n",
              "├──────────────────────────────────────┼─────────────────────────────┼─────────────────┤\n",
              "│ dense (\u001b[38;5;33mDense\u001b[0m)                        │ (\u001b[38;5;45mNone\u001b[0m, \u001b[38;5;34m4\u001b[0m)                   │           \u001b[38;5;34m3,140\u001b[0m │\n",
              "├──────────────────────────────────────┼─────────────────────────────┼─────────────────┤\n",
              "│ dense_1 (\u001b[38;5;33mDense\u001b[0m)                      │ (\u001b[38;5;45mNone\u001b[0m, \u001b[38;5;34m4\u001b[0m)                   │              \u001b[38;5;34m20\u001b[0m │\n",
              "├──────────────────────────────────────┼─────────────────────────────┼─────────────────┤\n",
              "│ dense_2 (\u001b[38;5;33mDense\u001b[0m)                      │ (\u001b[38;5;45mNone\u001b[0m, \u001b[38;5;34m10\u001b[0m)                  │              \u001b[38;5;34m50\u001b[0m │\n",
              "└──────────────────────────────────────┴─────────────────────────────┴─────────────────┘\n"
            ],
            "text/html": [
              "<pre style=\"white-space:pre;overflow-x:auto;line-height:normal;font-family:Menlo,'DejaVu Sans Mono',consolas,'Courier New',monospace\">┏━━━━━━━━━━━━━━━━━━━━━━━━━━━━━━━━━━━━━━┳━━━━━━━━━━━━━━━━━━━━━━━━━━━━━┳━━━━━━━━━━━━━━━━━┓\n",
              "┃<span style=\"font-weight: bold\"> Layer (type)                         </span>┃<span style=\"font-weight: bold\"> Output Shape                </span>┃<span style=\"font-weight: bold\">         Param # </span>┃\n",
              "┡━━━━━━━━━━━━━━━━━━━━━━━━━━━━━━━━━━━━━━╇━━━━━━━━━━━━━━━━━━━━━━━━━━━━━╇━━━━━━━━━━━━━━━━━┩\n",
              "│ flatten_1 (<span style=\"color: #0087ff; text-decoration-color: #0087ff\">Flatten</span>)                  │ (<span style=\"color: #00d7ff; text-decoration-color: #00d7ff\">None</span>, <span style=\"color: #00af00; text-decoration-color: #00af00\">784</span>)                 │               <span style=\"color: #00af00; text-decoration-color: #00af00\">0</span> │\n",
              "├──────────────────────────────────────┼─────────────────────────────┼─────────────────┤\n",
              "│ dense (<span style=\"color: #0087ff; text-decoration-color: #0087ff\">Dense</span>)                        │ (<span style=\"color: #00d7ff; text-decoration-color: #00d7ff\">None</span>, <span style=\"color: #00af00; text-decoration-color: #00af00\">4</span>)                   │           <span style=\"color: #00af00; text-decoration-color: #00af00\">3,140</span> │\n",
              "├──────────────────────────────────────┼─────────────────────────────┼─────────────────┤\n",
              "│ dense_1 (<span style=\"color: #0087ff; text-decoration-color: #0087ff\">Dense</span>)                      │ (<span style=\"color: #00d7ff; text-decoration-color: #00d7ff\">None</span>, <span style=\"color: #00af00; text-decoration-color: #00af00\">4</span>)                   │              <span style=\"color: #00af00; text-decoration-color: #00af00\">20</span> │\n",
              "├──────────────────────────────────────┼─────────────────────────────┼─────────────────┤\n",
              "│ dense_2 (<span style=\"color: #0087ff; text-decoration-color: #0087ff\">Dense</span>)                      │ (<span style=\"color: #00d7ff; text-decoration-color: #00d7ff\">None</span>, <span style=\"color: #00af00; text-decoration-color: #00af00\">10</span>)                  │              <span style=\"color: #00af00; text-decoration-color: #00af00\">50</span> │\n",
              "└──────────────────────────────────────┴─────────────────────────────┴─────────────────┘\n",
              "</pre>\n"
            ]
          },
          "metadata": {}
        },
        {
          "output_type": "display_data",
          "data": {
            "text/plain": [
              "\u001b[1m Total params: \u001b[0m\u001b[38;5;34m9,632\u001b[0m (37.63 KB)\n"
            ],
            "text/html": [
              "<pre style=\"white-space:pre;overflow-x:auto;line-height:normal;font-family:Menlo,'DejaVu Sans Mono',consolas,'Courier New',monospace\"><span style=\"font-weight: bold\"> Total params: </span><span style=\"color: #00af00; text-decoration-color: #00af00\">9,632</span> (37.63 KB)\n",
              "</pre>\n"
            ]
          },
          "metadata": {}
        },
        {
          "output_type": "display_data",
          "data": {
            "text/plain": [
              "\u001b[1m Trainable params: \u001b[0m\u001b[38;5;34m3,210\u001b[0m (12.54 KB)\n"
            ],
            "text/html": [
              "<pre style=\"white-space:pre;overflow-x:auto;line-height:normal;font-family:Menlo,'DejaVu Sans Mono',consolas,'Courier New',monospace\"><span style=\"font-weight: bold\"> Trainable params: </span><span style=\"color: #00af00; text-decoration-color: #00af00\">3,210</span> (12.54 KB)\n",
              "</pre>\n"
            ]
          },
          "metadata": {}
        },
        {
          "output_type": "display_data",
          "data": {
            "text/plain": [
              "\u001b[1m Non-trainable params: \u001b[0m\u001b[38;5;34m0\u001b[0m (0.00 B)\n"
            ],
            "text/html": [
              "<pre style=\"white-space:pre;overflow-x:auto;line-height:normal;font-family:Menlo,'DejaVu Sans Mono',consolas,'Courier New',monospace\"><span style=\"font-weight: bold\"> Non-trainable params: </span><span style=\"color: #00af00; text-decoration-color: #00af00\">0</span> (0.00 B)\n",
              "</pre>\n"
            ]
          },
          "metadata": {}
        },
        {
          "output_type": "display_data",
          "data": {
            "text/plain": [
              "\u001b[1m Optimizer params: \u001b[0m\u001b[38;5;34m6,422\u001b[0m (25.09 KB)\n"
            ],
            "text/html": [
              "<pre style=\"white-space:pre;overflow-x:auto;line-height:normal;font-family:Menlo,'DejaVu Sans Mono',consolas,'Courier New',monospace\"><span style=\"font-weight: bold\"> Optimizer params: </span><span style=\"color: #00af00; text-decoration-color: #00af00\">6,422</span> (25.09 KB)\n",
              "</pre>\n"
            ]
          },
          "metadata": {}
        }
      ]
    },
    {
      "cell_type": "code",
      "source": [
        "# Check min and max values of training data\n",
        "train_data.min(), train_data.max()"
      ],
      "metadata": {
        "id": "RUQxq0EmFyzk",
        "outputId": "6c00cba5-3d6c-404e-a94c-1220e64595ea",
        "colab": {
          "base_uri": "https://localhost:8080/"
        }
      },
      "execution_count": 16,
      "outputs": [
        {
          "output_type": "execute_result",
          "data": {
            "text/plain": [
              "(np.uint8(0), np.uint8(255))"
            ]
          },
          "metadata": {},
          "execution_count": 16
        }
      ]
    },
    {
      "cell_type": "markdown",
      "source": [
        "# Neural Networks prefer data to be scaled (or normalized), this means they like to have numbers in the tensors they like to be between 0 and 1."
      ],
      "metadata": {
        "id": "fVhTdOqqGHRn"
      }
    },
    {
      "cell_type": "code",
      "source": [
        "# We can get out training and testing data between 0 and 1 by dividing by the maximum. This is  referred to as scaling or normalization\n",
        "\n",
        "train_data_norm = train_data / 255.0\n",
        "test_data_norm = test_data / 255.0\n",
        "\n",
        "#Check min and max values of scaled traiing data\n",
        "train_data_norm.min(), train_data_norm.max()\n",
        "\n",
        "#Display train and test norm data\n",
        "train_data_norm[0]\n",
        "test_data_norm[0]"
      ],
      "metadata": {
        "id": "SHdeIuLGGQ5R",
        "outputId": "11d387cb-8232-4164-8aa4-fc6017bcb696",
        "colab": {
          "base_uri": "https://localhost:8080/"
        }
      },
      "execution_count": 17,
      "outputs": [
        {
          "output_type": "execute_result",
          "data": {
            "text/plain": [
              "array([[0.        , 0.        , 0.        , 0.        , 0.        ,\n",
              "        0.        , 0.        , 0.        , 0.        , 0.        ,\n",
              "        0.        , 0.        , 0.        , 0.        , 0.        ,\n",
              "        0.        , 0.        , 0.        , 0.        , 0.        ,\n",
              "        0.        , 0.        , 0.        , 0.        , 0.        ,\n",
              "        0.        , 0.        , 0.        ],\n",
              "       [0.        , 0.        , 0.        , 0.        , 0.        ,\n",
              "        0.        , 0.        , 0.        , 0.        , 0.        ,\n",
              "        0.        , 0.        , 0.        , 0.        , 0.        ,\n",
              "        0.        , 0.        , 0.        , 0.        , 0.        ,\n",
              "        0.        , 0.        , 0.        , 0.        , 0.        ,\n",
              "        0.        , 0.        , 0.        ],\n",
              "       [0.        , 0.        , 0.        , 0.        , 0.        ,\n",
              "        0.        , 0.        , 0.        , 0.        , 0.        ,\n",
              "        0.        , 0.        , 0.        , 0.        , 0.        ,\n",
              "        0.        , 0.        , 0.        , 0.        , 0.        ,\n",
              "        0.        , 0.        , 0.        , 0.        , 0.        ,\n",
              "        0.        , 0.        , 0.        ],\n",
              "       [0.        , 0.        , 0.        , 0.        , 0.        ,\n",
              "        0.        , 0.        , 0.        , 0.        , 0.        ,\n",
              "        0.        , 0.        , 0.        , 0.        , 0.        ,\n",
              "        0.        , 0.        , 0.        , 0.        , 0.        ,\n",
              "        0.        , 0.        , 0.        , 0.        , 0.        ,\n",
              "        0.        , 0.        , 0.        ],\n",
              "       [0.        , 0.        , 0.        , 0.        , 0.        ,\n",
              "        0.        , 0.        , 0.        , 0.        , 0.        ,\n",
              "        0.        , 0.        , 0.        , 0.        , 0.        ,\n",
              "        0.        , 0.        , 0.        , 0.        , 0.        ,\n",
              "        0.        , 0.        , 0.        , 0.        , 0.        ,\n",
              "        0.        , 0.        , 0.        ],\n",
              "       [0.        , 0.        , 0.        , 0.        , 0.        ,\n",
              "        0.        , 0.        , 0.        , 0.        , 0.        ,\n",
              "        0.        , 0.        , 0.        , 0.        , 0.        ,\n",
              "        0.        , 0.        , 0.        , 0.        , 0.        ,\n",
              "        0.        , 0.        , 0.        , 0.        , 0.        ,\n",
              "        0.        , 0.        , 0.        ],\n",
              "       [0.        , 0.        , 0.        , 0.        , 0.        ,\n",
              "        0.        , 0.        , 0.        , 0.        , 0.        ,\n",
              "        0.        , 0.        , 0.        , 0.        , 0.        ,\n",
              "        0.        , 0.        , 0.        , 0.        , 0.        ,\n",
              "        0.        , 0.        , 0.        , 0.        , 0.        ,\n",
              "        0.        , 0.        , 0.        ],\n",
              "       [0.        , 0.        , 0.        , 0.        , 0.        ,\n",
              "        0.        , 0.        , 0.        , 0.        , 0.        ,\n",
              "        0.        , 0.        , 0.        , 0.        , 0.        ,\n",
              "        0.        , 0.        , 0.        , 0.        , 0.01176471,\n",
              "        0.00392157, 0.        , 0.        , 0.02745098, 0.        ,\n",
              "        0.14509804, 0.        , 0.        ],\n",
              "       [0.        , 0.        , 0.        , 0.        , 0.        ,\n",
              "        0.        , 0.        , 0.        , 0.        , 0.        ,\n",
              "        0.        , 0.        , 0.        , 0.00392157, 0.00784314,\n",
              "        0.        , 0.10588235, 0.32941176, 0.04313725, 0.        ,\n",
              "        0.        , 0.        , 0.        , 0.        , 0.        ,\n",
              "        0.46666667, 0.        , 0.        ],\n",
              "       [0.        , 0.        , 0.        , 0.        , 0.        ,\n",
              "        0.        , 0.        , 0.        , 0.        , 0.        ,\n",
              "        0.        , 0.        , 0.        , 0.00392157, 0.        ,\n",
              "        0.        , 0.34509804, 0.56078431, 0.43137255, 0.        ,\n",
              "        0.        , 0.        , 0.        , 0.08627451, 0.36470588,\n",
              "        0.41568627, 0.        , 0.        ],\n",
              "       [0.        , 0.        , 0.        , 0.        , 0.        ,\n",
              "        0.        , 0.        , 0.        , 0.        , 0.        ,\n",
              "        0.        , 0.        , 0.        , 0.01568627, 0.        ,\n",
              "        0.20784314, 0.50588235, 0.47058824, 0.57647059, 0.68627451,\n",
              "        0.61568627, 0.65098039, 0.52941176, 0.60392157, 0.65882353,\n",
              "        0.54901961, 0.        , 0.        ],\n",
              "       [0.        , 0.        , 0.        , 0.        , 0.        ,\n",
              "        0.        , 0.        , 0.        , 0.        , 0.        ,\n",
              "        0.        , 0.        , 0.00784314, 0.        , 0.04313725,\n",
              "        0.5372549 , 0.50980392, 0.50196078, 0.62745098, 0.69019608,\n",
              "        0.62352941, 0.65490196, 0.69803922, 0.58431373, 0.59215686,\n",
              "        0.56470588, 0.        , 0.        ],\n",
              "       [0.        , 0.        , 0.        , 0.        , 0.        ,\n",
              "        0.        , 0.00392157, 0.        , 0.00784314, 0.00392157,\n",
              "        0.        , 0.01176471, 0.        , 0.        , 0.45098039,\n",
              "        0.44705882, 0.41568627, 0.5372549 , 0.65882353, 0.6       ,\n",
              "        0.61176471, 0.64705882, 0.65490196, 0.56078431, 0.61568627,\n",
              "        0.61960784, 0.04313725, 0.        ],\n",
              "       [0.        , 0.        , 0.        , 0.        , 0.00392157,\n",
              "        0.        , 0.        , 0.        , 0.        , 0.        ,\n",
              "        0.01176471, 0.        , 0.        , 0.34901961, 0.54509804,\n",
              "        0.35294118, 0.36862745, 0.6       , 0.58431373, 0.51372549,\n",
              "        0.59215686, 0.6627451 , 0.6745098 , 0.56078431, 0.62352941,\n",
              "        0.6627451 , 0.18823529, 0.        ],\n",
              "       [0.        , 0.        , 0.        , 0.        , 0.        ,\n",
              "        0.        , 0.00784314, 0.01568627, 0.00392157, 0.        ,\n",
              "        0.        , 0.        , 0.38431373, 0.53333333, 0.43137255,\n",
              "        0.42745098, 0.43137255, 0.63529412, 0.52941176, 0.56470588,\n",
              "        0.58431373, 0.62352941, 0.65490196, 0.56470588, 0.61960784,\n",
              "        0.6627451 , 0.46666667, 0.        ],\n",
              "       [0.        , 0.        , 0.00784314, 0.00784314, 0.00392157,\n",
              "        0.00784314, 0.        , 0.        , 0.        , 0.        ,\n",
              "        0.10196078, 0.42352941, 0.45882353, 0.38823529, 0.43529412,\n",
              "        0.45882353, 0.53333333, 0.61176471, 0.5254902 , 0.60392157,\n",
              "        0.60392157, 0.61176471, 0.62745098, 0.55294118, 0.57647059,\n",
              "        0.61176471, 0.69803922, 0.        ],\n",
              "       [0.01176471, 0.        , 0.        , 0.        , 0.        ,\n",
              "        0.        , 0.        , 0.08235294, 0.20784314, 0.36078431,\n",
              "        0.45882353, 0.43529412, 0.40392157, 0.45098039, 0.50588235,\n",
              "        0.5254902 , 0.56078431, 0.60392157, 0.64705882, 0.66666667,\n",
              "        0.60392157, 0.59215686, 0.60392157, 0.56078431, 0.54117647,\n",
              "        0.58823529, 0.64705882, 0.16862745],\n",
              "       [0.        , 0.        , 0.09019608, 0.21176471, 0.25490196,\n",
              "        0.29803922, 0.33333333, 0.4627451 , 0.50196078, 0.48235294,\n",
              "        0.43529412, 0.44313725, 0.4627451 , 0.49803922, 0.49019608,\n",
              "        0.54509804, 0.52156863, 0.53333333, 0.62745098, 0.54901961,\n",
              "        0.60784314, 0.63137255, 0.56470588, 0.60784314, 0.6745098 ,\n",
              "        0.63137255, 0.74117647, 0.24313725],\n",
              "       [0.        , 0.26666667, 0.36862745, 0.35294118, 0.43529412,\n",
              "        0.44705882, 0.43529412, 0.44705882, 0.45098039, 0.49803922,\n",
              "        0.52941176, 0.53333333, 0.56078431, 0.49411765, 0.49803922,\n",
              "        0.59215686, 0.60392157, 0.56078431, 0.58039216, 0.49019608,\n",
              "        0.63529412, 0.63529412, 0.56470588, 0.54117647, 0.6       ,\n",
              "        0.63529412, 0.76862745, 0.22745098],\n",
              "       [0.2745098 , 0.6627451 , 0.50588235, 0.40784314, 0.38431373,\n",
              "        0.39215686, 0.36862745, 0.38039216, 0.38431373, 0.4       ,\n",
              "        0.42352941, 0.41568627, 0.46666667, 0.47058824, 0.50588235,\n",
              "        0.58431373, 0.61176471, 0.65490196, 0.74509804, 0.74509804,\n",
              "        0.76862745, 0.77647059, 0.77647059, 0.73333333, 0.77254902,\n",
              "        0.74117647, 0.72156863, 0.14117647],\n",
              "       [0.0627451 , 0.49411765, 0.67058824, 0.7372549 , 0.7372549 ,\n",
              "        0.72156863, 0.67058824, 0.6       , 0.52941176, 0.47058824,\n",
              "        0.49411765, 0.49803922, 0.57254902, 0.7254902 , 0.76470588,\n",
              "        0.81960784, 0.81568627, 1.        , 0.81960784, 0.69411765,\n",
              "        0.96078431, 0.98823529, 0.98431373, 0.98431373, 0.96862745,\n",
              "        0.8627451 , 0.80784314, 0.19215686],\n",
              "       [0.        , 0.        , 0.        , 0.04705882, 0.2627451 ,\n",
              "        0.41568627, 0.64313725, 0.7254902 , 0.78039216, 0.82352941,\n",
              "        0.82745098, 0.82352941, 0.81568627, 0.74509804, 0.58823529,\n",
              "        0.32156863, 0.03137255, 0.        , 0.        , 0.        ,\n",
              "        0.69803922, 0.81568627, 0.7372549 , 0.68627451, 0.63529412,\n",
              "        0.61960784, 0.59215686, 0.04313725],\n",
              "       [0.        , 0.        , 0.        , 0.        , 0.        ,\n",
              "        0.        , 0.        , 0.        , 0.        , 0.        ,\n",
              "        0.        , 0.        , 0.        , 0.        , 0.        ,\n",
              "        0.        , 0.        , 0.        , 0.        , 0.        ,\n",
              "        0.        , 0.        , 0.        , 0.        , 0.        ,\n",
              "        0.        , 0.        , 0.        ],\n",
              "       [0.        , 0.        , 0.        , 0.        , 0.        ,\n",
              "        0.        , 0.        , 0.        , 0.        , 0.        ,\n",
              "        0.        , 0.        , 0.        , 0.        , 0.        ,\n",
              "        0.        , 0.        , 0.        , 0.        , 0.        ,\n",
              "        0.        , 0.        , 0.        , 0.        , 0.        ,\n",
              "        0.        , 0.        , 0.        ],\n",
              "       [0.        , 0.        , 0.        , 0.        , 0.        ,\n",
              "        0.        , 0.        , 0.        , 0.        , 0.        ,\n",
              "        0.        , 0.        , 0.        , 0.        , 0.        ,\n",
              "        0.        , 0.        , 0.        , 0.        , 0.        ,\n",
              "        0.        , 0.        , 0.        , 0.        , 0.        ,\n",
              "        0.        , 0.        , 0.        ],\n",
              "       [0.        , 0.        , 0.        , 0.        , 0.        ,\n",
              "        0.        , 0.        , 0.        , 0.        , 0.        ,\n",
              "        0.        , 0.        , 0.        , 0.        , 0.        ,\n",
              "        0.        , 0.        , 0.        , 0.        , 0.        ,\n",
              "        0.        , 0.        , 0.        , 0.        , 0.        ,\n",
              "        0.        , 0.        , 0.        ],\n",
              "       [0.        , 0.        , 0.        , 0.        , 0.        ,\n",
              "        0.        , 0.        , 0.        , 0.        , 0.        ,\n",
              "        0.        , 0.        , 0.        , 0.        , 0.        ,\n",
              "        0.        , 0.        , 0.        , 0.        , 0.        ,\n",
              "        0.        , 0.        , 0.        , 0.        , 0.        ,\n",
              "        0.        , 0.        , 0.        ],\n",
              "       [0.        , 0.        , 0.        , 0.        , 0.        ,\n",
              "        0.        , 0.        , 0.        , 0.        , 0.        ,\n",
              "        0.        , 0.        , 0.        , 0.        , 0.        ,\n",
              "        0.        , 0.        , 0.        , 0.        , 0.        ,\n",
              "        0.        , 0.        , 0.        , 0.        , 0.        ,\n",
              "        0.        , 0.        , 0.        ]])"
            ]
          },
          "metadata": {},
          "execution_count": 17
        }
      ]
    },
    {
      "cell_type": "code",
      "source": [
        "#Now our data is normalized lets build a model to find pattern in it\n",
        "tf.random.set_seed(42)\n",
        "\n",
        "# Create a model\n",
        "model_12 = tf.keras.Sequential([\n",
        "    tf.keras.layers.Flatten(input_shape=(28,28)),\n",
        "    tf.keras.layers.Dense(4, activation=\"relu\"),\n",
        "    tf.keras.layers.Dense(4, activation=\"relu\"),\n",
        "    tf.keras.layers.Dense(10, activation=tf.keras.activations.softmax)\n",
        "    ])\n",
        "\n",
        "#Compile the model\n",
        "model_12.compile(loss = tf.keras.losses.SparseCategoricalCrossentropy(),\n",
        "                 optimizer=tf.keras.optimizers.Adam(),\n",
        "                 metrics=[\"accuracy\"])\n",
        "\n",
        "#Fit the model\n",
        "norm_history = model_12.fit(train_data_norm,\n",
        "                            train_labels,\n",
        "                            epochs=10,\n",
        "                            validation_data=(test_data_norm,test_labels))\n",
        "\n"
      ],
      "metadata": {
        "id": "A4_4nk0dG0IQ",
        "outputId": "1fbeb958-ab1d-40b0-c569-a7f6e3b0f7ce",
        "colab": {
          "base_uri": "https://localhost:8080/"
        }
      },
      "execution_count": 18,
      "outputs": [
        {
          "output_type": "stream",
          "name": "stdout",
          "text": [
            "Epoch 1/10\n",
            "\u001b[1m1875/1875\u001b[0m \u001b[32m━━━━━━━━━━━━━━━━━━━━\u001b[0m\u001b[37m\u001b[0m \u001b[1m6s\u001b[0m 3ms/step - accuracy: 0.3092 - loss: 1.7388 - val_accuracy: 0.6140 - val_loss: 1.0084\n",
            "Epoch 2/10\n",
            "\u001b[1m1875/1875\u001b[0m \u001b[32m━━━━━━━━━━━━━━━━━━━━\u001b[0m\u001b[37m\u001b[0m \u001b[1m4s\u001b[0m 2ms/step - accuracy: 0.6852 - loss: 0.8558 - val_accuracy: 0.7748 - val_loss: 0.6440\n",
            "Epoch 3/10\n",
            "\u001b[1m1875/1875\u001b[0m \u001b[32m━━━━━━━━━━━━━━━━━━━━\u001b[0m\u001b[37m\u001b[0m \u001b[1m6s\u001b[0m 2ms/step - accuracy: 0.7882 - loss: 0.6037 - val_accuracy: 0.7997 - val_loss: 0.5910\n",
            "Epoch 4/10\n",
            "\u001b[1m1875/1875\u001b[0m \u001b[32m━━━━━━━━━━━━━━━━━━━━\u001b[0m\u001b[37m\u001b[0m \u001b[1m5s\u001b[0m 2ms/step - accuracy: 0.8088 - loss: 0.5561 - val_accuracy: 0.8066 - val_loss: 0.5689\n",
            "Epoch 5/10\n",
            "\u001b[1m1875/1875\u001b[0m \u001b[32m━━━━━━━━━━━━━━━━━━━━\u001b[0m\u001b[37m\u001b[0m \u001b[1m4s\u001b[0m 2ms/step - accuracy: 0.8160 - loss: 0.5347 - val_accuracy: 0.8136 - val_loss: 0.5530\n",
            "Epoch 6/10\n",
            "\u001b[1m1875/1875\u001b[0m \u001b[32m━━━━━━━━━━━━━━━━━━━━\u001b[0m\u001b[37m\u001b[0m \u001b[1m6s\u001b[0m 3ms/step - accuracy: 0.8198 - loss: 0.5219 - val_accuracy: 0.8155 - val_loss: 0.5441\n",
            "Epoch 7/10\n",
            "\u001b[1m1875/1875\u001b[0m \u001b[32m━━━━━━━━━━━━━━━━━━━━\u001b[0m\u001b[37m\u001b[0m \u001b[1m4s\u001b[0m 2ms/step - accuracy: 0.8237 - loss: 0.5129 - val_accuracy: 0.8176 - val_loss: 0.5386\n",
            "Epoch 8/10\n",
            "\u001b[1m1875/1875\u001b[0m \u001b[32m━━━━━━━━━━━━━━━━━━━━\u001b[0m\u001b[37m\u001b[0m \u001b[1m6s\u001b[0m 2ms/step - accuracy: 0.8247 - loss: 0.5059 - val_accuracy: 0.8182 - val_loss: 0.5347\n",
            "Epoch 9/10\n",
            "\u001b[1m1875/1875\u001b[0m \u001b[32m━━━━━━━━━━━━━━━━━━━━\u001b[0m\u001b[37m\u001b[0m \u001b[1m4s\u001b[0m 2ms/step - accuracy: 0.8269 - loss: 0.5005 - val_accuracy: 0.8192 - val_loss: 0.5322\n",
            "Epoch 10/10\n",
            "\u001b[1m1875/1875\u001b[0m \u001b[32m━━━━━━━━━━━━━━━━━━━━\u001b[0m\u001b[37m\u001b[0m \u001b[1m4s\u001b[0m 2ms/step - accuracy: 0.8285 - loss: 0.4960 - val_accuracy: 0.8194 - val_loss: 0.5296\n"
          ]
        }
      ]
    },
    {
      "cell_type": "markdown",
      "source": [
        "** Note ** Nueral network tend to prefer data in numerical form as well as scaled/normalized (numbers between 0 and 1)"
      ],
      "metadata": {
        "id": "dWHfroyFIGDM"
      }
    },
    {
      "cell_type": "code",
      "source": [
        "import pandas as pd\n",
        "#Plot non-normalized data loss curves\n",
        "pd.DataFrame(non_norm_history.history).plot(title=\"Non-normalized data\")\n",
        "\n",
        "#Plot normalized data loss curves\n",
        "pd.DataFrame(norm_history.history).plot(title=\"Normalized data\")"
      ],
      "metadata": {
        "id": "Dk5WojooZkve",
        "outputId": "66c50461-06ca-4a94-d3fe-ae1a5d9c384f",
        "colab": {
          "base_uri": "https://localhost:8080/",
          "height": 905
        }
      },
      "execution_count": 19,
      "outputs": [
        {
          "output_type": "execute_result",
          "data": {
            "text/plain": [
              "<Axes: title={'center': 'Normalized data'}>"
            ]
          },
          "metadata": {},
          "execution_count": 19
        },
        {
          "output_type": "display_data",
          "data": {
            "text/plain": [
              "<Figure size 640x480 with 1 Axes>"
            ],
            "image/png": "[encoded data removed]"
          },
          "metadata": {}
        },
        {
          "output_type": "display_data",
          "data": {
            "text/plain": [
              "<Figure size 640x480 with 1 Axes>"
            ],
            "image/png": "[encoded data removed]"
          },
          "metadata": {}
        }
      ]
    },
    {
      "cell_type": "markdown",
      "source": [
        "> When Comparing the results, same models with even slightly different data can produce dramatically different results. When you are comparing models its important to make sure you are comparing them on the same criteria. (e.g. same architecture but different data or same data but diferent architecture)."
      ],
      "metadata": {
        "id": "P70vWK_-aOn5"
      }
    },
    {
      "cell_type": "markdown",
      "source": [
        "## Finding the ideal learning rate"
      ],
      "metadata": {
        "id": "y6uUyf0ybSVa"
      }
    },
    {
      "cell_type": "code",
      "source": [
        "#Set the random seed\n",
        "\n",
        "tf.random.set_seed(42)\n",
        "\n",
        "#Create the mdoel\n",
        "model_13 = tf.keras.Sequential([\n",
        "    tf.keras.layers.Flatten(input_shape=(28,28)),\n",
        "    tf.keras.layers.Dense(4, activation=\"relu\"),\n",
        "    tf.keras.layers.Dense(4, activation=\"relu\"),\n",
        "    tf.keras.layers.Dense(10, activation=tf.keras.activations.softmax)\n",
        "])\n",
        "\n",
        "#Compile the model\n",
        "model_13.compile(loss=tf.keras.losses.SparseCategoricalCrossentropy(),\n",
        "                 optimizer=tf.keras.optimizers.Adam(),\n",
        "                 metrics=[\"accuracy\"])\n",
        "\n",
        "#Create the learning rate call back\n",
        "lr_scheduler = tf.keras.callbacks.LearningRateScheduler(lambda epoch: 1e-3 * 10**(epoch/20))\n",
        "\n",
        "#Fit the model\n",
        "find_lr_history = model_13.fit(train_data_norm,\n",
        "                               train_labels,\n",
        "                               epochs=40,\n",
        "                               validation_data=(test_data_norm, test_labels),\n",
        "                               callbacks=[lr_scheduler])\n",
        "\n"
      ],
      "metadata": {
        "id": "6TNgfpjFbHks",
        "outputId": "d1d74d56-9106-4772-e94c-96ab8a0c83ed",
        "colab": {
          "base_uri": "https://localhost:8080/"
        }
      },
      "execution_count": 20,
      "outputs": [
        {
          "output_type": "stream",
          "name": "stderr",
          "text": [
            "/usr/local/lib/python3.11/dist-packages/keras/src/layers/reshaping/flatten.py:37: UserWarning: Do not pass an `input_shape`/`input_dim` argument to a layer. When using Sequential models, prefer using an `Input(shape)` object as the first layer in the model instead.\n",
            "  super().__init__(**kwargs)\n"
          ]
        },
        {
          "output_type": "stream",
          "name": "stdout",
          "text": [
            "Epoch 1/40\n",
            "\u001b[1m1875/1875\u001b[0m \u001b[32m━━━━━━━━━━━━━━━━━━━━\u001b[0m\u001b[37m\u001b[0m \u001b[1m6s\u001b[0m 2ms/step - accuracy: 0.3456 - loss: 1.6419 - val_accuracy: 0.6632 - val_loss: 0.8842 - learning_rate: 0.0010\n",
            "Epoch 2/40\n",
            "\u001b[1m1875/1875\u001b[0m \u001b[32m━━━━━━━━━━━━━━━━━━━━\u001b[0m\u001b[37m\u001b[0m \u001b[1m4s\u001b[0m 2ms/step - accuracy: 0.6828 - loss: 0.8386 - val_accuracy: 0.7593 - val_loss: 0.7272 - learning_rate: 0.0011\n",
            "Epoch 3/40\n",
            "\u001b[1m1875/1875\u001b[0m \u001b[32m━━━━━━━━━━━━━━━━━━━━\u001b[0m\u001b[37m\u001b[0m \u001b[1m5s\u001b[0m 3ms/step - accuracy: 0.7705 - loss: 0.6943 - val_accuracy: 0.7818 - val_loss: 0.6555 - learning_rate: 0.0013\n",
            "Epoch 4/40\n",
            "\u001b[1m1875/1875\u001b[0m \u001b[32m━━━━━━━━━━━━━━━━━━━━\u001b[0m\u001b[37m\u001b[0m \u001b[1m4s\u001b[0m 2ms/step - accuracy: 0.7848 - loss: 0.6370 - val_accuracy: 0.7854 - val_loss: 0.6313 - learning_rate: 0.0014\n",
            "Epoch 5/40\n",
            "\u001b[1m1875/1875\u001b[0m \u001b[32m━━━━━━━━━━━━━━━━━━━━\u001b[0m\u001b[37m\u001b[0m \u001b[1m5s\u001b[0m 2ms/step - accuracy: 0.7871 - loss: 0.6163 - val_accuracy: 0.7873 - val_loss: 0.6202 - learning_rate: 0.0016\n",
            "Epoch 6/40\n",
            "\u001b[1m1875/1875\u001b[0m \u001b[32m━━━━━━━━━━━━━━━━━━━━\u001b[0m\u001b[37m\u001b[0m \u001b[1m5s\u001b[0m 3ms/step - accuracy: 0.7907 - loss: 0.6055 - val_accuracy: 0.7868 - val_loss: 0.6179 - learning_rate: 0.0018\n",
            "Epoch 7/40\n",
            "\u001b[1m1875/1875\u001b[0m \u001b[32m━━━━━━━━━━━━━━━━━━━━\u001b[0m\u001b[37m\u001b[0m \u001b[1m4s\u001b[0m 2ms/step - accuracy: 0.7918 - loss: 0.5983 - val_accuracy: 0.7873 - val_loss: 0.6134 - learning_rate: 0.0020\n",
            "Epoch 8/40\n",
            "\u001b[1m1875/1875\u001b[0m \u001b[32m━━━━━━━━━━━━━━━━━━━━\u001b[0m\u001b[37m\u001b[0m \u001b[1m4s\u001b[0m 2ms/step - accuracy: 0.7930 - loss: 0.5933 - val_accuracy: 0.7876 - val_loss: 0.6104 - learning_rate: 0.0022\n",
            "Epoch 9/40\n",
            "\u001b[1m1875/1875\u001b[0m \u001b[32m━━━━━━━━━━━━━━━━━━━━\u001b[0m\u001b[37m\u001b[0m \u001b[1m5s\u001b[0m 3ms/step - accuracy: 0.7951 - loss: 0.5895 - val_accuracy: 0.7875 - val_loss: 0.6080 - learning_rate: 0.0025\n",
            "Epoch 10/40\n",
            "\u001b[1m1875/1875\u001b[0m \u001b[32m━━━━━━━━━━━━━━━━━━━━\u001b[0m\u001b[37m\u001b[0m \u001b[1m4s\u001b[0m 2ms/step - accuracy: 0.7960 - loss: 0.5876 - val_accuracy: 0.7885 - val_loss: 0.6082 - learning_rate: 0.0028\n",
            "Epoch 11/40\n",
            "\u001b[1m1875/1875\u001b[0m \u001b[32m━━━━━━━━━━━━━━━━━━━━\u001b[0m\u001b[37m\u001b[0m \u001b[1m6s\u001b[0m 3ms/step - accuracy: 0.7972 - loss: 0.5864 - val_accuracy: 0.7898 - val_loss: 0.6068 - learning_rate: 0.0032\n",
            "Epoch 12/40\n",
            "\u001b[1m1875/1875\u001b[0m \u001b[32m━━━━━━━━━━━━━━━━━━━━\u001b[0m\u001b[37m\u001b[0m \u001b[1m4s\u001b[0m 2ms/step - accuracy: 0.7979 - loss: 0.5857 - val_accuracy: 0.7896 - val_loss: 0.6054 - learning_rate: 0.0035\n",
            "Epoch 13/40\n",
            "\u001b[1m1875/1875\u001b[0m \u001b[32m━━━━━━━━━━━━━━━━━━━━\u001b[0m\u001b[37m\u001b[0m \u001b[1m5s\u001b[0m 2ms/step - accuracy: 0.7978 - loss: 0.5850 - val_accuracy: 0.7898 - val_loss: 0.6047 - learning_rate: 0.0040\n",
            "Epoch 14/40\n",
            "\u001b[1m1875/1875\u001b[0m \u001b[32m━━━━━━━━━━━━━━━━━━━━\u001b[0m\u001b[37m\u001b[0m \u001b[1m5s\u001b[0m 3ms/step - accuracy: 0.7983 - loss: 0.5843 - val_accuracy: 0.7920 - val_loss: 0.6014 - learning_rate: 0.0045\n",
            "Epoch 15/40\n",
            "\u001b[1m1875/1875\u001b[0m \u001b[32m━━━━━━━━━━━━━━━━━━━━\u001b[0m\u001b[37m\u001b[0m \u001b[1m4s\u001b[0m 2ms/step - accuracy: 0.7989 - loss: 0.5843 - val_accuracy: 0.7926 - val_loss: 0.5996 - learning_rate: 0.0050\n",
            "Epoch 16/40\n",
            "\u001b[1m1875/1875\u001b[0m \u001b[32m━━━━━━━━━━━━━━━━━━━━\u001b[0m\u001b[37m\u001b[0m \u001b[1m4s\u001b[0m 2ms/step - accuracy: 0.7987 - loss: 0.5854 - val_accuracy: 0.7938 - val_loss: 0.5987 - learning_rate: 0.0056\n",
            "Epoch 17/40\n",
            "\u001b[1m1875/1875\u001b[0m \u001b[32m━━━━━━━━━━━━━━━━━━━━\u001b[0m\u001b[37m\u001b[0m \u001b[1m7s\u001b[0m 3ms/step - accuracy: 0.7986 - loss: 0.5858 - val_accuracy: 0.7974 - val_loss: 0.5987 - learning_rate: 0.0063\n",
            "Epoch 18/40\n",
            "\u001b[1m1875/1875\u001b[0m \u001b[32m━━━━━━━━━━━━━━━━━━━━\u001b[0m\u001b[37m\u001b[0m \u001b[1m9s\u001b[0m 3ms/step - accuracy: 0.7979 - loss: 0.5863 - val_accuracy: 0.7978 - val_loss: 0.6012 - learning_rate: 0.0071\n",
            "Epoch 19/40\n",
            "\u001b[1m1875/1875\u001b[0m \u001b[32m━━━━━━━━━━━━━━━━━━━━\u001b[0m\u001b[37m\u001b[0m \u001b[1m4s\u001b[0m 2ms/step - accuracy: 0.7970 - loss: 0.5874 - val_accuracy: 0.7985 - val_loss: 0.6017 - learning_rate: 0.0079\n",
            "Epoch 20/40\n",
            "\u001b[1m1875/1875\u001b[0m \u001b[32m━━━━━━━━━━━━━━━━━━━━\u001b[0m\u001b[37m\u001b[0m \u001b[1m4s\u001b[0m 2ms/step - accuracy: 0.7965 - loss: 0.5897 - val_accuracy: 0.7966 - val_loss: 0.6073 - learning_rate: 0.0089\n",
            "Epoch 21/40\n",
            "\u001b[1m1875/1875\u001b[0m \u001b[32m━━━━━━━━━━━━━━━━━━━━\u001b[0m\u001b[37m\u001b[0m \u001b[1m5s\u001b[0m 2ms/step - accuracy: 0.7970 - loss: 0.5951 - val_accuracy: 0.7958 - val_loss: 0.6103 - learning_rate: 0.0100\n",
            "Epoch 22/40\n",
            "\u001b[1m1875/1875\u001b[0m \u001b[32m━━━━━━━━━━━━━━━━━━━━\u001b[0m\u001b[37m\u001b[0m \u001b[1m4s\u001b[0m 2ms/step - accuracy: 0.7946 - loss: 0.6007 - val_accuracy: 0.7864 - val_loss: 0.6281 - learning_rate: 0.0112\n",
            "Epoch 23/40\n",
            "\u001b[1m1875/1875\u001b[0m \u001b[32m━━━━━━━━━━━━━━━━━━━━\u001b[0m\u001b[37m\u001b[0m \u001b[1m4s\u001b[0m 2ms/step - accuracy: 0.7924 - loss: 0.6071 - val_accuracy: 0.7792 - val_loss: 0.6428 - learning_rate: 0.0126\n",
            "Epoch 24/40\n",
            "\u001b[1m1875/1875\u001b[0m \u001b[32m━━━━━━━━━━━━━━━━━━━━\u001b[0m\u001b[37m\u001b[0m \u001b[1m6s\u001b[0m 3ms/step - accuracy: 0.7903 - loss: 0.6120 - val_accuracy: 0.7782 - val_loss: 0.6433 - learning_rate: 0.0141\n",
            "Epoch 25/40\n",
            "\u001b[1m1875/1875\u001b[0m \u001b[32m━━━━━━━━━━━━━━━━━━━━\u001b[0m\u001b[37m\u001b[0m \u001b[1m4s\u001b[0m 2ms/step - accuracy: 0.7865 - loss: 0.6242 - val_accuracy: 0.7772 - val_loss: 0.6490 - learning_rate: 0.0158\n",
            "Epoch 26/40\n",
            "\u001b[1m1875/1875\u001b[0m \u001b[32m━━━━━━━━━━━━━━━━━━━━\u001b[0m\u001b[37m\u001b[0m \u001b[1m6s\u001b[0m 3ms/step - accuracy: 0.7830 - loss: 0.6343 - val_accuracy: 0.7745 - val_loss: 0.6489 - learning_rate: 0.0178\n",
            "Epoch 27/40\n",
            "\u001b[1m1875/1875\u001b[0m \u001b[32m━━━━━━━━━━━━━━━━━━━━\u001b[0m\u001b[37m\u001b[0m \u001b[1m4s\u001b[0m 2ms/step - accuracy: 0.7779 - loss: 0.6459 - val_accuracy: 0.7794 - val_loss: 0.6406 - learning_rate: 0.0200\n",
            "Epoch 28/40\n",
            "\u001b[1m1875/1875\u001b[0m \u001b[32m━━━━━━━━━━━━━━━━━━━━\u001b[0m\u001b[37m\u001b[0m \u001b[1m5s\u001b[0m 2ms/step - accuracy: 0.7713 - loss: 0.6650 - val_accuracy: 0.7807 - val_loss: 0.6336 - learning_rate: 0.0224\n",
            "Epoch 29/40\n",
            "\u001b[1m1875/1875\u001b[0m \u001b[32m━━━━━━━━━━━━━━━━━━━━\u001b[0m\u001b[37m\u001b[0m \u001b[1m6s\u001b[0m 2ms/step - accuracy: 0.7659 - loss: 0.6762 - val_accuracy: 0.7763 - val_loss: 0.6416 - learning_rate: 0.0251\n",
            "Epoch 30/40\n",
            "\u001b[1m1875/1875\u001b[0m \u001b[32m━━━━━━━━━━━━━━━━━━━━\u001b[0m\u001b[37m\u001b[0m \u001b[1m4s\u001b[0m 2ms/step - accuracy: 0.7640 - loss: 0.6823 - val_accuracy: 0.7546 - val_loss: 0.6790 - learning_rate: 0.0282\n",
            "Epoch 31/40\n",
            "\u001b[1m1875/1875\u001b[0m \u001b[32m━━━━━━━━━━━━━━━━━━━━\u001b[0m\u001b[37m\u001b[0m \u001b[1m5s\u001b[0m 2ms/step - accuracy: 0.7565 - loss: 0.6979 - val_accuracy: 0.7517 - val_loss: 0.6739 - learning_rate: 0.0316\n",
            "Epoch 32/40\n",
            "\u001b[1m1875/1875\u001b[0m \u001b[32m━━━━━━━━━━━━━━━━━━━━\u001b[0m\u001b[37m\u001b[0m \u001b[1m4s\u001b[0m 2ms/step - accuracy: 0.7523 - loss: 0.7124 - val_accuracy: 0.7656 - val_loss: 0.6885 - learning_rate: 0.0355\n",
            "Epoch 33/40\n",
            "\u001b[1m1875/1875\u001b[0m \u001b[32m━━━━━━━━━━━━━━━━━━━━\u001b[0m\u001b[37m\u001b[0m \u001b[1m4s\u001b[0m 2ms/step - accuracy: 0.7443 - loss: 0.7306 - val_accuracy: 0.6631 - val_loss: 0.8420 - learning_rate: 0.0398\n",
            "Epoch 34/40\n",
            "\u001b[1m1875/1875\u001b[0m \u001b[32m━━━━━━━━━━━━━━━━━━━━\u001b[0m\u001b[37m\u001b[0m \u001b[1m6s\u001b[0m 3ms/step - accuracy: 0.7183 - loss: 0.8004 - val_accuracy: 0.6835 - val_loss: 0.9008 - learning_rate: 0.0447\n",
            "Epoch 35/40\n",
            "\u001b[1m1875/1875\u001b[0m \u001b[32m━━━━━━━━━━━━━━━━━━━━\u001b[0m\u001b[37m\u001b[0m \u001b[1m4s\u001b[0m 2ms/step - accuracy: 0.7114 - loss: 0.8426 - val_accuracy: 0.6921 - val_loss: 0.8202 - learning_rate: 0.0501\n",
            "Epoch 36/40\n",
            "\u001b[1m1875/1875\u001b[0m \u001b[32m━━━━━━━━━━━━━━━━━━━━\u001b[0m\u001b[37m\u001b[0m \u001b[1m6s\u001b[0m 3ms/step - accuracy: 0.6849 - loss: 0.8933 - val_accuracy: 0.6501 - val_loss: 0.9219 - learning_rate: 0.0562\n",
            "Epoch 37/40\n",
            "\u001b[1m1875/1875\u001b[0m \u001b[32m━━━━━━━━━━━━━━━━━━━━\u001b[0m\u001b[37m\u001b[0m \u001b[1m4s\u001b[0m 2ms/step - accuracy: 0.6762 - loss: 0.9000 - val_accuracy: 0.7050 - val_loss: 0.8221 - learning_rate: 0.0631\n",
            "Epoch 38/40\n",
            "\u001b[1m1875/1875\u001b[0m \u001b[32m━━━━━━━━━━━━━━━━━━━━\u001b[0m\u001b[37m\u001b[0m \u001b[1m5s\u001b[0m 2ms/step - accuracy: 0.6076 - loss: 1.0166 - val_accuracy: 0.5988 - val_loss: 1.0523 - learning_rate: 0.0708\n",
            "Epoch 39/40\n",
            "\u001b[1m1875/1875\u001b[0m \u001b[32m━━━━━━━━━━━━━━━━━━━━\u001b[0m\u001b[37m\u001b[0m \u001b[1m6s\u001b[0m 3ms/step - accuracy: 0.5084 - loss: 1.2088 - val_accuracy: 0.4379 - val_loss: 1.3714 - learning_rate: 0.0794\n",
            "Epoch 40/40\n",
            "\u001b[1m1875/1875\u001b[0m \u001b[32m━━━━━━━━━━━━━━━━━━━━\u001b[0m\u001b[37m\u001b[0m \u001b[1m4s\u001b[0m 2ms/step - accuracy: 0.4240 - loss: 1.3230 - val_accuracy: 0.3749 - val_loss: 1.4043 - learning_rate: 0.0891\n"
          ]
        }
      ]
    },
    {
      "cell_type": "code",
      "source": [
        "#Plot learning rate decay curve\n",
        "import numpy as np\n",
        "import matplotlib.pyplot as plt\n",
        "lrs = 1e-3 * (10**(tf.range(40)/20))\n",
        "plt.semilogx(lrs, find_lr_history.history[\"loss\"])\n",
        "plt.xlabel(\"Learning rate\")\n",
        "plt.ylabel(\"Loss\")\n",
        "plt.title(\"Finding the ideal learning rate\")"
      ],
      "metadata": {
        "id": "HQVMI_OQdCNU",
        "outputId": "3577f2d2-b40c-419e-b58b-f4ef124399ff",
        "colab": {
          "base_uri": "https://localhost:8080/",
          "height": 494
        }
      },
      "execution_count": 21,
      "outputs": [
        {
          "output_type": "execute_result",
          "data": {
            "text/plain": [
              "Text(0.5, 1.0, 'Finding the ideal learning rate')"
            ]
          },
          "metadata": {},
          "execution_count": 21
        },
        {
          "output_type": "display_data",
          "data": {
            "text/plain": [
              "<Figure size 640x480 with 1 Axes>"
            ],
            "image/png": "[encoded data removed]"
          },
          "metadata": {}
        }
      ]
    },
    {
      "cell_type": "code",
      "source": [
        "#Lets refit the model with ideal learning rate\n",
        "\n",
        "#Set random seed\n",
        "tf.random.set_seed(42)\n",
        "\n",
        "#Create a model\n",
        "model_14 =  tf.keras.Sequential([\n",
        "    tf.keras.layers.Flatten(input_shape=(28,28)),\n",
        "    tf.keras.layers.Dense(4, activation=\"relu\"),\n",
        "    tf.keras.layers.Dense(4, activation=\"relu\"),\n",
        "    tf.keras.layers.Dense(10, activation=tf.keras.activations.softmax)\n",
        "])\n",
        "\n",
        "#Compile the model\n",
        "model_14.compile(loss=tf.keras.losses.SparseCategoricalCrossentropy(),\n",
        "                 optimizer=tf.keras.optimizers.Adam(learning_rate=0.001),\n",
        "                 metrics = [\"accuracy\"])\n",
        "\n",
        "#Fit the model\n",
        "ideal_lr_history = model_14.fit(train_data_norm,\n",
        "                                train_labels,\n",
        "                                epochs=10,\n",
        "                                validation_data=(test_data_norm, test_labels))"
      ],
      "metadata": {
        "id": "yq7y4H0TdoOJ",
        "outputId": "1943c682-f968-4414-bd53-061606ff9d44",
        "colab": {
          "base_uri": "https://localhost:8080/"
        }
      },
      "execution_count": 22,
      "outputs": [
        {
          "output_type": "stream",
          "name": "stdout",
          "text": [
            "Epoch 1/10\n",
            "\u001b[1m1875/1875\u001b[0m \u001b[32m━━━━━━━━━━━━━━━━━━━━\u001b[0m\u001b[37m\u001b[0m \u001b[1m6s\u001b[0m 3ms/step - accuracy: 0.2812 - loss: 1.8212 - val_accuracy: 0.4595 - val_loss: 1.2566\n",
            "Epoch 2/10\n",
            "\u001b[1m1875/1875\u001b[0m \u001b[32m━━━━━━━━━━━━━━━━━━━━\u001b[0m\u001b[37m\u001b[0m \u001b[1m4s\u001b[0m 2ms/step - accuracy: 0.4797 - loss: 1.2001 - val_accuracy: 0.5921 - val_loss: 1.0281\n",
            "Epoch 3/10\n",
            "\u001b[1m1875/1875\u001b[0m \u001b[32m━━━━━━━━━━━━━━━━━━━━\u001b[0m\u001b[37m\u001b[0m \u001b[1m5s\u001b[0m 2ms/step - accuracy: 0.6093 - loss: 0.9565 - val_accuracy: 0.6412 - val_loss: 0.8707\n",
            "Epoch 4/10\n",
            "\u001b[1m1875/1875\u001b[0m \u001b[32m━━━━━━━━━━━━━━━━━━━━\u001b[0m\u001b[37m\u001b[0m \u001b[1m5s\u001b[0m 2ms/step - accuracy: 0.6531 - loss: 0.8404 - val_accuracy: 0.6713 - val_loss: 0.8144\n",
            "Epoch 5/10\n",
            "\u001b[1m1875/1875\u001b[0m \u001b[32m━━━━━━━━━━━━━━━━━━━━\u001b[0m\u001b[37m\u001b[0m \u001b[1m4s\u001b[0m 2ms/step - accuracy: 0.6828 - loss: 0.7847 - val_accuracy: 0.6974 - val_loss: 0.7613\n",
            "Epoch 6/10\n",
            "\u001b[1m1875/1875\u001b[0m \u001b[32m━━━━━━━━━━━━━━━━━━━━\u001b[0m\u001b[37m\u001b[0m \u001b[1m6s\u001b[0m 3ms/step - accuracy: 0.7049 - loss: 0.7386 - val_accuracy: 0.7160 - val_loss: 0.7370\n",
            "Epoch 7/10\n",
            "\u001b[1m1875/1875\u001b[0m \u001b[32m━━━━━━━━━━━━━━━━━━━━\u001b[0m\u001b[37m\u001b[0m \u001b[1m4s\u001b[0m 2ms/step - accuracy: 0.7274 - loss: 0.7119 - val_accuracy: 0.7664 - val_loss: 0.6840\n",
            "Epoch 8/10\n",
            "\u001b[1m1875/1875\u001b[0m \u001b[32m━━━━━━━━━━━━━━━━━━━━\u001b[0m\u001b[37m\u001b[0m \u001b[1m5s\u001b[0m 2ms/step - accuracy: 0.7697 - loss: 0.6566 - val_accuracy: 0.7754 - val_loss: 0.6502\n",
            "Epoch 9/10\n",
            "\u001b[1m1875/1875\u001b[0m \u001b[32m━━━━━━━━━━━━━━━━━━━━\u001b[0m\u001b[37m\u001b[0m \u001b[1m6s\u001b[0m 2ms/step - accuracy: 0.7786 - loss: 0.6281 - val_accuracy: 0.7806 - val_loss: 0.6346\n",
            "Epoch 10/10\n",
            "\u001b[1m1875/1875\u001b[0m \u001b[32m━━━━━━━━━━━━━━━━━━━━\u001b[0m\u001b[37m\u001b[0m \u001b[1m4s\u001b[0m 2ms/step - accuracy: 0.7846 - loss: 0.6113 - val_accuracy: 0.7814 - val_loss: 0.6262\n"
          ]
        }
      ]
    },
    {
      "cell_type": "code",
      "source": [],
      "metadata": {
        "id": "5TyzqNDZJrjj"
      },
      "execution_count": null,
      "outputs": []
    },
    {
      "cell_type": "markdown",
      "source": [
        "## Evaluating our multi-class classification model\n",
        "To evaluate our multi-class classification model we could ⁉\n",
        "* Evaluate its perfomrance using other classification metrics (such as a confusion matrix)\n",
        "* Assess some of its predictions (through visualizations)\n",
        "* Improve the results (by training it for longer or changing the architecture)\n",
        "* Save ane export it for use in an application\n",
        "\n",
        "Let's go through the top 2."
      ],
      "metadata": {
        "id": "lqCQkVoHJvhN"
      }
    },
    {
      "cell_type": "code",
      "source": [
        "# Create a confusion matrix\n"
      ],
      "metadata": {
        "id": "vDS5agDbKLtx"
      },
      "execution_count": null,
      "outputs": []
    },
    {
      "source": [
        "# Confusion matrix is remix of scikit-learns code\n",
        "# https://github.com/scikit-learn/scikit-learn/blob/98ed9dc73/sklearn/metrics/_classification.py#L244\n",
        "import itertools\n",
        "from sklearn.metrics import confusion_matrix\n",
        "\n",
        "figsize=(10,10)\n",
        "\n",
        "def make_confusion_matrix(y_true, y_pred, classes=None, figsize=(10,10), text_size=15, norm=False, savefig=False):\n",
        "  #Create the confusion matrix\n",
        "  cm = confusion_matrix(y_true, y_pred)\n",
        "  cm_norm = cm.astype(\"float\") / cm.sum(axis=1)[:,np.newaxis] #normalize our confusion matrix\n",
        "  n_classes = cm.shape[0]\n",
        "\n",
        "  #Lets prettify it\n",
        "  fig, ax = plt.subplots(figsize=figsize)\n",
        "\n",
        "  #Create a matrix plot\n",
        "  cax = ax.matshow(cm, cmap=plt.cm.Blues)\n",
        "  fig.colorbar(cax)\n",
        "\n",
        "  #Set labels to be the classes\n",
        "  if classes:\n",
        "    labels = classes\n",
        "  else:\n",
        "    #labels = np.arange(cm.shape[10]) # cm.shape is (2,2), trying to get index 10 results in error\n",
        "    labels = np.arange(cm.shape[0]) # The confusion matrix should have as many labels as classes (n_classes) which is equal to cm.shape[0]\n",
        "\n",
        "  #Label the axes\n",
        "  ax.set(title=\"Confusion Matrix\",\n",
        "        xlabel=\"Predicted label\",\n",
        "        ylabel=\"True label\")\n",
        "  ax.set_xticks(np.arange(n_classes))\n",
        "  ax.set_yticks(np.arange(n_classes))\n",
        "  ax.set_xticklabels(labels)\n",
        "  ax.set_yticklabels(labels)\n",
        "\n",
        "  #Set x-axis labels to bottom\n",
        "  ax.xaxis.set_label_position(\"bottom\")\n",
        "  ax.xaxis.tick_bottom()\n",
        "\n",
        "  #Adjust label size\n",
        "  ax.yaxis.label.set_size(text_size)\n",
        "  ax.xaxis.label.set_size(text_size)\n",
        "  ax.title.set_size(text_size)\n",
        "\n",
        "  #Set the threshold for different colors\n",
        "  threshold = (cm.max() + cm.min())/2\n",
        "\n",
        "  #Plot the text on each cell\n",
        "  for i , j in itertools.product(range(cm.shape[0]), range(cm.shape[1])):\n",
        "    plt.text(j, i, f\"{cm[i,j]} ({cm_norm[i,j]*100:.1f}%)\",\n",
        "            horizontalalignment= \"center\",\n",
        "            color=\"white\" if cm[i,j] > threshold else \"black\",\n",
        "            size=text_size)"
      ],
      "cell_type": "code",
      "metadata": {
        "id": "T-SuIu2h7I4T"
      },
      "execution_count": 23,
      "outputs": []
    },
    {
      "cell_type": "code",
      "source": [
        "class_names"
      ],
      "metadata": {
        "id": "JyRBGoqULNV2",
        "outputId": "2e15803e-ca4e-4869-8562-2d40a9c95800",
        "colab": {
          "base_uri": "https://localhost:8080/"
        }
      },
      "execution_count": 24,
      "outputs": [
        {
          "output_type": "execute_result",
          "data": {
            "text/plain": [
              "['T-shirt/top',\n",
              " 'Trouser',\n",
              " 'Pullover',\n",
              " 'Dress',\n",
              " 'Coat',\n",
              " 'Sandal',\n",
              " 'Shirt',\n",
              " 'Sneaker',\n",
              " 'Bag',\n",
              " 'Ankle boot']"
            ]
          },
          "metadata": {},
          "execution_count": 24
        }
      ]
    },
    {
      "cell_type": "code",
      "source": [
        "test_labels"
      ],
      "metadata": {
        "id": "162SoKYxLQP2",
        "outputId": "70cf82cb-528a-4158-894e-6fd2387b9e2b",
        "colab": {
          "base_uri": "https://localhost:8080/"
        }
      },
      "execution_count": 25,
      "outputs": [
        {
          "output_type": "execute_result",
          "data": {
            "text/plain": [
              "array([9, 2, 1, ..., 8, 1, 5], dtype=uint8)"
            ]
          },
          "metadata": {},
          "execution_count": 25
        }
      ]
    },
    {
      "cell_type": "code",
      "source": [
        "test_data[0], test_data_norm[0]"
      ],
      "metadata": {
        "id": "68t650HMLy-9",
        "outputId": "122b6f02-5bde-4a2e-eaf3-1a7c651795cb",
        "colab": {
          "base_uri": "https://localhost:8080/"
        }
      },
      "execution_count": 30,
      "outputs": [
        {
          "output_type": "execute_result",
          "data": {
            "text/plain": [
              "(array([[  0,   0,   0,   0,   0,   0,   0,   0,   0,   0,   0,   0,   0,\n",
              "           0,   0,   0,   0,   0,   0,   0,   0,   0,   0,   0,   0,   0,\n",
              "           0,   0],\n",
              "        [  0,   0,   0,   0,   0,   0,   0,   0,   0,   0,   0,   0,   0,\n",
              "           0,   0,   0,   0,   0,   0,   0,   0,   0,   0,   0,   0,   0,\n",
              "           0,   0],\n",
              "        [  0,   0,   0,   0,   0,   0,   0,   0,   0,   0,   0,   0,   0,\n",
              "           0,   0,   0,   0,   0,   0,   0,   0,   0,   0,   0,   0,   0,\n",
              "           0,   0],\n",
              "        [  0,   0,   0,   0,   0,   0,   0,   0,   0,   0,   0,   0,   0,\n",
              "           0,   0,   0,   0,   0,   0,   0,   0,   0,   0,   0,   0,   0,\n",
              "           0,   0],\n",
              "        [  0,   0,   0,   0,   0,   0,   0,   0,   0,   0,   0,   0,   0,\n",
              "           0,   0,   0,   0,   0,   0,   0,   0,   0,   0,   0,   0,   0,\n",
              "           0,   0],\n",
              "        [  0,   0,   0,   0,   0,   0,   0,   0,   0,   0,   0,   0,   0,\n",
              "           0,   0,   0,   0,   0,   0,   0,   0,   0,   0,   0,   0,   0,\n",
              "           0,   0],\n",
              "        [  0,   0,   0,   0,   0,   0,   0,   0,   0,   0,   0,   0,   0,\n",
              "           0,   0,   0,   0,   0,   0,   0,   0,   0,   0,   0,   0,   0,\n",
              "           0,   0],\n",
              "        [  0,   0,   0,   0,   0,   0,   0,   0,   0,   0,   0,   0,   0,\n",
              "           0,   0,   0,   0,   0,   0,   3,   1,   0,   0,   7,   0,  37,\n",
              "           0,   0],\n",
              "        [  0,   0,   0,   0,   0,   0,   0,   0,   0,   0,   0,   0,   0,\n",
              "           1,   2,   0,  27,  84,  11,   0,   0,   0,   0,   0,   0, 119,\n",
              "           0,   0],\n",
              "        [  0,   0,   0,   0,   0,   0,   0,   0,   0,   0,   0,   0,   0,\n",
              "           1,   0,   0,  88, 143, 110,   0,   0,   0,   0,  22,  93, 106,\n",
              "           0,   0],\n",
              "        [  0,   0,   0,   0,   0,   0,   0,   0,   0,   0,   0,   0,   0,\n",
              "           4,   0,  53, 129, 120, 147, 175, 157, 166, 135, 154, 168, 140,\n",
              "           0,   0],\n",
              "        [  0,   0,   0,   0,   0,   0,   0,   0,   0,   0,   0,   0,   2,\n",
              "           0,  11, 137, 130, 128, 160, 176, 159, 167, 178, 149, 151, 144,\n",
              "           0,   0],\n",
              "        [  0,   0,   0,   0,   0,   0,   1,   0,   2,   1,   0,   3,   0,\n",
              "           0, 115, 114, 106, 137, 168, 153, 156, 165, 167, 143, 157, 158,\n",
              "          11,   0],\n",
              "        [  0,   0,   0,   0,   1,   0,   0,   0,   0,   0,   3,   0,   0,\n",
              "          89, 139,  90,  94, 153, 149, 131, 151, 169, 172, 143, 159, 169,\n",
              "          48,   0],\n",
              "        [  0,   0,   0,   0,   0,   0,   2,   4,   1,   0,   0,   0,  98,\n",
              "         136, 110, 109, 110, 162, 135, 144, 149, 159, 167, 144, 158, 169,\n",
              "         119,   0],\n",
              "        [  0,   0,   2,   2,   1,   2,   0,   0,   0,   0,  26, 108, 117,\n",
              "          99, 111, 117, 136, 156, 134, 154, 154, 156, 160, 141, 147, 156,\n",
              "         178,   0],\n",
              "        [  3,   0,   0,   0,   0,   0,   0,  21,  53,  92, 117, 111, 103,\n",
              "         115, 129, 134, 143, 154, 165, 170, 154, 151, 154, 143, 138, 150,\n",
              "         165,  43],\n",
              "        [  0,   0,  23,  54,  65,  76,  85, 118, 128, 123, 111, 113, 118,\n",
              "         127, 125, 139, 133, 136, 160, 140, 155, 161, 144, 155, 172, 161,\n",
              "         189,  62],\n",
              "        [  0,  68,  94,  90, 111, 114, 111, 114, 115, 127, 135, 136, 143,\n",
              "         126, 127, 151, 154, 143, 148, 125, 162, 162, 144, 138, 153, 162,\n",
              "         196,  58],\n",
              "        [ 70, 169, 129, 104,  98, 100,  94,  97,  98, 102, 108, 106, 119,\n",
              "         120, 129, 149, 156, 167, 190, 190, 196, 198, 198, 187, 197, 189,\n",
              "         184,  36],\n",
              "        [ 16, 126, 171, 188, 188, 184, 171, 153, 135, 120, 126, 127, 146,\n",
              "         185, 195, 209, 208, 255, 209, 177, 245, 252, 251, 251, 247, 220,\n",
              "         206,  49],\n",
              "        [  0,   0,   0,  12,  67, 106, 164, 185, 199, 210, 211, 210, 208,\n",
              "         190, 150,  82,   8,   0,   0,   0, 178, 208, 188, 175, 162, 158,\n",
              "         151,  11],\n",
              "        [  0,   0,   0,   0,   0,   0,   0,   0,   0,   0,   0,   0,   0,\n",
              "           0,   0,   0,   0,   0,   0,   0,   0,   0,   0,   0,   0,   0,\n",
              "           0,   0],\n",
              "        [  0,   0,   0,   0,   0,   0,   0,   0,   0,   0,   0,   0,   0,\n",
              "           0,   0,   0,   0,   0,   0,   0,   0,   0,   0,   0,   0,   0,\n",
              "           0,   0],\n",
              "        [  0,   0,   0,   0,   0,   0,   0,   0,   0,   0,   0,   0,   0,\n",
              "           0,   0,   0,   0,   0,   0,   0,   0,   0,   0,   0,   0,   0,\n",
              "           0,   0],\n",
              "        [  0,   0,   0,   0,   0,   0,   0,   0,   0,   0,   0,   0,   0,\n",
              "           0,   0,   0,   0,   0,   0,   0,   0,   0,   0,   0,   0,   0,\n",
              "           0,   0],\n",
              "        [  0,   0,   0,   0,   0,   0,   0,   0,   0,   0,   0,   0,   0,\n",
              "           0,   0,   0,   0,   0,   0,   0,   0,   0,   0,   0,   0,   0,\n",
              "           0,   0],\n",
              "        [  0,   0,   0,   0,   0,   0,   0,   0,   0,   0,   0,   0,   0,\n",
              "           0,   0,   0,   0,   0,   0,   0,   0,   0,   0,   0,   0,   0,\n",
              "           0,   0]], dtype=uint8),\n",
              " array([[0.        , 0.        , 0.        , 0.        , 0.        ,\n",
              "         0.        , 0.        , 0.        , 0.        , 0.        ,\n",
              "         0.        , 0.        , 0.        , 0.        , 0.        ,\n",
              "         0.        , 0.        , 0.        , 0.        , 0.        ,\n",
              "         0.        , 0.        , 0.        , 0.        , 0.        ,\n",
              "         0.        , 0.        , 0.        ],\n",
              "        [0.        , 0.        , 0.        , 0.        , 0.        ,\n",
              "         0.        , 0.        , 0.        , 0.        , 0.        ,\n",
              "         0.        , 0.        , 0.        , 0.        , 0.        ,\n",
              "         0.        , 0.        , 0.        , 0.        , 0.        ,\n",
              "         0.        , 0.        , 0.        , 0.        , 0.        ,\n",
              "         0.        , 0.        , 0.        ],\n",
              "        [0.        , 0.        , 0.        , 0.        , 0.        ,\n",
              "         0.        , 0.        , 0.        , 0.        , 0.        ,\n",
              "         0.        , 0.        , 0.        , 0.        , 0.        ,\n",
              "         0.        , 0.        , 0.        , 0.        , 0.        ,\n",
              "         0.        , 0.        , 0.        , 0.        , 0.        ,\n",
              "         0.        , 0.        , 0.        ],\n",
              "        [0.        , 0.        , 0.        , 0.        , 0.        ,\n",
              "         0.        , 0.        , 0.        , 0.        , 0.        ,\n",
              "         0.        , 0.        , 0.        , 0.        , 0.        ,\n",
              "         0.        , 0.        , 0.        , 0.        , 0.        ,\n",
              "         0.        , 0.        , 0.        , 0.        , 0.        ,\n",
              "         0.        , 0.        , 0.        ],\n",
              "        [0.        , 0.        , 0.        , 0.        , 0.        ,\n",
              "         0.        , 0.        , 0.        , 0.        , 0.        ,\n",
              "         0.        , 0.        , 0.        , 0.        , 0.        ,\n",
              "         0.        , 0.        , 0.        , 0.        , 0.        ,\n",
              "         0.        , 0.        , 0.        , 0.        , 0.        ,\n",
              "         0.        , 0.        , 0.        ],\n",
              "        [0.        , 0.        , 0.        , 0.        , 0.        ,\n",
              "         0.        , 0.        , 0.        , 0.        , 0.        ,\n",
              "         0.        , 0.        , 0.        , 0.        , 0.        ,\n",
              "         0.        , 0.        , 0.        , 0.        , 0.        ,\n",
              "         0.        , 0.        , 0.        , 0.        , 0.        ,\n",
              "         0.        , 0.        , 0.        ],\n",
              "        [0.        , 0.        , 0.        , 0.        , 0.        ,\n",
              "         0.        , 0.        , 0.        , 0.        , 0.        ,\n",
              "         0.        , 0.        , 0.        , 0.        , 0.        ,\n",
              "         0.        , 0.        , 0.        , 0.        , 0.        ,\n",
              "         0.        , 0.        , 0.        , 0.        , 0.        ,\n",
              "         0.        , 0.        , 0.        ],\n",
              "        [0.        , 0.        , 0.        , 0.        , 0.        ,\n",
              "         0.        , 0.        , 0.        , 0.        , 0.        ,\n",
              "         0.        , 0.        , 0.        , 0.        , 0.        ,\n",
              "         0.        , 0.        , 0.        , 0.        , 0.01176471,\n",
              "         0.00392157, 0.        , 0.        , 0.02745098, 0.        ,\n",
              "         0.14509804, 0.        , 0.        ],\n",
              "        [0.        , 0.        , 0.        , 0.        , 0.        ,\n",
              "         0.        , 0.        , 0.        , 0.        , 0.        ,\n",
              "         0.        , 0.        , 0.        , 0.00392157, 0.00784314,\n",
              "         0.        , 0.10588235, 0.32941176, 0.04313725, 0.        ,\n",
              "         0.        , 0.        , 0.        , 0.        , 0.        ,\n",
              "         0.46666667, 0.        , 0.        ],\n",
              "        [0.        , 0.        , 0.        , 0.        , 0.        ,\n",
              "         0.        , 0.        , 0.        , 0.        , 0.        ,\n",
              "         0.        , 0.        , 0.        , 0.00392157, 0.        ,\n",
              "         0.        , 0.34509804, 0.56078431, 0.43137255, 0.        ,\n",
              "         0.        , 0.        , 0.        , 0.08627451, 0.36470588,\n",
              "         0.41568627, 0.        , 0.        ],\n",
              "        [0.        , 0.        , 0.        , 0.        , 0.        ,\n",
              "         0.        , 0.        , 0.        , 0.        , 0.        ,\n",
              "         0.        , 0.        , 0.        , 0.01568627, 0.        ,\n",
              "         0.20784314, 0.50588235, 0.47058824, 0.57647059, 0.68627451,\n",
              "         0.61568627, 0.65098039, 0.52941176, 0.60392157, 0.65882353,\n",
              "         0.54901961, 0.        , 0.        ],\n",
              "        [0.        , 0.        , 0.        , 0.        , 0.        ,\n",
              "         0.        , 0.        , 0.        , 0.        , 0.        ,\n",
              "         0.        , 0.        , 0.00784314, 0.        , 0.04313725,\n",
              "         0.5372549 , 0.50980392, 0.50196078, 0.62745098, 0.69019608,\n",
              "         0.62352941, 0.65490196, 0.69803922, 0.58431373, 0.59215686,\n",
              "         0.56470588, 0.        , 0.        ],\n",
              "        [0.        , 0.        , 0.        , 0.        , 0.        ,\n",
              "         0.        , 0.00392157, 0.        , 0.00784314, 0.00392157,\n",
              "         0.        , 0.01176471, 0.        , 0.        , 0.45098039,\n",
              "         0.44705882, 0.41568627, 0.5372549 , 0.65882353, 0.6       ,\n",
              "         0.61176471, 0.64705882, 0.65490196, 0.56078431, 0.61568627,\n",
              "         0.61960784, 0.04313725, 0.        ],\n",
              "        [0.        , 0.        , 0.        , 0.        , 0.00392157,\n",
              "         0.        , 0.        , 0.        , 0.        , 0.        ,\n",
              "         0.01176471, 0.        , 0.        , 0.34901961, 0.54509804,\n",
              "         0.35294118, 0.36862745, 0.6       , 0.58431373, 0.51372549,\n",
              "         0.59215686, 0.6627451 , 0.6745098 , 0.56078431, 0.62352941,\n",
              "         0.6627451 , 0.18823529, 0.        ],\n",
              "        [0.        , 0.        , 0.        , 0.        , 0.        ,\n",
              "         0.        , 0.00784314, 0.01568627, 0.00392157, 0.        ,\n",
              "         0.        , 0.        , 0.38431373, 0.53333333, 0.43137255,\n",
              "         0.42745098, 0.43137255, 0.63529412, 0.52941176, 0.56470588,\n",
              "         0.58431373, 0.62352941, 0.65490196, 0.56470588, 0.61960784,\n",
              "         0.6627451 , 0.46666667, 0.        ],\n",
              "        [0.        , 0.        , 0.00784314, 0.00784314, 0.00392157,\n",
              "         0.00784314, 0.        , 0.        , 0.        , 0.        ,\n",
              "         0.10196078, 0.42352941, 0.45882353, 0.38823529, 0.43529412,\n",
              "         0.45882353, 0.53333333, 0.61176471, 0.5254902 , 0.60392157,\n",
              "         0.60392157, 0.61176471, 0.62745098, 0.55294118, 0.57647059,\n",
              "         0.61176471, 0.69803922, 0.        ],\n",
              "        [0.01176471, 0.        , 0.        , 0.        , 0.        ,\n",
              "         0.        , 0.        , 0.08235294, 0.20784314, 0.36078431,\n",
              "         0.45882353, 0.43529412, 0.40392157, 0.45098039, 0.50588235,\n",
              "         0.5254902 , 0.56078431, 0.60392157, 0.64705882, 0.66666667,\n",
              "         0.60392157, 0.59215686, 0.60392157, 0.56078431, 0.54117647,\n",
              "         0.58823529, 0.64705882, 0.16862745],\n",
              "        [0.        , 0.        , 0.09019608, 0.21176471, 0.25490196,\n",
              "         0.29803922, 0.33333333, 0.4627451 , 0.50196078, 0.48235294,\n",
              "         0.43529412, 0.44313725, 0.4627451 , 0.49803922, 0.49019608,\n",
              "         0.54509804, 0.52156863, 0.53333333, 0.62745098, 0.54901961,\n",
              "         0.60784314, 0.63137255, 0.56470588, 0.60784314, 0.6745098 ,\n",
              "         0.63137255, 0.74117647, 0.24313725],\n",
              "        [0.        , 0.26666667, 0.36862745, 0.35294118, 0.43529412,\n",
              "         0.44705882, 0.43529412, 0.44705882, 0.45098039, 0.49803922,\n",
              "         0.52941176, 0.53333333, 0.56078431, 0.49411765, 0.49803922,\n",
              "         0.59215686, 0.60392157, 0.56078431, 0.58039216, 0.49019608,\n",
              "         0.63529412, 0.63529412, 0.56470588, 0.54117647, 0.6       ,\n",
              "         0.63529412, 0.76862745, 0.22745098],\n",
              "        [0.2745098 , 0.6627451 , 0.50588235, 0.40784314, 0.38431373,\n",
              "         0.39215686, 0.36862745, 0.38039216, 0.38431373, 0.4       ,\n",
              "         0.42352941, 0.41568627, 0.46666667, 0.47058824, 0.50588235,\n",
              "         0.58431373, 0.61176471, 0.65490196, 0.74509804, 0.74509804,\n",
              "         0.76862745, 0.77647059, 0.77647059, 0.73333333, 0.77254902,\n",
              "         0.74117647, 0.72156863, 0.14117647],\n",
              "        [0.0627451 , 0.49411765, 0.67058824, 0.7372549 , 0.7372549 ,\n",
              "         0.72156863, 0.67058824, 0.6       , 0.52941176, 0.47058824,\n",
              "         0.49411765, 0.49803922, 0.57254902, 0.7254902 , 0.76470588,\n",
              "         0.81960784, 0.81568627, 1.        , 0.81960784, 0.69411765,\n",
              "         0.96078431, 0.98823529, 0.98431373, 0.98431373, 0.96862745,\n",
              "         0.8627451 , 0.80784314, 0.19215686],\n",
              "        [0.        , 0.        , 0.        , 0.04705882, 0.2627451 ,\n",
              "         0.41568627, 0.64313725, 0.7254902 , 0.78039216, 0.82352941,\n",
              "         0.82745098, 0.82352941, 0.81568627, 0.74509804, 0.58823529,\n",
              "         0.32156863, 0.03137255, 0.        , 0.        , 0.        ,\n",
              "         0.69803922, 0.81568627, 0.7372549 , 0.68627451, 0.63529412,\n",
              "         0.61960784, 0.59215686, 0.04313725],\n",
              "        [0.        , 0.        , 0.        , 0.        , 0.        ,\n",
              "         0.        , 0.        , 0.        , 0.        , 0.        ,\n",
              "         0.        , 0.        , 0.        , 0.        , 0.        ,\n",
              "         0.        , 0.        , 0.        , 0.        , 0.        ,\n",
              "         0.        , 0.        , 0.        , 0.        , 0.        ,\n",
              "         0.        , 0.        , 0.        ],\n",
              "        [0.        , 0.        , 0.        , 0.        , 0.        ,\n",
              "         0.        , 0.        , 0.        , 0.        , 0.        ,\n",
              "         0.        , 0.        , 0.        , 0.        , 0.        ,\n",
              "         0.        , 0.        , 0.        , 0.        , 0.        ,\n",
              "         0.        , 0.        , 0.        , 0.        , 0.        ,\n",
              "         0.        , 0.        , 0.        ],\n",
              "        [0.        , 0.        , 0.        , 0.        , 0.        ,\n",
              "         0.        , 0.        , 0.        , 0.        , 0.        ,\n",
              "         0.        , 0.        , 0.        , 0.        , 0.        ,\n",
              "         0.        , 0.        , 0.        , 0.        , 0.        ,\n",
              "         0.        , 0.        , 0.        , 0.        , 0.        ,\n",
              "         0.        , 0.        , 0.        ],\n",
              "        [0.        , 0.        , 0.        , 0.        , 0.        ,\n",
              "         0.        , 0.        , 0.        , 0.        , 0.        ,\n",
              "         0.        , 0.        , 0.        , 0.        , 0.        ,\n",
              "         0.        , 0.        , 0.        , 0.        , 0.        ,\n",
              "         0.        , 0.        , 0.        , 0.        , 0.        ,\n",
              "         0.        , 0.        , 0.        ],\n",
              "        [0.        , 0.        , 0.        , 0.        , 0.        ,\n",
              "         0.        , 0.        , 0.        , 0.        , 0.        ,\n",
              "         0.        , 0.        , 0.        , 0.        , 0.        ,\n",
              "         0.        , 0.        , 0.        , 0.        , 0.        ,\n",
              "         0.        , 0.        , 0.        , 0.        , 0.        ,\n",
              "         0.        , 0.        , 0.        ],\n",
              "        [0.        , 0.        , 0.        , 0.        , 0.        ,\n",
              "         0.        , 0.        , 0.        , 0.        , 0.        ,\n",
              "         0.        , 0.        , 0.        , 0.        , 0.        ,\n",
              "         0.        , 0.        , 0.        , 0.        , 0.        ,\n",
              "         0.        , 0.        , 0.        , 0.        , 0.        ,\n",
              "         0.        , 0.        , 0.        ]]))"
            ]
          },
          "metadata": {},
          "execution_count": 30
        }
      ]
    },
    {
      "cell_type": "code",
      "source": [
        "# Make some predictions with our models\n",
        "y_probs = model_14.predict(test_data_norm) #Probs is short form of prediction probability . Remember to make prediction on same kind of data on what your model is trained on.\n",
        "\n",
        "#View first 5 predictions\n",
        "y_probs[:5]"
      ],
      "metadata": {
        "id": "bW9sxefzLU1s",
        "outputId": "fd4af674-4696-4be5-f4e5-aba1f684d6e3",
        "colab": {
          "base_uri": "https://localhost:8080/"
        }
      },
      "execution_count": 27,
      "outputs": [
        {
          "output_type": "stream",
          "name": "stdout",
          "text": [
            "\u001b[1m313/313\u001b[0m \u001b[32m━━━━━━━━━━━━━━━━━━━━\u001b[0m\u001b[37m\u001b[0m \u001b[1m0s\u001b[0m 1ms/step\n"
          ]
        },
        {
          "output_type": "execute_result",
          "data": {
            "text/plain": [
              "array([[2.0149084e-05, 2.0272373e-06, 6.9450323e-08, 1.9375594e-07,\n",
              "        2.5046018e-07, 5.8880132e-03, 6.4154469e-06, 4.3845054e-02,\n",
              "        1.9131729e-04, 9.5004654e-01],\n",
              "       [0.0000000e+00, 0.0000000e+00, 9.9999994e-01, 0.0000000e+00,\n",
              "        0.0000000e+00, 0.0000000e+00, 0.0000000e+00, 0.0000000e+00,\n",
              "        0.0000000e+00, 0.0000000e+00],\n",
              "       [0.0000000e+00, 9.9999994e-01, 0.0000000e+00, 0.0000000e+00,\n",
              "        0.0000000e+00, 0.0000000e+00, 0.0000000e+00, 0.0000000e+00,\n",
              "        0.0000000e+00, 0.0000000e+00],\n",
              "       [0.0000000e+00, 9.9999994e-01, 0.0000000e+00, 0.0000000e+00,\n",
              "        0.0000000e+00, 0.0000000e+00, 0.0000000e+00, 0.0000000e+00,\n",
              "        0.0000000e+00, 0.0000000e+00],\n",
              "       [0.0000000e+00, 0.0000000e+00, 9.9999994e-01, 0.0000000e+00,\n",
              "        0.0000000e+00, 0.0000000e+00, 0.0000000e+00, 0.0000000e+00,\n",
              "        0.0000000e+00, 0.0000000e+00]], dtype=float32)"
            ]
          },
          "metadata": {},
          "execution_count": 27
        }
      ]
    },
    {
      "cell_type": "code",
      "source": [
        "y_probs[0], tf.argmax(y_probs[0]), class_names[tf.argmax(y_probs[0])]"
      ],
      "metadata": {
        "id": "GWA7Ck5AMKEs",
        "outputId": "793bb786-e132-4fce-c46e-5170522ac6a9",
        "colab": {
          "base_uri": "https://localhost:8080/"
        }
      },
      "execution_count": 35,
      "outputs": [
        {
          "output_type": "execute_result",
          "data": {
            "text/plain": [
              "(array([2.0149084e-05, 2.0272373e-06, 6.9450323e-08, 1.9375594e-07,\n",
              "        2.5046018e-07, 5.8880132e-03, 6.4154469e-06, 4.3845054e-02,\n",
              "        1.9131729e-04, 9.5004654e-01], dtype=float32),\n",
              " <tf.Tensor: shape=(), dtype=int64, numpy=9>,\n",
              " 'Ankle boot')"
            ]
          },
          "metadata": {},
          "execution_count": 35
        }
      ]
    },
    {
      "cell_type": "code",
      "source": [
        "# Convert all of the prediction probabilities into integers\n",
        "y_preds = y_probs.argmax(axis=1)\n",
        "y_preds[:5]\n",
        "\n",
        "# View the first 10 prediction labels\n",
        "y_preds[:10]"
      ],
      "metadata": {
        "id": "ziO2C7dpMh-3",
        "outputId": "ab7441bd-8885-440b-ea1a-c1b6dbcf87ff",
        "colab": {
          "base_uri": "https://localhost:8080/"
        }
      },
      "execution_count": 38,
      "outputs": [
        {
          "output_type": "execute_result",
          "data": {
            "text/plain": [
              "array([9, 2, 1, 1, 2, 1, 4, 4, 3, 3])"
            ]
          },
          "metadata": {},
          "execution_count": 38
        }
      ]
    },
    {
      "cell_type": "code",
      "source": [
        "test_labels"
      ],
      "metadata": {
        "id": "Fh_exOPRM6z2",
        "outputId": "2f360681-2ca9-4efd-dbf0-142ceacf2251",
        "colab": {
          "base_uri": "https://localhost:8080/"
        }
      },
      "execution_count": 39,
      "outputs": [
        {
          "output_type": "execute_result",
          "data": {
            "text/plain": [
              "array([9, 2, 1, ..., 8, 1, 5], dtype=uint8)"
            ]
          },
          "metadata": {},
          "execution_count": 39
        }
      ]
    }
  ],
  "metadata": {
    "kernelspec": {
      "display_name": "base",
      "language": "python",
      "name": "python3"
    },
    "language_info": {
      "name": "python",
      "version": "3.12.7"
    },
    "colab": {
      "provenance": [],
      "include_colab_link": true
    }
  },
  "nbformat": 4,
  "nbformat_minor": 0
}