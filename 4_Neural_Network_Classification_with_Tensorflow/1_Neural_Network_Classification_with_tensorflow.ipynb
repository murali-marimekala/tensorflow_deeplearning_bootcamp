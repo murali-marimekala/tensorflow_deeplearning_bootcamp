{
  "cells": [
    {
      "cell_type": "markdown",
      "metadata": {
        "id": "view-in-github",
        "colab_type": "text"
      },
      "source": [
        "<a href=\"https://colab.research.google.com/github/murali-marimekala/tensorflow_deeplearning_bootcamp/blob/main/4_Neural_Network_Classification_with_Tensorflow/1_Neural_Network_Classification_with_tensorflow.ipynb\" target=\"_parent\"><img src=\"https://colab.research.google.com/assets/colab-badge.svg\" alt=\"Open In Colab\"/></a>"
      ]
    },
    {
      "cell_type": "code",
      "execution_count": 1,
      "metadata": {
        "id": "8eK_qXgXUkTG",
        "outputId": "effc3762-b4c7-47ac-aea5-dd853678aedd",
        "colab": {
          "base_uri": "https://localhost:8080/"
        }
      },
      "outputs": [
        {
          "output_type": "stream",
          "name": "stdout",
          "text": [
            "2.18.0\n"
          ]
        }
      ],
      "source": [
        "import tensorflow as tf\n",
        "print(tf.__version__)"
      ]
    },
    {
      "cell_type": "markdown",
      "source": [
        "### Types of classification\n",
        "1. Classification\n",
        "2. Multi-classification problems (100 different classes / foods, cars , animals etc) : **One label per sample**\n",
        "3. Multi-label classification:  **Multiple labels per sample**"
      ],
      "metadata": {
        "id": "2U78eGjkVX-T"
      }
    },
    {
      "cell_type": "markdown",
      "source": [
        "## Classification\n",
        "What will be covered ?\n",
        "1. Architecture of a neural network classification model.\n",
        "2. Input shapes and output shapes of a classification model (features and labels)\n",
        "3. Creating custom data to view and fit\n",
        "4. Steps in modelling\n",
        "5. Creating a model, compiling a model, fitting a model, evaluating a model\n",
        "6. Different classification evalation methods\n",
        "7. Saving and loading models"
      ],
      "metadata": {
        "id": "aD9SMKaAWArH"
      }
    },
    {
      "cell_type": "code",
      "source": [],
      "metadata": {
        "id": "o3xOnH41WALL"
      },
      "execution_count": null,
      "outputs": []
    },
    {
      "cell_type": "markdown",
      "source": [
        "# Classification inputs and outputs\n",
        "\n",
        "Inputs -> Machine learning Algorithm -> Output\n",
        "\n",
        "Multiclass classification of predicting an image involves\n",
        "\n",
        "Input Images -> Numerical encoding of pixel values (Height , Width , C (RGB)) -> Turn this data into Tensor -> ML Alogirthm -> Predictd Output -> Actual output\n",
        "\n",
        "Usually the Tensor looks like  [Batchsize, height, width, colour_channels]"
      ],
      "metadata": {
        "id": "yZ_9YDKfXoIS"
      }
    }
  ],
  "metadata": {
    "kernelspec": {
      "display_name": "base",
      "language": "python",
      "name": "python3"
    },
    "language_info": {
      "name": "python",
      "version": "3.12.7"
    },
    "colab": {
      "provenance": [],
      "toc_visible": true,
      "include_colab_link": true
    }
  },
  "nbformat": 4,
  "nbformat_minor": 0
}