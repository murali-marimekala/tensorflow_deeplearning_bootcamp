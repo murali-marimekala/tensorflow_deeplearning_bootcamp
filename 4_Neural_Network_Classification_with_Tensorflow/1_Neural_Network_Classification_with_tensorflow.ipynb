{
  "cells": [
    {
      "cell_type": "markdown",
      "metadata": {
        "id": "view-in-github",
        "colab_type": "text"
      },
      "source": [
        "<a href=\"https://colab.research.google.com/github/murali-marimekala/tensorflow_deeplearning_bootcamp/blob/main/4_Neural_Network_Classification_with_Tensorflow/1_Neural_Network_Classification_with_tensorflow.ipynb\" target=\"_parent\"><img src=\"https://colab.research.google.com/assets/colab-badge.svg\" alt=\"Open In Colab\"/></a>"
      ]
    },
    {
      "cell_type": "code",
      "execution_count": 1,
      "metadata": {
        "id": "8eK_qXgXUkTG",
        "outputId": "a729861f-5754-40e7-bc24-d9d4c0723e75",
        "colab": {
          "base_uri": "https://localhost:8080/"
        }
      },
      "outputs": [
        {
          "output_type": "stream",
          "name": "stdout",
          "text": [
            "2.18.0\n"
          ]
        }
      ],
      "source": [
        "import tensorflow as tf\n",
        "print(tf.__version__)"
      ]
    },
    {
      "cell_type": "markdown",
      "source": [
        "### Types of classification\n",
        "1. Classification\n",
        "2. Multi-classification problems (100 different classes / foods, cars , animals etc) : **One label per sample**\n",
        "3. Multi-label classification:  **Multiple labels per sample**"
      ],
      "metadata": {
        "id": "2U78eGjkVX-T"
      }
    },
    {
      "cell_type": "markdown",
      "source": [
        "## Classification\n",
        "What will be covered ?\n",
        "1. Architecture of a neural network classification model.\n",
        "2. Input shapes and output shapes of a classification model (features and labels)\n",
        "3. Creating custom data to view and fit\n",
        "4. Steps in modelling\n",
        "5. Creating a model, compiling a model, fitting a model, evaluating a model\n",
        "6. Different classification evalation methods\n",
        "7. Saving and loading models"
      ],
      "metadata": {
        "id": "aD9SMKaAWArH"
      }
    },
    {
      "cell_type": "code",
      "source": [],
      "metadata": {
        "id": "o3xOnH41WALL"
      },
      "execution_count": 1,
      "outputs": []
    },
    {
      "cell_type": "markdown",
      "source": [
        "# Classification inputs and outputs\n",
        "\n",
        "Inputs -> Machine learning Algorithm -> Output\n",
        "\n",
        "Multiclass classification of predicting an image involves\n",
        "\n",
        "Input Images -> Numerical encoding of pixel values (Height , Width , C (RGB)) -> Turn this data into Tensor -> ML Alogirthm -> Predictd Output -> Actual output\n",
        "\n",
        "Usually the Tensor looks like  [Batchsize, height, width, colour_channels]"
      ],
      "metadata": {
        "id": "yZ_9YDKfXoIS"
      }
    },
    {
      "cell_type": "markdown",
      "source": [
        "Introduction to NN classificaiton with tensorflow.\n",
        "\n",
        "We are going to explore\n",
        "1. How to write NN for classificaito problem where we classify as something or another.\n",
        "* Binary Classificaiton\n",
        "* Multiclass Classification\n",
        "* Multilabel Classification"
      ],
      "metadata": {
        "id": "TaD9N9ga5BMc"
      }
    },
    {
      "cell_type": "markdown",
      "source": [
        "## Creating Data to view and fit"
      ],
      "metadata": {
        "id": "1iR2bs-a5Snt"
      }
    },
    {
      "cell_type": "code",
      "source": [
        "from sklearn.datasets import make_circles\n",
        "#Make 1000 examples\n",
        "n_samples = 1000\n",
        "\n",
        "#Create circles\n",
        "X, y = make_circles(n_samples,\n",
        "                    noise=0.03,\n",
        "                    random_state=42)"
      ],
      "metadata": {
        "id": "hjVaESUi5Wem"
      },
      "execution_count": 2,
      "outputs": []
    },
    {
      "cell_type": "code",
      "source": [
        "#Check out the features\n",
        "X"
      ],
      "metadata": {
        "colab": {
          "base_uri": "https://localhost:8080/"
        },
        "id": "KH2z-YQp51kq",
        "outputId": "5fe16903-13d6-4f20-fb71-423d43300786"
      },
      "execution_count": 3,
      "outputs": [
        {
          "output_type": "execute_result",
          "data": {
            "text/plain": [
              "array([[ 0.75424625,  0.23148074],\n",
              "       [-0.75615888,  0.15325888],\n",
              "       [-0.81539193,  0.17328203],\n",
              "       ...,\n",
              "       [-0.13690036, -0.81001183],\n",
              "       [ 0.67036156, -0.76750154],\n",
              "       [ 0.28105665,  0.96382443]])"
            ]
          },
          "metadata": {},
          "execution_count": 3
        }
      ]
    },
    {
      "cell_type": "code",
      "source": [
        "#Check labels\n",
        "y[:10]"
      ],
      "metadata": {
        "colab": {
          "base_uri": "https://localhost:8080/"
        },
        "id": "-4AMEMHL53rg",
        "outputId": "9b7a47a4-30a5-4cf7-8761-a23e11ad3a58"
      },
      "execution_count": 4,
      "outputs": [
        {
          "output_type": "execute_result",
          "data": {
            "text/plain": [
              "array([1, 1, 1, 1, 0, 1, 1, 1, 1, 0])"
            ]
          },
          "metadata": {},
          "execution_count": 4
        }
      ]
    },
    {
      "cell_type": "markdown",
      "source": [
        "Which classificaiton is it ? Our data is hard to understand. Lets visualize"
      ],
      "metadata": {
        "id": "DMf6OMG46VsL"
      }
    },
    {
      "cell_type": "code",
      "source": [
        "import pandas as pd\n",
        "circles = pd.DataFrame({\"X0\":X[:,0], \"X1\":X[:,1], \"label\":y})\n",
        "circles"
      ],
      "metadata": {
        "colab": {
          "base_uri": "https://localhost:8080/",
          "height": 423
        },
        "id": "cVKJ_7vO6Op8",
        "outputId": "e0ba06aa-c743-4690-af59-359a4198779b"
      },
      "execution_count": 5,
      "outputs": [
        {
          "output_type": "execute_result",
          "data": {
            "text/plain": [
              "           X0        X1  label\n",
              "0    0.754246  0.231481      1\n",
              "1   -0.756159  0.153259      1\n",
              "2   -0.815392  0.173282      1\n",
              "3   -0.393731  0.692883      1\n",
              "4    0.442208 -0.896723      0\n",
              "..        ...       ...    ...\n",
              "995  0.244054  0.944125      0\n",
              "996 -0.978655 -0.272373      0\n",
              "997 -0.136900 -0.810012      1\n",
              "998  0.670362 -0.767502      0\n",
              "999  0.281057  0.963824      0\n",
              "\n",
              "[1000 rows x 3 columns]"
            ],
            "text/html": [
              "\n",
              "  <div id=\"df-a7325a2f-df5f-4e71-8d98-4754ba1b3585\" class=\"colab-df-container\">\n",
              "    <div>\n",
              "<style scoped>\n",
              "    .dataframe tbody tr th:only-of-type {\n",
              "        vertical-align: middle;\n",
              "    }\n",
              "\n",
              "    .dataframe tbody tr th {\n",
              "        vertical-align: top;\n",
              "    }\n",
              "\n",
              "    .dataframe thead th {\n",
              "        text-align: right;\n",
              "    }\n",
              "</style>\n",
              "<table border=\"1\" class=\"dataframe\">\n",
              "  <thead>\n",
              "    <tr style=\"text-align: right;\">\n",
              "      <th></th>\n",
              "      <th>X0</th>\n",
              "      <th>X1</th>\n",
              "      <th>label</th>\n",
              "    </tr>\n",
              "  </thead>\n",
              "  <tbody>\n",
              "    <tr>\n",
              "      <th>0</th>\n",
              "      <td>0.754246</td>\n",
              "      <td>0.231481</td>\n",
              "      <td>1</td>\n",
              "    </tr>\n",
              "    <tr>\n",
              "      <th>1</th>\n",
              "      <td>-0.756159</td>\n",
              "      <td>0.153259</td>\n",
              "      <td>1</td>\n",
              "    </tr>\n",
              "    <tr>\n",
              "      <th>2</th>\n",
              "      <td>-0.815392</td>\n",
              "      <td>0.173282</td>\n",
              "      <td>1</td>\n",
              "    </tr>\n",
              "    <tr>\n",
              "      <th>3</th>\n",
              "      <td>-0.393731</td>\n",
              "      <td>0.692883</td>\n",
              "      <td>1</td>\n",
              "    </tr>\n",
              "    <tr>\n",
              "      <th>4</th>\n",
              "      <td>0.442208</td>\n",
              "      <td>-0.896723</td>\n",
              "      <td>0</td>\n",
              "    </tr>\n",
              "    <tr>\n",
              "      <th>...</th>\n",
              "      <td>...</td>\n",
              "      <td>...</td>\n",
              "      <td>...</td>\n",
              "    </tr>\n",
              "    <tr>\n",
              "      <th>995</th>\n",
              "      <td>0.244054</td>\n",
              "      <td>0.944125</td>\n",
              "      <td>0</td>\n",
              "    </tr>\n",
              "    <tr>\n",
              "      <th>996</th>\n",
              "      <td>-0.978655</td>\n",
              "      <td>-0.272373</td>\n",
              "      <td>0</td>\n",
              "    </tr>\n",
              "    <tr>\n",
              "      <th>997</th>\n",
              "      <td>-0.136900</td>\n",
              "      <td>-0.810012</td>\n",
              "      <td>1</td>\n",
              "    </tr>\n",
              "    <tr>\n",
              "      <th>998</th>\n",
              "      <td>0.670362</td>\n",
              "      <td>-0.767502</td>\n",
              "      <td>0</td>\n",
              "    </tr>\n",
              "    <tr>\n",
              "      <th>999</th>\n",
              "      <td>0.281057</td>\n",
              "      <td>0.963824</td>\n",
              "      <td>0</td>\n",
              "    </tr>\n",
              "  </tbody>\n",
              "</table>\n",
              "<p>1000 rows × 3 columns</p>\n",
              "</div>\n",
              "    <div class=\"colab-df-buttons\">\n",
              "\n",
              "  <div class=\"colab-df-container\">\n",
              "    <button class=\"colab-df-convert\" onclick=\"convertToInteractive('df-a7325a2f-df5f-4e71-8d98-4754ba1b3585')\"\n",
              "            title=\"Convert this dataframe to an interactive table.\"\n",
              "            style=\"display:none;\">\n",
              "\n",
              "  <svg xmlns=\"http://www.w3.org/2000/svg\" height=\"24px\" viewBox=\"0 -960 960 960\">\n",
              "    <path d=\"M120-120v-720h720v720H120Zm60-500h600v-160H180v160Zm220 220h160v-160H400v160Zm0 220h160v-160H400v160ZM180-400h160v-160H180v160Zm440 0h160v-160H620v160ZM180-180h160v-160H180v160Zm440 0h160v-160H620v160Z\"/>\n",
              "  </svg>\n",
              "    </button>\n",
              "\n",
              "  <style>\n",
              "    .colab-df-container {\n",
              "      display:flex;\n",
              "      gap: 12px;\n",
              "    }\n",
              "\n",
              "    .colab-df-convert {\n",
              "      background-color: #E8F0FE;\n",
              "      border: none;\n",
              "      border-radius: 50%;\n",
              "      cursor: pointer;\n",
              "      display: none;\n",
              "      fill: #1967D2;\n",
              "      height: 32px;\n",
              "      padding: 0 0 0 0;\n",
              "      width: 32px;\n",
              "    }\n",
              "\n",
              "    .colab-df-convert:hover {\n",
              "      background-color: #E2EBFA;\n",
              "      box-shadow: 0px 1px 2px rgba(60, 64, 67, 0.3), 0px 1px 3px 1px rgba(60, 64, 67, 0.15);\n",
              "      fill: #174EA6;\n",
              "    }\n",
              "\n",
              "    .colab-df-buttons div {\n",
              "      margin-bottom: 4px;\n",
              "    }\n",
              "\n",
              "    [theme=dark] .colab-df-convert {\n",
              "      background-color: #3B4455;\n",
              "      fill: #D2E3FC;\n",
              "    }\n",
              "\n",
              "    [theme=dark] .colab-df-convert:hover {\n",
              "      background-color: #434B5C;\n",
              "      box-shadow: 0px 1px 3px 1px rgba(0, 0, 0, 0.15);\n",
              "      filter: drop-shadow(0px 1px 2px rgba(0, 0, 0, 0.3));\n",
              "      fill: #FFFFFF;\n",
              "    }\n",
              "  </style>\n",
              "\n",
              "    <script>\n",
              "      const buttonEl =\n",
              "        document.querySelector('#df-a7325a2f-df5f-4e71-8d98-4754ba1b3585 button.colab-df-convert');\n",
              "      buttonEl.style.display =\n",
              "        google.colab.kernel.accessAllowed ? 'block' : 'none';\n",
              "\n",
              "      async function convertToInteractive(key) {\n",
              "        const element = document.querySelector('#df-a7325a2f-df5f-4e71-8d98-4754ba1b3585');\n",
              "        const dataTable =\n",
              "          await google.colab.kernel.invokeFunction('convertToInteractive',\n",
              "                                                    [key], {});\n",
              "        if (!dataTable) return;\n",
              "\n",
              "        const docLinkHtml = 'Like what you see? Visit the ' +\n",
              "          '<a target=\"_blank\" href=https://colab.research.google.com/notebooks/data_table.ipynb>data table notebook</a>'\n",
              "          + ' to learn more about interactive tables.';\n",
              "        element.innerHTML = '';\n",
              "        dataTable['output_type'] = 'display_data';\n",
              "        await google.colab.output.renderOutput(dataTable, element);\n",
              "        const docLink = document.createElement('div');\n",
              "        docLink.innerHTML = docLinkHtml;\n",
              "        element.appendChild(docLink);\n",
              "      }\n",
              "    </script>\n",
              "  </div>\n",
              "\n",
              "\n",
              "<div id=\"df-4bfc8375-9a04-4629-ae04-60f84af289d1\">\n",
              "  <button class=\"colab-df-quickchart\" onclick=\"quickchart('df-4bfc8375-9a04-4629-ae04-60f84af289d1')\"\n",
              "            title=\"Suggest charts\"\n",
              "            style=\"display:none;\">\n",
              "\n",
              "<svg xmlns=\"http://www.w3.org/2000/svg\" height=\"24px\"viewBox=\"0 0 24 24\"\n",
              "     width=\"24px\">\n",
              "    <g>\n",
              "        <path d=\"M19 3H5c-1.1 0-2 .9-2 2v14c0 1.1.9 2 2 2h14c1.1 0 2-.9 2-2V5c0-1.1-.9-2-2-2zM9 17H7v-7h2v7zm4 0h-2V7h2v10zm4 0h-2v-4h2v4z\"/>\n",
              "    </g>\n",
              "</svg>\n",
              "  </button>\n",
              "\n",
              "<style>\n",
              "  .colab-df-quickchart {\n",
              "      --bg-color: #E8F0FE;\n",
              "      --fill-color: #1967D2;\n",
              "      --hover-bg-color: #E2EBFA;\n",
              "      --hover-fill-color: #174EA6;\n",
              "      --disabled-fill-color: #AAA;\n",
              "      --disabled-bg-color: #DDD;\n",
              "  }\n",
              "\n",
              "  [theme=dark] .colab-df-quickchart {\n",
              "      --bg-color: #3B4455;\n",
              "      --fill-color: #D2E3FC;\n",
              "      --hover-bg-color: #434B5C;\n",
              "      --hover-fill-color: #FFFFFF;\n",
              "      --disabled-bg-color: #3B4455;\n",
              "      --disabled-fill-color: #666;\n",
              "  }\n",
              "\n",
              "  .colab-df-quickchart {\n",
              "    background-color: var(--bg-color);\n",
              "    border: none;\n",
              "    border-radius: 50%;\n",
              "    cursor: pointer;\n",
              "    display: none;\n",
              "    fill: var(--fill-color);\n",
              "    height: 32px;\n",
              "    padding: 0;\n",
              "    width: 32px;\n",
              "  }\n",
              "\n",
              "  .colab-df-quickchart:hover {\n",
              "    background-color: var(--hover-bg-color);\n",
              "    box-shadow: 0 1px 2px rgba(60, 64, 67, 0.3), 0 1px 3px 1px rgba(60, 64, 67, 0.15);\n",
              "    fill: var(--button-hover-fill-color);\n",
              "  }\n",
              "\n",
              "  .colab-df-quickchart-complete:disabled,\n",
              "  .colab-df-quickchart-complete:disabled:hover {\n",
              "    background-color: var(--disabled-bg-color);\n",
              "    fill: var(--disabled-fill-color);\n",
              "    box-shadow: none;\n",
              "  }\n",
              "\n",
              "  .colab-df-spinner {\n",
              "    border: 2px solid var(--fill-color);\n",
              "    border-color: transparent;\n",
              "    border-bottom-color: var(--fill-color);\n",
              "    animation:\n",
              "      spin 1s steps(1) infinite;\n",
              "  }\n",
              "\n",
              "  @keyframes spin {\n",
              "    0% {\n",
              "      border-color: transparent;\n",
              "      border-bottom-color: var(--fill-color);\n",
              "      border-left-color: var(--fill-color);\n",
              "    }\n",
              "    20% {\n",
              "      border-color: transparent;\n",
              "      border-left-color: var(--fill-color);\n",
              "      border-top-color: var(--fill-color);\n",
              "    }\n",
              "    30% {\n",
              "      border-color: transparent;\n",
              "      border-left-color: var(--fill-color);\n",
              "      border-top-color: var(--fill-color);\n",
              "      border-right-color: var(--fill-color);\n",
              "    }\n",
              "    40% {\n",
              "      border-color: transparent;\n",
              "      border-right-color: var(--fill-color);\n",
              "      border-top-color: var(--fill-color);\n",
              "    }\n",
              "    60% {\n",
              "      border-color: transparent;\n",
              "      border-right-color: var(--fill-color);\n",
              "    }\n",
              "    80% {\n",
              "      border-color: transparent;\n",
              "      border-right-color: var(--fill-color);\n",
              "      border-bottom-color: var(--fill-color);\n",
              "    }\n",
              "    90% {\n",
              "      border-color: transparent;\n",
              "      border-bottom-color: var(--fill-color);\n",
              "    }\n",
              "  }\n",
              "</style>\n",
              "\n",
              "  <script>\n",
              "    async function quickchart(key) {\n",
              "      const quickchartButtonEl =\n",
              "        document.querySelector('#' + key + ' button');\n",
              "      quickchartButtonEl.disabled = true;  // To prevent multiple clicks.\n",
              "      quickchartButtonEl.classList.add('colab-df-spinner');\n",
              "      try {\n",
              "        const charts = await google.colab.kernel.invokeFunction(\n",
              "            'suggestCharts', [key], {});\n",
              "      } catch (error) {\n",
              "        console.error('Error during call to suggestCharts:', error);\n",
              "      }\n",
              "      quickchartButtonEl.classList.remove('colab-df-spinner');\n",
              "      quickchartButtonEl.classList.add('colab-df-quickchart-complete');\n",
              "    }\n",
              "    (() => {\n",
              "      let quickchartButtonEl =\n",
              "        document.querySelector('#df-4bfc8375-9a04-4629-ae04-60f84af289d1 button');\n",
              "      quickchartButtonEl.style.display =\n",
              "        google.colab.kernel.accessAllowed ? 'block' : 'none';\n",
              "    })();\n",
              "  </script>\n",
              "</div>\n",
              "\n",
              "  <div id=\"id_fed882ca-0431-4dee-80eb-437708b0c77c\">\n",
              "    <style>\n",
              "      .colab-df-generate {\n",
              "        background-color: #E8F0FE;\n",
              "        border: none;\n",
              "        border-radius: 50%;\n",
              "        cursor: pointer;\n",
              "        display: none;\n",
              "        fill: #1967D2;\n",
              "        height: 32px;\n",
              "        padding: 0 0 0 0;\n",
              "        width: 32px;\n",
              "      }\n",
              "\n",
              "      .colab-df-generate:hover {\n",
              "        background-color: #E2EBFA;\n",
              "        box-shadow: 0px 1px 2px rgba(60, 64, 67, 0.3), 0px 1px 3px 1px rgba(60, 64, 67, 0.15);\n",
              "        fill: #174EA6;\n",
              "      }\n",
              "\n",
              "      [theme=dark] .colab-df-generate {\n",
              "        background-color: #3B4455;\n",
              "        fill: #D2E3FC;\n",
              "      }\n",
              "\n",
              "      [theme=dark] .colab-df-generate:hover {\n",
              "        background-color: #434B5C;\n",
              "        box-shadow: 0px 1px 3px 1px rgba(0, 0, 0, 0.15);\n",
              "        filter: drop-shadow(0px 1px 2px rgba(0, 0, 0, 0.3));\n",
              "        fill: #FFFFFF;\n",
              "      }\n",
              "    </style>\n",
              "    <button class=\"colab-df-generate\" onclick=\"generateWithVariable('circles')\"\n",
              "            title=\"Generate code using this dataframe.\"\n",
              "            style=\"display:none;\">\n",
              "\n",
              "  <svg xmlns=\"http://www.w3.org/2000/svg\" height=\"24px\"viewBox=\"0 0 24 24\"\n",
              "       width=\"24px\">\n",
              "    <path d=\"M7,19H8.4L18.45,9,17,7.55,7,17.6ZM5,21V16.75L18.45,3.32a2,2,0,0,1,2.83,0l1.4,1.43a1.91,1.91,0,0,1,.58,1.4,1.91,1.91,0,0,1-.58,1.4L9.25,21ZM18.45,9,17,7.55Zm-12,3A5.31,5.31,0,0,0,4.9,8.1,5.31,5.31,0,0,0,1,6.5,5.31,5.31,0,0,0,4.9,4.9,5.31,5.31,0,0,0,6.5,1,5.31,5.31,0,0,0,8.1,4.9,5.31,5.31,0,0,0,12,6.5,5.46,5.46,0,0,0,6.5,12Z\"/>\n",
              "  </svg>\n",
              "    </button>\n",
              "    <script>\n",
              "      (() => {\n",
              "      const buttonEl =\n",
              "        document.querySelector('#id_fed882ca-0431-4dee-80eb-437708b0c77c button.colab-df-generate');\n",
              "      buttonEl.style.display =\n",
              "        google.colab.kernel.accessAllowed ? 'block' : 'none';\n",
              "\n",
              "      buttonEl.onclick = () => {\n",
              "        google.colab.notebook.generateWithVariable('circles');\n",
              "      }\n",
              "      })();\n",
              "    </script>\n",
              "  </div>\n",
              "\n",
              "    </div>\n",
              "  </div>\n"
            ],
            "application/vnd.google.colaboratory.intrinsic+json": {
              "type": "dataframe",
              "variable_name": "circles",
              "summary": "{\n  \"name\": \"circles\",\n  \"rows\": 1000,\n  \"fields\": [\n    {\n      \"column\": \"X0\",\n      \"properties\": {\n        \"dtype\": \"number\",\n        \"std\": 0.6398365674574611,\n        \"min\": -1.0595024599098635,\n        \"max\": 1.0337117525463373,\n        \"num_unique_values\": 1000,\n        \"samples\": [\n          -0.3751930206933384,\n          0.015380346701456493,\n          -0.7027835978832848\n        ],\n        \"semantic_type\": \"\",\n        \"description\": \"\"\n      }\n    },\n    {\n      \"column\": \"X1\",\n      \"properties\": {\n        \"dtype\": \"number\",\n        \"std\": 0.6411559581015379,\n        \"min\": -1.0677683182718436,\n        \"max\": 1.0360036756154805,\n        \"num_unique_values\": 1000,\n        \"samples\": [\n          0.6826597225888621,\n          0.9600260220697324,\n          -0.3147169925147762\n        ],\n        \"semantic_type\": \"\",\n        \"description\": \"\"\n      }\n    },\n    {\n      \"column\": \"label\",\n      \"properties\": {\n        \"dtype\": \"number\",\n        \"std\": 0,\n        \"min\": 0,\n        \"max\": 1,\n        \"num_unique_values\": 2,\n        \"samples\": [\n          0,\n          1\n        ],\n        \"semantic_type\": \"\",\n        \"description\": \"\"\n      }\n    }\n  ]\n}"
            }
          },
          "metadata": {},
          "execution_count": 5
        }
      ]
    },
    {
      "cell_type": "code",
      "source": [
        "circles.label.value_counts()"
      ],
      "metadata": {
        "colab": {
          "base_uri": "https://localhost:8080/",
          "height": 178
        },
        "id": "ZCt_Y88BDCjc",
        "outputId": "83387e85-9a90-4986-ae2b-7261c076a693"
      },
      "execution_count": 6,
      "outputs": [
        {
          "output_type": "execute_result",
          "data": {
            "text/plain": [
              "label\n",
              "1    500\n",
              "0    500\n",
              "Name: count, dtype: int64"
            ],
            "text/html": [
              "<div>\n",
              "<style scoped>\n",
              "    .dataframe tbody tr th:only-of-type {\n",
              "        vertical-align: middle;\n",
              "    }\n",
              "\n",
              "    .dataframe tbody tr th {\n",
              "        vertical-align: top;\n",
              "    }\n",
              "\n",
              "    .dataframe thead th {\n",
              "        text-align: right;\n",
              "    }\n",
              "</style>\n",
              "<table border=\"1\" class=\"dataframe\">\n",
              "  <thead>\n",
              "    <tr style=\"text-align: right;\">\n",
              "      <th></th>\n",
              "      <th>count</th>\n",
              "    </tr>\n",
              "    <tr>\n",
              "      <th>label</th>\n",
              "      <th></th>\n",
              "    </tr>\n",
              "  </thead>\n",
              "  <tbody>\n",
              "    <tr>\n",
              "      <th>1</th>\n",
              "      <td>500</td>\n",
              "    </tr>\n",
              "    <tr>\n",
              "      <th>0</th>\n",
              "      <td>500</td>\n",
              "    </tr>\n",
              "  </tbody>\n",
              "</table>\n",
              "</div><br><label><b>dtype:</b> int64</label>"
            ]
          },
          "metadata": {},
          "execution_count": 6
        }
      ]
    },
    {
      "cell_type": "code",
      "source": [
        "#Visualize with plot\n",
        "import matplotlib.pyplot as plt\n",
        "plt.scatter(X[:, 0], X[:,1],c=y, cmap=plt.cm.RdYlBu)"
      ],
      "metadata": {
        "colab": {
          "base_uri": "https://localhost:8080/",
          "height": 448
        },
        "id": "QgjLf09m65W7",
        "outputId": "475f7b7e-9290-4997-9659-1bb723f71685"
      },
      "execution_count": 7,
      "outputs": [
        {
          "output_type": "execute_result",
          "data": {
            "text/plain": [
              "<matplotlib.collections.PathCollection at 0x78ff00d24810>"
            ]
          },
          "metadata": {},
          "execution_count": 7
        },
        {
          "output_type": "display_data",
          "data": {
            "text/plain": [
              "<Figure size 640x480 with 1 Axes>"
            ],
            "image/png": "[encoded data removed]"
          },
          "metadata": {}
        }
      ]
    },
    {
      "cell_type": "code",
      "source": [],
      "metadata": {
        "id": "A_CdfqP37PYH"
      },
      "execution_count": 7,
      "outputs": []
    },
    {
      "cell_type": "markdown",
      "source": [
        "Tensorflow playground is interesting.\n",
        "https://playground.tensorflow.org"
      ],
      "metadata": {
        "id": "NidpFLlD9Ca7"
      }
    },
    {
      "cell_type": "code",
      "source": [
        "#Check shape of features and lables\n",
        "X.shape, y.shape"
      ],
      "metadata": {
        "colab": {
          "base_uri": "https://localhost:8080/"
        },
        "id": "J0ITOvF09Oas",
        "outputId": "b2849a5e-31b6-423b-e1b8-923d01bbbbbc"
      },
      "execution_count": 8,
      "outputs": [
        {
          "output_type": "execute_result",
          "data": {
            "text/plain": [
              "((1000, 2), (1000,))"
            ]
          },
          "metadata": {},
          "execution_count": 8
        }
      ]
    },
    {
      "cell_type": "code",
      "source": [
        "#Now length of featuresand labels\n",
        "len(X), len(y)\n"
      ],
      "metadata": {
        "colab": {
          "base_uri": "https://localhost:8080/"
        },
        "id": "FtSNhJ469SLy",
        "outputId": "5480aff1-3352-48b5-f46f-1de13fa4d883"
      },
      "execution_count": 9,
      "outputs": [
        {
          "output_type": "execute_result",
          "data": {
            "text/plain": [
              "(1000, 1000)"
            ]
          },
          "metadata": {},
          "execution_count": 9
        }
      ]
    },
    {
      "cell_type": "code",
      "source": [
        "#View the first example of features and labels\n",
        "X[0], y[0]"
      ],
      "metadata": {
        "colab": {
          "base_uri": "https://localhost:8080/"
        },
        "id": "GmYjSZEW9aUB",
        "outputId": "20d45411-9aa0-4e3d-ca6a-03e31eafd28c"
      },
      "execution_count": 10,
      "outputs": [
        {
          "output_type": "execute_result",
          "data": {
            "text/plain": [
              "(array([0.75424625, 0.23148074]), 1)"
            ]
          },
          "metadata": {},
          "execution_count": 10
        }
      ]
    },
    {
      "cell_type": "code",
      "source": [
        "#Lets write a NN code with tensorflow\n",
        "#Set the radom seed\n",
        "tf.random.set_seed(42)\n",
        "\n",
        "#1. Create the model with Sequential API\n",
        "model_1 = tf.keras.Sequential([\n",
        "    tf.keras.layers.Dense(1)\n",
        "])\n",
        "\n",
        "#2. Compile the model\n",
        "model_1.compile(loss=tf.keras.losses.BinaryCrossentropy(),\n",
        "              optimizer=tf.keras.optimizers.SGD(),\n",
        "              metrics=[\"accuracy\"]) # Accuracy states : out of 100 samples how manyour model get it right\n",
        "\n",
        "#3. Fit the model\n",
        "model_1.fit(X,y,epochs=100)\n",
        "\n",
        "#4. evaluate the model\n",
        "model_1.evaluate(X,y)\n"
      ],
      "metadata": {
        "colab": {
          "base_uri": "https://localhost:8080/"
        },
        "id": "qYbjlkTi9hPH",
        "outputId": "3d51dd0c-13ef-4065-e105-64e01da3fdcc"
      },
      "execution_count": 11,
      "outputs": [
        {
          "output_type": "stream",
          "name": "stdout",
          "text": [
            "Epoch 1/100\n",
            "\u001b[1m32/32\u001b[0m \u001b[32m━━━━━━━━━━━━━━━━━━━━\u001b[0m\u001b[37m\u001b[0m \u001b[1m1s\u001b[0m 4ms/step - accuracy: 0.4780 - loss: 3.0673\n",
            "Epoch 2/100\n",
            "\u001b[1m32/32\u001b[0m \u001b[32m━━━━━━━━━━━━━━━━━━━━\u001b[0m\u001b[37m\u001b[0m \u001b[1m0s\u001b[0m 4ms/step - accuracy: 0.5115 - loss: 0.6961\n",
            "Epoch 3/100\n",
            "\u001b[1m32/32\u001b[0m \u001b[32m━━━━━━━━━━━━━━━━━━━━\u001b[0m\u001b[37m\u001b[0m \u001b[1m0s\u001b[0m 4ms/step - accuracy: 0.5080 - loss: 0.6945\n",
            "Epoch 4/100\n",
            "\u001b[1m32/32\u001b[0m \u001b[32m━━━━━━━━━━━━━━━━━━━━\u001b[0m\u001b[37m\u001b[0m \u001b[1m0s\u001b[0m 3ms/step - accuracy: 0.4974 - loss: 0.6943\n",
            "Epoch 5/100\n",
            "\u001b[1m32/32\u001b[0m \u001b[32m━━━━━━━━━━━━━━━━━━━━\u001b[0m\u001b[37m\u001b[0m \u001b[1m0s\u001b[0m 4ms/step - accuracy: 0.4848 - loss: 0.6944\n",
            "Epoch 6/100\n",
            "\u001b[1m32/32\u001b[0m \u001b[32m━━━━━━━━━━━━━━━━━━━━\u001b[0m\u001b[37m\u001b[0m \u001b[1m0s\u001b[0m 4ms/step - accuracy: 0.4453 - loss: 0.6945\n",
            "Epoch 7/100\n",
            "\u001b[1m32/32\u001b[0m \u001b[32m━━━━━━━━━━━━━━━━━━━━\u001b[0m\u001b[37m\u001b[0m \u001b[1m0s\u001b[0m 4ms/step - accuracy: 0.4451 - loss: 0.6946\n",
            "Epoch 8/100\n",
            "\u001b[1m32/32\u001b[0m \u001b[32m━━━━━━━━━━━━━━━━━━━━\u001b[0m\u001b[37m\u001b[0m \u001b[1m0s\u001b[0m 4ms/step - accuracy: 0.4187 - loss: 0.6947\n",
            "Epoch 9/100\n",
            "\u001b[1m32/32\u001b[0m \u001b[32m━━━━━━━━━━━━━━━━━━━━\u001b[0m\u001b[37m\u001b[0m \u001b[1m0s\u001b[0m 7ms/step - accuracy: 0.4186 - loss: 0.6948\n",
            "Epoch 10/100\n",
            "\u001b[1m32/32\u001b[0m \u001b[32m━━━━━━━━━━━━━━━━━━━━\u001b[0m\u001b[37m\u001b[0m \u001b[1m0s\u001b[0m 5ms/step - accuracy: 0.4246 - loss: 0.6948\n",
            "Epoch 11/100\n",
            "\u001b[1m32/32\u001b[0m \u001b[32m━━━━━━━━━━━━━━━━━━━━\u001b[0m\u001b[37m\u001b[0m \u001b[1m0s\u001b[0m 5ms/step - accuracy: 0.4251 - loss: 0.6948\n",
            "Epoch 12/100\n",
            "\u001b[1m32/32\u001b[0m \u001b[32m━━━━━━━━━━━━━━━━━━━━\u001b[0m\u001b[37m\u001b[0m \u001b[1m0s\u001b[0m 4ms/step - accuracy: 0.4322 - loss: 0.6948\n",
            "Epoch 13/100\n",
            "\u001b[1m32/32\u001b[0m \u001b[32m━━━━━━━━━━━━━━━━━━━━\u001b[0m\u001b[37m\u001b[0m \u001b[1m0s\u001b[0m 6ms/step - accuracy: 0.4305 - loss: 0.6948\n",
            "Epoch 14/100\n",
            "\u001b[1m32/32\u001b[0m \u001b[32m━━━━━━━━━━━━━━━━━━━━\u001b[0m\u001b[37m\u001b[0m \u001b[1m0s\u001b[0m 4ms/step - accuracy: 0.4294 - loss: 0.6948\n",
            "Epoch 15/100\n",
            "\u001b[1m32/32\u001b[0m \u001b[32m━━━━━━━━━━━━━━━━━━━━\u001b[0m\u001b[37m\u001b[0m \u001b[1m0s\u001b[0m 5ms/step - accuracy: 0.4280 - loss: 0.6948\n",
            "Epoch 16/100\n",
            "\u001b[1m32/32\u001b[0m \u001b[32m━━━━━━━━━━━━━━━━━━━━\u001b[0m\u001b[37m\u001b[0m \u001b[1m0s\u001b[0m 5ms/step - accuracy: 0.4271 - loss: 0.6948\n",
            "Epoch 17/100\n",
            "\u001b[1m32/32\u001b[0m \u001b[32m━━━━━━━━━━━━━━━━━━━━\u001b[0m\u001b[37m\u001b[0m \u001b[1m0s\u001b[0m 4ms/step - accuracy: 0.4271 - loss: 0.6948\n",
            "Epoch 18/100\n",
            "\u001b[1m32/32\u001b[0m \u001b[32m━━━━━━━━━━━━━━━━━━━━\u001b[0m\u001b[37m\u001b[0m \u001b[1m0s\u001b[0m 5ms/step - accuracy: 0.4271 - loss: 0.6948\n",
            "Epoch 19/100\n",
            "\u001b[1m32/32\u001b[0m \u001b[32m━━━━━━━━━━━━━━━━━━━━\u001b[0m\u001b[37m\u001b[0m \u001b[1m0s\u001b[0m 5ms/step - accuracy: 0.4271 - loss: 0.6948\n",
            "Epoch 20/100\n",
            "\u001b[1m32/32\u001b[0m \u001b[32m━━━━━━━━━━━━━━━━━━━━\u001b[0m\u001b[37m\u001b[0m \u001b[1m0s\u001b[0m 4ms/step - accuracy: 0.4271 - loss: 0.6948\n",
            "Epoch 21/100\n",
            "\u001b[1m32/32\u001b[0m \u001b[32m━━━━━━━━━━━━━━━━━━━━\u001b[0m\u001b[37m\u001b[0m \u001b[1m0s\u001b[0m 4ms/step - accuracy: 0.4271 - loss: 0.6948\n",
            "Epoch 22/100\n",
            "\u001b[1m32/32\u001b[0m \u001b[32m━━━━━━━━━━━━━━━━━━━━\u001b[0m\u001b[37m\u001b[0m \u001b[1m0s\u001b[0m 4ms/step - accuracy: 0.4271 - loss: 0.6948\n",
            "Epoch 23/100\n",
            "\u001b[1m32/32\u001b[0m \u001b[32m━━━━━━━━━━━━━━━━━━━━\u001b[0m\u001b[37m\u001b[0m \u001b[1m0s\u001b[0m 4ms/step - accuracy: 0.4271 - loss: 0.6948\n",
            "Epoch 24/100\n",
            "\u001b[1m32/32\u001b[0m \u001b[32m━━━━━━━━━━━━━━━━━━━━\u001b[0m\u001b[37m\u001b[0m \u001b[1m0s\u001b[0m 4ms/step - accuracy: 0.4271 - loss: 0.6948\n",
            "Epoch 25/100\n",
            "\u001b[1m32/32\u001b[0m \u001b[32m━━━━━━━━━━━━━━━━━━━━\u001b[0m\u001b[37m\u001b[0m \u001b[1m0s\u001b[0m 3ms/step - accuracy: 0.4271 - loss: 0.6948\n",
            "Epoch 26/100\n",
            "\u001b[1m32/32\u001b[0m \u001b[32m━━━━━━━━━━━━━━━━━━━━\u001b[0m\u001b[37m\u001b[0m \u001b[1m0s\u001b[0m 3ms/step - accuracy: 0.4271 - loss: 0.6948\n",
            "Epoch 27/100\n",
            "\u001b[1m32/32\u001b[0m \u001b[32m━━━━━━━━━━━━━━━━━━━━\u001b[0m\u001b[37m\u001b[0m \u001b[1m0s\u001b[0m 4ms/step - accuracy: 0.4271 - loss: 0.6948\n",
            "Epoch 28/100\n",
            "\u001b[1m32/32\u001b[0m \u001b[32m━━━━━━━━━━━━━━━━━━━━\u001b[0m\u001b[37m\u001b[0m \u001b[1m0s\u001b[0m 4ms/step - accuracy: 0.4271 - loss: 0.6948\n",
            "Epoch 29/100\n",
            "\u001b[1m32/32\u001b[0m \u001b[32m━━━━━━━━━━━━━━━━━━━━\u001b[0m\u001b[37m\u001b[0m \u001b[1m0s\u001b[0m 3ms/step - accuracy: 0.4271 - loss: 0.6948\n",
            "Epoch 30/100\n",
            "\u001b[1m32/32\u001b[0m \u001b[32m━━━━━━━━━━━━━━━━━━━━\u001b[0m\u001b[37m\u001b[0m \u001b[1m0s\u001b[0m 4ms/step - accuracy: 0.4271 - loss: 0.6948\n",
            "Epoch 31/100\n",
            "\u001b[1m32/32\u001b[0m \u001b[32m━━━━━━━━━━━━━━━━━━━━\u001b[0m\u001b[37m\u001b[0m \u001b[1m0s\u001b[0m 4ms/step - accuracy: 0.4271 - loss: 0.6948\n",
            "Epoch 32/100\n",
            "\u001b[1m32/32\u001b[0m \u001b[32m━━━━━━━━━━━━━━━━━━━━\u001b[0m\u001b[37m\u001b[0m \u001b[1m0s\u001b[0m 4ms/step - accuracy: 0.4271 - loss: 0.6948\n",
            "Epoch 33/100\n",
            "\u001b[1m32/32\u001b[0m \u001b[32m━━━━━━━━━━━━━━━━━━━━\u001b[0m\u001b[37m\u001b[0m \u001b[1m0s\u001b[0m 4ms/step - accuracy: 0.4271 - loss: 0.6948\n",
            "Epoch 34/100\n",
            "\u001b[1m32/32\u001b[0m \u001b[32m━━━━━━━━━━━━━━━━━━━━\u001b[0m\u001b[37m\u001b[0m \u001b[1m0s\u001b[0m 5ms/step - accuracy: 0.4271 - loss: 0.6948\n",
            "Epoch 35/100\n",
            "\u001b[1m32/32\u001b[0m \u001b[32m━━━━━━━━━━━━━━━━━━━━\u001b[0m\u001b[37m\u001b[0m \u001b[1m0s\u001b[0m 6ms/step - accuracy: 0.4271 - loss: 0.6948\n",
            "Epoch 36/100\n",
            "\u001b[1m32/32\u001b[0m \u001b[32m━━━━━━━━━━━━━━━━━━━━\u001b[0m\u001b[37m\u001b[0m \u001b[1m0s\u001b[0m 5ms/step - accuracy: 0.4271 - loss: 0.6948\n",
            "Epoch 37/100\n",
            "\u001b[1m32/32\u001b[0m \u001b[32m━━━━━━━━━━━━━━━━━━━━\u001b[0m\u001b[37m\u001b[0m \u001b[1m0s\u001b[0m 4ms/step - accuracy: 0.4271 - loss: 0.6948\n",
            "Epoch 38/100\n",
            "\u001b[1m32/32\u001b[0m \u001b[32m━━━━━━━━━━━━━━━━━━━━\u001b[0m\u001b[37m\u001b[0m \u001b[1m0s\u001b[0m 6ms/step - accuracy: 0.4271 - loss: 0.6948\n",
            "Epoch 39/100\n",
            "\u001b[1m32/32\u001b[0m \u001b[32m━━━━━━━━━━━━━━━━━━━━\u001b[0m\u001b[37m\u001b[0m \u001b[1m0s\u001b[0m 8ms/step - accuracy: 0.4271 - loss: 0.6948\n",
            "Epoch 40/100\n",
            "\u001b[1m32/32\u001b[0m \u001b[32m━━━━━━━━━━━━━━━━━━━━\u001b[0m\u001b[37m\u001b[0m \u001b[1m0s\u001b[0m 3ms/step - accuracy: 0.4271 - loss: 0.6948\n",
            "Epoch 41/100\n",
            "\u001b[1m32/32\u001b[0m \u001b[32m━━━━━━━━━━━━━━━━━━━━\u001b[0m\u001b[37m\u001b[0m \u001b[1m0s\u001b[0m 4ms/step - accuracy: 0.4271 - loss: 0.6948\n",
            "Epoch 42/100\n",
            "\u001b[1m32/32\u001b[0m \u001b[32m━━━━━━━━━━━━━━━━━━━━\u001b[0m\u001b[37m\u001b[0m \u001b[1m0s\u001b[0m 4ms/step - accuracy: 0.4271 - loss: 0.6948\n",
            "Epoch 43/100\n",
            "\u001b[1m32/32\u001b[0m \u001b[32m━━━━━━━━━━━━━━━━━━━━\u001b[0m\u001b[37m\u001b[0m \u001b[1m0s\u001b[0m 4ms/step - accuracy: 0.4271 - loss: 0.6948\n",
            "Epoch 44/100\n",
            "\u001b[1m32/32\u001b[0m \u001b[32m━━━━━━━━━━━━━━━━━━━━\u001b[0m\u001b[37m\u001b[0m \u001b[1m0s\u001b[0m 5ms/step - accuracy: 0.4271 - loss: 0.6948\n",
            "Epoch 45/100\n",
            "\u001b[1m32/32\u001b[0m \u001b[32m━━━━━━━━━━━━━━━━━━━━\u001b[0m\u001b[37m\u001b[0m \u001b[1m0s\u001b[0m 3ms/step - accuracy: 0.4271 - loss: 0.6948\n",
            "Epoch 46/100\n",
            "\u001b[1m32/32\u001b[0m \u001b[32m━━━━━━━━━━━━━━━━━━━━\u001b[0m\u001b[37m\u001b[0m \u001b[1m0s\u001b[0m 4ms/step - accuracy: 0.4271 - loss: 0.6948\n",
            "Epoch 47/100\n",
            "\u001b[1m32/32\u001b[0m \u001b[32m━━━━━━━━━━━━━━━━━━━━\u001b[0m\u001b[37m\u001b[0m \u001b[1m0s\u001b[0m 4ms/step - accuracy: 0.4271 - loss: 0.6948\n",
            "Epoch 48/100\n",
            "\u001b[1m32/32\u001b[0m \u001b[32m━━━━━━━━━━━━━━━━━━━━\u001b[0m\u001b[37m\u001b[0m \u001b[1m0s\u001b[0m 4ms/step - accuracy: 0.4271 - loss: 0.6948\n",
            "Epoch 49/100\n",
            "\u001b[1m32/32\u001b[0m \u001b[32m━━━━━━━━━━━━━━━━━━━━\u001b[0m\u001b[37m\u001b[0m \u001b[1m0s\u001b[0m 4ms/step - accuracy: 0.4271 - loss: 0.6948\n",
            "Epoch 50/100\n",
            "\u001b[1m32/32\u001b[0m \u001b[32m━━━━━━━━━━━━━━━━━━━━\u001b[0m\u001b[37m\u001b[0m \u001b[1m0s\u001b[0m 4ms/step - accuracy: 0.4271 - loss: 0.6948\n",
            "Epoch 51/100\n",
            "\u001b[1m32/32\u001b[0m \u001b[32m━━━━━━━━━━━━━━━━━━━━\u001b[0m\u001b[37m\u001b[0m \u001b[1m0s\u001b[0m 4ms/step - accuracy: 0.4271 - loss: 0.6948\n",
            "Epoch 52/100\n",
            "\u001b[1m32/32\u001b[0m \u001b[32m━━━━━━━━━━━━━━━━━━━━\u001b[0m\u001b[37m\u001b[0m \u001b[1m0s\u001b[0m 5ms/step - accuracy: 0.4271 - loss: 0.6948\n",
            "Epoch 53/100\n",
            "\u001b[1m32/32\u001b[0m \u001b[32m━━━━━━━━━━━━━━━━━━━━\u001b[0m\u001b[37m\u001b[0m \u001b[1m0s\u001b[0m 4ms/step - accuracy: 0.4271 - loss: 0.6948\n",
            "Epoch 54/100\n",
            "\u001b[1m32/32\u001b[0m \u001b[32m━━━━━━━━━━━━━━━━━━━━\u001b[0m\u001b[37m\u001b[0m \u001b[1m0s\u001b[0m 4ms/step - accuracy: 0.4271 - loss: 0.6948\n",
            "Epoch 55/100\n",
            "\u001b[1m32/32\u001b[0m \u001b[32m━━━━━━━━━━━━━━━━━━━━\u001b[0m\u001b[37m\u001b[0m \u001b[1m0s\u001b[0m 4ms/step - accuracy: 0.4271 - loss: 0.6948\n",
            "Epoch 56/100\n",
            "\u001b[1m32/32\u001b[0m \u001b[32m━━━━━━━━━━━━━━━━━━━━\u001b[0m\u001b[37m\u001b[0m \u001b[1m0s\u001b[0m 4ms/step - accuracy: 0.4271 - loss: 0.6948\n",
            "Epoch 57/100\n",
            "\u001b[1m32/32\u001b[0m \u001b[32m━━━━━━━━━━━━━━━━━━━━\u001b[0m\u001b[37m\u001b[0m \u001b[1m0s\u001b[0m 4ms/step - accuracy: 0.4271 - loss: 0.6948\n",
            "Epoch 58/100\n",
            "\u001b[1m32/32\u001b[0m \u001b[32m━━━━━━━━━━━━━━━━━━━━\u001b[0m\u001b[37m\u001b[0m \u001b[1m0s\u001b[0m 4ms/step - accuracy: 0.4271 - loss: 0.6948\n",
            "Epoch 59/100\n",
            "\u001b[1m32/32\u001b[0m \u001b[32m━━━━━━━━━━━━━━━━━━━━\u001b[0m\u001b[37m\u001b[0m \u001b[1m0s\u001b[0m 4ms/step - accuracy: 0.4271 - loss: 0.6948\n",
            "Epoch 60/100\n",
            "\u001b[1m32/32\u001b[0m \u001b[32m━━━━━━━━━━━━━━━━━━━━\u001b[0m\u001b[37m\u001b[0m \u001b[1m0s\u001b[0m 4ms/step - accuracy: 0.4271 - loss: 0.6948\n",
            "Epoch 61/100\n",
            "\u001b[1m32/32\u001b[0m \u001b[32m━━━━━━━━━━━━━━━━━━━━\u001b[0m\u001b[37m\u001b[0m \u001b[1m0s\u001b[0m 4ms/step - accuracy: 0.4271 - loss: 0.6948\n",
            "Epoch 62/100\n",
            "\u001b[1m32/32\u001b[0m \u001b[32m━━━━━━━━━━━━━━━━━━━━\u001b[0m\u001b[37m\u001b[0m \u001b[1m0s\u001b[0m 5ms/step - accuracy: 0.4271 - loss: 0.6948\n",
            "Epoch 63/100\n",
            "\u001b[1m32/32\u001b[0m \u001b[32m━━━━━━━━━━━━━━━━━━━━\u001b[0m\u001b[37m\u001b[0m \u001b[1m0s\u001b[0m 6ms/step - accuracy: 0.4271 - loss: 0.6948\n",
            "Epoch 64/100\n",
            "\u001b[1m32/32\u001b[0m \u001b[32m━━━━━━━━━━━━━━━━━━━━\u001b[0m\u001b[37m\u001b[0m \u001b[1m0s\u001b[0m 6ms/step - accuracy: 0.4271 - loss: 0.6948\n",
            "Epoch 65/100\n",
            "\u001b[1m32/32\u001b[0m \u001b[32m━━━━━━━━━━━━━━━━━━━━\u001b[0m\u001b[37m\u001b[0m \u001b[1m0s\u001b[0m 6ms/step - accuracy: 0.4271 - loss: 0.6948\n",
            "Epoch 66/100\n",
            "\u001b[1m32/32\u001b[0m \u001b[32m━━━━━━━━━━━━━━━━━━━━\u001b[0m\u001b[37m\u001b[0m \u001b[1m0s\u001b[0m 4ms/step - accuracy: 0.4271 - loss: 0.6948\n",
            "Epoch 67/100\n",
            "\u001b[1m32/32\u001b[0m \u001b[32m━━━━━━━━━━━━━━━━━━━━\u001b[0m\u001b[37m\u001b[0m \u001b[1m0s\u001b[0m 7ms/step - accuracy: 0.4271 - loss: 0.6948\n",
            "Epoch 68/100\n",
            "\u001b[1m32/32\u001b[0m \u001b[32m━━━━━━━━━━━━━━━━━━━━\u001b[0m\u001b[37m\u001b[0m \u001b[1m0s\u001b[0m 6ms/step - accuracy: 0.4271 - loss: 0.6948\n",
            "Epoch 69/100\n",
            "\u001b[1m32/32\u001b[0m \u001b[32m━━━━━━━━━━━━━━━━━━━━\u001b[0m\u001b[37m\u001b[0m \u001b[1m0s\u001b[0m 5ms/step - accuracy: 0.4271 - loss: 0.6948\n",
            "Epoch 70/100\n",
            "\u001b[1m32/32\u001b[0m \u001b[32m━━━━━━━━━━━━━━━━━━━━\u001b[0m\u001b[37m\u001b[0m \u001b[1m0s\u001b[0m 5ms/step - accuracy: 0.4271 - loss: 0.6948\n",
            "Epoch 71/100\n",
            "\u001b[1m32/32\u001b[0m \u001b[32m━━━━━━━━━━━━━━━━━━━━\u001b[0m\u001b[37m\u001b[0m \u001b[1m0s\u001b[0m 6ms/step - accuracy: 0.4271 - loss: 0.6948\n",
            "Epoch 72/100\n",
            "\u001b[1m32/32\u001b[0m \u001b[32m━━━━━━━━━━━━━━━━━━━━\u001b[0m\u001b[37m\u001b[0m \u001b[1m0s\u001b[0m 6ms/step - accuracy: 0.4271 - loss: 0.6948\n",
            "Epoch 73/100\n",
            "\u001b[1m32/32\u001b[0m \u001b[32m━━━━━━━━━━━━━━━━━━━━\u001b[0m\u001b[37m\u001b[0m \u001b[1m0s\u001b[0m 5ms/step - accuracy: 0.4271 - loss: 0.6948\n",
            "Epoch 74/100\n",
            "\u001b[1m32/32\u001b[0m \u001b[32m━━━━━━━━━━━━━━━━━━━━\u001b[0m\u001b[37m\u001b[0m \u001b[1m0s\u001b[0m 5ms/step - accuracy: 0.4271 - loss: 0.6948\n",
            "Epoch 75/100\n",
            "\u001b[1m32/32\u001b[0m \u001b[32m━━━━━━━━━━━━━━━━━━━━\u001b[0m\u001b[37m\u001b[0m \u001b[1m0s\u001b[0m 4ms/step - accuracy: 0.4271 - loss: 0.6948\n",
            "Epoch 76/100\n",
            "\u001b[1m32/32\u001b[0m \u001b[32m━━━━━━━━━━━━━━━━━━━━\u001b[0m\u001b[37m\u001b[0m \u001b[1m0s\u001b[0m 2ms/step - accuracy: 0.4271 - loss: 0.6948\n",
            "Epoch 77/100\n",
            "\u001b[1m32/32\u001b[0m \u001b[32m━━━━━━━━━━━━━━━━━━━━\u001b[0m\u001b[37m\u001b[0m \u001b[1m0s\u001b[0m 3ms/step - accuracy: 0.4271 - loss: 0.6948\n",
            "Epoch 78/100\n",
            "\u001b[1m32/32\u001b[0m \u001b[32m━━━━━━━━━━━━━━━━━━━━\u001b[0m\u001b[37m\u001b[0m \u001b[1m0s\u001b[0m 2ms/step - accuracy: 0.4271 - loss: 0.6948\n",
            "Epoch 79/100\n",
            "\u001b[1m32/32\u001b[0m \u001b[32m━━━━━━━━━━━━━━━━━━━━\u001b[0m\u001b[37m\u001b[0m \u001b[1m0s\u001b[0m 2ms/step - accuracy: 0.4271 - loss: 0.6948\n",
            "Epoch 80/100\n",
            "\u001b[1m32/32\u001b[0m \u001b[32m━━━━━━━━━━━━━━━━━━━━\u001b[0m\u001b[37m\u001b[0m \u001b[1m0s\u001b[0m 3ms/step - accuracy: 0.4271 - loss: 0.6948\n",
            "Epoch 81/100\n",
            "\u001b[1m32/32\u001b[0m \u001b[32m━━━━━━━━━━━━━━━━━━━━\u001b[0m\u001b[37m\u001b[0m \u001b[1m0s\u001b[0m 2ms/step - accuracy: 0.4271 - loss: 0.6948\n",
            "Epoch 82/100\n",
            "\u001b[1m32/32\u001b[0m \u001b[32m━━━━━━━━━━━━━━━━━━━━\u001b[0m\u001b[37m\u001b[0m \u001b[1m0s\u001b[0m 4ms/step - accuracy: 0.4271 - loss: 0.6948\n",
            "Epoch 83/100\n",
            "\u001b[1m32/32\u001b[0m \u001b[32m━━━━━━━━━━━━━━━━━━━━\u001b[0m\u001b[37m\u001b[0m \u001b[1m0s\u001b[0m 4ms/step - accuracy: 0.4271 - loss: 0.6948\n",
            "Epoch 84/100\n",
            "\u001b[1m32/32\u001b[0m \u001b[32m━━━━━━━━━━━━━━━━━━━━\u001b[0m\u001b[37m\u001b[0m \u001b[1m0s\u001b[0m 3ms/step - accuracy: 0.4271 - loss: 0.6948\n",
            "Epoch 85/100\n",
            "\u001b[1m32/32\u001b[0m \u001b[32m━━━━━━━━━━━━━━━━━━━━\u001b[0m\u001b[37m\u001b[0m \u001b[1m0s\u001b[0m 3ms/step - accuracy: 0.4271 - loss: 0.6948\n",
            "Epoch 86/100\n",
            "\u001b[1m32/32\u001b[0m \u001b[32m━━━━━━━━━━━━━━━━━━━━\u001b[0m\u001b[37m\u001b[0m \u001b[1m0s\u001b[0m 3ms/step - accuracy: 0.4271 - loss: 0.6948\n",
            "Epoch 87/100\n",
            "\u001b[1m32/32\u001b[0m \u001b[32m━━━━━━━━━━━━━━━━━━━━\u001b[0m\u001b[37m\u001b[0m \u001b[1m0s\u001b[0m 3ms/step - accuracy: 0.4271 - loss: 0.6948\n",
            "Epoch 88/100\n",
            "\u001b[1m32/32\u001b[0m \u001b[32m━━━━━━━━━━━━━━━━━━━━\u001b[0m\u001b[37m\u001b[0m \u001b[1m0s\u001b[0m 4ms/step - accuracy: 0.4271 - loss: 0.6948\n",
            "Epoch 89/100\n",
            "\u001b[1m32/32\u001b[0m \u001b[32m━━━━━━━━━━━━━━━━━━━━\u001b[0m\u001b[37m\u001b[0m \u001b[1m0s\u001b[0m 3ms/step - accuracy: 0.4271 - loss: 0.6948\n",
            "Epoch 90/100\n",
            "\u001b[1m32/32\u001b[0m \u001b[32m━━━━━━━━━━━━━━━━━━━━\u001b[0m\u001b[37m\u001b[0m \u001b[1m0s\u001b[0m 3ms/step - accuracy: 0.4271 - loss: 0.6948\n",
            "Epoch 91/100\n",
            "\u001b[1m32/32\u001b[0m \u001b[32m━━━━━━━━━━━━━━━━━━━━\u001b[0m\u001b[37m\u001b[0m \u001b[1m0s\u001b[0m 3ms/step - accuracy: 0.4271 - loss: 0.6948\n",
            "Epoch 92/100\n",
            "\u001b[1m32/32\u001b[0m \u001b[32m━━━━━━━━━━━━━━━━━━━━\u001b[0m\u001b[37m\u001b[0m \u001b[1m0s\u001b[0m 3ms/step - accuracy: 0.4271 - loss: 0.6948\n",
            "Epoch 93/100\n",
            "\u001b[1m32/32\u001b[0m \u001b[32m━━━━━━━━━━━━━━━━━━━━\u001b[0m\u001b[37m\u001b[0m \u001b[1m0s\u001b[0m 3ms/step - accuracy: 0.4271 - loss: 0.6948\n",
            "Epoch 94/100\n",
            "\u001b[1m32/32\u001b[0m \u001b[32m━━━━━━━━━━━━━━━━━━━━\u001b[0m\u001b[37m\u001b[0m \u001b[1m0s\u001b[0m 3ms/step - accuracy: 0.4271 - loss: 0.6948\n",
            "Epoch 95/100\n",
            "\u001b[1m32/32\u001b[0m \u001b[32m━━━━━━━━━━━━━━━━━━━━\u001b[0m\u001b[37m\u001b[0m \u001b[1m0s\u001b[0m 3ms/step - accuracy: 0.4271 - loss: 0.6948\n",
            "Epoch 96/100\n",
            "\u001b[1m32/32\u001b[0m \u001b[32m━━━━━━━━━━━━━━━━━━━━\u001b[0m\u001b[37m\u001b[0m \u001b[1m0s\u001b[0m 3ms/step - accuracy: 0.4271 - loss: 0.6948\n",
            "Epoch 97/100\n",
            "\u001b[1m32/32\u001b[0m \u001b[32m━━━━━━━━━━━━━━━━━━━━\u001b[0m\u001b[37m\u001b[0m \u001b[1m0s\u001b[0m 3ms/step - accuracy: 0.4271 - loss: 0.6948\n",
            "Epoch 98/100\n",
            "\u001b[1m32/32\u001b[0m \u001b[32m━━━━━━━━━━━━━━━━━━━━\u001b[0m\u001b[37m\u001b[0m \u001b[1m0s\u001b[0m 3ms/step - accuracy: 0.4271 - loss: 0.6948\n",
            "Epoch 99/100\n",
            "\u001b[1m32/32\u001b[0m \u001b[32m━━━━━━━━━━━━━━━━━━━━\u001b[0m\u001b[37m\u001b[0m \u001b[1m0s\u001b[0m 4ms/step - accuracy: 0.4271 - loss: 0.6948\n",
            "Epoch 100/100\n",
            "\u001b[1m32/32\u001b[0m \u001b[32m━━━━━━━━━━━━━━━━━━━━\u001b[0m\u001b[37m\u001b[0m \u001b[1m0s\u001b[0m 3ms/step - accuracy: 0.4271 - loss: 0.6948\n",
            "\u001b[1m32/32\u001b[0m \u001b[32m━━━━━━━━━━━━━━━━━━━━\u001b[0m\u001b[37m\u001b[0m \u001b[1m0s\u001b[0m 3ms/step - accuracy: 0.4852 - loss: 0.6927\n"
          ]
        },
        {
          "output_type": "execute_result",
          "data": {
            "text/plain": [
              "[0.6932879686355591, 0.4729999899864197]"
            ]
          },
          "metadata": {},
          "execution_count": 11
        }
      ]
    },
    {
      "cell_type": "code",
      "source": [
        "#Lets improve our model by training it longer. Its 48% accurate till now\n",
        "model_1.fit(X,y,epochs=100, verbose=0)\n",
        "model_1.evaluate(X,y)"
      ],
      "metadata": {
        "colab": {
          "base_uri": "https://localhost:8080/"
        },
        "id": "bJmvSvgQBki6",
        "outputId": "acd6b71c-33e3-49bd-ef18-902176f8c1dc"
      },
      "execution_count": 12,
      "outputs": [
        {
          "output_type": "stream",
          "name": "stdout",
          "text": [
            "\u001b[1m32/32\u001b[0m \u001b[32m━━━━━━━━━━━━━━━━━━━━\u001b[0m\u001b[37m\u001b[0m \u001b[1m0s\u001b[0m 2ms/step - accuracy: 0.4852 - loss: 0.6927 \n"
          ]
        },
        {
          "output_type": "execute_result",
          "data": {
            "text/plain": [
              "[0.6932879686355591, 0.4729999899864197]"
            ]
          },
          "metadata": {},
          "execution_count": 12
        }
      ]
    },
    {
      "cell_type": "markdown",
      "source": [
        "Since we are working on Binary classification problem. Our model is getting 48% accuracy. Its just guessing. Lets add one more layer."
      ],
      "metadata": {
        "id": "P-MtOgXMB3PX"
      }
    },
    {
      "cell_type": "code",
      "source": [
        "#Set random seeed\n",
        "tf.random.set_seed(42)\n",
        "\n",
        "#1. Create the model\n",
        "model_2 = tf.keras.Sequential([\n",
        "    tf.keras.layers.Dense(1),\n",
        "    tf.keras.layers.Dense(1)\n",
        "])\n",
        "\n",
        "#2. Compile the model\n",
        "model_2.compile(loss=tf.keras.losses.BinaryCrossentropy(),\n",
        "                optimizer=tf.keras.optimizers.SGD(),\n",
        "                metrics=[\"accuracy\"])\n",
        "\n",
        "#3. Fit the model\n",
        "model_2.fit(X,y,epochs=100, verbose=0)\n",
        "\n",
        "#4. Evaluate the model\n",
        "model_2.evaluate(X,y)"
      ],
      "metadata": {
        "colab": {
          "base_uri": "https://localhost:8080/"
        },
        "id": "JI7IHuCzB119",
        "outputId": "e522469b-073f-40dc-ab83-82cc03b6766e"
      },
      "execution_count": 13,
      "outputs": [
        {
          "output_type": "stream",
          "name": "stdout",
          "text": [
            "\u001b[1m32/32\u001b[0m \u001b[32m━━━━━━━━━━━━━━━━━━━━\u001b[0m\u001b[37m\u001b[0m \u001b[1m0s\u001b[0m 2ms/step - accuracy: 0.4765 - loss: 0.6926  \n"
          ]
        },
        {
          "output_type": "execute_result",
          "data": {
            "text/plain": [
              "[0.6932761073112488, 0.46700000762939453]"
            ]
          },
          "metadata": {},
          "execution_count": 13
        }
      ]
    },
    {
      "cell_type": "markdown",
      "source": [
        "# Improving the model\n",
        "\n",
        "1. Create a model - Add more layers or increase the number of hidden units within a layer\n",
        "2. Compile a model - Here we might want to choose a different optimization function such as atom instead of SGD(). Change activation function, optimization function\n",
        "3. Fitting a model - Perhaps we might fit our model for more epochs (leaving it training for longer). Change learning rate"
      ],
      "metadata": {
        "id": "QxKCLR2FDfsl"
      }
    },
    {
      "cell_type": "code",
      "source": [
        "#Set random seed\n",
        "tf.random.set_seed(42)\n",
        "\n",
        "#1. Create a model with 3 layers now\n",
        "model_3 = tf.keras.Sequential([\n",
        "    tf.keras.layers.Dense(100),\n",
        "    tf.keras.layers.Dense(10),\n",
        "    tf.keras.layers.Dense(1)\n",
        "])\n",
        "\n",
        "#2. Compile the model with new optimizer Adam instead of SGD\n",
        "model_3.compile(loss=tf.keras.losses.BinaryCrossentropy(),\n",
        "                optimizer = tf.keras.optimizers.Adam(),\n",
        "                metrics=[\"accuracy\"])\n",
        "\n",
        "#3. Fit the mode\n",
        "model_3.fit(X,y,epochs=100, verbose=0)\n"
      ],
      "metadata": {
        "colab": {
          "base_uri": "https://localhost:8080/"
        },
        "id": "smWuRtHvDk85",
        "outputId": "e718e582-a587-4e8c-abab-6ffcf3d24543"
      },
      "execution_count": 14,
      "outputs": [
        {
          "output_type": "execute_result",
          "data": {
            "text/plain": [
              "<keras.src.callbacks.history.History at 0x78fefa8a5850>"
            ]
          },
          "metadata": {},
          "execution_count": 14
        }
      ]
    },
    {
      "cell_type": "code",
      "source": [
        "#Evaluate the model\n",
        "model_3.evaluate(X,y)"
      ],
      "metadata": {
        "colab": {
          "base_uri": "https://localhost:8080/"
        },
        "id": "dV15eS4CFYth",
        "outputId": "cc106cf5-6f35-4f75-9509-c10499ae7f97"
      },
      "execution_count": 15,
      "outputs": [
        {
          "output_type": "stream",
          "name": "stdout",
          "text": [
            "\u001b[1m32/32\u001b[0m \u001b[32m━━━━━━━━━━━━━━━━━━━━\u001b[0m\u001b[37m\u001b[0m \u001b[1m0s\u001b[0m 3ms/step - accuracy: 0.5080 - loss: 0.6916\n"
          ]
        },
        {
          "output_type": "execute_result",
          "data": {
            "text/plain": [
              "[0.6948869228363037, 0.49000000953674316]"
            ]
          },
          "metadata": {},
          "execution_count": 15
        }
      ]
    },
    {
      "cell_type": "markdown",
      "source": [
        "Its still 100%. Its better we visualize the predictions and see whats happening and then we can fine tune the model."
      ],
      "metadata": {
        "id": "Zwty6HX2FliD"
      }
    },
    {
      "cell_type": "code",
      "source": [
        "#Check modles summary\n",
        "model_1.summary()\n",
        "model_2.summary()\n",
        "model_3.summary()"
      ],
      "metadata": {
        "colab": {
          "base_uri": "https://localhost:8080/",
          "height": 617
        },
        "id": "kfMu4XW8Fk9O",
        "outputId": "1bf33136-6881-46d2-ad08-3f5a771fa296"
      },
      "execution_count": 16,
      "outputs": [
        {
          "output_type": "display_data",
          "data": {
            "text/plain": [
              "\u001b[1mModel: \"sequential\"\u001b[0m\n"
            ],
            "text/html": [
              "<pre style=\"white-space:pre;overflow-x:auto;line-height:normal;font-family:Menlo,'DejaVu Sans Mono',consolas,'Courier New',monospace\"><span style=\"font-weight: bold\">Model: \"sequential\"</span>\n",
              "</pre>\n"
            ]
          },
          "metadata": {}
        },
        {
          "output_type": "display_data",
          "data": {
            "text/plain": [
              "┏━━━━━━━━━━━━━━━━━━━━━━━━━━━━━━━━━━━━━━┳━━━━━━━━━━━━━━━━━━━━━━━━━━━━━┳━━━━━━━━━━━━━━━━━┓\n",
              "┃\u001b[1m \u001b[0m\u001b[1mLayer (type)                        \u001b[0m\u001b[1m \u001b[0m┃\u001b[1m \u001b[0m\u001b[1mOutput Shape               \u001b[0m\u001b[1m \u001b[0m┃\u001b[1m \u001b[0m\u001b[1m        Param #\u001b[0m\u001b[1m \u001b[0m┃\n",
              "┡━━━━━━━━━━━━━━━━━━━━━━━━━━━━━━━━━━━━━━╇━━━━━━━━━━━━━━━━━━━━━━━━━━━━━╇━━━━━━━━━━━━━━━━━┩\n",
              "│ dense (\u001b[38;5;33mDense\u001b[0m)                        │ (\u001b[38;5;45mNone\u001b[0m, \u001b[38;5;34m1\u001b[0m)                   │               \u001b[38;5;34m3\u001b[0m │\n",
              "└──────────────────────────────────────┴─────────────────────────────┴─────────────────┘\n"
            ],
            "text/html": [
              "<pre style=\"white-space:pre;overflow-x:auto;line-height:normal;font-family:Menlo,'DejaVu Sans Mono',consolas,'Courier New',monospace\">┏━━━━━━━━━━━━━━━━━━━━━━━━━━━━━━━━━━━━━━┳━━━━━━━━━━━━━━━━━━━━━━━━━━━━━┳━━━━━━━━━━━━━━━━━┓\n",
              "┃<span style=\"font-weight: bold\"> Layer (type)                         </span>┃<span style=\"font-weight: bold\"> Output Shape                </span>┃<span style=\"font-weight: bold\">         Param # </span>┃\n",
              "┡━━━━━━━━━━━━━━━━━━━━━━━━━━━━━━━━━━━━━━╇━━━━━━━━━━━━━━━━━━━━━━━━━━━━━╇━━━━━━━━━━━━━━━━━┩\n",
              "│ dense (<span style=\"color: #0087ff; text-decoration-color: #0087ff\">Dense</span>)                        │ (<span style=\"color: #00d7ff; text-decoration-color: #00d7ff\">None</span>, <span style=\"color: #00af00; text-decoration-color: #00af00\">1</span>)                   │               <span style=\"color: #00af00; text-decoration-color: #00af00\">3</span> │\n",
              "└──────────────────────────────────────┴─────────────────────────────┴─────────────────┘\n",
              "</pre>\n"
            ]
          },
          "metadata": {}
        },
        {
          "output_type": "display_data",
          "data": {
            "text/plain": [
              "\u001b[1m Total params: \u001b[0m\u001b[38;5;34m5\u001b[0m (24.00 B)\n"
            ],
            "text/html": [
              "<pre style=\"white-space:pre;overflow-x:auto;line-height:normal;font-family:Menlo,'DejaVu Sans Mono',consolas,'Courier New',monospace\"><span style=\"font-weight: bold\"> Total params: </span><span style=\"color: #00af00; text-decoration-color: #00af00\">5</span> (24.00 B)\n",
              "</pre>\n"
            ]
          },
          "metadata": {}
        },
        {
          "output_type": "display_data",
          "data": {
            "text/plain": [
              "\u001b[1m Trainable params: \u001b[0m\u001b[38;5;34m3\u001b[0m (12.00 B)\n"
            ],
            "text/html": [
              "<pre style=\"white-space:pre;overflow-x:auto;line-height:normal;font-family:Menlo,'DejaVu Sans Mono',consolas,'Courier New',monospace\"><span style=\"font-weight: bold\"> Trainable params: </span><span style=\"color: #00af00; text-decoration-color: #00af00\">3</span> (12.00 B)\n",
              "</pre>\n"
            ]
          },
          "metadata": {}
        },
        {
          "output_type": "display_data",
          "data": {
            "text/plain": [
              "\u001b[1m Non-trainable params: \u001b[0m\u001b[38;5;34m0\u001b[0m (0.00 B)\n"
            ],
            "text/html": [
              "<pre style=\"white-space:pre;overflow-x:auto;line-height:normal;font-family:Menlo,'DejaVu Sans Mono',consolas,'Courier New',monospace\"><span style=\"font-weight: bold\"> Non-trainable params: </span><span style=\"color: #00af00; text-decoration-color: #00af00\">0</span> (0.00 B)\n",
              "</pre>\n"
            ]
          },
          "metadata": {}
        },
        {
          "output_type": "display_data",
          "data": {
            "text/plain": [
              "\u001b[1m Optimizer params: \u001b[0m\u001b[38;5;34m2\u001b[0m (12.00 B)\n"
            ],
            "text/html": [
              "<pre style=\"white-space:pre;overflow-x:auto;line-height:normal;font-family:Menlo,'DejaVu Sans Mono',consolas,'Courier New',monospace\"><span style=\"font-weight: bold\"> Optimizer params: </span><span style=\"color: #00af00; text-decoration-color: #00af00\">2</span> (12.00 B)\n",
              "</pre>\n"
            ]
          },
          "metadata": {}
        },
        {
          "output_type": "display_data",
          "data": {
            "text/plain": [
              "\u001b[1mModel: \"sequential_1\"\u001b[0m\n"
            ],
            "text/html": [
              "<pre style=\"white-space:pre;overflow-x:auto;line-height:normal;font-family:Menlo,'DejaVu Sans Mono',consolas,'Courier New',monospace\"><span style=\"font-weight: bold\">Model: \"sequential_1\"</span>\n",
              "</pre>\n"
            ]
          },
          "metadata": {}
        },
        {
          "output_type": "display_data",
          "data": {
            "text/plain": [
              "┏━━━━━━━━━━━━━━━━━━━━━━━━━━━━━━━━━━━━━━┳━━━━━━━━━━━━━━━━━━━━━━━━━━━━━┳━━━━━━━━━━━━━━━━━┓\n",
              "┃\u001b[1m \u001b[0m\u001b[1mLayer (type)                        \u001b[0m\u001b[1m \u001b[0m┃\u001b[1m \u001b[0m\u001b[1mOutput Shape               \u001b[0m\u001b[1m \u001b[0m┃\u001b[1m \u001b[0m\u001b[1m        Param #\u001b[0m\u001b[1m \u001b[0m┃\n",
              "┡━━━━━━━━━━━━━━━━━━━━━━━━━━━━━━━━━━━━━━╇━━━━━━━━━━━━━━━━━━━━━━━━━━━━━╇━━━━━━━━━━━━━━━━━┩\n",
              "│ dense_1 (\u001b[38;5;33mDense\u001b[0m)                      │ (\u001b[38;5;45mNone\u001b[0m, \u001b[38;5;34m1\u001b[0m)                   │               \u001b[38;5;34m3\u001b[0m │\n",
              "├──────────────────────────────────────┼─────────────────────────────┼─────────────────┤\n",
              "│ dense_2 (\u001b[38;5;33mDense\u001b[0m)                      │ (\u001b[38;5;45mNone\u001b[0m, \u001b[38;5;34m1\u001b[0m)                   │               \u001b[38;5;34m2\u001b[0m │\n",
              "└──────────────────────────────────────┴─────────────────────────────┴─────────────────┘\n"
            ],
            "text/html": [
              "<pre style=\"white-space:pre;overflow-x:auto;line-height:normal;font-family:Menlo,'DejaVu Sans Mono',consolas,'Courier New',monospace\">┏━━━━━━━━━━━━━━━━━━━━━━━━━━━━━━━━━━━━━━┳━━━━━━━━━━━━━━━━━━━━━━━━━━━━━┳━━━━━━━━━━━━━━━━━┓\n",
              "┃<span style=\"font-weight: bold\"> Layer (type)                         </span>┃<span style=\"font-weight: bold\"> Output Shape                </span>┃<span style=\"font-weight: bold\">         Param # </span>┃\n",
              "┡━━━━━━━━━━━━━━━━━━━━━━━━━━━━━━━━━━━━━━╇━━━━━━━━━━━━━━━━━━━━━━━━━━━━━╇━━━━━━━━━━━━━━━━━┩\n",
              "│ dense_1 (<span style=\"color: #0087ff; text-decoration-color: #0087ff\">Dense</span>)                      │ (<span style=\"color: #00d7ff; text-decoration-color: #00d7ff\">None</span>, <span style=\"color: #00af00; text-decoration-color: #00af00\">1</span>)                   │               <span style=\"color: #00af00; text-decoration-color: #00af00\">3</span> │\n",
              "├──────────────────────────────────────┼─────────────────────────────┼─────────────────┤\n",
              "│ dense_2 (<span style=\"color: #0087ff; text-decoration-color: #0087ff\">Dense</span>)                      │ (<span style=\"color: #00d7ff; text-decoration-color: #00d7ff\">None</span>, <span style=\"color: #00af00; text-decoration-color: #00af00\">1</span>)                   │               <span style=\"color: #00af00; text-decoration-color: #00af00\">2</span> │\n",
              "└──────────────────────────────────────┴─────────────────────────────┴─────────────────┘\n",
              "</pre>\n"
            ]
          },
          "metadata": {}
        },
        {
          "output_type": "display_data",
          "data": {
            "text/plain": [
              "\u001b[1m Total params: \u001b[0m\u001b[38;5;34m7\u001b[0m (32.00 B)\n"
            ],
            "text/html": [
              "<pre style=\"white-space:pre;overflow-x:auto;line-height:normal;font-family:Menlo,'DejaVu Sans Mono',consolas,'Courier New',monospace\"><span style=\"font-weight: bold\"> Total params: </span><span style=\"color: #00af00; text-decoration-color: #00af00\">7</span> (32.00 B)\n",
              "</pre>\n"
            ]
          },
          "metadata": {}
        },
        {
          "output_type": "display_data",
          "data": {
            "text/plain": [
              "\u001b[1m Trainable params: \u001b[0m\u001b[38;5;34m5\u001b[0m (20.00 B)\n"
            ],
            "text/html": [
              "<pre style=\"white-space:pre;overflow-x:auto;line-height:normal;font-family:Menlo,'DejaVu Sans Mono',consolas,'Courier New',monospace\"><span style=\"font-weight: bold\"> Trainable params: </span><span style=\"color: #00af00; text-decoration-color: #00af00\">5</span> (20.00 B)\n",
              "</pre>\n"
            ]
          },
          "metadata": {}
        },
        {
          "output_type": "display_data",
          "data": {
            "text/plain": [
              "\u001b[1m Non-trainable params: \u001b[0m\u001b[38;5;34m0\u001b[0m (0.00 B)\n"
            ],
            "text/html": [
              "<pre style=\"white-space:pre;overflow-x:auto;line-height:normal;font-family:Menlo,'DejaVu Sans Mono',consolas,'Courier New',monospace\"><span style=\"font-weight: bold\"> Non-trainable params: </span><span style=\"color: #00af00; text-decoration-color: #00af00\">0</span> (0.00 B)\n",
              "</pre>\n"
            ]
          },
          "metadata": {}
        },
        {
          "output_type": "display_data",
          "data": {
            "text/plain": [
              "\u001b[1m Optimizer params: \u001b[0m\u001b[38;5;34m2\u001b[0m (12.00 B)\n"
            ],
            "text/html": [
              "<pre style=\"white-space:pre;overflow-x:auto;line-height:normal;font-family:Menlo,'DejaVu Sans Mono',consolas,'Courier New',monospace\"><span style=\"font-weight: bold\"> Optimizer params: </span><span style=\"color: #00af00; text-decoration-color: #00af00\">2</span> (12.00 B)\n",
              "</pre>\n"
            ]
          },
          "metadata": {}
        },
        {
          "output_type": "display_data",
          "data": {
            "text/plain": [
              "\u001b[1mModel: \"sequential_2\"\u001b[0m\n"
            ],
            "text/html": [
              "<pre style=\"white-space:pre;overflow-x:auto;line-height:normal;font-family:Menlo,'DejaVu Sans Mono',consolas,'Courier New',monospace\"><span style=\"font-weight: bold\">Model: \"sequential_2\"</span>\n",
              "</pre>\n"
            ]
          },
          "metadata": {}
        },
        {
          "output_type": "display_data",
          "data": {
            "text/plain": [
              "┏━━━━━━━━━━━━━━━━━━━━━━━━━━━━━━━━━━━━━━┳━━━━━━━━━━━━━━━━━━━━━━━━━━━━━┳━━━━━━━━━━━━━━━━━┓\n",
              "┃\u001b[1m \u001b[0m\u001b[1mLayer (type)                        \u001b[0m\u001b[1m \u001b[0m┃\u001b[1m \u001b[0m\u001b[1mOutput Shape               \u001b[0m\u001b[1m \u001b[0m┃\u001b[1m \u001b[0m\u001b[1m        Param #\u001b[0m\u001b[1m \u001b[0m┃\n",
              "┡━━━━━━━━━━━━━━━━━━━━━━━━━━━━━━━━━━━━━━╇━━━━━━━━━━━━━━━━━━━━━━━━━━━━━╇━━━━━━━━━━━━━━━━━┩\n",
              "│ dense_3 (\u001b[38;5;33mDense\u001b[0m)                      │ (\u001b[38;5;45mNone\u001b[0m, \u001b[38;5;34m100\u001b[0m)                 │             \u001b[38;5;34m300\u001b[0m │\n",
              "├──────────────────────────────────────┼─────────────────────────────┼─────────────────┤\n",
              "│ dense_4 (\u001b[38;5;33mDense\u001b[0m)                      │ (\u001b[38;5;45mNone\u001b[0m, \u001b[38;5;34m10\u001b[0m)                  │           \u001b[38;5;34m1,010\u001b[0m │\n",
              "├──────────────────────────────────────┼─────────────────────────────┼─────────────────┤\n",
              "│ dense_5 (\u001b[38;5;33mDense\u001b[0m)                      │ (\u001b[38;5;45mNone\u001b[0m, \u001b[38;5;34m1\u001b[0m)                   │              \u001b[38;5;34m11\u001b[0m │\n",
              "└──────────────────────────────────────┴─────────────────────────────┴─────────────────┘\n"
            ],
            "text/html": [
              "<pre style=\"white-space:pre;overflow-x:auto;line-height:normal;font-family:Menlo,'DejaVu Sans Mono',consolas,'Courier New',monospace\">┏━━━━━━━━━━━━━━━━━━━━━━━━━━━━━━━━━━━━━━┳━━━━━━━━━━━━━━━━━━━━━━━━━━━━━┳━━━━━━━━━━━━━━━━━┓\n",
              "┃<span style=\"font-weight: bold\"> Layer (type)                         </span>┃<span style=\"font-weight: bold\"> Output Shape                </span>┃<span style=\"font-weight: bold\">         Param # </span>┃\n",
              "┡━━━━━━━━━━━━━━━━━━━━━━━━━━━━━━━━━━━━━━╇━━━━━━━━━━━━━━━━━━━━━━━━━━━━━╇━━━━━━━━━━━━━━━━━┩\n",
              "│ dense_3 (<span style=\"color: #0087ff; text-decoration-color: #0087ff\">Dense</span>)                      │ (<span style=\"color: #00d7ff; text-decoration-color: #00d7ff\">None</span>, <span style=\"color: #00af00; text-decoration-color: #00af00\">100</span>)                 │             <span style=\"color: #00af00; text-decoration-color: #00af00\">300</span> │\n",
              "├──────────────────────────────────────┼─────────────────────────────┼─────────────────┤\n",
              "│ dense_4 (<span style=\"color: #0087ff; text-decoration-color: #0087ff\">Dense</span>)                      │ (<span style=\"color: #00d7ff; text-decoration-color: #00d7ff\">None</span>, <span style=\"color: #00af00; text-decoration-color: #00af00\">10</span>)                  │           <span style=\"color: #00af00; text-decoration-color: #00af00\">1,010</span> │\n",
              "├──────────────────────────────────────┼─────────────────────────────┼─────────────────┤\n",
              "│ dense_5 (<span style=\"color: #0087ff; text-decoration-color: #0087ff\">Dense</span>)                      │ (<span style=\"color: #00d7ff; text-decoration-color: #00d7ff\">None</span>, <span style=\"color: #00af00; text-decoration-color: #00af00\">1</span>)                   │              <span style=\"color: #00af00; text-decoration-color: #00af00\">11</span> │\n",
              "└──────────────────────────────────────┴─────────────────────────────┴─────────────────┘\n",
              "</pre>\n"
            ]
          },
          "metadata": {}
        },
        {
          "output_type": "display_data",
          "data": {
            "text/plain": [
              "\u001b[1m Total params: \u001b[0m\u001b[38;5;34m3,965\u001b[0m (15.49 KB)\n"
            ],
            "text/html": [
              "<pre style=\"white-space:pre;overflow-x:auto;line-height:normal;font-family:Menlo,'DejaVu Sans Mono',consolas,'Courier New',monospace\"><span style=\"font-weight: bold\"> Total params: </span><span style=\"color: #00af00; text-decoration-color: #00af00\">3,965</span> (15.49 KB)\n",
              "</pre>\n"
            ]
          },
          "metadata": {}
        },
        {
          "output_type": "display_data",
          "data": {
            "text/plain": [
              "\u001b[1m Trainable params: \u001b[0m\u001b[38;5;34m1,321\u001b[0m (5.16 KB)\n"
            ],
            "text/html": [
              "<pre style=\"white-space:pre;overflow-x:auto;line-height:normal;font-family:Menlo,'DejaVu Sans Mono',consolas,'Courier New',monospace\"><span style=\"font-weight: bold\"> Trainable params: </span><span style=\"color: #00af00; text-decoration-color: #00af00\">1,321</span> (5.16 KB)\n",
              "</pre>\n"
            ]
          },
          "metadata": {}
        },
        {
          "output_type": "display_data",
          "data": {
            "text/plain": [
              "\u001b[1m Non-trainable params: \u001b[0m\u001b[38;5;34m0\u001b[0m (0.00 B)\n"
            ],
            "text/html": [
              "<pre style=\"white-space:pre;overflow-x:auto;line-height:normal;font-family:Menlo,'DejaVu Sans Mono',consolas,'Courier New',monospace\"><span style=\"font-weight: bold\"> Non-trainable params: </span><span style=\"color: #00af00; text-decoration-color: #00af00\">0</span> (0.00 B)\n",
              "</pre>\n"
            ]
          },
          "metadata": {}
        },
        {
          "output_type": "display_data",
          "data": {
            "text/plain": [
              "\u001b[1m Optimizer params: \u001b[0m\u001b[38;5;34m2,644\u001b[0m (10.33 KB)\n"
            ],
            "text/html": [
              "<pre style=\"white-space:pre;overflow-x:auto;line-height:normal;font-family:Menlo,'DejaVu Sans Mono',consolas,'Courier New',monospace\"><span style=\"font-weight: bold\"> Optimizer params: </span><span style=\"color: #00af00; text-decoration-color: #00af00\">2,644</span> (10.33 KB)\n",
              "</pre>\n"
            ]
          },
          "metadata": {}
        }
      ]
    },
    {
      "cell_type": "code",
      "source": [
        "#Lets visualize the predictions.\n",
        "#First lets display predictions\n",
        "model_3.predict(X)"
      ],
      "metadata": {
        "id": "rvTeBeUZGD_L",
        "outputId": "fc65757d-5cd0-475d-c283-c19b7a44017e",
        "colab": {
          "base_uri": "https://localhost:8080/"
        }
      },
      "execution_count": 17,
      "outputs": [
        {
          "output_type": "stream",
          "name": "stdout",
          "text": [
            "\u001b[1m32/32\u001b[0m \u001b[32m━━━━━━━━━━━━━━━━━━━━\u001b[0m\u001b[37m\u001b[0m \u001b[1m0s\u001b[0m 3ms/step\n"
          ]
        },
        {
          "output_type": "execute_result",
          "data": {
            "text/plain": [
              "array([[0.5201157 ],\n",
              "       [0.4641646 ],\n",
              "       [0.46246493],\n",
              "       [0.48874623],\n",
              "       [0.48473805],\n",
              "       [0.48530662],\n",
              "       [0.50477034],\n",
              "       [0.51894283],\n",
              "       [0.46497494],\n",
              "       [0.50556797],\n",
              "       [0.4533128 ],\n",
              "       [0.52661145],\n",
              "       [0.50163084],\n",
              "       [0.50729775],\n",
              "       [0.49706095],\n",
              "       [0.4785387 ],\n",
              "       [0.44702953],\n",
              "       [0.47491443],\n",
              "       [0.45645034],\n",
              "       [0.4490158 ],\n",
              "       [0.5202183 ],\n",
              "       [0.48613483],\n",
              "       [0.4659512 ],\n",
              "       [0.52059984],\n",
              "       [0.4651816 ],\n",
              "       [0.45865554],\n",
              "       [0.5193382 ],\n",
              "       [0.5144608 ],\n",
              "       [0.4806481 ],\n",
              "       [0.50173575],\n",
              "       [0.4573769 ],\n",
              "       [0.50127375],\n",
              "       [0.5051413 ],\n",
              "       [0.5244375 ],\n",
              "       [0.46196735],\n",
              "       [0.47443682],\n",
              "       [0.47985828],\n",
              "       [0.51943   ],\n",
              "       [0.48157   ],\n",
              "       [0.5285585 ],\n",
              "       [0.45001924],\n",
              "       [0.5211363 ],\n",
              "       [0.4478404 ],\n",
              "       [0.5128551 ],\n",
              "       [0.445629  ],\n",
              "       [0.44781995],\n",
              "       [0.4900977 ],\n",
              "       [0.51311064],\n",
              "       [0.49992436],\n",
              "       [0.45783675],\n",
              "       [0.5182722 ],\n",
              "       [0.47153056],\n",
              "       [0.45027745],\n",
              "       [0.5182745 ],\n",
              "       [0.52783835],\n",
              "       [0.5283827 ],\n",
              "       [0.5080902 ],\n",
              "       [0.5257552 ],\n",
              "       [0.46170318],\n",
              "       [0.45650297],\n",
              "       [0.44831413],\n",
              "       [0.5292602 ],\n",
              "       [0.5184817 ],\n",
              "       [0.46619958],\n",
              "       [0.5122432 ],\n",
              "       [0.47819978],\n",
              "       [0.49052602],\n",
              "       [0.46734965],\n",
              "       [0.5274897 ],\n",
              "       [0.52144396],\n",
              "       [0.51575875],\n",
              "       [0.5219907 ],\n",
              "       [0.5156612 ],\n",
              "       [0.4608987 ],\n",
              "       [0.44649577],\n",
              "       [0.4466831 ],\n",
              "       [0.49577218],\n",
              "       [0.5285298 ],\n",
              "       [0.51536524],\n",
              "       [0.4450246 ],\n",
              "       [0.48364043],\n",
              "       [0.52802587],\n",
              "       [0.44720954],\n",
              "       [0.5257236 ],\n",
              "       [0.44933283],\n",
              "       [0.5219519 ],\n",
              "       [0.51911736],\n",
              "       [0.4687482 ],\n",
              "       [0.457357  ],\n",
              "       [0.4486286 ],\n",
              "       [0.47249848],\n",
              "       [0.504851  ],\n",
              "       [0.52314323],\n",
              "       [0.4626146 ],\n",
              "       [0.4550233 ],\n",
              "       [0.4964431 ],\n",
              "       [0.45650375],\n",
              "       [0.52213854],\n",
              "       [0.5263877 ],\n",
              "       [0.45834064],\n",
              "       [0.4684831 ],\n",
              "       [0.45897633],\n",
              "       [0.49587047],\n",
              "       [0.45028722],\n",
              "       [0.50102186],\n",
              "       [0.49671704],\n",
              "       [0.5209646 ],\n",
              "       [0.50460577],\n",
              "       [0.49003392],\n",
              "       [0.48579216],\n",
              "       [0.5218269 ],\n",
              "       [0.4563973 ],\n",
              "       [0.51191646],\n",
              "       [0.45443517],\n",
              "       [0.52509063],\n",
              "       [0.49677116],\n",
              "       [0.48165226],\n",
              "       [0.51095074],\n",
              "       [0.5196349 ],\n",
              "       [0.44719398],\n",
              "       [0.47774798],\n",
              "       [0.4930135 ],\n",
              "       [0.47010928],\n",
              "       [0.44852573],\n",
              "       [0.4557789 ],\n",
              "       [0.520633  ],\n",
              "       [0.5165402 ],\n",
              "       [0.5020587 ],\n",
              "       [0.46923804],\n",
              "       [0.45364672],\n",
              "       [0.5143082 ],\n",
              "       [0.46347892],\n",
              "       [0.44659662],\n",
              "       [0.51686233],\n",
              "       [0.51807785],\n",
              "       [0.5289642 ],\n",
              "       [0.51084596],\n",
              "       [0.4628994 ],\n",
              "       [0.5259883 ],\n",
              "       [0.5263824 ],\n",
              "       [0.52917355],\n",
              "       [0.45501596],\n",
              "       [0.4696014 ],\n",
              "       [0.44503278],\n",
              "       [0.47686034],\n",
              "       [0.48666638],\n",
              "       [0.4547258 ],\n",
              "       [0.45267856],\n",
              "       [0.45835102],\n",
              "       [0.4489534 ],\n",
              "       [0.49709296],\n",
              "       [0.4963231 ],\n",
              "       [0.50992584],\n",
              "       [0.49392068],\n",
              "       [0.49896646],\n",
              "       [0.5092757 ],\n",
              "       [0.44439447],\n",
              "       [0.4763795 ],\n",
              "       [0.5279995 ],\n",
              "       [0.4743405 ],\n",
              "       [0.51025695],\n",
              "       [0.45784754],\n",
              "       [0.49657637],\n",
              "       [0.49399686],\n",
              "       [0.46790653],\n",
              "       [0.48923564],\n",
              "       [0.44720757],\n",
              "       [0.48032522],\n",
              "       [0.44977152],\n",
              "       [0.446806  ],\n",
              "       [0.45974207],\n",
              "       [0.5167325 ],\n",
              "       [0.5165351 ],\n",
              "       [0.51392543],\n",
              "       [0.5196098 ],\n",
              "       [0.46156478],\n",
              "       [0.45103347],\n",
              "       [0.45168108],\n",
              "       [0.45484155],\n",
              "       [0.48479342],\n",
              "       [0.52265024],\n",
              "       [0.48756963],\n",
              "       [0.46708453],\n",
              "       [0.52050114],\n",
              "       [0.46020877],\n",
              "       [0.5033959 ],\n",
              "       [0.45842987],\n",
              "       [0.4608516 ],\n",
              "       [0.49956942],\n",
              "       [0.4574293 ],\n",
              "       [0.4990226 ],\n",
              "       [0.45932943],\n",
              "       [0.49503905],\n",
              "       [0.4710799 ],\n",
              "       [0.46582156],\n",
              "       [0.48267293],\n",
              "       [0.45203626],\n",
              "       [0.46660018],\n",
              "       [0.5092458 ],\n",
              "       [0.5266597 ],\n",
              "       [0.529789  ],\n",
              "       [0.5215044 ],\n",
              "       [0.47805315],\n",
              "       [0.52187383],\n",
              "       [0.45859432],\n",
              "       [0.5159722 ],\n",
              "       [0.48836875],\n",
              "       [0.4880671 ],\n",
              "       [0.52090544],\n",
              "       [0.45632333],\n",
              "       [0.5269138 ],\n",
              "       [0.50182056],\n",
              "       [0.49077433],\n",
              "       [0.45700675],\n",
              "       [0.49574977],\n",
              "       [0.45135576],\n",
              "       [0.49034947],\n",
              "       [0.4519987 ],\n",
              "       [0.4829942 ],\n",
              "       [0.47442293],\n",
              "       [0.44842416],\n",
              "       [0.46238726],\n",
              "       [0.5097543 ],\n",
              "       [0.5290964 ],\n",
              "       [0.47853893],\n",
              "       [0.52598214],\n",
              "       [0.52069914],\n",
              "       [0.45636344],\n",
              "       [0.48447388],\n",
              "       [0.52226174],\n",
              "       [0.45466828],\n",
              "       [0.51616335],\n",
              "       [0.5185368 ],\n",
              "       [0.5206491 ],\n",
              "       [0.5293057 ],\n",
              "       [0.5279785 ],\n",
              "       [0.4595973 ],\n",
              "       [0.5092013 ],\n",
              "       [0.47499228],\n",
              "       [0.4505995 ],\n",
              "       [0.524365  ],\n",
              "       [0.47076607],\n",
              "       [0.52092373],\n",
              "       [0.4521007 ],\n",
              "       [0.44639975],\n",
              "       [0.51724845],\n",
              "       [0.492328  ],\n",
              "       [0.5270558 ],\n",
              "       [0.524167  ],\n",
              "       [0.44835562],\n",
              "       [0.5248998 ],\n",
              "       [0.51484615],\n",
              "       [0.45281327],\n",
              "       [0.47871786],\n",
              "       [0.4755084 ],\n",
              "       [0.44816178],\n",
              "       [0.5203863 ],\n",
              "       [0.48737818],\n",
              "       [0.49057007],\n",
              "       [0.5234102 ],\n",
              "       [0.46207917],\n",
              "       [0.51196235],\n",
              "       [0.5203503 ],\n",
              "       [0.4479968 ],\n",
              "       [0.46082085],\n",
              "       [0.46971178],\n",
              "       [0.455885  ],\n",
              "       [0.46885127],\n",
              "       [0.5022685 ],\n",
              "       [0.46901363],\n",
              "       [0.5202147 ],\n",
              "       [0.5126302 ],\n",
              "       [0.48001277],\n",
              "       [0.45256072],\n",
              "       [0.5210468 ],\n",
              "       [0.5257991 ],\n",
              "       [0.47284496],\n",
              "       [0.5117875 ],\n",
              "       [0.52503324],\n",
              "       [0.4558909 ],\n",
              "       [0.5164847 ],\n",
              "       [0.4558885 ],\n",
              "       [0.45664954],\n",
              "       [0.4458055 ],\n",
              "       [0.46693307],\n",
              "       [0.46791577],\n",
              "       [0.45976406],\n",
              "       [0.5034105 ],\n",
              "       [0.46063638],\n",
              "       [0.5025292 ],\n",
              "       [0.5005146 ],\n",
              "       [0.45219862],\n",
              "       [0.5185097 ],\n",
              "       [0.51219743],\n",
              "       [0.46229893],\n",
              "       [0.51220846],\n",
              "       [0.49280852],\n",
              "       [0.4934588 ],\n",
              "       [0.52386236],\n",
              "       [0.4929601 ],\n",
              "       [0.52124584],\n",
              "       [0.5017476 ],\n",
              "       [0.5154063 ],\n",
              "       [0.4910624 ],\n",
              "       [0.45466   ],\n",
              "       [0.49862033],\n",
              "       [0.45209628],\n",
              "       [0.52162206],\n",
              "       [0.495934  ],\n",
              "       [0.51996154],\n",
              "       [0.5149748 ],\n",
              "       [0.5204438 ],\n",
              "       [0.51616246],\n",
              "       [0.47286713],\n",
              "       [0.5017586 ],\n",
              "       [0.5081032 ],\n",
              "       [0.45766044],\n",
              "       [0.45703495],\n",
              "       [0.46438444],\n",
              "       [0.46811664],\n",
              "       [0.52519804],\n",
              "       [0.49980056],\n",
              "       [0.44591832],\n",
              "       [0.50469166],\n",
              "       [0.45678967],\n",
              "       [0.5179625 ],\n",
              "       [0.45367843],\n",
              "       [0.52038443],\n",
              "       [0.4709419 ],\n",
              "       [0.5061134 ],\n",
              "       [0.47422397],\n",
              "       [0.44874263],\n",
              "       [0.466729  ],\n",
              "       [0.50532377],\n",
              "       [0.52408177],\n",
              "       [0.44789964],\n",
              "       [0.47495222],\n",
              "       [0.5199889 ],\n",
              "       [0.47033846],\n",
              "       [0.5215524 ],\n",
              "       [0.51634413],\n",
              "       [0.47807282],\n",
              "       [0.48759532],\n",
              "       [0.50945586],\n",
              "       [0.4743539 ],\n",
              "       [0.48758084],\n",
              "       [0.5205371 ],\n",
              "       [0.48108   ],\n",
              "       [0.5225148 ],\n",
              "       [0.49805695],\n",
              "       [0.48299253],\n",
              "       [0.4453228 ],\n",
              "       [0.48060685],\n",
              "       [0.528465  ],\n",
              "       [0.44589752],\n",
              "       [0.50604165],\n",
              "       [0.4454589 ],\n",
              "       [0.49283397],\n",
              "       [0.45045066],\n",
              "       [0.49888694],\n",
              "       [0.49137974],\n",
              "       [0.5187949 ],\n",
              "       [0.50413734],\n",
              "       [0.50420004],\n",
              "       [0.4909544 ],\n",
              "       [0.52744305],\n",
              "       [0.4547025 ],\n",
              "       [0.47556263],\n",
              "       [0.47082204],\n",
              "       [0.46503335],\n",
              "       [0.48833108],\n",
              "       [0.47323304],\n",
              "       [0.50224316],\n",
              "       [0.48558515],\n",
              "       [0.5264981 ],\n",
              "       [0.45974064],\n",
              "       [0.5152705 ],\n",
              "       [0.52663225],\n",
              "       [0.48495436],\n",
              "       [0.45554686],\n",
              "       [0.4582095 ],\n",
              "       [0.4995026 ],\n",
              "       [0.45190728],\n",
              "       [0.45608282],\n",
              "       [0.46310997],\n",
              "       [0.48789227],\n",
              "       [0.5138766 ],\n",
              "       [0.5060288 ],\n",
              "       [0.5141858 ],\n",
              "       [0.45474046],\n",
              "       [0.4782862 ],\n",
              "       [0.5290056 ],\n",
              "       [0.4755807 ],\n",
              "       [0.51652694],\n",
              "       [0.5158087 ],\n",
              "       [0.5282435 ],\n",
              "       [0.48337716],\n",
              "       [0.49933445],\n",
              "       [0.4584096 ],\n",
              "       [0.51483643],\n",
              "       [0.5298276 ],\n",
              "       [0.5137502 ],\n",
              "       [0.5213392 ],\n",
              "       [0.52072346],\n",
              "       [0.5080671 ],\n",
              "       [0.47662163],\n",
              "       [0.49041623],\n",
              "       [0.4520079 ],\n",
              "       [0.52835244],\n",
              "       [0.5189009 ],\n",
              "       [0.5168763 ],\n",
              "       [0.48658466],\n",
              "       [0.4553932 ],\n",
              "       [0.4494369 ],\n",
              "       [0.45414114],\n",
              "       [0.47161412],\n",
              "       [0.48440397],\n",
              "       [0.45938355],\n",
              "       [0.51933014],\n",
              "       [0.50183135],\n",
              "       [0.529079  ],\n",
              "       [0.4691493 ],\n",
              "       [0.5185941 ],\n",
              "       [0.5198229 ],\n",
              "       [0.49409938],\n",
              "       [0.4646147 ],\n",
              "       [0.5238888 ],\n",
              "       [0.528645  ],\n",
              "       [0.5000079 ],\n",
              "       [0.449135  ],\n",
              "       [0.4447469 ],\n",
              "       [0.4599899 ],\n",
              "       [0.45948255],\n",
              "       [0.5067816 ],\n",
              "       [0.44966483],\n",
              "       [0.52798384],\n",
              "       [0.47992563],\n",
              "       [0.46402663],\n",
              "       [0.47166896],\n",
              "       [0.505532  ],\n",
              "       [0.4620164 ],\n",
              "       [0.5185546 ],\n",
              "       [0.5085964 ],\n",
              "       [0.4933731 ],\n",
              "       [0.52200663],\n",
              "       [0.5179168 ],\n",
              "       [0.5034358 ],\n",
              "       [0.4851671 ],\n",
              "       [0.4884236 ],\n",
              "       [0.48622894],\n",
              "       [0.5167619 ],\n",
              "       [0.47144973],\n",
              "       [0.47431445],\n",
              "       [0.4915601 ],\n",
              "       [0.4558403 ],\n",
              "       [0.4998383 ],\n",
              "       [0.47701085],\n",
              "       [0.48847115],\n",
              "       [0.46627188],\n",
              "       [0.48473918],\n",
              "       [0.5270057 ],\n",
              "       [0.5157448 ],\n",
              "       [0.51316106],\n",
              "       [0.507058  ],\n",
              "       [0.4724803 ],\n",
              "       [0.51933897],\n",
              "       [0.511946  ],\n",
              "       [0.48663092],\n",
              "       [0.5184632 ],\n",
              "       [0.50870305],\n",
              "       [0.48255622],\n",
              "       [0.5234654 ],\n",
              "       [0.4940654 ],\n",
              "       [0.52268404],\n",
              "       [0.4544391 ],\n",
              "       [0.51359576],\n",
              "       [0.4926296 ],\n",
              "       [0.4967916 ],\n",
              "       [0.51165843],\n",
              "       [0.515909  ],\n",
              "       [0.5107419 ],\n",
              "       [0.52297527],\n",
              "       [0.5241219 ],\n",
              "       [0.47571558],\n",
              "       [0.52027303],\n",
              "       [0.52952766],\n",
              "       [0.530461  ],\n",
              "       [0.4517964 ],\n",
              "       [0.4882521 ],\n",
              "       [0.52419734],\n",
              "       [0.4713292 ],\n",
              "       [0.51291984],\n",
              "       [0.455822  ],\n",
              "       [0.5194556 ],\n",
              "       [0.49043673],\n",
              "       [0.48368126],\n",
              "       [0.5014537 ],\n",
              "       [0.48780835],\n",
              "       [0.46791667],\n",
              "       [0.47348958],\n",
              "       [0.4797337 ],\n",
              "       [0.48468518],\n",
              "       [0.47592205],\n",
              "       [0.4852667 ],\n",
              "       [0.45504665],\n",
              "       [0.50336504],\n",
              "       [0.48151785],\n",
              "       [0.46885133],\n",
              "       [0.5041995 ],\n",
              "       [0.45851743],\n",
              "       [0.44975984],\n",
              "       [0.51890075],\n",
              "       [0.45229584],\n",
              "       [0.52818495],\n",
              "       [0.44889414],\n",
              "       [0.45809513],\n",
              "       [0.4608704 ],\n",
              "       [0.4822865 ],\n",
              "       [0.5128253 ],\n",
              "       [0.5273963 ],\n",
              "       [0.45793658],\n",
              "       [0.48919344],\n",
              "       [0.46896052],\n",
              "       [0.4531532 ],\n",
              "       [0.49654847],\n",
              "       [0.52072054],\n",
              "       [0.45737058],\n",
              "       [0.4709428 ],\n",
              "       [0.50459355],\n",
              "       [0.5211092 ],\n",
              "       [0.5224531 ],\n",
              "       [0.52706766],\n",
              "       [0.50597006],\n",
              "       [0.4453823 ],\n",
              "       [0.4620443 ],\n",
              "       [0.49502754],\n",
              "       [0.49571604],\n",
              "       [0.5268257 ],\n",
              "       [0.46393245],\n",
              "       [0.50323975],\n",
              "       [0.47648257],\n",
              "       [0.44922101],\n",
              "       [0.45746976],\n",
              "       [0.5181821 ],\n",
              "       [0.5142412 ],\n",
              "       [0.50011235],\n",
              "       [0.51975155],\n",
              "       [0.45605582],\n",
              "       [0.51704204],\n",
              "       [0.50964355],\n",
              "       [0.51341575],\n",
              "       [0.5138909 ],\n",
              "       [0.478432  ],\n",
              "       [0.52825844],\n",
              "       [0.46613282],\n",
              "       [0.48598987],\n",
              "       [0.46455532],\n",
              "       [0.44848835],\n",
              "       [0.53201205],\n",
              "       [0.45479   ],\n",
              "       [0.47388268],\n",
              "       [0.51866084],\n",
              "       [0.45849407],\n",
              "       [0.46323693],\n",
              "       [0.45128912],\n",
              "       [0.49951094],\n",
              "       [0.48568004],\n",
              "       [0.44509864],\n",
              "       [0.45377123],\n",
              "       [0.507166  ],\n",
              "       [0.49695867],\n",
              "       [0.507904  ],\n",
              "       [0.45633948],\n",
              "       [0.5288776 ],\n",
              "       [0.45831668],\n",
              "       [0.4920538 ],\n",
              "       [0.50126135],\n",
              "       [0.5141478 ],\n",
              "       [0.47817975],\n",
              "       [0.5051397 ],\n",
              "       [0.4507792 ],\n",
              "       [0.5260284 ],\n",
              "       [0.45554364],\n",
              "       [0.45581663],\n",
              "       [0.45442754],\n",
              "       [0.4831198 ],\n",
              "       [0.5204877 ],\n",
              "       [0.5036593 ],\n",
              "       [0.5306714 ],\n",
              "       [0.48449242],\n",
              "       [0.45272768],\n",
              "       [0.45784497],\n",
              "       [0.48839265],\n",
              "       [0.45889693],\n",
              "       [0.46583366],\n",
              "       [0.49572122],\n",
              "       [0.44628185],\n",
              "       [0.5117492 ],\n",
              "       [0.5174972 ],\n",
              "       [0.45969206],\n",
              "       [0.5282896 ],\n",
              "       [0.5096024 ],\n",
              "       [0.45012122],\n",
              "       [0.45122015],\n",
              "       [0.4923607 ],\n",
              "       [0.5056521 ],\n",
              "       [0.47764337],\n",
              "       [0.51450604],\n",
              "       [0.5107551 ],\n",
              "       [0.5091085 ],\n",
              "       [0.48301494],\n",
              "       [0.44754672],\n",
              "       [0.45911074],\n",
              "       [0.47283858],\n",
              "       [0.46605778],\n",
              "       [0.4798444 ],\n",
              "       [0.50951666],\n",
              "       [0.5203305 ],\n",
              "       [0.5147878 ],\n",
              "       [0.5324097 ],\n",
              "       [0.48413974],\n",
              "       [0.49180794],\n",
              "       [0.46158737],\n",
              "       [0.486049  ],\n",
              "       [0.5261481 ],\n",
              "       [0.5186721 ],\n",
              "       [0.5305956 ],\n",
              "       [0.5110792 ],\n",
              "       [0.49757153],\n",
              "       [0.51853853],\n",
              "       [0.501226  ],\n",
              "       [0.5162554 ],\n",
              "       [0.44720727],\n",
              "       [0.46745616],\n",
              "       [0.4689681 ],\n",
              "       [0.46127683],\n",
              "       [0.5307781 ],\n",
              "       [0.5034134 ],\n",
              "       [0.49782455],\n",
              "       [0.50108206],\n",
              "       [0.45957178],\n",
              "       [0.45779598],\n",
              "       [0.5311024 ],\n",
              "       [0.5072139 ],\n",
              "       [0.46825135],\n",
              "       [0.5133158 ],\n",
              "       [0.508172  ],\n",
              "       [0.4636948 ],\n",
              "       [0.47292405],\n",
              "       [0.45830297],\n",
              "       [0.4770903 ],\n",
              "       [0.46237242],\n",
              "       [0.46887106],\n",
              "       [0.5184783 ],\n",
              "       [0.5096453 ],\n",
              "       [0.4564622 ],\n",
              "       [0.5187472 ],\n",
              "       [0.5086858 ],\n",
              "       [0.48867995],\n",
              "       [0.48272794],\n",
              "       [0.4985023 ],\n",
              "       [0.45465457],\n",
              "       [0.51413184],\n",
              "       [0.45697135],\n",
              "       [0.5153813 ],\n",
              "       [0.4593606 ],\n",
              "       [0.4790181 ],\n",
              "       [0.5189044 ],\n",
              "       [0.48881155],\n",
              "       [0.49044108],\n",
              "       [0.4585203 ],\n",
              "       [0.51640403],\n",
              "       [0.45517045],\n",
              "       [0.4848612 ],\n",
              "       [0.50994617],\n",
              "       [0.5295891 ],\n",
              "       [0.49764585],\n",
              "       [0.47771752],\n",
              "       [0.49854243],\n",
              "       [0.4676972 ],\n",
              "       [0.49401063],\n",
              "       [0.46158773],\n",
              "       [0.45535117],\n",
              "       [0.5240411 ],\n",
              "       [0.45550412],\n",
              "       [0.52960026],\n",
              "       [0.5045999 ],\n",
              "       [0.4963348 ],\n",
              "       [0.45223057],\n",
              "       [0.4494037 ],\n",
              "       [0.45890117],\n",
              "       [0.51904035],\n",
              "       [0.5044174 ],\n",
              "       [0.4653052 ],\n",
              "       [0.47679567],\n",
              "       [0.44915354],\n",
              "       [0.5093846 ],\n",
              "       [0.4465161 ],\n",
              "       [0.4870184 ],\n",
              "       [0.49521756],\n",
              "       [0.45487124],\n",
              "       [0.49820322],\n",
              "       [0.47896987],\n",
              "       [0.5224537 ],\n",
              "       [0.47644967],\n",
              "       [0.5214887 ],\n",
              "       [0.49935013],\n",
              "       [0.501997  ],\n",
              "       [0.4695878 ],\n",
              "       [0.49532485],\n",
              "       [0.46101987],\n",
              "       [0.4926297 ],\n",
              "       [0.45449334],\n",
              "       [0.5105432 ],\n",
              "       [0.45061946],\n",
              "       [0.47862887],\n",
              "       [0.51188034],\n",
              "       [0.46464235],\n",
              "       [0.5102035 ],\n",
              "       [0.49996835],\n",
              "       [0.5014431 ],\n",
              "       [0.4724747 ],\n",
              "       [0.5106136 ],\n",
              "       [0.44726932],\n",
              "       [0.44558042],\n",
              "       [0.4803589 ],\n",
              "       [0.5106718 ],\n",
              "       [0.47946858],\n",
              "       [0.46904457],\n",
              "       [0.4991094 ],\n",
              "       [0.4535246 ],\n",
              "       [0.4867034 ],\n",
              "       [0.49225932],\n",
              "       [0.45670497],\n",
              "       [0.48211205],\n",
              "       [0.45848346],\n",
              "       [0.47608596],\n",
              "       [0.5091693 ],\n",
              "       [0.50009793],\n",
              "       [0.47912735],\n",
              "       [0.45605928],\n",
              "       [0.4570837 ],\n",
              "       [0.46182275],\n",
              "       [0.48582327],\n",
              "       [0.46095192],\n",
              "       [0.49885523],\n",
              "       [0.48622292],\n",
              "       [0.45925105],\n",
              "       [0.45484644],\n",
              "       [0.48777616],\n",
              "       [0.5060209 ],\n",
              "       [0.47124058],\n",
              "       [0.4578209 ],\n",
              "       [0.47203332],\n",
              "       [0.5103378 ],\n",
              "       [0.51938975],\n",
              "       [0.44843405],\n",
              "       [0.45663887],\n",
              "       [0.49963415],\n",
              "       [0.5229033 ],\n",
              "       [0.51464945],\n",
              "       [0.47878373],\n",
              "       [0.4547959 ],\n",
              "       [0.46711403],\n",
              "       [0.5087755 ],\n",
              "       [0.48782343],\n",
              "       [0.46562177],\n",
              "       [0.51288617],\n",
              "       [0.46072936],\n",
              "       [0.45955378],\n",
              "       [0.45367843],\n",
              "       [0.4864952 ],\n",
              "       [0.44842398],\n",
              "       [0.49746424],\n",
              "       [0.48408628],\n",
              "       [0.477969  ],\n",
              "       [0.46967787],\n",
              "       [0.45713127],\n",
              "       [0.44822097],\n",
              "       [0.4599703 ],\n",
              "       [0.5043875 ],\n",
              "       [0.5031506 ],\n",
              "       [0.44891787],\n",
              "       [0.4677598 ],\n",
              "       [0.47195256],\n",
              "       [0.46076226],\n",
              "       [0.5029703 ],\n",
              "       [0.45360494],\n",
              "       [0.5146027 ],\n",
              "       [0.45672083],\n",
              "       [0.5147685 ],\n",
              "       [0.49935097],\n",
              "       [0.5123191 ],\n",
              "       [0.494076  ],\n",
              "       [0.48192954],\n",
              "       [0.507918  ],\n",
              "       [0.463669  ],\n",
              "       [0.45376545],\n",
              "       [0.49722797],\n",
              "       [0.46313053],\n",
              "       [0.5211734 ],\n",
              "       [0.50350577],\n",
              "       [0.5177568 ],\n",
              "       [0.45513672],\n",
              "       [0.522672  ],\n",
              "       [0.4552049 ],\n",
              "       [0.47437155],\n",
              "       [0.49307346],\n",
              "       [0.5195532 ],\n",
              "       [0.5292613 ],\n",
              "       [0.522011  ],\n",
              "       [0.48802495],\n",
              "       [0.4931568 ],\n",
              "       [0.4756015 ],\n",
              "       [0.46562976],\n",
              "       [0.4623264 ],\n",
              "       [0.49738932],\n",
              "       [0.4629212 ],\n",
              "       [0.5213992 ],\n",
              "       [0.52066386],\n",
              "       [0.4554839 ],\n",
              "       [0.460281  ],\n",
              "       [0.5184746 ],\n",
              "       [0.4810841 ],\n",
              "       [0.5087024 ],\n",
              "       [0.522242  ],\n",
              "       [0.47635633],\n",
              "       [0.46858472],\n",
              "       [0.47329432],\n",
              "       [0.45555645],\n",
              "       [0.47653055],\n",
              "       [0.4561298 ],\n",
              "       [0.46168792],\n",
              "       [0.46197158],\n",
              "       [0.5225403 ],\n",
              "       [0.45655954],\n",
              "       [0.49919087],\n",
              "       [0.49366432],\n",
              "       [0.5090596 ],\n",
              "       [0.46289337],\n",
              "       [0.5203439 ],\n",
              "       [0.46438414],\n",
              "       [0.48179847],\n",
              "       [0.5198254 ],\n",
              "       [0.45720458],\n",
              "       [0.46513027],\n",
              "       [0.51978904],\n",
              "       [0.4831481 ],\n",
              "       [0.5146036 ],\n",
              "       [0.5294179 ],\n",
              "       [0.52825177],\n",
              "       [0.45497793],\n",
              "       [0.460545  ],\n",
              "       [0.47269952],\n",
              "       [0.50538003],\n",
              "       [0.5306625 ],\n",
              "       [0.47200328],\n",
              "       [0.4593696 ],\n",
              "       [0.51900613],\n",
              "       [0.4548214 ],\n",
              "       [0.46655917],\n",
              "       [0.44470435],\n",
              "       [0.49001294],\n",
              "       [0.48589534],\n",
              "       [0.47232842],\n",
              "       [0.5166227 ],\n",
              "       [0.5222133 ],\n",
              "       [0.5038117 ],\n",
              "       [0.5281744 ],\n",
              "       [0.5161839 ],\n",
              "       [0.49684364],\n",
              "       [0.50878376],\n",
              "       [0.5092116 ],\n",
              "       [0.5217222 ],\n",
              "       [0.45926994],\n",
              "       [0.50332266],\n",
              "       [0.53021425],\n",
              "       [0.45639157],\n",
              "       [0.5289488 ],\n",
              "       [0.49420005],\n",
              "       [0.52963144],\n",
              "       [0.5194717 ],\n",
              "       [0.4702114 ],\n",
              "       [0.47878456],\n",
              "       [0.45427662],\n",
              "       [0.46437144],\n",
              "       [0.45475572],\n",
              "       [0.5298341 ],\n",
              "       [0.472206  ],\n",
              "       [0.45357305],\n",
              "       [0.46173304],\n",
              "       [0.4678843 ],\n",
              "       [0.46748048],\n",
              "       [0.44498307],\n",
              "       [0.47262847],\n",
              "       [0.45277977],\n",
              "       [0.46548998],\n",
              "       [0.5121185 ],\n",
              "       [0.5065821 ],\n",
              "       [0.5141158 ],\n",
              "       [0.45625812],\n",
              "       [0.46722674],\n",
              "       [0.44723755],\n",
              "       [0.47093052],\n",
              "       [0.49314308],\n",
              "       [0.52055585],\n",
              "       [0.46525598],\n",
              "       [0.48153389],\n",
              "       [0.4731565 ],\n",
              "       [0.5173257 ],\n",
              "       [0.45601422],\n",
              "       [0.45421362],\n",
              "       [0.51635426],\n",
              "       [0.5214616 ],\n",
              "       [0.473656  ],\n",
              "       [0.52199286],\n",
              "       [0.49474257],\n",
              "       [0.5102606 ],\n",
              "       [0.5208431 ],\n",
              "       [0.525742  ],\n",
              "       [0.4692198 ],\n",
              "       [0.52932423],\n",
              "       [0.4578359 ],\n",
              "       [0.52031046],\n",
              "       [0.4917909 ],\n",
              "       [0.50616676],\n",
              "       [0.4626631 ],\n",
              "       [0.5246976 ],\n",
              "       [0.4532401 ],\n",
              "       [0.4792995 ],\n",
              "       [0.5189416 ],\n",
              "       [0.4551127 ],\n",
              "       [0.4551828 ],\n",
              "       [0.4537441 ],\n",
              "       [0.52745676],\n",
              "       [0.44582903],\n",
              "       [0.51472586],\n",
              "       [0.47223836],\n",
              "       [0.45002526],\n",
              "       [0.4892316 ],\n",
              "       [0.46106207],\n",
              "       [0.5136245 ],\n",
              "       [0.4987421 ],\n",
              "       [0.45863658],\n",
              "       [0.5197177 ],\n",
              "       [0.51026046],\n",
              "       [0.5195918 ],\n",
              "       [0.45964146],\n",
              "       [0.45354277],\n",
              "       [0.52076393],\n",
              "       [0.46925056],\n",
              "       [0.52124923],\n",
              "       [0.4820611 ],\n",
              "       [0.47885346],\n",
              "       [0.45513546],\n",
              "       [0.47220677],\n",
              "       [0.51631   ],\n",
              "       [0.48086125],\n",
              "       [0.517981  ],\n",
              "       [0.5299687 ],\n",
              "       [0.5152435 ],\n",
              "       [0.52197134],\n",
              "       [0.4635365 ],\n",
              "       [0.45989043],\n",
              "       [0.4518451 ],\n",
              "       [0.527795  ],\n",
              "       [0.4457605 ],\n",
              "       [0.5078112 ],\n",
              "       [0.49016446],\n",
              "       [0.44797742],\n",
              "       [0.5030712 ],\n",
              "       [0.47390574],\n",
              "       [0.47207695],\n",
              "       [0.45475435],\n",
              "       [0.48404557],\n",
              "       [0.5223364 ],\n",
              "       [0.45457453],\n",
              "       [0.4566722 ],\n",
              "       [0.4460258 ],\n",
              "       [0.49017817],\n",
              "       [0.5065341 ],\n",
              "       [0.49130237],\n",
              "       [0.4694667 ],\n",
              "       [0.5188472 ],\n",
              "       [0.46442908],\n",
              "       [0.52244884],\n",
              "       [0.50777346],\n",
              "       [0.4494719 ],\n",
              "       [0.46550423],\n",
              "       [0.5105355 ],\n",
              "       [0.5112001 ],\n",
              "       [0.51083547],\n",
              "       [0.5273533 ],\n",
              "       [0.47580796],\n",
              "       [0.5293012 ],\n",
              "       [0.5170461 ],\n",
              "       [0.4470529 ],\n",
              "       [0.46578544],\n",
              "       [0.49570447],\n",
              "       [0.5187976 ]], dtype=float32)"
            ]
          },
          "metadata": {},
          "execution_count": 17
        }
      ]
    },
    {
      "cell_type": "markdown",
      "source": [
        "To visualize our models predictions, lets create a function 'plot_decision_boundary()' , this function will\n",
        "\n",
        "* Take in a trainedmodel, feature(X) and labels(y)\n",
        "* Create a mesh grid of the different X values\n",
        "* Make predictions across mesh grid\n",
        "* Plot the predictions as well as a line between zones (where each unique class falls)\n",
        "\n",
        "\n"
      ],
      "metadata": {
        "id": "WYNyxNuJGS_M"
      }
    },
    {
      "cell_type": "code",
      "source": [
        "import numpy as np"
      ],
      "metadata": {
        "id": "LJyh-QdXHQL7"
      },
      "execution_count": 18,
      "outputs": []
    },
    {
      "cell_type": "code",
      "source": [
        "X"
      ],
      "metadata": {
        "id": "GAL_PvmoIE68",
        "outputId": "77adbb8c-4c6a-4fbc-a149-ca724d12a98c",
        "colab": {
          "base_uri": "https://localhost:8080/"
        }
      },
      "execution_count": 19,
      "outputs": [
        {
          "output_type": "execute_result",
          "data": {
            "text/plain": [
              "array([[ 0.75424625,  0.23148074],\n",
              "       [-0.75615888,  0.15325888],\n",
              "       [-0.81539193,  0.17328203],\n",
              "       ...,\n",
              "       [-0.13690036, -0.81001183],\n",
              "       [ 0.67036156, -0.76750154],\n",
              "       [ 0.28105665,  0.96382443]])"
            ]
          },
          "metadata": {},
          "execution_count": 19
        }
      ]
    },
    {
      "cell_type": "code",
      "source": [
        "X[:,0].min()"
      ],
      "metadata": {
        "id": "cs-aqLqwIL8K",
        "outputId": "56946200-5400-4e74-9ffe-2e4877a4563a",
        "colab": {
          "base_uri": "https://localhost:8080/"
        }
      },
      "execution_count": 20,
      "outputs": [
        {
          "output_type": "execute_result",
          "data": {
            "text/plain": [
              "-1.0595024599098635"
            ]
          },
          "metadata": {},
          "execution_count": 20
        }
      ]
    },
    {
      "cell_type": "code",
      "source": [
        "  x_min, x_max = X[:, 0].min() - 0.1, X[:, 0].max() + 0.1\n",
        "  y_min, y_max = X[:, 1].min() - 0.1, X[:, 0].max() + 0.1\n",
        "  x_min, x_max, y_min, y_max"
      ],
      "metadata": {
        "id": "Y4CZxe31H5Ly",
        "outputId": "93a3c1f6-9505-41b6-ec8e-4d257f2e5b40",
        "colab": {
          "base_uri": "https://localhost:8080/"
        }
      },
      "execution_count": 21,
      "outputs": [
        {
          "output_type": "execute_result",
          "data": {
            "text/plain": [
              "(-1.1595024599098636,\n",
              " 1.1337117525463374,\n",
              " -1.1677683182718437,\n",
              " 1.1337117525463374)"
            ]
          },
          "metadata": {},
          "execution_count": 21
        }
      ]
    },
    {
      "cell_type": "code",
      "source": [
        "def plot_decision_boundary(model, X, y):\n",
        "  \"\"\"\n",
        "  Plots the decision boundary created by a model predicting on X.\n",
        "  \"\"\"\n",
        "  # Define the axis boundaries of the plot and create a meshgrid\n",
        "  x_min, x_max = X[:, 0].min() - 0.1, X[:, 0].max() + 0.1\n",
        "  y_min, y_max = X[:, 1].min() - 0.1, X[:, 0].max() + 0.1\n",
        "  xx, yy = np.meshgrid(np.linspace(x_min, x_max, 100),\n",
        "                       np.linspace(y_min, y_max, 100))\n",
        "  #Create X values (we are going to make predictions on these)\n",
        "  x_in = np.c_[xx.ravel(), yy.ravel()]  # Stack 2D arrays together\n",
        "\n",
        "  #Make predictions\n",
        "  y_pred =  model.predict(x_in)\n",
        "\n",
        "  #check if multi-class\n",
        "  if len(y_pred[0]) > 1:\n",
        "    print(\"Doing multiclass classificaiton\")\n",
        "    # we have to reshape our prediction to get them ready for plotting\n",
        "    y_pred = np.argmax(y_pred, axis=1).reshape(xx.shape)\n",
        "  else:\n",
        "    print(\"Doing binary classification\")\n",
        "    y_pred = np.round(y_pred).reshape(xx.shape)\n",
        "  #Plat the decision boundary\n",
        "  plt.contourf(xx, yy, y_pred, cmap=plt.cm.RdYlBu, alpha=0.7)\n",
        "  plt.scatter(X[:, 0], X[:, 1], c=y, s=40, cmap=plt.cm.RdYlBu)\n",
        "  plt.xlim(xx.min(), xx.max())\n",
        "  plt.ylim(yy.min(), yy.max())"
      ],
      "metadata": {
        "id": "7Z93bnVBGN1_"
      },
      "execution_count": 22,
      "outputs": []
    },
    {
      "cell_type": "code",
      "source": [
        "# Check out the predictions our model is making\n",
        "plot_decision_boundary(model_3, X, y)"
      ],
      "metadata": {
        "id": "7tI-cFohMWdg",
        "outputId": "6204acc3-227a-4496-e01c-69cc7a47707b",
        "colab": {
          "base_uri": "https://localhost:8080/",
          "height": 467
        }
      },
      "execution_count": 23,
      "outputs": [
        {
          "output_type": "stream",
          "name": "stdout",
          "text": [
            "\u001b[1m313/313\u001b[0m \u001b[32m━━━━━━━━━━━━━━━━━━━━\u001b[0m\u001b[37m\u001b[0m \u001b[1m1s\u001b[0m 2ms/step\n",
            "Doing binary classification\n"
          ]
        },
        {
          "output_type": "display_data",
          "data": {
            "text/plain": [
              "<Figure size 640x480 with 1 Axes>"
            ],
            "image/png": "[encoded data removed]"
          },
          "metadata": {}
        }
      ]
    },
    {
      "cell_type": "markdown",
      "source": [
        "Useful resources\n",
        "https://cs231n.github.io/neural-networks-case-study/\n",
        "https://madewithml.com/"
      ],
      "metadata": {
        "id": "ZHr5E1a-PTbo"
      }
    },
    {
      "cell_type": "code",
      "source": [
        "#Lets see if our model can be used for regression problem\n",
        "tf.random.set_seed(42)\n",
        "\n",
        "#Create some regression data\n",
        "X_regression = tf.range(0, 1000, 5)\n",
        "y_regression = tf.range(100, 1100, 5) #y = X + 1000\n",
        "\n",
        "#X_regression, y_regression\n",
        "\n",
        "#Split our regression data into train and test tests\n",
        "X_reg_train = X_regression[:150]\n",
        "X_reg_test = X_regression[150:]\n",
        "y_reg_train = y_regression[:150]\n",
        "y_reg_test = y_regression[150:]\n",
        "\n",
        "#Fit our model to the regression data\n",
        "model_3.fit(X_reg_train, y_reg_train, epochs=100)"
      ],
      "metadata": {
        "id": "p_HMtBkVSpZ-",
        "outputId": "f5713319-501c-465a-9beb-6030d095b368",
        "colab": {
          "base_uri": "https://localhost:8080/",
          "height": 504
        }
      },
      "execution_count": 28,
      "outputs": [
        {
          "output_type": "stream",
          "name": "stdout",
          "text": [
            "Epoch 1/100\n"
          ]
        },
        {
          "output_type": "error",
          "ename": "ValueError",
          "evalue": "Exception encountered when calling Sequential.call().\n\n\u001b[1mInvalid input shape for input Tensor(\"sequential_2_1/Cast:0\", shape=(None,), dtype=float32). Expected shape (None, 2), but input has incompatible shape (None,)\u001b[0m\n\nArguments received by Sequential.call():\n  • inputs=tf.Tensor(shape=(None,), dtype=int32)\n  • training=True\n  • mask=None",
          "traceback": [
            "\u001b[0;31m---------------------------------------------------------------------------\u001b[0m",
            "\u001b[0;31mValueError\u001b[0m                                Traceback (most recent call last)",
            "\u001b[0;32m<ipython-input-28-0507b7d9faf4>\u001b[0m in \u001b[0;36m<cell line: 0>\u001b[0;34m()\u001b[0m\n\u001b[1;32m     15\u001b[0m \u001b[0;34m\u001b[0m\u001b[0m\n\u001b[1;32m     16\u001b[0m \u001b[0;31m#Fit our model to the regression data\u001b[0m\u001b[0;34m\u001b[0m\u001b[0;34m\u001b[0m\u001b[0m\n\u001b[0;32m---> 17\u001b[0;31m \u001b[0mmodel_3\u001b[0m\u001b[0;34m.\u001b[0m\u001b[0mfit\u001b[0m\u001b[0;34m(\u001b[0m\u001b[0mX_reg_train\u001b[0m\u001b[0;34m,\u001b[0m \u001b[0my_reg_train\u001b[0m\u001b[0;34m,\u001b[0m \u001b[0mepochs\u001b[0m\u001b[0;34m=\u001b[0m\u001b[0;36m100\u001b[0m\u001b[0;34m)\u001b[0m\u001b[0;34m\u001b[0m\u001b[0;34m\u001b[0m\u001b[0m\n\u001b[0m",
            "\u001b[0;32m/usr/local/lib/python3.11/dist-packages/keras/src/utils/traceback_utils.py\u001b[0m in \u001b[0;36merror_handler\u001b[0;34m(*args, **kwargs)\u001b[0m\n\u001b[1;32m    120\u001b[0m             \u001b[0;31m# To get the full stack trace, call:\u001b[0m\u001b[0;34m\u001b[0m\u001b[0;34m\u001b[0m\u001b[0m\n\u001b[1;32m    121\u001b[0m             \u001b[0;31m# `keras.config.disable_traceback_filtering()`\u001b[0m\u001b[0;34m\u001b[0m\u001b[0;34m\u001b[0m\u001b[0m\n\u001b[0;32m--> 122\u001b[0;31m             \u001b[0;32mraise\u001b[0m \u001b[0me\u001b[0m\u001b[0;34m.\u001b[0m\u001b[0mwith_traceback\u001b[0m\u001b[0;34m(\u001b[0m\u001b[0mfiltered_tb\u001b[0m\u001b[0;34m)\u001b[0m \u001b[0;32mfrom\u001b[0m \u001b[0;32mNone\u001b[0m\u001b[0;34m\u001b[0m\u001b[0;34m\u001b[0m\u001b[0m\n\u001b[0m\u001b[1;32m    123\u001b[0m         \u001b[0;32mfinally\u001b[0m\u001b[0;34m:\u001b[0m\u001b[0;34m\u001b[0m\u001b[0;34m\u001b[0m\u001b[0m\n\u001b[1;32m    124\u001b[0m             \u001b[0;32mdel\u001b[0m \u001b[0mfiltered_tb\u001b[0m\u001b[0;34m\u001b[0m\u001b[0;34m\u001b[0m\u001b[0m\n",
            "\u001b[0;32m/usr/local/lib/python3.11/dist-packages/keras/src/models/functional.py\u001b[0m in \u001b[0;36m_adjust_input_rank\u001b[0;34m(self, flat_inputs)\u001b[0m\n\u001b[1;32m    270\u001b[0m                     \u001b[0madjusted\u001b[0m\u001b[0;34m.\u001b[0m\u001b[0mappend\u001b[0m\u001b[0;34m(\u001b[0m\u001b[0mops\u001b[0m\u001b[0;34m.\u001b[0m\u001b[0mexpand_dims\u001b[0m\u001b[0;34m(\u001b[0m\u001b[0mx\u001b[0m\u001b[0;34m,\u001b[0m \u001b[0maxis\u001b[0m\u001b[0;34m=\u001b[0m\u001b[0;34m-\u001b[0m\u001b[0;36m1\u001b[0m\u001b[0;34m)\u001b[0m\u001b[0;34m)\u001b[0m\u001b[0;34m\u001b[0m\u001b[0;34m\u001b[0m\u001b[0m\n\u001b[1;32m    271\u001b[0m                     \u001b[0;32mcontinue\u001b[0m\u001b[0;34m\u001b[0m\u001b[0;34m\u001b[0m\u001b[0m\n\u001b[0;32m--> 272\u001b[0;31m             raise ValueError(\n\u001b[0m\u001b[1;32m    273\u001b[0m                 \u001b[0;34mf\"Invalid input shape for input {x}. Expected shape \"\u001b[0m\u001b[0;34m\u001b[0m\u001b[0;34m\u001b[0m\u001b[0m\n\u001b[1;32m    274\u001b[0m                 \u001b[0;34mf\"{ref_shape}, but input has incompatible shape {x.shape}\"\u001b[0m\u001b[0;34m\u001b[0m\u001b[0;34m\u001b[0m\u001b[0m\n",
            "\u001b[0;31mValueError\u001b[0m: Exception encountered when calling Sequential.call().\n\n\u001b[1mInvalid input shape for input Tensor(\"sequential_2_1/Cast:0\", shape=(None,), dtype=float32). Expected shape (None, 2), but input has incompatible shape (None,)\u001b[0m\n\nArguments received by Sequential.call():\n  • inputs=tf.Tensor(shape=(None,), dtype=int32)\n  • training=True\n  • mask=None"
          ]
        }
      ]
    }
  ],
  "metadata": {
    "kernelspec": {
      "display_name": "base",
      "language": "python",
      "name": "python3"
    },
    "language_info": {
      "name": "python",
      "version": "3.12.7"
    },
    "colab": {
      "provenance": [],
      "toc_visible": true,
      "include_colab_link": true
    }
  },
  "nbformat": 4,
  "nbformat_minor": 0
}