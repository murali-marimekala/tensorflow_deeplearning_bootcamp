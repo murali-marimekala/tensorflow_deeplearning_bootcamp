{
  "cells": [
    {
      "cell_type": "markdown",
      "metadata": {
        "id": "view-in-github",
        "colab_type": "text"
      },
      "source": [
        "<a href=\"https://colab.research.google.com/github/murali-marimekala/tensorflow_deeplearning_bootcamp/blob/main/4_Neural_Network_Classification_with_Tensorflow/1_Neural_Network_Classification_with_tensorflow.ipynb\" target=\"_parent\"><img src=\"https://colab.research.google.com/assets/colab-badge.svg\" alt=\"Open In Colab\"/></a>"
      ]
    },
    {
      "cell_type": "code",
      "execution_count": 13,
      "metadata": {
        "id": "8eK_qXgXUkTG",
        "outputId": "793f69ab-4362-4a9c-ef85-056d9c0c0142",
        "colab": {
          "base_uri": "https://localhost:8080/"
        }
      },
      "outputs": [
        {
          "output_type": "stream",
          "name": "stdout",
          "text": [
            "2.18.0\n"
          ]
        }
      ],
      "source": [
        "import tensorflow as tf\n",
        "print(tf.__version__)"
      ]
    },
    {
      "cell_type": "markdown",
      "source": [
        "### Types of classification\n",
        "1. Classification\n",
        "2. Multi-classification problems (100 different classes / foods, cars , animals etc) : **One label per sample**\n",
        "3. Multi-label classification:  **Multiple labels per sample**"
      ],
      "metadata": {
        "id": "2U78eGjkVX-T"
      }
    },
    {
      "cell_type": "markdown",
      "source": [
        "## Classification\n",
        "What will be covered ?\n",
        "1. Architecture of a neural network classification model.\n",
        "2. Input shapes and output shapes of a classification model (features and labels)\n",
        "3. Creating custom data to view and fit\n",
        "4. Steps in modelling\n",
        "5. Creating a model, compiling a model, fitting a model, evaluating a model\n",
        "6. Different classification evalation methods\n",
        "7. Saving and loading models"
      ],
      "metadata": {
        "id": "aD9SMKaAWArH"
      }
    },
    {
      "cell_type": "code",
      "source": [],
      "metadata": {
        "id": "o3xOnH41WALL"
      },
      "execution_count": 13,
      "outputs": []
    },
    {
      "cell_type": "markdown",
      "source": [
        "# Classification inputs and outputs\n",
        "\n",
        "Inputs -> Machine learning Algorithm -> Output\n",
        "\n",
        "Multiclass classification of predicting an image involves\n",
        "\n",
        "Input Images -> Numerical encoding of pixel values (Height , Width , C (RGB)) -> Turn this data into Tensor -> ML Alogirthm -> Predictd Output -> Actual output\n",
        "\n",
        "Usually the Tensor looks like  [Batchsize, height, width, colour_channels]"
      ],
      "metadata": {
        "id": "yZ_9YDKfXoIS"
      }
    },
    {
      "cell_type": "markdown",
      "source": [
        "Introduction to NN classificaiton with tensorflow.\n",
        "\n",
        "We are going to explore\n",
        "1. How to write NN for classificaito problem where we classify as something or another.\n",
        "* Binary Classificaiton\n",
        "* Multiclass Classification\n",
        "* Multilabel Classification"
      ],
      "metadata": {
        "id": "TaD9N9ga5BMc"
      }
    },
    {
      "cell_type": "markdown",
      "source": [
        "## Creating Data to view and fit"
      ],
      "metadata": {
        "id": "1iR2bs-a5Snt"
      }
    },
    {
      "cell_type": "code",
      "source": [
        "from sklearn.datasets import make_circles\n",
        "#Make 1000 examples\n",
        "n_samples = 1000\n",
        "\n",
        "#Create circles\n",
        "X, y = make_circles(n_samples,\n",
        "                    noise=0.03,\n",
        "                    random_state=42)"
      ],
      "metadata": {
        "id": "hjVaESUi5Wem"
      },
      "execution_count": 14,
      "outputs": []
    },
    {
      "cell_type": "code",
      "source": [
        "#Check out the features\n",
        "X"
      ],
      "metadata": {
        "colab": {
          "base_uri": "https://localhost:8080/"
        },
        "id": "KH2z-YQp51kq",
        "outputId": "5a317b45-83c5-438f-f106-3ce4ba10a395"
      },
      "execution_count": 15,
      "outputs": [
        {
          "output_type": "execute_result",
          "data": {
            "text/plain": [
              "array([[ 0.75424625,  0.23148074],\n",
              "       [-0.75615888,  0.15325888],\n",
              "       [-0.81539193,  0.17328203],\n",
              "       ...,\n",
              "       [-0.13690036, -0.81001183],\n",
              "       [ 0.67036156, -0.76750154],\n",
              "       [ 0.28105665,  0.96382443]])"
            ]
          },
          "metadata": {},
          "execution_count": 15
        }
      ]
    },
    {
      "cell_type": "code",
      "source": [
        "#Check labels\n",
        "y[:10]"
      ],
      "metadata": {
        "colab": {
          "base_uri": "https://localhost:8080/"
        },
        "id": "-4AMEMHL53rg",
        "outputId": "6c98f0ed-38d6-404e-c7a7-92f62223c4bb"
      },
      "execution_count": 16,
      "outputs": [
        {
          "output_type": "execute_result",
          "data": {
            "text/plain": [
              "array([1, 1, 1, 1, 0, 1, 1, 1, 1, 0])"
            ]
          },
          "metadata": {},
          "execution_count": 16
        }
      ]
    },
    {
      "cell_type": "markdown",
      "source": [
        "Which classificaiton is it ? Our data is hard to understand. Lets visualize"
      ],
      "metadata": {
        "id": "DMf6OMG46VsL"
      }
    },
    {
      "cell_type": "code",
      "source": [
        "import pandas as pd\n",
        "circles = pd.DataFrame({\"X0\":X[:,0], \"X1\":X[:,1], \"label\":y})\n",
        "circles"
      ],
      "metadata": {
        "colab": {
          "base_uri": "https://localhost:8080/",
          "height": 423
        },
        "id": "cVKJ_7vO6Op8",
        "outputId": "5dd2d265-72d0-44bf-b6fb-72486d3b458b"
      },
      "execution_count": 17,
      "outputs": [
        {
          "output_type": "execute_result",
          "data": {
            "text/plain": [
              "           X0        X1  label\n",
              "0    0.754246  0.231481      1\n",
              "1   -0.756159  0.153259      1\n",
              "2   -0.815392  0.173282      1\n",
              "3   -0.393731  0.692883      1\n",
              "4    0.442208 -0.896723      0\n",
              "..        ...       ...    ...\n",
              "995  0.244054  0.944125      0\n",
              "996 -0.978655 -0.272373      0\n",
              "997 -0.136900 -0.810012      1\n",
              "998  0.670362 -0.767502      0\n",
              "999  0.281057  0.963824      0\n",
              "\n",
              "[1000 rows x 3 columns]"
            ],
            "text/html": [
              "\n",
              "  <div id=\"df-df14b712-228c-4ed8-a8ef-c3c2d1f392a9\" class=\"colab-df-container\">\n",
              "    <div>\n",
              "<style scoped>\n",
              "    .dataframe tbody tr th:only-of-type {\n",
              "        vertical-align: middle;\n",
              "    }\n",
              "\n",
              "    .dataframe tbody tr th {\n",
              "        vertical-align: top;\n",
              "    }\n",
              "\n",
              "    .dataframe thead th {\n",
              "        text-align: right;\n",
              "    }\n",
              "</style>\n",
              "<table border=\"1\" class=\"dataframe\">\n",
              "  <thead>\n",
              "    <tr style=\"text-align: right;\">\n",
              "      <th></th>\n",
              "      <th>X0</th>\n",
              "      <th>X1</th>\n",
              "      <th>label</th>\n",
              "    </tr>\n",
              "  </thead>\n",
              "  <tbody>\n",
              "    <tr>\n",
              "      <th>0</th>\n",
              "      <td>0.754246</td>\n",
              "      <td>0.231481</td>\n",
              "      <td>1</td>\n",
              "    </tr>\n",
              "    <tr>\n",
              "      <th>1</th>\n",
              "      <td>-0.756159</td>\n",
              "      <td>0.153259</td>\n",
              "      <td>1</td>\n",
              "    </tr>\n",
              "    <tr>\n",
              "      <th>2</th>\n",
              "      <td>-0.815392</td>\n",
              "      <td>0.173282</td>\n",
              "      <td>1</td>\n",
              "    </tr>\n",
              "    <tr>\n",
              "      <th>3</th>\n",
              "      <td>-0.393731</td>\n",
              "      <td>0.692883</td>\n",
              "      <td>1</td>\n",
              "    </tr>\n",
              "    <tr>\n",
              "      <th>4</th>\n",
              "      <td>0.442208</td>\n",
              "      <td>-0.896723</td>\n",
              "      <td>0</td>\n",
              "    </tr>\n",
              "    <tr>\n",
              "      <th>...</th>\n",
              "      <td>...</td>\n",
              "      <td>...</td>\n",
              "      <td>...</td>\n",
              "    </tr>\n",
              "    <tr>\n",
              "      <th>995</th>\n",
              "      <td>0.244054</td>\n",
              "      <td>0.944125</td>\n",
              "      <td>0</td>\n",
              "    </tr>\n",
              "    <tr>\n",
              "      <th>996</th>\n",
              "      <td>-0.978655</td>\n",
              "      <td>-0.272373</td>\n",
              "      <td>0</td>\n",
              "    </tr>\n",
              "    <tr>\n",
              "      <th>997</th>\n",
              "      <td>-0.136900</td>\n",
              "      <td>-0.810012</td>\n",
              "      <td>1</td>\n",
              "    </tr>\n",
              "    <tr>\n",
              "      <th>998</th>\n",
              "      <td>0.670362</td>\n",
              "      <td>-0.767502</td>\n",
              "      <td>0</td>\n",
              "    </tr>\n",
              "    <tr>\n",
              "      <th>999</th>\n",
              "      <td>0.281057</td>\n",
              "      <td>0.963824</td>\n",
              "      <td>0</td>\n",
              "    </tr>\n",
              "  </tbody>\n",
              "</table>\n",
              "<p>1000 rows × 3 columns</p>\n",
              "</div>\n",
              "    <div class=\"colab-df-buttons\">\n",
              "\n",
              "  <div class=\"colab-df-container\">\n",
              "    <button class=\"colab-df-convert\" onclick=\"convertToInteractive('df-df14b712-228c-4ed8-a8ef-c3c2d1f392a9')\"\n",
              "            title=\"Convert this dataframe to an interactive table.\"\n",
              "            style=\"display:none;\">\n",
              "\n",
              "  <svg xmlns=\"http://www.w3.org/2000/svg\" height=\"24px\" viewBox=\"0 -960 960 960\">\n",
              "    <path d=\"M120-120v-720h720v720H120Zm60-500h600v-160H180v160Zm220 220h160v-160H400v160Zm0 220h160v-160H400v160ZM180-400h160v-160H180v160Zm440 0h160v-160H620v160ZM180-180h160v-160H180v160Zm440 0h160v-160H620v160Z\"/>\n",
              "  </svg>\n",
              "    </button>\n",
              "\n",
              "  <style>\n",
              "    .colab-df-container {\n",
              "      display:flex;\n",
              "      gap: 12px;\n",
              "    }\n",
              "\n",
              "    .colab-df-convert {\n",
              "      background-color: #E8F0FE;\n",
              "      border: none;\n",
              "      border-radius: 50%;\n",
              "      cursor: pointer;\n",
              "      display: none;\n",
              "      fill: #1967D2;\n",
              "      height: 32px;\n",
              "      padding: 0 0 0 0;\n",
              "      width: 32px;\n",
              "    }\n",
              "\n",
              "    .colab-df-convert:hover {\n",
              "      background-color: #E2EBFA;\n",
              "      box-shadow: 0px 1px 2px rgba(60, 64, 67, 0.3), 0px 1px 3px 1px rgba(60, 64, 67, 0.15);\n",
              "      fill: #174EA6;\n",
              "    }\n",
              "\n",
              "    .colab-df-buttons div {\n",
              "      margin-bottom: 4px;\n",
              "    }\n",
              "\n",
              "    [theme=dark] .colab-df-convert {\n",
              "      background-color: #3B4455;\n",
              "      fill: #D2E3FC;\n",
              "    }\n",
              "\n",
              "    [theme=dark] .colab-df-convert:hover {\n",
              "      background-color: #434B5C;\n",
              "      box-shadow: 0px 1px 3px 1px rgba(0, 0, 0, 0.15);\n",
              "      filter: drop-shadow(0px 1px 2px rgba(0, 0, 0, 0.3));\n",
              "      fill: #FFFFFF;\n",
              "    }\n",
              "  </style>\n",
              "\n",
              "    <script>\n",
              "      const buttonEl =\n",
              "        document.querySelector('#df-df14b712-228c-4ed8-a8ef-c3c2d1f392a9 button.colab-df-convert');\n",
              "      buttonEl.style.display =\n",
              "        google.colab.kernel.accessAllowed ? 'block' : 'none';\n",
              "\n",
              "      async function convertToInteractive(key) {\n",
              "        const element = document.querySelector('#df-df14b712-228c-4ed8-a8ef-c3c2d1f392a9');\n",
              "        const dataTable =\n",
              "          await google.colab.kernel.invokeFunction('convertToInteractive',\n",
              "                                                    [key], {});\n",
              "        if (!dataTable) return;\n",
              "\n",
              "        const docLinkHtml = 'Like what you see? Visit the ' +\n",
              "          '<a target=\"_blank\" href=https://colab.research.google.com/notebooks/data_table.ipynb>data table notebook</a>'\n",
              "          + ' to learn more about interactive tables.';\n",
              "        element.innerHTML = '';\n",
              "        dataTable['output_type'] = 'display_data';\n",
              "        await google.colab.output.renderOutput(dataTable, element);\n",
              "        const docLink = document.createElement('div');\n",
              "        docLink.innerHTML = docLinkHtml;\n",
              "        element.appendChild(docLink);\n",
              "      }\n",
              "    </script>\n",
              "  </div>\n",
              "\n",
              "\n",
              "<div id=\"df-d54188bb-3d4c-4a47-9d96-c9d5d846b8d0\">\n",
              "  <button class=\"colab-df-quickchart\" onclick=\"quickchart('df-d54188bb-3d4c-4a47-9d96-c9d5d846b8d0')\"\n",
              "            title=\"Suggest charts\"\n",
              "            style=\"display:none;\">\n",
              "\n",
              "<svg xmlns=\"http://www.w3.org/2000/svg\" height=\"24px\"viewBox=\"0 0 24 24\"\n",
              "     width=\"24px\">\n",
              "    <g>\n",
              "        <path d=\"M19 3H5c-1.1 0-2 .9-2 2v14c0 1.1.9 2 2 2h14c1.1 0 2-.9 2-2V5c0-1.1-.9-2-2-2zM9 17H7v-7h2v7zm4 0h-2V7h2v10zm4 0h-2v-4h2v4z\"/>\n",
              "    </g>\n",
              "</svg>\n",
              "  </button>\n",
              "\n",
              "<style>\n",
              "  .colab-df-quickchart {\n",
              "      --bg-color: #E8F0FE;\n",
              "      --fill-color: #1967D2;\n",
              "      --hover-bg-color: #E2EBFA;\n",
              "      --hover-fill-color: #174EA6;\n",
              "      --disabled-fill-color: #AAA;\n",
              "      --disabled-bg-color: #DDD;\n",
              "  }\n",
              "\n",
              "  [theme=dark] .colab-df-quickchart {\n",
              "      --bg-color: #3B4455;\n",
              "      --fill-color: #D2E3FC;\n",
              "      --hover-bg-color: #434B5C;\n",
              "      --hover-fill-color: #FFFFFF;\n",
              "      --disabled-bg-color: #3B4455;\n",
              "      --disabled-fill-color: #666;\n",
              "  }\n",
              "\n",
              "  .colab-df-quickchart {\n",
              "    background-color: var(--bg-color);\n",
              "    border: none;\n",
              "    border-radius: 50%;\n",
              "    cursor: pointer;\n",
              "    display: none;\n",
              "    fill: var(--fill-color);\n",
              "    height: 32px;\n",
              "    padding: 0;\n",
              "    width: 32px;\n",
              "  }\n",
              "\n",
              "  .colab-df-quickchart:hover {\n",
              "    background-color: var(--hover-bg-color);\n",
              "    box-shadow: 0 1px 2px rgba(60, 64, 67, 0.3), 0 1px 3px 1px rgba(60, 64, 67, 0.15);\n",
              "    fill: var(--button-hover-fill-color);\n",
              "  }\n",
              "\n",
              "  .colab-df-quickchart-complete:disabled,\n",
              "  .colab-df-quickchart-complete:disabled:hover {\n",
              "    background-color: var(--disabled-bg-color);\n",
              "    fill: var(--disabled-fill-color);\n",
              "    box-shadow: none;\n",
              "  }\n",
              "\n",
              "  .colab-df-spinner {\n",
              "    border: 2px solid var(--fill-color);\n",
              "    border-color: transparent;\n",
              "    border-bottom-color: var(--fill-color);\n",
              "    animation:\n",
              "      spin 1s steps(1) infinite;\n",
              "  }\n",
              "\n",
              "  @keyframes spin {\n",
              "    0% {\n",
              "      border-color: transparent;\n",
              "      border-bottom-color: var(--fill-color);\n",
              "      border-left-color: var(--fill-color);\n",
              "    }\n",
              "    20% {\n",
              "      border-color: transparent;\n",
              "      border-left-color: var(--fill-color);\n",
              "      border-top-color: var(--fill-color);\n",
              "    }\n",
              "    30% {\n",
              "      border-color: transparent;\n",
              "      border-left-color: var(--fill-color);\n",
              "      border-top-color: var(--fill-color);\n",
              "      border-right-color: var(--fill-color);\n",
              "    }\n",
              "    40% {\n",
              "      border-color: transparent;\n",
              "      border-right-color: var(--fill-color);\n",
              "      border-top-color: var(--fill-color);\n",
              "    }\n",
              "    60% {\n",
              "      border-color: transparent;\n",
              "      border-right-color: var(--fill-color);\n",
              "    }\n",
              "    80% {\n",
              "      border-color: transparent;\n",
              "      border-right-color: var(--fill-color);\n",
              "      border-bottom-color: var(--fill-color);\n",
              "    }\n",
              "    90% {\n",
              "      border-color: transparent;\n",
              "      border-bottom-color: var(--fill-color);\n",
              "    }\n",
              "  }\n",
              "</style>\n",
              "\n",
              "  <script>\n",
              "    async function quickchart(key) {\n",
              "      const quickchartButtonEl =\n",
              "        document.querySelector('#' + key + ' button');\n",
              "      quickchartButtonEl.disabled = true;  // To prevent multiple clicks.\n",
              "      quickchartButtonEl.classList.add('colab-df-spinner');\n",
              "      try {\n",
              "        const charts = await google.colab.kernel.invokeFunction(\n",
              "            'suggestCharts', [key], {});\n",
              "      } catch (error) {\n",
              "        console.error('Error during call to suggestCharts:', error);\n",
              "      }\n",
              "      quickchartButtonEl.classList.remove('colab-df-spinner');\n",
              "      quickchartButtonEl.classList.add('colab-df-quickchart-complete');\n",
              "    }\n",
              "    (() => {\n",
              "      let quickchartButtonEl =\n",
              "        document.querySelector('#df-d54188bb-3d4c-4a47-9d96-c9d5d846b8d0 button');\n",
              "      quickchartButtonEl.style.display =\n",
              "        google.colab.kernel.accessAllowed ? 'block' : 'none';\n",
              "    })();\n",
              "  </script>\n",
              "</div>\n",
              "\n",
              "  <div id=\"id_f26361ff-b0b9-4738-9e64-6c3fb166b186\">\n",
              "    <style>\n",
              "      .colab-df-generate {\n",
              "        background-color: #E8F0FE;\n",
              "        border: none;\n",
              "        border-radius: 50%;\n",
              "        cursor: pointer;\n",
              "        display: none;\n",
              "        fill: #1967D2;\n",
              "        height: 32px;\n",
              "        padding: 0 0 0 0;\n",
              "        width: 32px;\n",
              "      }\n",
              "\n",
              "      .colab-df-generate:hover {\n",
              "        background-color: #E2EBFA;\n",
              "        box-shadow: 0px 1px 2px rgba(60, 64, 67, 0.3), 0px 1px 3px 1px rgba(60, 64, 67, 0.15);\n",
              "        fill: #174EA6;\n",
              "      }\n",
              "\n",
              "      [theme=dark] .colab-df-generate {\n",
              "        background-color: #3B4455;\n",
              "        fill: #D2E3FC;\n",
              "      }\n",
              "\n",
              "      [theme=dark] .colab-df-generate:hover {\n",
              "        background-color: #434B5C;\n",
              "        box-shadow: 0px 1px 3px 1px rgba(0, 0, 0, 0.15);\n",
              "        filter: drop-shadow(0px 1px 2px rgba(0, 0, 0, 0.3));\n",
              "        fill: #FFFFFF;\n",
              "      }\n",
              "    </style>\n",
              "    <button class=\"colab-df-generate\" onclick=\"generateWithVariable('circles')\"\n",
              "            title=\"Generate code using this dataframe.\"\n",
              "            style=\"display:none;\">\n",
              "\n",
              "  <svg xmlns=\"http://www.w3.org/2000/svg\" height=\"24px\"viewBox=\"0 0 24 24\"\n",
              "       width=\"24px\">\n",
              "    <path d=\"M7,19H8.4L18.45,9,17,7.55,7,17.6ZM5,21V16.75L18.45,3.32a2,2,0,0,1,2.83,0l1.4,1.43a1.91,1.91,0,0,1,.58,1.4,1.91,1.91,0,0,1-.58,1.4L9.25,21ZM18.45,9,17,7.55Zm-12,3A5.31,5.31,0,0,0,4.9,8.1,5.31,5.31,0,0,0,1,6.5,5.31,5.31,0,0,0,4.9,4.9,5.31,5.31,0,0,0,6.5,1,5.31,5.31,0,0,0,8.1,4.9,5.31,5.31,0,0,0,12,6.5,5.46,5.46,0,0,0,6.5,12Z\"/>\n",
              "  </svg>\n",
              "    </button>\n",
              "    <script>\n",
              "      (() => {\n",
              "      const buttonEl =\n",
              "        document.querySelector('#id_f26361ff-b0b9-4738-9e64-6c3fb166b186 button.colab-df-generate');\n",
              "      buttonEl.style.display =\n",
              "        google.colab.kernel.accessAllowed ? 'block' : 'none';\n",
              "\n",
              "      buttonEl.onclick = () => {\n",
              "        google.colab.notebook.generateWithVariable('circles');\n",
              "      }\n",
              "      })();\n",
              "    </script>\n",
              "  </div>\n",
              "\n",
              "    </div>\n",
              "  </div>\n"
            ],
            "application/vnd.google.colaboratory.intrinsic+json": {
              "type": "dataframe",
              "variable_name": "circles",
              "summary": "{\n  \"name\": \"circles\",\n  \"rows\": 1000,\n  \"fields\": [\n    {\n      \"column\": \"X0\",\n      \"properties\": {\n        \"dtype\": \"number\",\n        \"std\": 0.6398365674574611,\n        \"min\": -1.0595024599098635,\n        \"max\": 1.0337117525463373,\n        \"num_unique_values\": 1000,\n        \"samples\": [\n          -0.3751930206933384,\n          0.015380346701456493,\n          -0.7027835978832848\n        ],\n        \"semantic_type\": \"\",\n        \"description\": \"\"\n      }\n    },\n    {\n      \"column\": \"X1\",\n      \"properties\": {\n        \"dtype\": \"number\",\n        \"std\": 0.6411559581015379,\n        \"min\": -1.0677683182718436,\n        \"max\": 1.0360036756154805,\n        \"num_unique_values\": 1000,\n        \"samples\": [\n          0.6826597225888621,\n          0.9600260220697324,\n          -0.3147169925147762\n        ],\n        \"semantic_type\": \"\",\n        \"description\": \"\"\n      }\n    },\n    {\n      \"column\": \"label\",\n      \"properties\": {\n        \"dtype\": \"number\",\n        \"std\": 0,\n        \"min\": 0,\n        \"max\": 1,\n        \"num_unique_values\": 2,\n        \"samples\": [\n          0,\n          1\n        ],\n        \"semantic_type\": \"\",\n        \"description\": \"\"\n      }\n    }\n  ]\n}"
            }
          },
          "metadata": {},
          "execution_count": 17
        }
      ]
    },
    {
      "cell_type": "code",
      "source": [
        "circles.label.value_counts()"
      ],
      "metadata": {
        "colab": {
          "base_uri": "https://localhost:8080/",
          "height": 178
        },
        "id": "ZCt_Y88BDCjc",
        "outputId": "9cbb611c-c61c-41e8-f5db-b2cfb2a47ee5"
      },
      "execution_count": 33,
      "outputs": [
        {
          "output_type": "execute_result",
          "data": {
            "text/plain": [
              "label\n",
              "1    500\n",
              "0    500\n",
              "Name: count, dtype: int64"
            ],
            "text/html": [
              "<div>\n",
              "<style scoped>\n",
              "    .dataframe tbody tr th:only-of-type {\n",
              "        vertical-align: middle;\n",
              "    }\n",
              "\n",
              "    .dataframe tbody tr th {\n",
              "        vertical-align: top;\n",
              "    }\n",
              "\n",
              "    .dataframe thead th {\n",
              "        text-align: right;\n",
              "    }\n",
              "</style>\n",
              "<table border=\"1\" class=\"dataframe\">\n",
              "  <thead>\n",
              "    <tr style=\"text-align: right;\">\n",
              "      <th></th>\n",
              "      <th>count</th>\n",
              "    </tr>\n",
              "    <tr>\n",
              "      <th>label</th>\n",
              "      <th></th>\n",
              "    </tr>\n",
              "  </thead>\n",
              "  <tbody>\n",
              "    <tr>\n",
              "      <th>1</th>\n",
              "      <td>500</td>\n",
              "    </tr>\n",
              "    <tr>\n",
              "      <th>0</th>\n",
              "      <td>500</td>\n",
              "    </tr>\n",
              "  </tbody>\n",
              "</table>\n",
              "</div><br><label><b>dtype:</b> int64</label>"
            ]
          },
          "metadata": {},
          "execution_count": 33
        }
      ]
    },
    {
      "cell_type": "code",
      "source": [
        "#Visualize with plot\n",
        "import matplotlib.pyplot as plt\n",
        "plt.scatter(X[:, 0], X[:,1],c=y, cmap=plt.cm.RdYlBu)"
      ],
      "metadata": {
        "colab": {
          "base_uri": "https://localhost:8080/",
          "height": 448
        },
        "id": "QgjLf09m65W7",
        "outputId": "12a4c368-bfff-4fe2-aac7-2c60df3a1a53"
      },
      "execution_count": 18,
      "outputs": [
        {
          "output_type": "execute_result",
          "data": {
            "text/plain": [
              "<matplotlib.collections.PathCollection at 0x7907d4068bd0>"
            ]
          },
          "metadata": {},
          "execution_count": 18
        },
        {
          "output_type": "display_data",
          "data": {
            "text/plain": [
              "<Figure size 640x480 with 1 Axes>"
            ],
            "image/png": "[encoded data removed]"
          },
          "metadata": {}
        }
      ]
    },
    {
      "cell_type": "code",
      "source": [],
      "metadata": {
        "id": "A_CdfqP37PYH"
      },
      "execution_count": null,
      "outputs": []
    },
    {
      "cell_type": "markdown",
      "source": [
        "Tensorflow playground is interesting.\n",
        "https://playground.tensorflow.org"
      ],
      "metadata": {
        "id": "NidpFLlD9Ca7"
      }
    },
    {
      "cell_type": "code",
      "source": [
        "#Check shape of features and lables\n",
        "X.shape, y.shape"
      ],
      "metadata": {
        "colab": {
          "base_uri": "https://localhost:8080/"
        },
        "id": "J0ITOvF09Oas",
        "outputId": "130df1d0-149b-417f-f4f8-9185d313e221"
      },
      "execution_count": 19,
      "outputs": [
        {
          "output_type": "execute_result",
          "data": {
            "text/plain": [
              "((1000, 2), (1000,))"
            ]
          },
          "metadata": {},
          "execution_count": 19
        }
      ]
    },
    {
      "cell_type": "code",
      "source": [
        "#Now length of featuresand labels\n",
        "len(X), len(y)\n"
      ],
      "metadata": {
        "colab": {
          "base_uri": "https://localhost:8080/"
        },
        "id": "FtSNhJ469SLy",
        "outputId": "bc12cafa-7f78-4678-d574-584e371c020f"
      },
      "execution_count": 20,
      "outputs": [
        {
          "output_type": "execute_result",
          "data": {
            "text/plain": [
              "(1000, 1000)"
            ]
          },
          "metadata": {},
          "execution_count": 20
        }
      ]
    },
    {
      "cell_type": "code",
      "source": [
        "#View the first example of features and labels\n",
        "X[0], y[0]"
      ],
      "metadata": {
        "colab": {
          "base_uri": "https://localhost:8080/"
        },
        "id": "GmYjSZEW9aUB",
        "outputId": "142e70fe-8622-438c-e905-497c99b442d9"
      },
      "execution_count": 21,
      "outputs": [
        {
          "output_type": "execute_result",
          "data": {
            "text/plain": [
              "(array([0.75424625, 0.23148074]), 1)"
            ]
          },
          "metadata": {},
          "execution_count": 21
        }
      ]
    },
    {
      "cell_type": "code",
      "source": [
        "#Lets write a NN code with tensorflow\n",
        "#Set the radom seed\n",
        "tf.random.set_seed(42)\n",
        "\n",
        "#1. Create the model with Sequential API\n",
        "model_1 = tf.keras.Sequential([\n",
        "    tf.keras.layers.Dense(1)\n",
        "])\n",
        "\n",
        "#2. Compile the model\n",
        "model_1.compile(loss=tf.keras.losses.BinaryCrossentropy(),\n",
        "              optimizer=tf.keras.optimizers.SGD(),\n",
        "              metrics=[\"accuracy\"]) # Accuracy states : out of 100 samples how manyour model get it right\n",
        "\n",
        "#3. Fit the model\n",
        "model_1.fit(X,y,epochs=100)\n",
        "\n",
        "#4. evaluate the model\n",
        "model_1.evaluate(X,y)\n"
      ],
      "metadata": {
        "colab": {
          "base_uri": "https://localhost:8080/"
        },
        "id": "qYbjlkTi9hPH",
        "outputId": "cfa2bf1e-66a7-48c7-bd6b-5b8b10073b1c"
      },
      "execution_count": 27,
      "outputs": [
        {
          "output_type": "stream",
          "name": "stdout",
          "text": [
            "Epoch 1/100\n",
            "\u001b[1m32/32\u001b[0m \u001b[32m━━━━━━━━━━━━━━━━━━━━\u001b[0m\u001b[37m\u001b[0m \u001b[1m1s\u001b[0m 2ms/step - accuracy: 0.4639 - loss: 4.3470   \n",
            "Epoch 2/100\n",
            "\u001b[1m32/32\u001b[0m \u001b[32m━━━━━━━━━━━━━━━━━━━━\u001b[0m\u001b[37m\u001b[0m \u001b[1m0s\u001b[0m 2ms/step - accuracy: 0.4791 - loss: 2.1900 \n",
            "Epoch 3/100\n",
            "\u001b[1m32/32\u001b[0m \u001b[32m━━━━━━━━━━━━━━━━━━━━\u001b[0m\u001b[37m\u001b[0m \u001b[1m0s\u001b[0m 2ms/step - accuracy: 0.5028 - loss: 0.7423 \n",
            "Epoch 4/100\n",
            "\u001b[1m32/32\u001b[0m \u001b[32m━━━━━━━━━━━━━━━━━━━━\u001b[0m\u001b[37m\u001b[0m \u001b[1m0s\u001b[0m 2ms/step - accuracy: 0.5055 - loss: 0.7090 \n",
            "Epoch 5/100\n",
            "\u001b[1m32/32\u001b[0m \u001b[32m━━━━━━━━━━━━━━━━━━━━\u001b[0m\u001b[37m\u001b[0m \u001b[1m0s\u001b[0m 2ms/step - accuracy: 0.5037 - loss: 0.6995 \n",
            "Epoch 6/100\n",
            "\u001b[1m32/32\u001b[0m \u001b[32m━━━━━━━━━━━━━━━━━━━━\u001b[0m\u001b[37m\u001b[0m \u001b[1m0s\u001b[0m 2ms/step - accuracy: 0.5048 - loss: 0.6964 \n",
            "Epoch 7/100\n",
            "\u001b[1m32/32\u001b[0m \u001b[32m━━━━━━━━━━━━━━━━━━━━\u001b[0m\u001b[37m\u001b[0m \u001b[1m0s\u001b[0m 2ms/step - accuracy: 0.5031 - loss: 0.6954 \n",
            "Epoch 8/100\n",
            "\u001b[1m32/32\u001b[0m \u001b[32m━━━━━━━━━━━━━━━━━━━━\u001b[0m\u001b[37m\u001b[0m \u001b[1m0s\u001b[0m 3ms/step - accuracy: 0.4863 - loss: 0.6950\n",
            "Epoch 9/100\n",
            "\u001b[1m32/32\u001b[0m \u001b[32m━━━━━━━━━━━━━━━━━━━━\u001b[0m\u001b[37m\u001b[0m \u001b[1m0s\u001b[0m 2ms/step - accuracy: 0.4760 - loss: 0.6949 \n",
            "Epoch 10/100\n",
            "\u001b[1m32/32\u001b[0m \u001b[32m━━━━━━━━━━━━━━━━━━━━\u001b[0m\u001b[37m\u001b[0m \u001b[1m0s\u001b[0m 2ms/step - accuracy: 0.4529 - loss: 0.6949 \n",
            "Epoch 11/100\n",
            "\u001b[1m32/32\u001b[0m \u001b[32m━━━━━━━━━━━━━━━━━━━━\u001b[0m\u001b[37m\u001b[0m \u001b[1m0s\u001b[0m 2ms/step - accuracy: 0.4413 - loss: 0.6949 \n",
            "Epoch 12/100\n",
            "\u001b[1m32/32\u001b[0m \u001b[32m━━━━━━━━━━━━━━━━━━━━\u001b[0m\u001b[37m\u001b[0m \u001b[1m0s\u001b[0m 2ms/step - accuracy: 0.4253 - loss: 0.6948 \n",
            "Epoch 13/100\n",
            "\u001b[1m32/32\u001b[0m \u001b[32m━━━━━━━━━━━━━━━━━━━━\u001b[0m\u001b[37m\u001b[0m \u001b[1m0s\u001b[0m 2ms/step - accuracy: 0.4405 - loss: 0.6948 \n",
            "Epoch 14/100\n",
            "\u001b[1m32/32\u001b[0m \u001b[32m━━━━━━━━━━━━━━━━━━━━\u001b[0m\u001b[37m\u001b[0m \u001b[1m0s\u001b[0m 2ms/step - accuracy: 0.4441 - loss: 0.6948 \n",
            "Epoch 15/100\n",
            "\u001b[1m32/32\u001b[0m \u001b[32m━━━━━━━━━━━━━━━━━━━━\u001b[0m\u001b[37m\u001b[0m \u001b[1m0s\u001b[0m 3ms/step - accuracy: 0.4343 - loss: 0.6948\n",
            "Epoch 16/100\n",
            "\u001b[1m32/32\u001b[0m \u001b[32m━━━━━━━━━━━━━━━━━━━━\u001b[0m\u001b[37m\u001b[0m \u001b[1m0s\u001b[0m 2ms/step - accuracy: 0.4313 - loss: 0.6948 \n",
            "Epoch 17/100\n",
            "\u001b[1m32/32\u001b[0m \u001b[32m━━━━━━━━━━━━━━━━━━━━\u001b[0m\u001b[37m\u001b[0m \u001b[1m0s\u001b[0m 2ms/step - accuracy: 0.4277 - loss: 0.6948 \n",
            "Epoch 18/100\n",
            "\u001b[1m32/32\u001b[0m \u001b[32m━━━━━━━━━━━━━━━━━━━━\u001b[0m\u001b[37m\u001b[0m \u001b[1m0s\u001b[0m 2ms/step - accuracy: 0.4274 - loss: 0.6948 \n",
            "Epoch 19/100\n",
            "\u001b[1m32/32\u001b[0m \u001b[32m━━━━━━━━━━━━━━━━━━━━\u001b[0m\u001b[37m\u001b[0m \u001b[1m0s\u001b[0m 2ms/step - accuracy: 0.4278 - loss: 0.6948 \n",
            "Epoch 20/100\n",
            "\u001b[1m32/32\u001b[0m \u001b[32m━━━━━━━━━━━━━━━━━━━━\u001b[0m\u001b[37m\u001b[0m \u001b[1m0s\u001b[0m 2ms/step - accuracy: 0.4278 - loss: 0.6948 \n",
            "Epoch 21/100\n",
            "\u001b[1m32/32\u001b[0m \u001b[32m━━━━━━━━━━━━━━━━━━━━\u001b[0m\u001b[37m\u001b[0m \u001b[1m0s\u001b[0m 2ms/step - accuracy: 0.4278 - loss: 0.6948 \n",
            "Epoch 22/100\n",
            "\u001b[1m32/32\u001b[0m \u001b[32m━━━━━━━━━━━━━━━━━━━━\u001b[0m\u001b[37m\u001b[0m \u001b[1m0s\u001b[0m 2ms/step - accuracy: 0.4278 - loss: 0.6948 \n",
            "Epoch 23/100\n",
            "\u001b[1m32/32\u001b[0m \u001b[32m━━━━━━━━━━━━━━━━━━━━\u001b[0m\u001b[37m\u001b[0m \u001b[1m0s\u001b[0m 2ms/step - accuracy: 0.4278 - loss: 0.6948 \n",
            "Epoch 24/100\n",
            "\u001b[1m32/32\u001b[0m \u001b[32m━━━━━━━━━━━━━━━━━━━━\u001b[0m\u001b[37m\u001b[0m \u001b[1m0s\u001b[0m 3ms/step - accuracy: 0.4278 - loss: 0.6948\n",
            "Epoch 25/100\n",
            "\u001b[1m32/32\u001b[0m \u001b[32m━━━━━━━━━━━━━━━━━━━━\u001b[0m\u001b[37m\u001b[0m \u001b[1m0s\u001b[0m 2ms/step - accuracy: 0.4278 - loss: 0.6948 \n",
            "Epoch 26/100\n",
            "\u001b[1m32/32\u001b[0m \u001b[32m━━━━━━━━━━━━━━━━━━━━\u001b[0m\u001b[37m\u001b[0m \u001b[1m0s\u001b[0m 2ms/step - accuracy: 0.4278 - loss: 0.6948 \n",
            "Epoch 27/100\n",
            "\u001b[1m32/32\u001b[0m \u001b[32m━━━━━━━━━━━━━━━━━━━━\u001b[0m\u001b[37m\u001b[0m \u001b[1m0s\u001b[0m 2ms/step - accuracy: 0.4271 - loss: 0.6948 \n",
            "Epoch 28/100\n",
            "\u001b[1m32/32\u001b[0m \u001b[32m━━━━━━━━━━━━━━━━━━━━\u001b[0m\u001b[37m\u001b[0m \u001b[1m0s\u001b[0m 2ms/step - accuracy: 0.4271 - loss: 0.6948 \n",
            "Epoch 29/100\n",
            "\u001b[1m32/32\u001b[0m \u001b[32m━━━━━━━━━━━━━━━━━━━━\u001b[0m\u001b[37m\u001b[0m \u001b[1m0s\u001b[0m 2ms/step - accuracy: 0.4271 - loss: 0.6948 \n",
            "Epoch 30/100\n",
            "\u001b[1m32/32\u001b[0m \u001b[32m━━━━━━━━━━━━━━━━━━━━\u001b[0m\u001b[37m\u001b[0m \u001b[1m0s\u001b[0m 2ms/step - accuracy: 0.4271 - loss: 0.6948 \n",
            "Epoch 31/100\n",
            "\u001b[1m32/32\u001b[0m \u001b[32m━━━━━━━━━━━━━━━━━━━━\u001b[0m\u001b[37m\u001b[0m \u001b[1m0s\u001b[0m 3ms/step - accuracy: 0.4271 - loss: 0.6948\n",
            "Epoch 32/100\n",
            "\u001b[1m32/32\u001b[0m \u001b[32m━━━━━━━━━━━━━━━━━━━━\u001b[0m\u001b[37m\u001b[0m \u001b[1m0s\u001b[0m 2ms/step - accuracy: 0.4271 - loss: 0.6948\n",
            "Epoch 33/100\n",
            "\u001b[1m32/32\u001b[0m \u001b[32m━━━━━━━━━━━━━━━━━━━━\u001b[0m\u001b[37m\u001b[0m \u001b[1m0s\u001b[0m 2ms/step - accuracy: 0.4271 - loss: 0.6948 \n",
            "Epoch 34/100\n",
            "\u001b[1m32/32\u001b[0m \u001b[32m━━━━━━━━━━━━━━━━━━━━\u001b[0m\u001b[37m\u001b[0m \u001b[1m0s\u001b[0m 2ms/step - accuracy: 0.4271 - loss: 0.6948 \n",
            "Epoch 35/100\n",
            "\u001b[1m32/32\u001b[0m \u001b[32m━━━━━━━━━━━━━━━━━━━━\u001b[0m\u001b[37m\u001b[0m \u001b[1m0s\u001b[0m 2ms/step - accuracy: 0.4271 - loss: 0.6948 \n",
            "Epoch 36/100\n",
            "\u001b[1m32/32\u001b[0m \u001b[32m━━━━━━━━━━━━━━━━━━━━\u001b[0m\u001b[37m\u001b[0m \u001b[1m0s\u001b[0m 2ms/step - accuracy: 0.4271 - loss: 0.6948 \n",
            "Epoch 37/100\n",
            "\u001b[1m32/32\u001b[0m \u001b[32m━━━━━━━━━━━━━━━━━━━━\u001b[0m\u001b[37m\u001b[0m \u001b[1m0s\u001b[0m 2ms/step - accuracy: 0.4271 - loss: 0.6948 \n",
            "Epoch 38/100\n",
            "\u001b[1m32/32\u001b[0m \u001b[32m━━━━━━━━━━━━━━━━━━━━\u001b[0m\u001b[37m\u001b[0m \u001b[1m0s\u001b[0m 2ms/step - accuracy: 0.4271 - loss: 0.6948 \n",
            "Epoch 39/100\n",
            "\u001b[1m32/32\u001b[0m \u001b[32m━━━━━━━━━━━━━━━━━━━━\u001b[0m\u001b[37m\u001b[0m \u001b[1m0s\u001b[0m 2ms/step - accuracy: 0.4271 - loss: 0.6948 \n",
            "Epoch 40/100\n",
            "\u001b[1m32/32\u001b[0m \u001b[32m━━━━━━━━━━━━━━━━━━━━\u001b[0m\u001b[37m\u001b[0m \u001b[1m0s\u001b[0m 3ms/step - accuracy: 0.4271 - loss: 0.6948\n",
            "Epoch 41/100\n",
            "\u001b[1m32/32\u001b[0m \u001b[32m━━━━━━━━━━━━━━━━━━━━\u001b[0m\u001b[37m\u001b[0m \u001b[1m0s\u001b[0m 2ms/step - accuracy: 0.4271 - loss: 0.6948 \n",
            "Epoch 42/100\n",
            "\u001b[1m32/32\u001b[0m \u001b[32m━━━━━━━━━━━━━━━━━━━━\u001b[0m\u001b[37m\u001b[0m \u001b[1m0s\u001b[0m 2ms/step - accuracy: 0.4271 - loss: 0.6948 \n",
            "Epoch 43/100\n",
            "\u001b[1m32/32\u001b[0m \u001b[32m━━━━━━━━━━━━━━━━━━━━\u001b[0m\u001b[37m\u001b[0m \u001b[1m0s\u001b[0m 2ms/step - accuracy: 0.4271 - loss: 0.6948 \n",
            "Epoch 44/100\n",
            "\u001b[1m32/32\u001b[0m \u001b[32m━━━━━━━━━━━━━━━━━━━━\u001b[0m\u001b[37m\u001b[0m \u001b[1m0s\u001b[0m 2ms/step - accuracy: 0.4271 - loss: 0.6948 \n",
            "Epoch 45/100\n",
            "\u001b[1m32/32\u001b[0m \u001b[32m━━━━━━━━━━━━━━━━━━━━\u001b[0m\u001b[37m\u001b[0m \u001b[1m0s\u001b[0m 2ms/step - accuracy: 0.4271 - loss: 0.6948 \n",
            "Epoch 46/100\n",
            "\u001b[1m32/32\u001b[0m \u001b[32m━━━━━━━━━━━━━━━━━━━━\u001b[0m\u001b[37m\u001b[0m \u001b[1m0s\u001b[0m 2ms/step - accuracy: 0.4271 - loss: 0.6948 \n",
            "Epoch 47/100\n",
            "\u001b[1m32/32\u001b[0m \u001b[32m━━━━━━━━━━━━━━━━━━━━\u001b[0m\u001b[37m\u001b[0m \u001b[1m0s\u001b[0m 2ms/step - accuracy: 0.4271 - loss: 0.6948 \n",
            "Epoch 48/100\n",
            "\u001b[1m32/32\u001b[0m \u001b[32m━━━━━━━━━━━━━━━━━━━━\u001b[0m\u001b[37m\u001b[0m \u001b[1m0s\u001b[0m 3ms/step - accuracy: 0.4271 - loss: 0.6948\n",
            "Epoch 49/100\n",
            "\u001b[1m32/32\u001b[0m \u001b[32m━━━━━━━━━━━━━━━━━━━━\u001b[0m\u001b[37m\u001b[0m \u001b[1m0s\u001b[0m 2ms/step - accuracy: 0.4271 - loss: 0.6948 \n",
            "Epoch 50/100\n",
            "\u001b[1m32/32\u001b[0m \u001b[32m━━━━━━━━━━━━━━━━━━━━\u001b[0m\u001b[37m\u001b[0m \u001b[1m0s\u001b[0m 2ms/step - accuracy: 0.4271 - loss: 0.6948 \n",
            "Epoch 51/100\n",
            "\u001b[1m32/32\u001b[0m \u001b[32m━━━━━━━━━━━━━━━━━━━━\u001b[0m\u001b[37m\u001b[0m \u001b[1m0s\u001b[0m 2ms/step - accuracy: 0.4271 - loss: 0.6948 \n",
            "Epoch 52/100\n",
            "\u001b[1m32/32\u001b[0m \u001b[32m━━━━━━━━━━━━━━━━━━━━\u001b[0m\u001b[37m\u001b[0m \u001b[1m0s\u001b[0m 2ms/step - accuracy: 0.4271 - loss: 0.6948\n",
            "Epoch 53/100\n",
            "\u001b[1m32/32\u001b[0m \u001b[32m━━━━━━━━━━━━━━━━━━━━\u001b[0m\u001b[37m\u001b[0m \u001b[1m0s\u001b[0m 2ms/step - accuracy: 0.4271 - loss: 0.6948 \n",
            "Epoch 54/100\n",
            "\u001b[1m32/32\u001b[0m \u001b[32m━━━━━━━━━━━━━━━━━━━━\u001b[0m\u001b[37m\u001b[0m \u001b[1m0s\u001b[0m 2ms/step - accuracy: 0.4271 - loss: 0.6948 \n",
            "Epoch 55/100\n",
            "\u001b[1m32/32\u001b[0m \u001b[32m━━━━━━━━━━━━━━━━━━━━\u001b[0m\u001b[37m\u001b[0m \u001b[1m0s\u001b[0m 2ms/step - accuracy: 0.4271 - loss: 0.6948 \n",
            "Epoch 56/100\n",
            "\u001b[1m32/32\u001b[0m \u001b[32m━━━━━━━━━━━━━━━━━━━━\u001b[0m\u001b[37m\u001b[0m \u001b[1m0s\u001b[0m 3ms/step - accuracy: 0.4271 - loss: 0.6948\n",
            "Epoch 57/100\n",
            "\u001b[1m32/32\u001b[0m \u001b[32m━━━━━━━━━━━━━━━━━━━━\u001b[0m\u001b[37m\u001b[0m \u001b[1m0s\u001b[0m 2ms/step - accuracy: 0.4271 - loss: 0.6948 \n",
            "Epoch 58/100\n",
            "\u001b[1m32/32\u001b[0m \u001b[32m━━━━━━━━━━━━━━━━━━━━\u001b[0m\u001b[37m\u001b[0m \u001b[1m0s\u001b[0m 2ms/step - accuracy: 0.4271 - loss: 0.6948\n",
            "Epoch 59/100\n",
            "\u001b[1m32/32\u001b[0m \u001b[32m━━━━━━━━━━━━━━━━━━━━\u001b[0m\u001b[37m\u001b[0m \u001b[1m0s\u001b[0m 2ms/step - accuracy: 0.4271 - loss: 0.6948 \n",
            "Epoch 60/100\n",
            "\u001b[1m32/32\u001b[0m \u001b[32m━━━━━━━━━━━━━━━━━━━━\u001b[0m\u001b[37m\u001b[0m \u001b[1m0s\u001b[0m 2ms/step - accuracy: 0.4271 - loss: 0.6948 \n",
            "Epoch 61/100\n",
            "\u001b[1m32/32\u001b[0m \u001b[32m━━━━━━━━━━━━━━━━━━━━\u001b[0m\u001b[37m\u001b[0m \u001b[1m0s\u001b[0m 2ms/step - accuracy: 0.4271 - loss: 0.6948 \n",
            "Epoch 62/100\n",
            "\u001b[1m32/32\u001b[0m \u001b[32m━━━━━━━━━━━━━━━━━━━━\u001b[0m\u001b[37m\u001b[0m \u001b[1m0s\u001b[0m 2ms/step - accuracy: 0.4271 - loss: 0.6948 \n",
            "Epoch 63/100\n",
            "\u001b[1m32/32\u001b[0m \u001b[32m━━━━━━━━━━━━━━━━━━━━\u001b[0m\u001b[37m\u001b[0m \u001b[1m0s\u001b[0m 2ms/step - accuracy: 0.4271 - loss: 0.6948 \n",
            "Epoch 64/100\n",
            "\u001b[1m32/32\u001b[0m \u001b[32m━━━━━━━━━━━━━━━━━━━━\u001b[0m\u001b[37m\u001b[0m \u001b[1m0s\u001b[0m 3ms/step - accuracy: 0.4271 - loss: 0.6948\n",
            "Epoch 65/100\n",
            "\u001b[1m32/32\u001b[0m \u001b[32m━━━━━━━━━━━━━━━━━━━━\u001b[0m\u001b[37m\u001b[0m \u001b[1m0s\u001b[0m 3ms/step - accuracy: 0.4271 - loss: 0.6948\n",
            "Epoch 66/100\n",
            "\u001b[1m32/32\u001b[0m \u001b[32m━━━━━━━━━━━━━━━━━━━━\u001b[0m\u001b[37m\u001b[0m \u001b[1m0s\u001b[0m 2ms/step - accuracy: 0.4271 - loss: 0.6948 \n",
            "Epoch 67/100\n",
            "\u001b[1m32/32\u001b[0m \u001b[32m━━━━━━━━━━━━━━━━━━━━\u001b[0m\u001b[37m\u001b[0m \u001b[1m0s\u001b[0m 2ms/step - accuracy: 0.4271 - loss: 0.6948 \n",
            "Epoch 68/100\n",
            "\u001b[1m32/32\u001b[0m \u001b[32m━━━━━━━━━━━━━━━━━━━━\u001b[0m\u001b[37m\u001b[0m \u001b[1m0s\u001b[0m 2ms/step - accuracy: 0.4271 - loss: 0.6948 \n",
            "Epoch 69/100\n",
            "\u001b[1m32/32\u001b[0m \u001b[32m━━━━━━━━━━━━━━━━━━━━\u001b[0m\u001b[37m\u001b[0m \u001b[1m0s\u001b[0m 2ms/step - accuracy: 0.4271 - loss: 0.6948 \n",
            "Epoch 70/100\n",
            "\u001b[1m32/32\u001b[0m \u001b[32m━━━━━━━━━━━━━━━━━━━━\u001b[0m\u001b[37m\u001b[0m \u001b[1m0s\u001b[0m 2ms/step - accuracy: 0.4271 - loss: 0.6948 \n",
            "Epoch 71/100\n",
            "\u001b[1m32/32\u001b[0m \u001b[32m━━━━━━━━━━━━━━━━━━━━\u001b[0m\u001b[37m\u001b[0m \u001b[1m0s\u001b[0m 2ms/step - accuracy: 0.4271 - loss: 0.6948 \n",
            "Epoch 72/100\n",
            "\u001b[1m32/32\u001b[0m \u001b[32m━━━━━━━━━━━━━━━━━━━━\u001b[0m\u001b[37m\u001b[0m \u001b[1m0s\u001b[0m 3ms/step - accuracy: 0.4271 - loss: 0.6948\n",
            "Epoch 73/100\n",
            "\u001b[1m32/32\u001b[0m \u001b[32m━━━━━━━━━━━━━━━━━━━━\u001b[0m\u001b[37m\u001b[0m \u001b[1m0s\u001b[0m 2ms/step - accuracy: 0.4271 - loss: 0.6948 \n",
            "Epoch 74/100\n",
            "\u001b[1m32/32\u001b[0m \u001b[32m━━━━━━━━━━━━━━━━━━━━\u001b[0m\u001b[37m\u001b[0m \u001b[1m0s\u001b[0m 2ms/step - accuracy: 0.4271 - loss: 0.6948 \n",
            "Epoch 75/100\n",
            "\u001b[1m32/32\u001b[0m \u001b[32m━━━━━━━━━━━━━━━━━━━━\u001b[0m\u001b[37m\u001b[0m \u001b[1m0s\u001b[0m 2ms/step - accuracy: 0.4271 - loss: 0.6948 \n",
            "Epoch 76/100\n",
            "\u001b[1m32/32\u001b[0m \u001b[32m━━━━━━━━━━━━━━━━━━━━\u001b[0m\u001b[37m\u001b[0m \u001b[1m0s\u001b[0m 2ms/step - accuracy: 0.4271 - loss: 0.6948 \n",
            "Epoch 77/100\n",
            "\u001b[1m32/32\u001b[0m \u001b[32m━━━━━━━━━━━━━━━━━━━━\u001b[0m\u001b[37m\u001b[0m \u001b[1m0s\u001b[0m 2ms/step - accuracy: 0.4271 - loss: 0.6948 \n",
            "Epoch 78/100\n",
            "\u001b[1m32/32\u001b[0m \u001b[32m━━━━━━━━━━━━━━━━━━━━\u001b[0m\u001b[37m\u001b[0m \u001b[1m0s\u001b[0m 3ms/step - accuracy: 0.4271 - loss: 0.6948\n",
            "Epoch 79/100\n",
            "\u001b[1m32/32\u001b[0m \u001b[32m━━━━━━━━━━━━━━━━━━━━\u001b[0m\u001b[37m\u001b[0m \u001b[1m0s\u001b[0m 3ms/step - accuracy: 0.4271 - loss: 0.6948\n",
            "Epoch 80/100\n",
            "\u001b[1m32/32\u001b[0m \u001b[32m━━━━━━━━━━━━━━━━━━━━\u001b[0m\u001b[37m\u001b[0m \u001b[1m0s\u001b[0m 3ms/step - accuracy: 0.4271 - loss: 0.6948\n",
            "Epoch 81/100\n",
            "\u001b[1m32/32\u001b[0m \u001b[32m━━━━━━━━━━━━━━━━━━━━\u001b[0m\u001b[37m\u001b[0m \u001b[1m0s\u001b[0m 3ms/step - accuracy: 0.4271 - loss: 0.6948\n",
            "Epoch 82/100\n",
            "\u001b[1m32/32\u001b[0m \u001b[32m━━━━━━━━━━━━━━━━━━━━\u001b[0m\u001b[37m\u001b[0m \u001b[1m0s\u001b[0m 3ms/step - accuracy: 0.4271 - loss: 0.6948\n",
            "Epoch 83/100\n",
            "\u001b[1m32/32\u001b[0m \u001b[32m━━━━━━━━━━━━━━━━━━━━\u001b[0m\u001b[37m\u001b[0m \u001b[1m0s\u001b[0m 3ms/step - accuracy: 0.4271 - loss: 0.6948\n",
            "Epoch 84/100\n",
            "\u001b[1m32/32\u001b[0m \u001b[32m━━━━━━━━━━━━━━━━━━━━\u001b[0m\u001b[37m\u001b[0m \u001b[1m0s\u001b[0m 3ms/step - accuracy: 0.4271 - loss: 0.6948\n",
            "Epoch 85/100\n",
            "\u001b[1m32/32\u001b[0m \u001b[32m━━━━━━━━━━━━━━━━━━━━\u001b[0m\u001b[37m\u001b[0m \u001b[1m0s\u001b[0m 6ms/step - accuracy: 0.4271 - loss: 0.6948\n",
            "Epoch 86/100\n",
            "\u001b[1m32/32\u001b[0m \u001b[32m━━━━━━━━━━━━━━━━━━━━\u001b[0m\u001b[37m\u001b[0m \u001b[1m0s\u001b[0m 5ms/step - accuracy: 0.4271 - loss: 0.6948\n",
            "Epoch 87/100\n",
            "\u001b[1m32/32\u001b[0m \u001b[32m━━━━━━━━━━━━━━━━━━━━\u001b[0m\u001b[37m\u001b[0m \u001b[1m0s\u001b[0m 3ms/step - accuracy: 0.4271 - loss: 0.6948\n",
            "Epoch 88/100\n",
            "\u001b[1m32/32\u001b[0m \u001b[32m━━━━━━━━━━━━━━━━━━━━\u001b[0m\u001b[37m\u001b[0m \u001b[1m0s\u001b[0m 4ms/step - accuracy: 0.4271 - loss: 0.6948\n",
            "Epoch 89/100\n",
            "\u001b[1m32/32\u001b[0m \u001b[32m━━━━━━━━━━━━━━━━━━━━\u001b[0m\u001b[37m\u001b[0m \u001b[1m0s\u001b[0m 3ms/step - accuracy: 0.4271 - loss: 0.6948\n",
            "Epoch 90/100\n",
            "\u001b[1m32/32\u001b[0m \u001b[32m━━━━━━━━━━━━━━━━━━━━\u001b[0m\u001b[37m\u001b[0m \u001b[1m0s\u001b[0m 2ms/step - accuracy: 0.4271 - loss: 0.6948 \n",
            "Epoch 91/100\n",
            "\u001b[1m32/32\u001b[0m \u001b[32m━━━━━━━━━━━━━━━━━━━━\u001b[0m\u001b[37m\u001b[0m \u001b[1m0s\u001b[0m 2ms/step - accuracy: 0.4271 - loss: 0.6948 \n",
            "Epoch 92/100\n",
            "\u001b[1m32/32\u001b[0m \u001b[32m━━━━━━━━━━━━━━━━━━━━\u001b[0m\u001b[37m\u001b[0m \u001b[1m0s\u001b[0m 5ms/step - accuracy: 0.4271 - loss: 0.6948\n",
            "Epoch 93/100\n",
            "\u001b[1m32/32\u001b[0m \u001b[32m━━━━━━━━━━━━━━━━━━━━\u001b[0m\u001b[37m\u001b[0m \u001b[1m0s\u001b[0m 3ms/step - accuracy: 0.4271 - loss: 0.6948\n",
            "Epoch 94/100\n",
            "\u001b[1m32/32\u001b[0m \u001b[32m━━━━━━━━━━━━━━━━━━━━\u001b[0m\u001b[37m\u001b[0m \u001b[1m0s\u001b[0m 2ms/step - accuracy: 0.4271 - loss: 0.6948 \n",
            "Epoch 95/100\n",
            "\u001b[1m32/32\u001b[0m \u001b[32m━━━━━━━━━━━━━━━━━━━━\u001b[0m\u001b[37m\u001b[0m \u001b[1m0s\u001b[0m 2ms/step - accuracy: 0.4271 - loss: 0.6948 \n",
            "Epoch 96/100\n",
            "\u001b[1m32/32\u001b[0m \u001b[32m━━━━━━━━━━━━━━━━━━━━\u001b[0m\u001b[37m\u001b[0m \u001b[1m0s\u001b[0m 2ms/step - accuracy: 0.4271 - loss: 0.6948 \n",
            "Epoch 97/100\n",
            "\u001b[1m32/32\u001b[0m \u001b[32m━━━━━━━━━━━━━━━━━━━━\u001b[0m\u001b[37m\u001b[0m \u001b[1m0s\u001b[0m 2ms/step - accuracy: 0.4271 - loss: 0.6948 \n",
            "Epoch 98/100\n",
            "\u001b[1m32/32\u001b[0m \u001b[32m━━━━━━━━━━━━━━━━━━━━\u001b[0m\u001b[37m\u001b[0m \u001b[1m0s\u001b[0m 3ms/step - accuracy: 0.4271 - loss: 0.6948\n",
            "Epoch 99/100\n",
            "\u001b[1m32/32\u001b[0m \u001b[32m━━━━━━━━━━━━━━━━━━━━\u001b[0m\u001b[37m\u001b[0m \u001b[1m0s\u001b[0m 6ms/step - accuracy: 0.4271 - loss: 0.6948\n",
            "Epoch 100/100\n",
            "\u001b[1m32/32\u001b[0m \u001b[32m━━━━━━━━━━━━━━━━━━━━\u001b[0m\u001b[37m\u001b[0m \u001b[1m0s\u001b[0m 2ms/step - accuracy: 0.4271 - loss: 0.6948  \n",
            "\u001b[1m32/32\u001b[0m \u001b[32m━━━━━━━━━━━━━━━━━━━━\u001b[0m\u001b[37m\u001b[0m \u001b[1m1s\u001b[0m 6ms/step - accuracy: 0.4852 - loss: 0.6927\n"
          ]
        },
        {
          "output_type": "execute_result",
          "data": {
            "text/plain": [
              "[0.6932879686355591, 0.4729999899864197]"
            ]
          },
          "metadata": {},
          "execution_count": 27
        }
      ]
    },
    {
      "cell_type": "code",
      "source": [
        "#Lets improve our model by training it longer. Its 48% accurate till now\n",
        "model_1.fit(X,y,epochs=100, verbose=0)\n",
        "model_1.evaluate(X,y)"
      ],
      "metadata": {
        "colab": {
          "base_uri": "https://localhost:8080/"
        },
        "id": "bJmvSvgQBki6",
        "outputId": "6259023d-5cf4-43c1-ac87-fcdfa1c944ed"
      },
      "execution_count": 28,
      "outputs": [
        {
          "output_type": "stream",
          "name": "stdout",
          "text": [
            "\u001b[1m32/32\u001b[0m \u001b[32m━━━━━━━━━━━━━━━━━━━━\u001b[0m\u001b[37m\u001b[0m \u001b[1m0s\u001b[0m 2ms/step - accuracy: 0.4852 - loss: 0.6927 \n"
          ]
        },
        {
          "output_type": "execute_result",
          "data": {
            "text/plain": [
              "[0.6932879686355591, 0.4729999899864197]"
            ]
          },
          "metadata": {},
          "execution_count": 28
        }
      ]
    },
    {
      "cell_type": "markdown",
      "source": [
        "Since we are working on Binary classification problem. Our model is getting 48% accuracy. Its just guessing. Lets add one more layer."
      ],
      "metadata": {
        "id": "P-MtOgXMB3PX"
      }
    },
    {
      "cell_type": "code",
      "source": [
        "#Set random seeed\n",
        "tf.random.set_seed(42)\n",
        "\n",
        "#1. Create the model\n",
        "model_2 = tf.keras.Sequential([\n",
        "    tf.keras.layers.Dense(1),\n",
        "    tf.keras.layers.Dense(1)\n",
        "])\n",
        "\n",
        "#2. Compile the model\n",
        "model_2.compile(loss=tf.keras.losses.BinaryCrossentropy(),\n",
        "                optimizer=tf.keras.optimizers.SGD(),\n",
        "                metrics=[\"accuracy\"])\n",
        "\n",
        "#3. Fit the model\n",
        "model_2.fit(X,y,epochs=100, verbose=0)\n",
        "\n",
        "#4. Evaluate the model\n",
        "model_2.evaluate(X,y)"
      ],
      "metadata": {
        "colab": {
          "base_uri": "https://localhost:8080/"
        },
        "id": "JI7IHuCzB119",
        "outputId": "736861bd-41b1-4cdd-e48a-51789d53bec1"
      },
      "execution_count": 32,
      "outputs": [
        {
          "output_type": "stream",
          "name": "stdout",
          "text": [
            "\u001b[1m32/32\u001b[0m \u001b[32m━━━━━━━━━━━━━━━━━━━━\u001b[0m\u001b[37m\u001b[0m \u001b[1m0s\u001b[0m 2ms/step - accuracy: 0.4755 - loss: 0.6925  \n"
          ]
        },
        {
          "output_type": "execute_result",
          "data": {
            "text/plain": [
              "[0.6933544278144836, 0.4659999907016754]"
            ]
          },
          "metadata": {},
          "execution_count": 32
        }
      ]
    },
    {
      "cell_type": "markdown",
      "source": [
        "# Improving the model\n",
        "\n",
        "1. Create a model - Add more layers or increase the number of hidden units within a layer\n",
        "2. Compile a model - Here we might want to choose a different optimization function such as atom instead of SGD(). Change activation function, optimization function\n",
        "3. Fitting a model - Perhaps we might fit our model for more epochs (leaving it training for longer). Change learning rate"
      ],
      "metadata": {
        "id": "QxKCLR2FDfsl"
      }
    },
    {
      "cell_type": "code",
      "source": [
        "#Set random seed\n",
        "tf.random.set_seed(42)\n",
        "\n",
        "#1. Create a model with 3 layers now\n",
        "model_3 = tf.keras.Sequential([\n",
        "    tf.keras.layers.Dense(100),\n",
        "    tf.keras.layers.Dense(10),\n",
        "    tf.keras.layers.Dense(1)\n",
        "])\n",
        "\n",
        "#2. Compile the model with new optimizer Adam instead of SGD\n",
        "model_3.compile(loss=tf.keras.losses.BinaryCrossentropy(),\n",
        "                optimizer = tf.keras.optimizers.Adam(),\n",
        "                metrics=[\"accuracy\"])\n",
        "\n",
        "#3. Fit the mode\n",
        "model_3.fit(X,y,epochs=100, verbose=0)\n"
      ],
      "metadata": {
        "colab": {
          "base_uri": "https://localhost:8080/"
        },
        "id": "smWuRtHvDk85",
        "outputId": "8484293e-0204-4944-9b97-6b0d71d55780"
      },
      "execution_count": 34,
      "outputs": [
        {
          "output_type": "execute_result",
          "data": {
            "text/plain": [
              "<keras.src.callbacks.history.History at 0x79081baf0b10>"
            ]
          },
          "metadata": {},
          "execution_count": 34
        }
      ]
    },
    {
      "cell_type": "code",
      "source": [
        "#Evaluate the model\n",
        "model_3.evaluate(X,y)"
      ],
      "metadata": {
        "colab": {
          "base_uri": "https://localhost:8080/"
        },
        "id": "dV15eS4CFYth",
        "outputId": "82975fe4-a645-4265-e86e-3022c461ad1f"
      },
      "execution_count": 35,
      "outputs": [
        {
          "output_type": "stream",
          "name": "stdout",
          "text": [
            "\u001b[1m32/32\u001b[0m \u001b[32m━━━━━━━━━━━━━━━━━━━━\u001b[0m\u001b[37m\u001b[0m \u001b[1m0s\u001b[0m 3ms/step - accuracy: 0.5184 - loss: 0.6910\n"
          ]
        },
        {
          "output_type": "execute_result",
          "data": {
            "text/plain": [
              "[0.694776177406311, 0.49300000071525574]"
            ]
          },
          "metadata": {},
          "execution_count": 35
        }
      ]
    },
    {
      "cell_type": "markdown",
      "source": [
        "Its still 100%. Its better we visualize the predictions and see whats happening and then we can fine tune the model."
      ],
      "metadata": {
        "id": "Zwty6HX2FliD"
      }
    },
    {
      "cell_type": "code",
      "source": [
        "#Check modles summary\n",
        "model_1.summary()\n",
        "model_2.summary()\n",
        "model_3.summary()"
      ],
      "metadata": {
        "colab": {
          "base_uri": "https://localhost:8080/",
          "height": 617
        },
        "id": "kfMu4XW8Fk9O",
        "outputId": "88180e7d-74e2-44b5-b6ee-c906e81ca7e1"
      },
      "execution_count": 37,
      "outputs": [
        {
          "output_type": "display_data",
          "data": {
            "text/plain": [
              "\u001b[1mModel: \"sequential_5\"\u001b[0m\n"
            ],
            "text/html": [
              "<pre style=\"white-space:pre;overflow-x:auto;line-height:normal;font-family:Menlo,'DejaVu Sans Mono',consolas,'Courier New',monospace\"><span style=\"font-weight: bold\">Model: \"sequential_5\"</span>\n",
              "</pre>\n"
            ]
          },
          "metadata": {}
        },
        {
          "output_type": "display_data",
          "data": {
            "text/plain": [
              "┏━━━━━━━━━━━━━━━━━━━━━━━━━━━━━━━━━━━━━━┳━━━━━━━━━━━━━━━━━━━━━━━━━━━━━┳━━━━━━━━━━━━━━━━━┓\n",
              "┃\u001b[1m \u001b[0m\u001b[1mLayer (type)                        \u001b[0m\u001b[1m \u001b[0m┃\u001b[1m \u001b[0m\u001b[1mOutput Shape               \u001b[0m\u001b[1m \u001b[0m┃\u001b[1m \u001b[0m\u001b[1m        Param #\u001b[0m\u001b[1m \u001b[0m┃\n",
              "┡━━━━━━━━━━━━━━━━━━━━━━━━━━━━━━━━━━━━━━╇━━━━━━━━━━━━━━━━━━━━━━━━━━━━━╇━━━━━━━━━━━━━━━━━┩\n",
              "│ dense_5 (\u001b[38;5;33mDense\u001b[0m)                      │ (\u001b[38;5;45mNone\u001b[0m, \u001b[38;5;34m1\u001b[0m)                   │               \u001b[38;5;34m3\u001b[0m │\n",
              "└──────────────────────────────────────┴─────────────────────────────┴─────────────────┘\n"
            ],
            "text/html": [
              "<pre style=\"white-space:pre;overflow-x:auto;line-height:normal;font-family:Menlo,'DejaVu Sans Mono',consolas,'Courier New',monospace\">┏━━━━━━━━━━━━━━━━━━━━━━━━━━━━━━━━━━━━━━┳━━━━━━━━━━━━━━━━━━━━━━━━━━━━━┳━━━━━━━━━━━━━━━━━┓\n",
              "┃<span style=\"font-weight: bold\"> Layer (type)                         </span>┃<span style=\"font-weight: bold\"> Output Shape                </span>┃<span style=\"font-weight: bold\">         Param # </span>┃\n",
              "┡━━━━━━━━━━━━━━━━━━━━━━━━━━━━━━━━━━━━━━╇━━━━━━━━━━━━━━━━━━━━━━━━━━━━━╇━━━━━━━━━━━━━━━━━┩\n",
              "│ dense_5 (<span style=\"color: #0087ff; text-decoration-color: #0087ff\">Dense</span>)                      │ (<span style=\"color: #00d7ff; text-decoration-color: #00d7ff\">None</span>, <span style=\"color: #00af00; text-decoration-color: #00af00\">1</span>)                   │               <span style=\"color: #00af00; text-decoration-color: #00af00\">3</span> │\n",
              "└──────────────────────────────────────┴─────────────────────────────┴─────────────────┘\n",
              "</pre>\n"
            ]
          },
          "metadata": {}
        },
        {
          "output_type": "display_data",
          "data": {
            "text/plain": [
              "\u001b[1m Total params: \u001b[0m\u001b[38;5;34m5\u001b[0m (24.00 B)\n"
            ],
            "text/html": [
              "<pre style=\"white-space:pre;overflow-x:auto;line-height:normal;font-family:Menlo,'DejaVu Sans Mono',consolas,'Courier New',monospace\"><span style=\"font-weight: bold\"> Total params: </span><span style=\"color: #00af00; text-decoration-color: #00af00\">5</span> (24.00 B)\n",
              "</pre>\n"
            ]
          },
          "metadata": {}
        },
        {
          "output_type": "display_data",
          "data": {
            "text/plain": [
              "\u001b[1m Trainable params: \u001b[0m\u001b[38;5;34m3\u001b[0m (12.00 B)\n"
            ],
            "text/html": [
              "<pre style=\"white-space:pre;overflow-x:auto;line-height:normal;font-family:Menlo,'DejaVu Sans Mono',consolas,'Courier New',monospace\"><span style=\"font-weight: bold\"> Trainable params: </span><span style=\"color: #00af00; text-decoration-color: #00af00\">3</span> (12.00 B)\n",
              "</pre>\n"
            ]
          },
          "metadata": {}
        },
        {
          "output_type": "display_data",
          "data": {
            "text/plain": [
              "\u001b[1m Non-trainable params: \u001b[0m\u001b[38;5;34m0\u001b[0m (0.00 B)\n"
            ],
            "text/html": [
              "<pre style=\"white-space:pre;overflow-x:auto;line-height:normal;font-family:Menlo,'DejaVu Sans Mono',consolas,'Courier New',monospace\"><span style=\"font-weight: bold\"> Non-trainable params: </span><span style=\"color: #00af00; text-decoration-color: #00af00\">0</span> (0.00 B)\n",
              "</pre>\n"
            ]
          },
          "metadata": {}
        },
        {
          "output_type": "display_data",
          "data": {
            "text/plain": [
              "\u001b[1m Optimizer params: \u001b[0m\u001b[38;5;34m2\u001b[0m (12.00 B)\n"
            ],
            "text/html": [
              "<pre style=\"white-space:pre;overflow-x:auto;line-height:normal;font-family:Menlo,'DejaVu Sans Mono',consolas,'Courier New',monospace\"><span style=\"font-weight: bold\"> Optimizer params: </span><span style=\"color: #00af00; text-decoration-color: #00af00\">2</span> (12.00 B)\n",
              "</pre>\n"
            ]
          },
          "metadata": {}
        },
        {
          "output_type": "display_data",
          "data": {
            "text/plain": [
              "\u001b[1mModel: \"sequential_7\"\u001b[0m\n"
            ],
            "text/html": [
              "<pre style=\"white-space:pre;overflow-x:auto;line-height:normal;font-family:Menlo,'DejaVu Sans Mono',consolas,'Courier New',monospace\"><span style=\"font-weight: bold\">Model: \"sequential_7\"</span>\n",
              "</pre>\n"
            ]
          },
          "metadata": {}
        },
        {
          "output_type": "display_data",
          "data": {
            "text/plain": [
              "┏━━━━━━━━━━━━━━━━━━━━━━━━━━━━━━━━━━━━━━┳━━━━━━━━━━━━━━━━━━━━━━━━━━━━━┳━━━━━━━━━━━━━━━━━┓\n",
              "┃\u001b[1m \u001b[0m\u001b[1mLayer (type)                        \u001b[0m\u001b[1m \u001b[0m┃\u001b[1m \u001b[0m\u001b[1mOutput Shape               \u001b[0m\u001b[1m \u001b[0m┃\u001b[1m \u001b[0m\u001b[1m        Param #\u001b[0m\u001b[1m \u001b[0m┃\n",
              "┡━━━━━━━━━━━━━━━━━━━━━━━━━━━━━━━━━━━━━━╇━━━━━━━━━━━━━━━━━━━━━━━━━━━━━╇━━━━━━━━━━━━━━━━━┩\n",
              "│ dense_8 (\u001b[38;5;33mDense\u001b[0m)                      │ (\u001b[38;5;45mNone\u001b[0m, \u001b[38;5;34m1\u001b[0m)                   │               \u001b[38;5;34m3\u001b[0m │\n",
              "├──────────────────────────────────────┼─────────────────────────────┼─────────────────┤\n",
              "│ dense_9 (\u001b[38;5;33mDense\u001b[0m)                      │ (\u001b[38;5;45mNone\u001b[0m, \u001b[38;5;34m1\u001b[0m)                   │               \u001b[38;5;34m2\u001b[0m │\n",
              "└──────────────────────────────────────┴─────────────────────────────┴─────────────────┘\n"
            ],
            "text/html": [
              "<pre style=\"white-space:pre;overflow-x:auto;line-height:normal;font-family:Menlo,'DejaVu Sans Mono',consolas,'Courier New',monospace\">┏━━━━━━━━━━━━━━━━━━━━━━━━━━━━━━━━━━━━━━┳━━━━━━━━━━━━━━━━━━━━━━━━━━━━━┳━━━━━━━━━━━━━━━━━┓\n",
              "┃<span style=\"font-weight: bold\"> Layer (type)                         </span>┃<span style=\"font-weight: bold\"> Output Shape                </span>┃<span style=\"font-weight: bold\">         Param # </span>┃\n",
              "┡━━━━━━━━━━━━━━━━━━━━━━━━━━━━━━━━━━━━━━╇━━━━━━━━━━━━━━━━━━━━━━━━━━━━━╇━━━━━━━━━━━━━━━━━┩\n",
              "│ dense_8 (<span style=\"color: #0087ff; text-decoration-color: #0087ff\">Dense</span>)                      │ (<span style=\"color: #00d7ff; text-decoration-color: #00d7ff\">None</span>, <span style=\"color: #00af00; text-decoration-color: #00af00\">1</span>)                   │               <span style=\"color: #00af00; text-decoration-color: #00af00\">3</span> │\n",
              "├──────────────────────────────────────┼─────────────────────────────┼─────────────────┤\n",
              "│ dense_9 (<span style=\"color: #0087ff; text-decoration-color: #0087ff\">Dense</span>)                      │ (<span style=\"color: #00d7ff; text-decoration-color: #00d7ff\">None</span>, <span style=\"color: #00af00; text-decoration-color: #00af00\">1</span>)                   │               <span style=\"color: #00af00; text-decoration-color: #00af00\">2</span> │\n",
              "└──────────────────────────────────────┴─────────────────────────────┴─────────────────┘\n",
              "</pre>\n"
            ]
          },
          "metadata": {}
        },
        {
          "output_type": "display_data",
          "data": {
            "text/plain": [
              "\u001b[1m Total params: \u001b[0m\u001b[38;5;34m7\u001b[0m (32.00 B)\n"
            ],
            "text/html": [
              "<pre style=\"white-space:pre;overflow-x:auto;line-height:normal;font-family:Menlo,'DejaVu Sans Mono',consolas,'Courier New',monospace\"><span style=\"font-weight: bold\"> Total params: </span><span style=\"color: #00af00; text-decoration-color: #00af00\">7</span> (32.00 B)\n",
              "</pre>\n"
            ]
          },
          "metadata": {}
        },
        {
          "output_type": "display_data",
          "data": {
            "text/plain": [
              "\u001b[1m Trainable params: \u001b[0m\u001b[38;5;34m5\u001b[0m (20.00 B)\n"
            ],
            "text/html": [
              "<pre style=\"white-space:pre;overflow-x:auto;line-height:normal;font-family:Menlo,'DejaVu Sans Mono',consolas,'Courier New',monospace\"><span style=\"font-weight: bold\"> Trainable params: </span><span style=\"color: #00af00; text-decoration-color: #00af00\">5</span> (20.00 B)\n",
              "</pre>\n"
            ]
          },
          "metadata": {}
        },
        {
          "output_type": "display_data",
          "data": {
            "text/plain": [
              "\u001b[1m Non-trainable params: \u001b[0m\u001b[38;5;34m0\u001b[0m (0.00 B)\n"
            ],
            "text/html": [
              "<pre style=\"white-space:pre;overflow-x:auto;line-height:normal;font-family:Menlo,'DejaVu Sans Mono',consolas,'Courier New',monospace\"><span style=\"font-weight: bold\"> Non-trainable params: </span><span style=\"color: #00af00; text-decoration-color: #00af00\">0</span> (0.00 B)\n",
              "</pre>\n"
            ]
          },
          "metadata": {}
        },
        {
          "output_type": "display_data",
          "data": {
            "text/plain": [
              "\u001b[1m Optimizer params: \u001b[0m\u001b[38;5;34m2\u001b[0m (12.00 B)\n"
            ],
            "text/html": [
              "<pre style=\"white-space:pre;overflow-x:auto;line-height:normal;font-family:Menlo,'DejaVu Sans Mono',consolas,'Courier New',monospace\"><span style=\"font-weight: bold\"> Optimizer params: </span><span style=\"color: #00af00; text-decoration-color: #00af00\">2</span> (12.00 B)\n",
              "</pre>\n"
            ]
          },
          "metadata": {}
        },
        {
          "output_type": "display_data",
          "data": {
            "text/plain": [
              "\u001b[1mModel: \"sequential_8\"\u001b[0m\n"
            ],
            "text/html": [
              "<pre style=\"white-space:pre;overflow-x:auto;line-height:normal;font-family:Menlo,'DejaVu Sans Mono',consolas,'Courier New',monospace\"><span style=\"font-weight: bold\">Model: \"sequential_8\"</span>\n",
              "</pre>\n"
            ]
          },
          "metadata": {}
        },
        {
          "output_type": "display_data",
          "data": {
            "text/plain": [
              "┏━━━━━━━━━━━━━━━━━━━━━━━━━━━━━━━━━━━━━━┳━━━━━━━━━━━━━━━━━━━━━━━━━━━━━┳━━━━━━━━━━━━━━━━━┓\n",
              "┃\u001b[1m \u001b[0m\u001b[1mLayer (type)                        \u001b[0m\u001b[1m \u001b[0m┃\u001b[1m \u001b[0m\u001b[1mOutput Shape               \u001b[0m\u001b[1m \u001b[0m┃\u001b[1m \u001b[0m\u001b[1m        Param #\u001b[0m\u001b[1m \u001b[0m┃\n",
              "┡━━━━━━━━━━━━━━━━━━━━━━━━━━━━━━━━━━━━━━╇━━━━━━━━━━━━━━━━━━━━━━━━━━━━━╇━━━━━━━━━━━━━━━━━┩\n",
              "│ dense_10 (\u001b[38;5;33mDense\u001b[0m)                     │ (\u001b[38;5;45mNone\u001b[0m, \u001b[38;5;34m100\u001b[0m)                 │             \u001b[38;5;34m300\u001b[0m │\n",
              "├──────────────────────────────────────┼─────────────────────────────┼─────────────────┤\n",
              "│ dense_11 (\u001b[38;5;33mDense\u001b[0m)                     │ (\u001b[38;5;45mNone\u001b[0m, \u001b[38;5;34m10\u001b[0m)                  │           \u001b[38;5;34m1,010\u001b[0m │\n",
              "├──────────────────────────────────────┼─────────────────────────────┼─────────────────┤\n",
              "│ dense_12 (\u001b[38;5;33mDense\u001b[0m)                     │ (\u001b[38;5;45mNone\u001b[0m, \u001b[38;5;34m1\u001b[0m)                   │              \u001b[38;5;34m11\u001b[0m │\n",
              "└──────────────────────────────────────┴─────────────────────────────┴─────────────────┘\n"
            ],
            "text/html": [
              "<pre style=\"white-space:pre;overflow-x:auto;line-height:normal;font-family:Menlo,'DejaVu Sans Mono',consolas,'Courier New',monospace\">┏━━━━━━━━━━━━━━━━━━━━━━━━━━━━━━━━━━━━━━┳━━━━━━━━━━━━━━━━━━━━━━━━━━━━━┳━━━━━━━━━━━━━━━━━┓\n",
              "┃<span style=\"font-weight: bold\"> Layer (type)                         </span>┃<span style=\"font-weight: bold\"> Output Shape                </span>┃<span style=\"font-weight: bold\">         Param # </span>┃\n",
              "┡━━━━━━━━━━━━━━━━━━━━━━━━━━━━━━━━━━━━━━╇━━━━━━━━━━━━━━━━━━━━━━━━━━━━━╇━━━━━━━━━━━━━━━━━┩\n",
              "│ dense_10 (<span style=\"color: #0087ff; text-decoration-color: #0087ff\">Dense</span>)                     │ (<span style=\"color: #00d7ff; text-decoration-color: #00d7ff\">None</span>, <span style=\"color: #00af00; text-decoration-color: #00af00\">100</span>)                 │             <span style=\"color: #00af00; text-decoration-color: #00af00\">300</span> │\n",
              "├──────────────────────────────────────┼─────────────────────────────┼─────────────────┤\n",
              "│ dense_11 (<span style=\"color: #0087ff; text-decoration-color: #0087ff\">Dense</span>)                     │ (<span style=\"color: #00d7ff; text-decoration-color: #00d7ff\">None</span>, <span style=\"color: #00af00; text-decoration-color: #00af00\">10</span>)                  │           <span style=\"color: #00af00; text-decoration-color: #00af00\">1,010</span> │\n",
              "├──────────────────────────────────────┼─────────────────────────────┼─────────────────┤\n",
              "│ dense_12 (<span style=\"color: #0087ff; text-decoration-color: #0087ff\">Dense</span>)                     │ (<span style=\"color: #00d7ff; text-decoration-color: #00d7ff\">None</span>, <span style=\"color: #00af00; text-decoration-color: #00af00\">1</span>)                   │              <span style=\"color: #00af00; text-decoration-color: #00af00\">11</span> │\n",
              "└──────────────────────────────────────┴─────────────────────────────┴─────────────────┘\n",
              "</pre>\n"
            ]
          },
          "metadata": {}
        },
        {
          "output_type": "display_data",
          "data": {
            "text/plain": [
              "\u001b[1m Total params: \u001b[0m\u001b[38;5;34m3,965\u001b[0m (15.49 KB)\n"
            ],
            "text/html": [
              "<pre style=\"white-space:pre;overflow-x:auto;line-height:normal;font-family:Menlo,'DejaVu Sans Mono',consolas,'Courier New',monospace\"><span style=\"font-weight: bold\"> Total params: </span><span style=\"color: #00af00; text-decoration-color: #00af00\">3,965</span> (15.49 KB)\n",
              "</pre>\n"
            ]
          },
          "metadata": {}
        },
        {
          "output_type": "display_data",
          "data": {
            "text/plain": [
              "\u001b[1m Trainable params: \u001b[0m\u001b[38;5;34m1,321\u001b[0m (5.16 KB)\n"
            ],
            "text/html": [
              "<pre style=\"white-space:pre;overflow-x:auto;line-height:normal;font-family:Menlo,'DejaVu Sans Mono',consolas,'Courier New',monospace\"><span style=\"font-weight: bold\"> Trainable params: </span><span style=\"color: #00af00; text-decoration-color: #00af00\">1,321</span> (5.16 KB)\n",
              "</pre>\n"
            ]
          },
          "metadata": {}
        },
        {
          "output_type": "display_data",
          "data": {
            "text/plain": [
              "\u001b[1m Non-trainable params: \u001b[0m\u001b[38;5;34m0\u001b[0m (0.00 B)\n"
            ],
            "text/html": [
              "<pre style=\"white-space:pre;overflow-x:auto;line-height:normal;font-family:Menlo,'DejaVu Sans Mono',consolas,'Courier New',monospace\"><span style=\"font-weight: bold\"> Non-trainable params: </span><span style=\"color: #00af00; text-decoration-color: #00af00\">0</span> (0.00 B)\n",
              "</pre>\n"
            ]
          },
          "metadata": {}
        },
        {
          "output_type": "display_data",
          "data": {
            "text/plain": [
              "\u001b[1m Optimizer params: \u001b[0m\u001b[38;5;34m2,644\u001b[0m (10.33 KB)\n"
            ],
            "text/html": [
              "<pre style=\"white-space:pre;overflow-x:auto;line-height:normal;font-family:Menlo,'DejaVu Sans Mono',consolas,'Courier New',monospace\"><span style=\"font-weight: bold\"> Optimizer params: </span><span style=\"color: #00af00; text-decoration-color: #00af00\">2,644</span> (10.33 KB)\n",
              "</pre>\n"
            ]
          },
          "metadata": {}
        }
      ]
    },
    {
      "cell_type": "code",
      "source": [
        "#Lets visualize the predictions.\n",
        "#First lets display predictions\n",
        "model_3.predict(X)"
      ],
      "metadata": {
        "id": "rvTeBeUZGD_L",
        "outputId": "0efc2814-36bd-4a2c-b717-2a69809924cf",
        "colab": {
          "base_uri": "https://localhost:8080/"
        }
      },
      "execution_count": 38,
      "outputs": [
        {
          "output_type": "stream",
          "name": "stdout",
          "text": [
            "\u001b[1m32/32\u001b[0m \u001b[32m━━━━━━━━━━━━━━━━━━━━\u001b[0m\u001b[37m\u001b[0m \u001b[1m0s\u001b[0m 2ms/step\n"
          ]
        },
        {
          "output_type": "execute_result",
          "data": {
            "text/plain": [
              "array([[0.53028816],\n",
              "       [0.46558008],\n",
              "       [0.46329173],\n",
              "       [0.48672804],\n",
              "       [0.50491923],\n",
              "       [0.48291773],\n",
              "       [0.503991  ],\n",
              "       [0.53011477],\n",
              "       [0.48017657],\n",
              "       [0.50178564],\n",
              "       [0.46286076],\n",
              "       [0.5290936 ],\n",
              "       [0.4998926 ],\n",
              "       [0.5233428 ],\n",
              "       [0.51496166],\n",
              "       [0.49570334],\n",
              "       [0.4525758 ],\n",
              "       [0.49186674],\n",
              "       [0.46017608],\n",
              "       [0.4607051 ],\n",
              "       [0.5272593 ],\n",
              "       [0.48133683],\n",
              "       [0.48424786],\n",
              "       [0.53018206],\n",
              "       [0.46239597],\n",
              "       [0.4584324 ],\n",
              "       [0.5185904 ],\n",
              "       [0.52918017],\n",
              "       [0.49829435],\n",
              "       [0.5186993 ],\n",
              "       [0.47283015],\n",
              "       [0.4971438 ],\n",
              "       [0.50471205],\n",
              "       [0.5385293 ],\n",
              "       [0.48059067],\n",
              "       [0.4699721 ],\n",
              "       [0.4780315 ],\n",
              "       [0.52252996],\n",
              "       [0.4989965 ],\n",
              "       [0.53431904],\n",
              "       [0.46229833],\n",
              "       [0.5213171 ],\n",
              "       [0.4583686 ],\n",
              "       [0.5285544 ],\n",
              "       [0.45435956],\n",
              "       [0.45360464],\n",
              "       [0.50871766],\n",
              "       [0.5141017 ],\n",
              "       [0.5202156 ],\n",
              "       [0.47069463],\n",
              "       [0.52263635],\n",
              "       [0.48854017],\n",
              "       [0.45350185],\n",
              "       [0.52267957],\n",
              "       [0.5383803 ],\n",
              "       [0.53811765],\n",
              "       [0.5079353 ],\n",
              "       [0.5383892 ],\n",
              "       [0.45946467],\n",
              "       [0.46758944],\n",
              "       [0.45749065],\n",
              "       [0.5364882 ],\n",
              "       [0.5264317 ],\n",
              "       [0.46299466],\n",
              "       [0.51334155],\n",
              "       [0.47639695],\n",
              "       [0.48907584],\n",
              "       [0.48302135],\n",
              "       [0.5315311 ],\n",
              "       [0.5292432 ],\n",
              "       [0.5147688 ],\n",
              "       [0.5371528 ],\n",
              "       [0.51840657],\n",
              "       [0.46274394],\n",
              "       [0.45466262],\n",
              "       [0.45389298],\n",
              "       [0.49454418],\n",
              "       [0.5371467 ],\n",
              "       [0.5169026 ],\n",
              "       [0.45508218],\n",
              "       [0.48248836],\n",
              "       [0.5329144 ],\n",
              "       [0.45322955],\n",
              "       [0.52970845],\n",
              "       [0.46121955],\n",
              "       [0.52866286],\n",
              "       [0.5324485 ],\n",
              "       [0.46832353],\n",
              "       [0.46016946],\n",
              "       [0.46113724],\n",
              "       [0.49163955],\n",
              "       [0.52375805],\n",
              "       [0.53336084],\n",
              "       [0.46010447],\n",
              "       [0.461853  ],\n",
              "       [0.5171742 ],\n",
              "       [0.4607064 ],\n",
              "       [0.5228721 ],\n",
              "       [0.5310954 ],\n",
              "       [0.47072914],\n",
              "       [0.4688511 ],\n",
              "       [0.47557583],\n",
              "       [0.5133224 ],\n",
              "       [0.45320207],\n",
              "       [0.50000435],\n",
              "       [0.4944637 ],\n",
              "       [0.52728176],\n",
              "       [0.5211994 ],\n",
              "       [0.48589098],\n",
              "       [0.5033698 ],\n",
              "       [0.53143424],\n",
              "       [0.467401  ],\n",
              "       [0.5256421 ],\n",
              "       [0.46494076],\n",
              "       [0.52671164],\n",
              "       [0.51675737],\n",
              "       [0.47727817],\n",
              "       [0.52571315],\n",
              "       [0.5283062 ],\n",
              "       [0.45533046],\n",
              "       [0.49513048],\n",
              "       [0.5134273 ],\n",
              "       [0.4692311 ],\n",
              "       [0.4509766 ],\n",
              "       [0.45502552],\n",
              "       [0.52638876],\n",
              "       [0.5202914 ],\n",
              "       [0.5211116 ],\n",
              "       [0.4851064 ],\n",
              "       [0.461936  ],\n",
              "       [0.5158517 ],\n",
              "       [0.478196  ],\n",
              "       [0.4508917 ],\n",
              "       [0.5303842 ],\n",
              "       [0.5278776 ],\n",
              "       [0.5345068 ],\n",
              "       [0.50868237],\n",
              "       [0.4606186 ],\n",
              "       [0.53660285],\n",
              "       [0.5293716 ],\n",
              "       [0.5370709 ],\n",
              "       [0.45676768],\n",
              "       [0.4693762 ],\n",
              "       [0.4507178 ],\n",
              "       [0.49422103],\n",
              "       [0.50470644],\n",
              "       [0.46464708],\n",
              "       [0.45369542],\n",
              "       [0.46955955],\n",
              "       [0.46127132],\n",
              "       [0.49560347],\n",
              "       [0.4920336 ],\n",
              "       [0.52484864],\n",
              "       [0.51376724],\n",
              "       [0.51605564],\n",
              "       [0.5274467 ],\n",
              "       [0.45480168],\n",
              "       [0.4754494 ],\n",
              "       [0.5330394 ],\n",
              "       [0.49167582],\n",
              "       [0.5116808 ],\n",
              "       [0.4626515 ],\n",
              "       [0.49540743],\n",
              "       [0.4917267 ],\n",
              "       [0.4834972 ],\n",
              "       [0.48722035],\n",
              "       [0.45570174],\n",
              "       [0.47843677],\n",
              "       [0.46057096],\n",
              "       [0.45702055],\n",
              "       [0.4771335 ],\n",
              "       [0.5331881 ],\n",
              "       [0.5150823 ],\n",
              "       [0.5279273 ],\n",
              "       [0.53619504],\n",
              "       [0.47893792],\n",
              "       [0.45364568],\n",
              "       [0.45463407],\n",
              "       [0.4640008 ],\n",
              "       [0.4828874 ],\n",
              "       [0.53831506],\n",
              "       [0.48541802],\n",
              "       [0.48580554],\n",
              "       [0.5303022 ],\n",
              "       [0.47343588],\n",
              "       [0.49964824],\n",
              "       [0.4752263 ],\n",
              "       [0.47906756],\n",
              "       [0.5166593 ],\n",
              "       [0.45989448],\n",
              "       [0.5158902 ],\n",
              "       [0.471328  ],\n",
              "       [0.49288604],\n",
              "       [0.4678052 ],\n",
              "       [0.4630031 ],\n",
              "       [0.5020383 ],\n",
              "       [0.46596485],\n",
              "       [0.4636863 ],\n",
              "       [0.5095353 ],\n",
              "       [0.5295027 ],\n",
              "       [0.5398825 ],\n",
              "       [0.53044903],\n",
              "       [0.4764698 ],\n",
              "       [0.52786064],\n",
              "       [0.47126618],\n",
              "       [0.5177647 ],\n",
              "       [0.48366204],\n",
              "       [0.50612724],\n",
              "       [0.5355949 ],\n",
              "       [0.4678093 ],\n",
              "       [0.53087395],\n",
              "       [0.49754593],\n",
              "       [0.5084371 ],\n",
              "       [0.469158  ],\n",
              "       [0.494449  ],\n",
              "       [0.46545342],\n",
              "       [0.48822072],\n",
              "       [0.45353946],\n",
              "       [0.50072795],\n",
              "       [0.47406295],\n",
              "       [0.45768315],\n",
              "       [0.46337876],\n",
              "       [0.525032  ],\n",
              "       [0.5361845 ],\n",
              "       [0.49629125],\n",
              "       [0.53989524],\n",
              "       [0.52844846],\n",
              "       [0.47266   ],\n",
              "       [0.5023025 ],\n",
              "       [0.5308152 ],\n",
              "       [0.46947497],\n",
              "       [0.52943116],\n",
              "       [0.5346049 ],\n",
              "       [0.52398115],\n",
              "       [0.538543  ],\n",
              "       [0.5376318 ],\n",
              "       [0.45851815],\n",
              "       [0.52599245],\n",
              "       [0.47060567],\n",
              "       [0.46403298],\n",
              "       [0.5379895 ],\n",
              "       [0.4677303 ],\n",
              "       [0.5321796 ],\n",
              "       [0.46064192],\n",
              "       [0.45534462],\n",
              "       [0.51536   ],\n",
              "       [0.5122786 ],\n",
              "       [0.529845  ],\n",
              "       [0.52639323],\n",
              "       [0.45515028],\n",
              "       [0.52719206],\n",
              "       [0.5288506 ],\n",
              "       [0.45988047],\n",
              "       [0.4956552 ],\n",
              "       [0.49484777],\n",
              "       [0.46026284],\n",
              "       [0.5312534 ],\n",
              "       [0.50567377],\n",
              "       [0.5087406 ],\n",
              "       [0.5367137 ],\n",
              "       [0.46249855],\n",
              "       [0.52963275],\n",
              "       [0.5209739 ],\n",
              "       [0.45141757],\n",
              "       [0.47736937],\n",
              "       [0.48583865],\n",
              "       [0.4640248 ],\n",
              "       [0.48752147],\n",
              "       [0.5013664 ],\n",
              "       [0.48816144],\n",
              "       [0.53599405],\n",
              "       [0.5102672 ],\n",
              "       [0.49739686],\n",
              "       [0.45393926],\n",
              "       [0.53096443],\n",
              "       [0.5374151 ],\n",
              "       [0.4687825 ],\n",
              "       [0.51245517],\n",
              "       [0.52742803],\n",
              "       [0.4627693 ],\n",
              "       [0.51950914],\n",
              "       [0.46360454],\n",
              "       [0.45682746],\n",
              "       [0.45309958],\n",
              "       [0.46406868],\n",
              "       [0.46726882],\n",
              "       [0.47602615],\n",
              "       [0.52245575],\n",
              "       [0.45963892],\n",
              "       [0.5190866 ],\n",
              "       [0.517643  ],\n",
              "       [0.46041152],\n",
              "       [0.5313431 ],\n",
              "       [0.53033155],\n",
              "       [0.4799254 ],\n",
              "       [0.53040475],\n",
              "       [0.5106075 ],\n",
              "       [0.51291776],\n",
              "       [0.536898  ],\n",
              "       [0.48853213],\n",
              "       [0.529576  ],\n",
              "       [0.5212128 ],\n",
              "       [0.53160995],\n",
              "       [0.5109209 ],\n",
              "       [0.46058682],\n",
              "       [0.51588696],\n",
              "       [0.466917  ],\n",
              "       [0.525672  ],\n",
              "       [0.51342416],\n",
              "       [0.5246736 ],\n",
              "       [0.51667094],\n",
              "       [0.53017694],\n",
              "       [0.51958704],\n",
              "       [0.47236478],\n",
              "       [0.520613  ],\n",
              "       [0.5271802 ],\n",
              "       [0.45688814],\n",
              "       [0.47328135],\n",
              "       [0.4646624 ],\n",
              "       [0.46571985],\n",
              "       [0.52794003],\n",
              "       [0.4959395 ],\n",
              "       [0.45505235],\n",
              "       [0.5038946 ],\n",
              "       [0.4627819 ],\n",
              "       [0.5300486 ],\n",
              "       [0.46919975],\n",
              "       [0.53677064],\n",
              "       [0.47001186],\n",
              "       [0.50311303],\n",
              "       [0.4734475 ],\n",
              "       [0.4599963 ],\n",
              "       [0.46717086],\n",
              "       [0.50524014],\n",
              "       [0.53860855],\n",
              "       [0.45908245],\n",
              "       [0.47372577],\n",
              "       [0.52693933],\n",
              "       [0.4873022 ],\n",
              "       [0.53080344],\n",
              "       [0.5336275 ],\n",
              "       [0.49844527],\n",
              "       [0.482912  ],\n",
              "       [0.5069014 ],\n",
              "       [0.49353644],\n",
              "       [0.50781643],\n",
              "       [0.5271967 ],\n",
              "       [0.49850014],\n",
              "       [0.5231045 ],\n",
              "       [0.5156183 ],\n",
              "       [0.47803998],\n",
              "       [0.45043215],\n",
              "       [0.4974605 ],\n",
              "       [0.53171444],\n",
              "       [0.45368958],\n",
              "       [0.5024217 ],\n",
              "       [0.45421374],\n",
              "       [0.51341945],\n",
              "       [0.46394137],\n",
              "       [0.4952516 ],\n",
              "       [0.51134217],\n",
              "       [0.52180547],\n",
              "       [0.5004284 ],\n",
              "       [0.52321076],\n",
              "       [0.48634487],\n",
              "       [0.5376638 ],\n",
              "       [0.46004423],\n",
              "       [0.4714323 ],\n",
              "       [0.4905332 ],\n",
              "       [0.4803506 ],\n",
              "       [0.48394746],\n",
              "       [0.47228253],\n",
              "       [0.49823797],\n",
              "       [0.48062152],\n",
              "       [0.5397893 ],\n",
              "       [0.46196166],\n",
              "       [0.53200895],\n",
              "       [0.5292822 ],\n",
              "       [0.50260866],\n",
              "       [0.46576613],\n",
              "       [0.4587464 ],\n",
              "       [0.49518248],\n",
              "       [0.4591444 ],\n",
              "       [0.4558302 ],\n",
              "       [0.46121946],\n",
              "       [0.50548166],\n",
              "       [0.52615595],\n",
              "       [0.5030365 ],\n",
              "       [0.5286459 ],\n",
              "       [0.4599438 ],\n",
              "       [0.4739271 ],\n",
              "       [0.5371615 ],\n",
              "       [0.47429064],\n",
              "       [0.51558954],\n",
              "       [0.5185665 ],\n",
              "       [0.53346854],\n",
              "       [0.5028047 ],\n",
              "       [0.5188596 ],\n",
              "       [0.46160215],\n",
              "       [0.52835286],\n",
              "       [0.54090774],\n",
              "       [0.5316108 ],\n",
              "       [0.5297125 ],\n",
              "       [0.52996755],\n",
              "       [0.50830716],\n",
              "       [0.47547024],\n",
              "       [0.50793225],\n",
              "       [0.46547446],\n",
              "       [0.5347171 ],\n",
              "       [0.5315549 ],\n",
              "       [0.5277025 ],\n",
              "       [0.50488746],\n",
              "       [0.46175656],\n",
              "       [0.45346603],\n",
              "       [0.46477   ],\n",
              "       [0.47060198],\n",
              "       [0.48238298],\n",
              "       [0.47170347],\n",
              "       [0.5300414 ],\n",
              "       [0.5209863 ],\n",
              "       [0.5401944 ],\n",
              "       [0.46870643],\n",
              "       [0.5350854 ],\n",
              "       [0.5240225 ],\n",
              "       [0.5143352 ],\n",
              "       [0.48215562],\n",
              "       [0.5258024 ],\n",
              "       [0.5339701 ],\n",
              "       [0.49820882],\n",
              "       [0.45347062],\n",
              "       [0.45129374],\n",
              "       [0.4774322 ],\n",
              "       [0.4756619 ],\n",
              "       [0.5254859 ],\n",
              "       [0.45491612],\n",
              "       [0.5404607 ],\n",
              "       [0.47530943],\n",
              "       [0.48207235],\n",
              "       [0.4886685 ],\n",
              "       [0.5058685 ],\n",
              "       [0.460401  ],\n",
              "       [0.52286565],\n",
              "       [0.52438486],\n",
              "       [0.49094018],\n",
              "       [0.52955675],\n",
              "       [0.5215024 ],\n",
              "       [0.5025878 ],\n",
              "       [0.48063278],\n",
              "       [0.4860134 ],\n",
              "       [0.4842436 ],\n",
              "       [0.5196124 ],\n",
              "       [0.487636  ],\n",
              "       [0.49442032],\n",
              "       [0.48691234],\n",
              "       [0.4571667 ],\n",
              "       [0.4982758 ],\n",
              "       [0.4940725 ],\n",
              "       [0.48618928],\n",
              "       [0.4844722 ],\n",
              "       [0.50488734],\n",
              "       [0.5305806 ],\n",
              "       [0.51441664],\n",
              "       [0.5151749 ],\n",
              "       [0.52306074],\n",
              "       [0.4922089 ],\n",
              "       [0.51816916],\n",
              "       [0.5102162 ],\n",
              "       [0.5070282 ],\n",
              "       [0.52902246],\n",
              "       [0.5274623 ],\n",
              "       [0.5019147 ],\n",
              "       [0.5247008 ],\n",
              "       [0.5121023 ],\n",
              "       [0.5240462 ],\n",
              "       [0.46918753],\n",
              "       [0.5279815 ],\n",
              "       [0.5101222 ],\n",
              "       [0.5143657 ],\n",
              "       [0.51214844],\n",
              "       [0.51749796],\n",
              "       [0.5115244 ],\n",
              "       [0.5233628 ],\n",
              "       [0.5360059 ],\n",
              "       [0.495675  ],\n",
              "       [0.52922267],\n",
              "       [0.5378757 ],\n",
              "       [0.5382901 ],\n",
              "       [0.4657705 ],\n",
              "       [0.48356855],\n",
              "       [0.53910136],\n",
              "       [0.48858428],\n",
              "       [0.51418394],\n",
              "       [0.45934844],\n",
              "       [0.5188084 ],\n",
              "       [0.5101795 ],\n",
              "       [0.47950643],\n",
              "       [0.5208161 ],\n",
              "       [0.5075482 ],\n",
              "       [0.4837318 ],\n",
              "       [0.49040872],\n",
              "       [0.477295  ],\n",
              "       [0.4801559 ],\n",
              "       [0.49605584],\n",
              "       [0.5032355 ],\n",
              "       [0.46293828],\n",
              "       [0.51985395],\n",
              "       [0.47980073],\n",
              "       [0.4880403 ],\n",
              "       [0.52027273],\n",
              "       [0.4612949 ],\n",
              "       [0.45259413],\n",
              "       [0.52734   ],\n",
              "       [0.46641368],\n",
              "       [0.5403767 ],\n",
              "       [0.46163288],\n",
              "       [0.46220142],\n",
              "       [0.4587008 ],\n",
              "       [0.4768499 ],\n",
              "       [0.5273395 ],\n",
              "       [0.5383938 ],\n",
              "       [0.47469664],\n",
              "       [0.48740155],\n",
              "       [0.483631  ],\n",
              "       [0.4678054 ],\n",
              "       [0.5160976 ],\n",
              "       [0.52780116],\n",
              "       [0.46977934],\n",
              "       [0.46687043],\n",
              "       [0.5043011 ],\n",
              "       [0.52150005],\n",
              "       [0.5286716 ],\n",
              "       [0.5309603 ],\n",
              "       [0.50519854],\n",
              "       [0.45188057],\n",
              "       [0.4762908 ],\n",
              "       [0.5146908 ],\n",
              "       [0.4911649 ],\n",
              "       [0.52987456],\n",
              "       [0.4649666 ],\n",
              "       [0.5224313 ],\n",
              "       [0.47215924],\n",
              "       [0.45374572],\n",
              "       [0.45763457],\n",
              "       [0.5336059 ],\n",
              "       [0.5117822 ],\n",
              "       [0.51742435],\n",
              "       [0.53154665],\n",
              "       [0.46752325],\n",
              "       [0.5192314 ],\n",
              "       [0.5070773 ],\n",
              "       [0.51121294],\n",
              "       [0.53131896],\n",
              "       [0.47667804],\n",
              "       [0.5342463 ],\n",
              "       [0.4814143 ],\n",
              "       [0.50366986],\n",
              "       [0.48261577],\n",
              "       [0.45259446],\n",
              "       [0.5391288 ],\n",
              "       [0.47051665],\n",
              "       [0.47015318],\n",
              "       [0.53196037],\n",
              "       [0.47089043],\n",
              "       [0.46454784],\n",
              "       [0.45483065],\n",
              "       [0.51968646],\n",
              "       [0.48321363],\n",
              "       [0.45536846],\n",
              "       [0.46824545],\n",
              "       [0.52352697],\n",
              "       [0.4927935 ],\n",
              "       [0.50572294],\n",
              "       [0.46307695],\n",
              "       [0.53492576],\n",
              "       [0.47424164],\n",
              "       [0.5096997 ],\n",
              "       [0.49769732],\n",
              "       [0.5323917 ],\n",
              "       [0.49781343],\n",
              "       [0.5041377 ],\n",
              "       [0.46270472],\n",
              "       [0.5371188 ],\n",
              "       [0.4659997 ],\n",
              "       [0.4632315 ],\n",
              "       [0.46364892],\n",
              "       [0.50307256],\n",
              "       [0.5288277 ],\n",
              "       [0.5037391 ],\n",
              "       [0.53894585],\n",
              "       [0.4800764 ],\n",
              "       [0.45383412],\n",
              "       [0.46974593],\n",
              "       [0.48601252],\n",
              "       [0.46203274],\n",
              "       [0.48124686],\n",
              "       [0.49162278],\n",
              "       [0.4534876 ],\n",
              "       [0.5126894 ],\n",
              "       [0.52188116],\n",
              "       [0.46117648],\n",
              "       [0.5405603 ],\n",
              "       [0.5064587 ],\n",
              "       [0.46250275],\n",
              "       [0.453743  ],\n",
              "       [0.49055868],\n",
              "       [0.5216291 ],\n",
              "       [0.47328082],\n",
              "       [0.5124487 ],\n",
              "       [0.5099931 ],\n",
              "       [0.5097681 ],\n",
              "       [0.4790176 ],\n",
              "       [0.45675203],\n",
              "       [0.46362445],\n",
              "       [0.4719404 ],\n",
              "       [0.4658409 ],\n",
              "       [0.4778215 ],\n",
              "       [0.5251984 ],\n",
              "       [0.53137064],\n",
              "       [0.52939314],\n",
              "       [0.5403222 ],\n",
              "       [0.50186455],\n",
              "       [0.48800877],\n",
              "       [0.4766584 ],\n",
              "       [0.48200577],\n",
              "       [0.5381335 ],\n",
              "       [0.53033394],\n",
              "       [0.5380302 ],\n",
              "       [0.5259194 ],\n",
              "       [0.5150671 ],\n",
              "       [0.5296921 ],\n",
              "       [0.51782084],\n",
              "       [0.53360033],\n",
              "       [0.4531766 ],\n",
              "       [0.46743208],\n",
              "       [0.48576894],\n",
              "       [0.46001607],\n",
              "       [0.54088295],\n",
              "       [0.5205047 ],\n",
              "       [0.51791453],\n",
              "       [0.51773834],\n",
              "       [0.4776128 ],\n",
              "       [0.45666873],\n",
              "       [0.54030234],\n",
              "       [0.5234244 ],\n",
              "       [0.4865067 ],\n",
              "       [0.53184557],\n",
              "       [0.5238871 ],\n",
              "       [0.47792512],\n",
              "       [0.47211835],\n",
              "       [0.471663  ],\n",
              "       [0.4738832 ],\n",
              "       [0.47649258],\n",
              "       [0.48418856],\n",
              "       [0.5308973 ],\n",
              "       [0.52600455],\n",
              "       [0.46893272],\n",
              "       [0.52173865],\n",
              "       [0.5244757 ],\n",
              "       [0.48405367],\n",
              "       [0.4996765 ],\n",
              "       [0.49426627],\n",
              "       [0.4628509 ],\n",
              "       [0.5281211 ],\n",
              "       [0.46023464],\n",
              "       [0.51393473],\n",
              "       [0.45733085],\n",
              "       [0.47747424],\n",
              "       [0.51884675],\n",
              "       [0.508309  ],\n",
              "       [0.5111703 ],\n",
              "       [0.46164298],\n",
              "       [0.5192907 ],\n",
              "       [0.46127266],\n",
              "       [0.4827224 ],\n",
              "       [0.50744164],\n",
              "       [0.5357683 ],\n",
              "       [0.49314564],\n",
              "       [0.4979063 ],\n",
              "       [0.5164699 ],\n",
              "       [0.46504226],\n",
              "       [0.49224764],\n",
              "       [0.47483486],\n",
              "       [0.45952785],\n",
              "       [0.53717047],\n",
              "       [0.46495426],\n",
              "       [0.53927374],\n",
              "       [0.52402127],\n",
              "       [0.49371424],\n",
              "       [0.4539007 ],\n",
              "       [0.4588366 ],\n",
              "       [0.46156776],\n",
              "       [0.5236297 ],\n",
              "       [0.50352347],\n",
              "       [0.4657805 ],\n",
              "       [0.4938264 ],\n",
              "       [0.45191324],\n",
              "       [0.5101797 ],\n",
              "       [0.45487857],\n",
              "       [0.5069423 ],\n",
              "       [0.49098647],\n",
              "       [0.46246555],\n",
              "       [0.49756223],\n",
              "       [0.4966767 ],\n",
              "       [0.52974445],\n",
              "       [0.49301764],\n",
              "       [0.5374928 ],\n",
              "       [0.49489272],\n",
              "       [0.49830958],\n",
              "       [0.47003037],\n",
              "       [0.5127676 ],\n",
              "       [0.46282282],\n",
              "       [0.49101996],\n",
              "       [0.4702938 ],\n",
              "       [0.5284516 ],\n",
              "       [0.46319976],\n",
              "       [0.47468477],\n",
              "       [0.50901645],\n",
              "       [0.4792472 ],\n",
              "       [0.51060253],\n",
              "       [0.49588436],\n",
              "       [0.51816463],\n",
              "       [0.46890005],\n",
              "       [0.51120526],\n",
              "       [0.45278186],\n",
              "       [0.45342982],\n",
              "       [0.50054777],\n",
              "       [0.5080756 ],\n",
              "       [0.4753534 ],\n",
              "       [0.46568605],\n",
              "       [0.51930475],\n",
              "       [0.45424202],\n",
              "       [0.5066635 ],\n",
              "       [0.50959927],\n",
              "       [0.46116146],\n",
              "       [0.49905133],\n",
              "       [0.47106168],\n",
              "       [0.4927799 ],\n",
              "       [0.5069092 ],\n",
              "       [0.49859056],\n",
              "       [0.49864575],\n",
              "       [0.46278676],\n",
              "       [0.46173176],\n",
              "       [0.46284464],\n",
              "       [0.50312775],\n",
              "       [0.45854783],\n",
              "       [0.49772114],\n",
              "       [0.5038396 ],\n",
              "       [0.4627433 ],\n",
              "       [0.4637973 ],\n",
              "       [0.5057183 ],\n",
              "       [0.50572264],\n",
              "       [0.48792928],\n",
              "       [0.46136072],\n",
              "       [0.49099383],\n",
              "       [0.5252353 ],\n",
              "       [0.5320429 ],\n",
              "       [0.45268744],\n",
              "       [0.4676939 ],\n",
              "       [0.5187986 ],\n",
              "       [0.53775126],\n",
              "       [0.51291275],\n",
              "       [0.47725877],\n",
              "       [0.4535259 ],\n",
              "       [0.4828455 ],\n",
              "       [0.5096579 ],\n",
              "       [0.48611   ],\n",
              "       [0.48370084],\n",
              "       [0.5269343 ],\n",
              "       [0.4741402 ],\n",
              "       [0.45861542],\n",
              "       [0.4605394 ],\n",
              "       [0.4844731 ],\n",
              "       [0.46060872],\n",
              "       [0.49624977],\n",
              "       [0.5043331 ],\n",
              "       [0.4956929 ],\n",
              "       [0.4685439 ],\n",
              "       [0.47408617],\n",
              "       [0.4516156 ],\n",
              "       [0.4630268 ],\n",
              "       [0.5035859 ],\n",
              "       [0.50219595],\n",
              "       [0.45539492],\n",
              "       [0.48674136],\n",
              "       [0.49060193],\n",
              "       [0.45907694],\n",
              "       [0.52019066],\n",
              "       [0.46355724],\n",
              "       [0.53268814],\n",
              "       [0.472265  ],\n",
              "       [0.527013  ],\n",
              "       [0.49791816],\n",
              "       [0.52666956],\n",
              "       [0.5120955 ],\n",
              "       [0.49942875],\n",
              "       [0.5077534 ],\n",
              "       [0.47865295],\n",
              "       [0.4629339 ],\n",
              "       [0.49595642],\n",
              "       [0.47673252],\n",
              "       [0.5275688 ],\n",
              "       [0.5193283 ],\n",
              "       [0.5209875 ],\n",
              "       [0.4634457 ],\n",
              "       [0.52479744],\n",
              "       [0.4555319 ],\n",
              "       [0.47285756],\n",
              "       [0.48843658],\n",
              "       [0.5302406 ],\n",
              "       [0.53815246],\n",
              "       [0.5305673 ],\n",
              "       [0.48451582],\n",
              "       [0.4911671 ],\n",
              "       [0.49310297],\n",
              "       [0.48058712],\n",
              "       [0.4763046 ],\n",
              "       [0.5150417 ],\n",
              "       [0.4638136 ],\n",
              "       [0.5217174 ],\n",
              "       [0.52631724],\n",
              "       [0.45552105],\n",
              "       [0.46259955],\n",
              "       [0.5220929 ],\n",
              "       [0.4792971 ],\n",
              "       [0.5276572 ],\n",
              "       [0.52832764],\n",
              "       [0.493599  ],\n",
              "       [0.46597022],\n",
              "       [0.49308303],\n",
              "       [0.46340576],\n",
              "       [0.49658012],\n",
              "       [0.46084723],\n",
              "       [0.47559932],\n",
              "       [0.4600793 ],\n",
              "       [0.53644603],\n",
              "       [0.4613606 ],\n",
              "       [0.49748215],\n",
              "       [0.51173043],\n",
              "       [0.5099226 ],\n",
              "       [0.46509913],\n",
              "       [0.527852  ],\n",
              "       [0.46447048],\n",
              "       [0.48002   ],\n",
              "       [0.51883584],\n",
              "       [0.4656968 ],\n",
              "       [0.46522504],\n",
              "       [0.5242118 ],\n",
              "       [0.5036322 ],\n",
              "       [0.5283493 ],\n",
              "       [0.53711754],\n",
              "       [0.5380011 ],\n",
              "       [0.46089607],\n",
              "       [0.47359177],\n",
              "       [0.46952048],\n",
              "       [0.50155246],\n",
              "       [0.54091775],\n",
              "       [0.48833534],\n",
              "       [0.4581078 ],\n",
              "       [0.5350247 ],\n",
              "       [0.4610478 ],\n",
              "       [0.48544908],\n",
              "       [0.45183742],\n",
              "       [0.51020616],\n",
              "       [0.48345697],\n",
              "       [0.49203324],\n",
              "       [0.51871216],\n",
              "       [0.5369451 ],\n",
              "       [0.50096464],\n",
              "       [0.5328818 ],\n",
              "       [0.53396815],\n",
              "       [0.49539608],\n",
              "       [0.50584424],\n",
              "       [0.5238753 ],\n",
              "       [0.5323    ],\n",
              "       [0.47274753],\n",
              "       [0.5190948 ],\n",
              "       [0.53469616],\n",
              "       [0.46677515],\n",
              "       [0.541096  ],\n",
              "       [0.48950675],\n",
              "       [0.53764504],\n",
              "       [0.53484106],\n",
              "       [0.48889092],\n",
              "       [0.47469974],\n",
              "       [0.45806134],\n",
              "       [0.46229187],\n",
              "       [0.46177357],\n",
              "       [0.536102  ],\n",
              "       [0.4892042 ],\n",
              "       [0.46755418],\n",
              "       [0.46462077],\n",
              "       [0.4676708 ],\n",
              "       [0.46739084],\n",
              "       [0.45306113],\n",
              "       [0.47152677],\n",
              "       [0.45422366],\n",
              "       [0.46558997],\n",
              "       [0.53016096],\n",
              "       [0.5256979 ],\n",
              "       [0.52761984],\n",
              "       [0.4675443 ],\n",
              "       [0.48314247],\n",
              "       [0.4513449 ],\n",
              "       [0.4670237 ],\n",
              "       [0.48920962],\n",
              "       [0.52686405],\n",
              "       [0.46613207],\n",
              "       [0.50137913],\n",
              "       [0.4716041 ],\n",
              "       [0.53483564],\n",
              "       [0.4674013 ],\n",
              "       [0.45980826],\n",
              "       [0.5152066 ],\n",
              "       [0.527069  ],\n",
              "       [0.49240956],\n",
              "       [0.5363698 ],\n",
              "       [0.51225805],\n",
              "       [0.5246689 ],\n",
              "       [0.5270392 ],\n",
              "       [0.52790564],\n",
              "       [0.46593505],\n",
              "       [0.5388393 ],\n",
              "       [0.46336517],\n",
              "       [0.5322579 ],\n",
              "       [0.5113369 ],\n",
              "       [0.52574927],\n",
              "       [0.4802211 ],\n",
              "       [0.52558666],\n",
              "       [0.46716237],\n",
              "       [0.49679872],\n",
              "       [0.5246403 ],\n",
              "       [0.4703214 ],\n",
              "       [0.4607385 ],\n",
              "       [0.45396203],\n",
              "       [0.5398363 ],\n",
              "       [0.4569087 ],\n",
              "       [0.51653063],\n",
              "       [0.4915733 ],\n",
              "       [0.45470107],\n",
              "       [0.48516482],\n",
              "       [0.47432396],\n",
              "       [0.52751946],\n",
              "       [0.49747512],\n",
              "       [0.46954858],\n",
              "       [0.5358381 ],\n",
              "       [0.5248055 ],\n",
              "       [0.53213376],\n",
              "       [0.47153717],\n",
              "       [0.4542924 ],\n",
              "       [0.525553  ],\n",
              "       [0.48517844],\n",
              "       [0.52697384],\n",
              "       [0.48026538],\n",
              "       [0.47540092],\n",
              "       [0.46211633],\n",
              "       [0.47123852],\n",
              "       [0.5335195 ],\n",
              "       [0.47941166],\n",
              "       [0.52966565],\n",
              "       [0.535627  ],\n",
              "       [0.53267896],\n",
              "       [0.5283559 ],\n",
              "       [0.478464  ],\n",
              "       [0.462774  ],\n",
              "       [0.45358363],\n",
              "       [0.5387586 ],\n",
              "       [0.45687008],\n",
              "       [0.5269639 ],\n",
              "       [0.48511207],\n",
              "       [0.4535688 ],\n",
              "       [0.5193111 ],\n",
              "       [0.47010806],\n",
              "       [0.49139208],\n",
              "       [0.46499002],\n",
              "       [0.5039744 ],\n",
              "       [0.53749734],\n",
              "       [0.46969458],\n",
              "       [0.46101138],\n",
              "       [0.45588803],\n",
              "       [0.4877977 ],\n",
              "       [0.50293934],\n",
              "       [0.4887274 ],\n",
              "       [0.48535773],\n",
              "       [0.5186076 ],\n",
              "       [0.48316061],\n",
              "       [0.52331126],\n",
              "       [0.5266153 ],\n",
              "       [0.46296975],\n",
              "       [0.46287346],\n",
              "       [0.527712  ],\n",
              "       [0.50974846],\n",
              "       [0.5108296 ],\n",
              "       [0.5391171 ],\n",
              "       [0.4748171 ],\n",
              "       [0.5322546 ],\n",
              "       [0.5164064 ],\n",
              "       [0.45157903],\n",
              "       [0.48136872],\n",
              "       [0.51596063],\n",
              "       [0.51818365]], dtype=float32)"
            ]
          },
          "metadata": {},
          "execution_count": 38
        }
      ]
    },
    {
      "cell_type": "markdown",
      "source": [
        "To visualize our models predictions, lets create a function 'plot_decision_boundary()' , this function will\n",
        "\n",
        "* Take in a trainedmodel, feature(X) and labels(y)\n",
        "* Create a mesh grid of the different X values\n",
        "* Make predictions across mesh grid\n",
        "* Plot the predictions as well as a line between zones (where each unique class falls)\n",
        "\n",
        "\n"
      ],
      "metadata": {
        "id": "WYNyxNuJGS_M"
      }
    },
    {
      "cell_type": "code",
      "source": [
        "import numpy as np"
      ],
      "metadata": {
        "id": "LJyh-QdXHQL7"
      },
      "execution_count": 39,
      "outputs": []
    },
    {
      "cell_type": "code",
      "source": [
        "X"
      ],
      "metadata": {
        "id": "GAL_PvmoIE68",
        "outputId": "53c5396c-57de-4d1a-fd7e-bf7f37fae574",
        "colab": {
          "base_uri": "https://localhost:8080/"
        }
      },
      "execution_count": 44,
      "outputs": [
        {
          "output_type": "execute_result",
          "data": {
            "text/plain": [
              "array([[ 0.75424625,  0.23148074],\n",
              "       [-0.75615888,  0.15325888],\n",
              "       [-0.81539193,  0.17328203],\n",
              "       ...,\n",
              "       [-0.13690036, -0.81001183],\n",
              "       [ 0.67036156, -0.76750154],\n",
              "       [ 0.28105665,  0.96382443]])"
            ]
          },
          "metadata": {},
          "execution_count": 44
        }
      ]
    },
    {
      "cell_type": "code",
      "source": [
        "X[:,0].min()"
      ],
      "metadata": {
        "id": "cs-aqLqwIL8K",
        "outputId": "24fedc71-d0cd-4798-8294-cc4d5609e9ea",
        "colab": {
          "base_uri": "https://localhost:8080/"
        }
      },
      "execution_count": 46,
      "outputs": [
        {
          "output_type": "execute_result",
          "data": {
            "text/plain": [
              "-1.0595024599098635"
            ]
          },
          "metadata": {},
          "execution_count": 46
        }
      ]
    },
    {
      "cell_type": "code",
      "source": [
        "  x_min, x_max = X[:, 0].min() - 0.1, X[:, 0].max() + 0.1\n",
        "  y_min, y_max = X[:, 1].min() - 0.1, X[:, 0].max() + 0.1\n",
        "  x_min, x_max, y_min, y_max"
      ],
      "metadata": {
        "id": "Y4CZxe31H5Ly",
        "outputId": "661e94b0-c725-46c3-82f6-8c25cd857095",
        "colab": {
          "base_uri": "https://localhost:8080/"
        }
      },
      "execution_count": 43,
      "outputs": [
        {
          "output_type": "execute_result",
          "data": {
            "text/plain": [
              "(-1.1595024599098636,\n",
              " 1.1337117525463374,\n",
              " -1.1677683182718437,\n",
              " 1.1337117525463374)"
            ]
          },
          "metadata": {},
          "execution_count": 43
        }
      ]
    },
    {
      "cell_type": "code",
      "source": [
        "def plot_decision_boundary(model, X, y):\n",
        "  \"\"\"\n",
        "  Plots the decision boundary created by a model predicting on X.\n",
        "  \"\"\"\n",
        "  # Define the axis boundaries of the plot and create a meshgrid\n",
        "  x_min, x_max = X[:, 0].min() - 0.1, X[:, 0].max() + 0.1\n",
        "  y_min, y_max = X[:, 1].min() - 0.1, X[:, 0].max() + 0.1\n",
        "  xx, yy = np.meshgrid(np.linspace(x_min, x_max, 100),\n",
        "                       np.linspace(y_min, y_max, 100))\n",
        "  #Create X values (we are going to make predictions on these)\n",
        "  x_in = np.c_[xx.ravel(), yy.ravel()]  # Stack 2D arrays together\n",
        "\n",
        "  #Make predictions\n",
        "  y_pred =  model.predict(x_in)\n",
        "\n",
        "  #check if multi-class\n",
        "  if len(y_pred[0]) > 1:\n",
        "    print(\"Doing multiclass classificaiton\")\n",
        "    # we have to reshape our prediction to get them ready for plotting\n",
        "    y_pred = np.argmax(y_pred, axis=1).reshape(xx.shape)\n",
        "  else:\n",
        "    print(\"Doing binary classification\")\n",
        "    y_pred = np.round(y_pred).reshape(xx.shape)\n",
        "  #Plat the decision boundary\n",
        "  plt.contourf(xx, yy, y_pred, cmap=plt.cm.RdYlBu, alpha=0.7)\n",
        "  plt.scatter(X[:, 0], X[:, 1], c=y, s=40, cmap=plt.cm.RdYlBu)\n",
        "  plt.xlim(xx.min(), xx.max())\n",
        "  plt.ylim(yy.min(), yy.max())"
      ],
      "metadata": {
        "id": "7Z93bnVBGN1_"
      },
      "execution_count": 55,
      "outputs": []
    },
    {
      "cell_type": "code",
      "source": [
        "# Check out the predictions our model is making\n",
        "plot_decision_boundary(model_3, X, y)"
      ],
      "metadata": {
        "id": "7tI-cFohMWdg",
        "outputId": "11ab61ac-78de-412b-f155-91b17e0be010",
        "colab": {
          "base_uri": "https://localhost:8080/",
          "height": 467
        }
      },
      "execution_count": 56,
      "outputs": [
        {
          "output_type": "stream",
          "name": "stdout",
          "text": [
            "\u001b[1m313/313\u001b[0m \u001b[32m━━━━━━━━━━━━━━━━━━━━\u001b[0m\u001b[37m\u001b[0m \u001b[1m0s\u001b[0m 1ms/step\n",
            "Doing binary classification\n"
          ]
        },
        {
          "output_type": "display_data",
          "data": {
            "text/plain": [
              "<Figure size 640x480 with 1 Axes>"
            ],
            "image/png": "[encoded data removed]"
          },
          "metadata": {}
        }
      ]
    },
    {
      "cell_type": "markdown",
      "source": [
        "Useful resources\n",
        "https://cs231n.github.io/neural-networks-case-study/\n",
        "https://madewithml.com/"
      ],
      "metadata": {
        "id": "ZHr5E1a-PTbo"
      }
    }
  ],
  "metadata": {
    "kernelspec": {
      "display_name": "base",
      "language": "python",
      "name": "python3"
    },
    "language_info": {
      "name": "python",
      "version": "3.12.7"
    },
    "colab": {
      "provenance": [],
      "toc_visible": true,
      "include_colab_link": true
    }
  },
  "nbformat": 4,
  "nbformat_minor": 0
}