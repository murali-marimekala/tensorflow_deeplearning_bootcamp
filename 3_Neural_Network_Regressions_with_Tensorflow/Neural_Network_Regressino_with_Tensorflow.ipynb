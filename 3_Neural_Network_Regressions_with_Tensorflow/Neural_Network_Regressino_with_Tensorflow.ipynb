{
  "cells": [
    {
      "cell_type": "markdown",
      "metadata": {
        "id": "view-in-github",
        "colab_type": "text"
      },
      "source": [
        "<a href=\"https://colab.research.google.com/github/murali-marimekala/tensorflow_deeplearning_bootcamp/blob/main/3_Neural_Network_Regressions_with_Tensorflow/Neural_Network_Regressino_with_Tensorflow.ipynb\" target=\"_parent\"><img src=\"https://colab.research.google.com/assets/colab-badge.svg\" alt=\"Open In Colab\"/></a>"
      ]
    },
    {
      "cell_type": "markdown",
      "source": [
        "# New Section"
      ],
      "metadata": {
        "id": "uZTWOds7fXim"
      }
    },
    {
      "cell_type": "markdown",
      "source": [
        "# Regression inputs and outputs\n",
        "\n",
        "Inputs -> Machine learning algorithm -> Outputs\n",
        "\n",
        "## What is Regression problem ?\n",
        "\n",
        "If you are planning to predict a house price with available variables like number of rooms , bathrooms, squarefoot etc, then you are dealing with a regression problem.\n",
        "\n",
        "## How are you going to solve it ?\n",
        "\n",
        "Understand inputs (independent variable) and outputs (dependent variables).\n",
        "\n",
        "Inputs features can be number of rooms, bathrooms etc. Try creating a data using one-hot encoding (which is learnt earlier).  Looks if someone has already created a machine learning algorithm (for example supervised learning algorithm) for your problem online. If you cant find you can implement by yourself. Finally output can be a price predicted of the house from the inputs you shared through iput.\n",
        "\n",
        "Here numerical encoding of indepedent variables in the form of tensor."
      ],
      "metadata": {
        "id": "Hcmeu7Dzf0AN"
      }
    },
    {
      "cell_type": "code",
      "execution_count": 1,
      "metadata": {
        "id": "vxulnovffVqH",
        "outputId": "f8028132-c0fa-4a04-978f-fd307a76090f",
        "colab": {
          "base_uri": "https://localhost:8080/"
        }
      },
      "outputs": [
        {
          "output_type": "stream",
          "name": "stdout",
          "text": [
            "2.17.1\n"
          ]
        }
      ],
      "source": [
        "import tensorflow as tf\n",
        "print(tf.__version__)"
      ]
    },
    {
      "cell_type": "markdown",
      "source": [
        "# Anatomy of Neural Networks (NN)\n",
        "\n",
        "Input layers -> Hidde layers -> Output layers\n",
        "\n",
        "With hidden layers, the neural network learns the pattern.\n",
        "\n",
        "## What does the NN regression algorithm look like ?\n",
        "\n",
        "Hyper Parameters we need to consdier are\n",
        "\n",
        "\n",
        "1. Input layer shape\n",
        "2. Hidden layer(s)\n",
        "3. Neurons per hidden layer\n",
        "4. Output layer shape\n",
        "5. Hidden activation\n",
        "6. Output activation\n",
        "7. Loss function\n",
        "8. Optimizer\n",
        "\n",
        "\n",
        "## Here in this Housing problem\n",
        "1. Input layers are number of bathrooms, rooms etc.\n",
        "2. Hidden layers: Problem specific 1 to unlimited\n",
        "3. Neurons per hidden layer: generally 0 to 100\n",
        "4. Output layer shape : same shape as desired prediction shape (eg. 1 for house price)\n",
        "5. Hidden activation : Usually ReLU (Rectified Linear unit).\n",
        "6. Output activation : None, ReLu , logistic/tanh\n",
        "7. Loss function: MSE (Mean square error) or MAE  (Mean absolute error) / Huber (Combination of MAE/MSE) if outliers\n",
        "8. Optimizer : SGD stochastic gradient descent , Adam\n",
        "\n",
        "\n",
        "\n",
        "\n"
      ],
      "metadata": {
        "id": "1Iozve0SiYOX"
      }
    },
    {
      "cell_type": "markdown",
      "source": [],
      "metadata": {
        "id": "ZIGpTj6XmcyL"
      }
    }
  ],
  "metadata": {
    "kernelspec": {
      "display_name": "Python 3",
      "language": "python",
      "name": "python3"
    },
    "language_info": {
      "codemirror_mode": {
        "name": "ipython",
        "version": 3
      },
      "file_extension": ".py",
      "mimetype": "text/x-python",
      "name": "python",
      "nbconvert_exporter": "python",
      "pygments_lexer": "ipython3",
      "version": "3.9.5"
    },
    "colab": {
      "provenance": [],
      "include_colab_link": true
    }
  },
  "nbformat": 4,
  "nbformat_minor": 0
}